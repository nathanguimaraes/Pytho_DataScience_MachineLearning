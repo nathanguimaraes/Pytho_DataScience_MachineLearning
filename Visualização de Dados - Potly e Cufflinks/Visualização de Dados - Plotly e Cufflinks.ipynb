{
 "cells": [
  {
   "cell_type": "code",
   "execution_count": 54,
   "id": "b2a5fbff",
   "metadata": {},
   "outputs": [],
   "source": [
    "import pandas as pd\n",
    "import numpy as np\n",
    "import matplotlib.pyplot as plt\n",
    "%matplotlib inline"
   ]
  },
  {
   "cell_type": "code",
   "execution_count": 55,
   "id": "832059d6",
   "metadata": {},
   "outputs": [],
   "source": [
    "from plotly import __version__  #importa  versao"
   ]
  },
  {
   "cell_type": "code",
   "execution_count": 56,
   "id": "7a6a3e39",
   "metadata": {},
   "outputs": [
    {
     "name": "stdout",
     "output_type": "stream",
     "text": [
      "5.3.1\n"
     ]
    }
   ],
   "source": [
    "print(__version__)   #exibe versao"
   ]
  },
  {
   "cell_type": "code",
   "execution_count": 57,
   "id": "f875d300",
   "metadata": {},
   "outputs": [],
   "source": [
    "from plotly.offline import download_plotlyjs, init_notebook_mode, plot, iplot #importa bibliotecas do plotly "
   ]
  },
  {
   "cell_type": "code",
   "execution_count": 58,
   "id": "86a4ff28",
   "metadata": {},
   "outputs": [],
   "source": [
    "import cufflinks as cf"
   ]
  },
  {
   "cell_type": "code",
   "execution_count": 59,
   "id": "f7cb9f9b",
   "metadata": {},
   "outputs": [
    {
     "data": {
      "text/html": [
       "        <script type=\"text/javascript\">\n",
       "        window.PlotlyConfig = {MathJaxConfig: 'local'};\n",
       "        if (window.MathJax) {MathJax.Hub.Config({SVG: {font: \"STIX-Web\"}});}\n",
       "        if (typeof require !== 'undefined') {\n",
       "        require.undef(\"plotly\");\n",
       "        requirejs.config({\n",
       "            paths: {\n",
       "                'plotly': ['https://cdn.plot.ly/plotly-2.4.2.min']\n",
       "            }\n",
       "        });\n",
       "        require(['plotly'], function(Plotly) {\n",
       "            window._Plotly = Plotly;\n",
       "        });\n",
       "        }\n",
       "        </script>\n",
       "        "
      ]
     },
     "metadata": {},
     "output_type": "display_data"
    }
   ],
   "source": [
    "init_notebook_mode(connected=True)   #conecta jupyter notebook "
   ]
  },
  {
   "cell_type": "code",
   "execution_count": 60,
   "id": "976e788e",
   "metadata": {},
   "outputs": [
    {
     "data": {
      "text/html": [
       "        <script type=\"text/javascript\">\n",
       "        window.PlotlyConfig = {MathJaxConfig: 'local'};\n",
       "        if (window.MathJax) {MathJax.Hub.Config({SVG: {font: \"STIX-Web\"}});}\n",
       "        if (typeof require !== 'undefined') {\n",
       "        require.undef(\"plotly\");\n",
       "        requirejs.config({\n",
       "            paths: {\n",
       "                'plotly': ['https://cdn.plot.ly/plotly-2.4.2.min']\n",
       "            }\n",
       "        });\n",
       "        require(['plotly'], function(Plotly) {\n",
       "            window._Plotly = Plotly;\n",
       "        });\n",
       "        }\n",
       "        </script>\n",
       "        "
      ]
     },
     "metadata": {},
     "output_type": "display_data"
    }
   ],
   "source": [
    "cf.go_offline()  #sinaliza que estamos importando dados offlines em nosso pc"
   ]
  },
  {
   "cell_type": "code",
   "execution_count": 61,
   "id": "11fd0f8c",
   "metadata": {},
   "outputs": [],
   "source": [
    "df = pd.DataFrame(np.random.randn(100, 4), columns='A B C D'.split())"
   ]
  },
  {
   "cell_type": "code",
   "execution_count": 62,
   "id": "974f05e4",
   "metadata": {},
   "outputs": [
    {
     "data": {
      "text/html": [
       "<div>\n",
       "<style scoped>\n",
       "    .dataframe tbody tr th:only-of-type {\n",
       "        vertical-align: middle;\n",
       "    }\n",
       "\n",
       "    .dataframe tbody tr th {\n",
       "        vertical-align: top;\n",
       "    }\n",
       "\n",
       "    .dataframe thead th {\n",
       "        text-align: right;\n",
       "    }\n",
       "</style>\n",
       "<table border=\"1\" class=\"dataframe\">\n",
       "  <thead>\n",
       "    <tr style=\"text-align: right;\">\n",
       "      <th></th>\n",
       "      <th>A</th>\n",
       "      <th>B</th>\n",
       "      <th>C</th>\n",
       "      <th>D</th>\n",
       "    </tr>\n",
       "  </thead>\n",
       "  <tbody>\n",
       "    <tr>\n",
       "      <th>0</th>\n",
       "      <td>-1.814657</td>\n",
       "      <td>-1.172030</td>\n",
       "      <td>-0.781404</td>\n",
       "      <td>0.244243</td>\n",
       "    </tr>\n",
       "    <tr>\n",
       "      <th>1</th>\n",
       "      <td>-0.847067</td>\n",
       "      <td>0.570807</td>\n",
       "      <td>-0.657054</td>\n",
       "      <td>-0.528805</td>\n",
       "    </tr>\n",
       "    <tr>\n",
       "      <th>2</th>\n",
       "      <td>0.013033</td>\n",
       "      <td>-1.618936</td>\n",
       "      <td>2.756936</td>\n",
       "      <td>3.528607</td>\n",
       "    </tr>\n",
       "    <tr>\n",
       "      <th>3</th>\n",
       "      <td>0.538397</td>\n",
       "      <td>-0.110022</td>\n",
       "      <td>0.406404</td>\n",
       "      <td>1.163322</td>\n",
       "    </tr>\n",
       "    <tr>\n",
       "      <th>4</th>\n",
       "      <td>-1.034428</td>\n",
       "      <td>-0.769811</td>\n",
       "      <td>-1.166160</td>\n",
       "      <td>-0.632269</td>\n",
       "    </tr>\n",
       "  </tbody>\n",
       "</table>\n",
       "</div>"
      ],
      "text/plain": [
       "          A         B         C         D\n",
       "0 -1.814657 -1.172030 -0.781404  0.244243\n",
       "1 -0.847067  0.570807 -0.657054 -0.528805\n",
       "2  0.013033 -1.618936  2.756936  3.528607\n",
       "3  0.538397 -0.110022  0.406404  1.163322\n",
       "4 -1.034428 -0.769811 -1.166160 -0.632269"
      ]
     },
     "execution_count": 62,
     "metadata": {},
     "output_type": "execute_result"
    }
   ],
   "source": [
    "df.head()"
   ]
  },
  {
   "cell_type": "code",
   "execution_count": 63,
   "id": "48af32f5",
   "metadata": {},
   "outputs": [],
   "source": [
    "df2 = pd.DataFrame({'Categoria':['A', 'B', 'C'], 'Valores':[32, 43, 50]})"
   ]
  },
  {
   "cell_type": "code",
   "execution_count": 64,
   "id": "22bc1b79",
   "metadata": {},
   "outputs": [
    {
     "data": {
      "text/html": [
       "<div>\n",
       "<style scoped>\n",
       "    .dataframe tbody tr th:only-of-type {\n",
       "        vertical-align: middle;\n",
       "    }\n",
       "\n",
       "    .dataframe tbody tr th {\n",
       "        vertical-align: top;\n",
       "    }\n",
       "\n",
       "    .dataframe thead th {\n",
       "        text-align: right;\n",
       "    }\n",
       "</style>\n",
       "<table border=\"1\" class=\"dataframe\">\n",
       "  <thead>\n",
       "    <tr style=\"text-align: right;\">\n",
       "      <th></th>\n",
       "      <th>Categoria</th>\n",
       "      <th>Valores</th>\n",
       "    </tr>\n",
       "  </thead>\n",
       "  <tbody>\n",
       "    <tr>\n",
       "      <th>0</th>\n",
       "      <td>A</td>\n",
       "      <td>32</td>\n",
       "    </tr>\n",
       "    <tr>\n",
       "      <th>1</th>\n",
       "      <td>B</td>\n",
       "      <td>43</td>\n",
       "    </tr>\n",
       "    <tr>\n",
       "      <th>2</th>\n",
       "      <td>C</td>\n",
       "      <td>50</td>\n",
       "    </tr>\n",
       "  </tbody>\n",
       "</table>\n",
       "</div>"
      ],
      "text/plain": [
       "  Categoria  Valores\n",
       "0         A       32\n",
       "1         B       43\n",
       "2         C       50"
      ]
     },
     "execution_count": 64,
     "metadata": {},
     "output_type": "execute_result"
    }
   ],
   "source": [
    "df2.head()"
   ]
  },
  {
   "cell_type": "code",
   "execution_count": 65,
   "id": "b6483d5b",
   "metadata": {},
   "outputs": [
    {
     "data": {
      "application/vnd.plotly.v1+json": {
       "config": {
        "linkText": "Export to plot.ly",
        "plotlyServerURL": "https://plot.ly",
        "showLink": true
       },
       "data": [
        {
         "line": {
          "color": "rgba(255, 153, 51, 1.0)",
          "dash": "solid",
          "shape": "linear",
          "width": 1.3
         },
         "marker": {
          "size": 12,
          "symbol": "circle"
         },
         "mode": "markers",
         "name": "B",
         "text": "",
         "type": "scatter",
         "x": [
          -1.8146574954917116,
          -0.8470670293864747,
          0.01303271026382539,
          0.5383973904884377,
          -1.0344275404533527,
          -0.014481183146433959,
          -0.08938697687335469,
          -0.2279462966589887,
          0.20711360453961028,
          -0.021592962086997517,
          -1.3155314021076847,
          1.0815405437572196,
          1.0300618169509475,
          0.419185149550798,
          -0.282387221331436,
          0.4500312576732678,
          -0.4531682811290232,
          0.803587506618999,
          0.24305721495871502,
          -0.5511324389875921,
          1.0035509726747378,
          0.9996125889407599,
          0.8023185895529278,
          0.04412618305525951,
          0.25347853157075056,
          1.2433702729360656,
          -1.0268712118101342,
          -1.060853493347942,
          -1.4957118506802942,
          -0.6697103466148886,
          -1.2517310903859882,
          1.1269441241461,
          -0.01799070648583695,
          0.6225295126265604,
          -0.4841422118182663,
          -0.11091402155480518,
          0.07163512965302882,
          0.017210445925269838,
          -0.7212961447125448,
          -1.8978008901658416,
          0.8265600904352766,
          0.9174456336264463,
          0.4434465307912776,
          -0.26219744713404364,
          0.9589701267767169,
          1.74764986708476,
          -0.7472437061411934,
          -1.5646976216694992,
          0.04785949111866218,
          0.8283250366439685,
          0.957468433091984,
          2.1364632752207875,
          1.0860639175632132,
          -2.181806151730958,
          2.4744394822296134,
          -0.1663691862291363,
          0.026036996500954954,
          0.8302626870007996,
          -0.9761854265625488,
          -1.4700624675122405,
          -0.49980681136089544,
          -0.6258119864619291,
          -2.295546921184517,
          -0.46620934106311007,
          -0.06321021651006506,
          -1.071106824112718,
          1.3718316933073766,
          -1.3723757816199358,
          0.4086088885911282,
          1.319008976927655,
          0.913541436709759,
          -0.18815365471447887,
          -0.17921705142587582,
          0.6699066350545103,
          -0.002064802276801852,
          1.2942114117336707,
          -0.11296231766794987,
          0.39774871792466554,
          0.30742295201909836,
          -0.8901118530424844,
          -0.8277680267335727,
          -1.3905943524321405,
          0.27109582264951154,
          -1.0402042031067,
          -0.6180286813831786,
          1.220731508698079,
          0.032335660654610215,
          1.371876469990915,
          -0.14227284170805551,
          -0.9293612896411669,
          0.5245397631247587,
          -1.3743351885913135,
          -0.2235602445858731,
          2.059251878770659,
          0.16798231879217662,
          1.2227899126847988,
          -1.4803029620484407,
          -0.36259968785276003,
          1.3847877377348967,
          -0.7641692991076208
         ],
         "y": [
          -1.172029547175582,
          0.5708070752516582,
          -1.6189359028450274,
          -0.11002177675271357,
          -0.7698107914177563,
          -1.130940630137424,
          0.17137131096691868,
          0.6093855998569444,
          -0.5766712870446586,
          0.028278623704371335,
          1.0417134140215205,
          0.9850106390089924,
          -1.4203954521148767,
          -1.9950677383175508,
          -0.5358168691997359,
          0.9221726549694012,
          -0.978868200539945,
          -1.0698989367132654,
          -0.7517442471000252,
          1.5009921266616195,
          -0.9594011879437758,
          0.7383177651247519,
          -0.6914555417742713,
          -0.5645604463737631,
          -0.26255555518036666,
          0.8777155862996079,
          1.3865282543902668,
          0.6799435355541886,
          0.05323095752739842,
          0.36001486015979045,
          -0.22894012203603628,
          -0.6795156044467318,
          1.2460952828340515,
          0.43535735968925987,
          0.3893061305644368,
          -0.5367167845888886,
          1.0573469657014019,
          0.8890095994487124,
          -0.27981206788566115,
          -0.6408658061031824,
          1.0689268030832433,
          -0.263663140711461,
          -1.099291925128018,
          -0.16767591466922696,
          0.006293727405631618,
          -0.6325869665079422,
          -0.24941398295327308,
          0.3873403617527878,
          -0.41274194917011037,
          0.9042181661541013,
          -0.11241915637436253,
          -0.6437501106513058,
          -0.8644209188227071,
          0.6591758567880054,
          0.47883880247713184,
          0.42255192025444954,
          -1.7817407479725722,
          1.3203352028858883,
          1.2628178532108998,
          1.7517319799163185,
          -0.4582363103517554,
          1.0900380384519954,
          -0.3266139438726841,
          -0.45219001793651076,
          -0.23519261652283918,
          0.8935888890760553,
          0.6793646520505338,
          1.5196574967862317,
          -2.214729861015904,
          -0.5313262036348674,
          1.0557242631382586,
          1.2650150885205158,
          0.9329404701658465,
          0.461135250913148,
          0.38979614244120686,
          0.43916978524637246,
          -0.28931877608753215,
          1.424219318771104,
          -0.12520400381944702,
          0.07556342057472447,
          3.0384877076819317,
          -0.8363985571334522,
          -0.17957907908262027,
          -0.2522825766622861,
          -0.4292949920924141,
          -0.17825113513031168,
          -0.8323392351931449,
          -0.14311320586144974,
          1.1586212749682163,
          0.7031277482710866,
          0.7283866814552401,
          -0.36341363636003393,
          -0.50249202020569,
          -0.637790696427296,
          0.7987313988057939,
          0.7668900404860975,
          0.18460097455726704,
          -0.13994380894890507,
          -0.17570422328542692,
          -0.0892924617474906
         ]
        }
       ],
       "layout": {
        "legend": {
         "bgcolor": "#F5F6F9",
         "font": {
          "color": "#4D5663"
         }
        },
        "paper_bgcolor": "#F5F6F9",
        "plot_bgcolor": "#F5F6F9",
        "template": {
         "data": {
          "bar": [
           {
            "error_x": {
             "color": "#2a3f5f"
            },
            "error_y": {
             "color": "#2a3f5f"
            },
            "marker": {
             "line": {
              "color": "#E5ECF6",
              "width": 0.5
             },
             "pattern": {
              "fillmode": "overlay",
              "size": 10,
              "solidity": 0.2
             }
            },
            "type": "bar"
           }
          ],
          "barpolar": [
           {
            "marker": {
             "line": {
              "color": "#E5ECF6",
              "width": 0.5
             },
             "pattern": {
              "fillmode": "overlay",
              "size": 10,
              "solidity": 0.2
             }
            },
            "type": "barpolar"
           }
          ],
          "carpet": [
           {
            "aaxis": {
             "endlinecolor": "#2a3f5f",
             "gridcolor": "white",
             "linecolor": "white",
             "minorgridcolor": "white",
             "startlinecolor": "#2a3f5f"
            },
            "baxis": {
             "endlinecolor": "#2a3f5f",
             "gridcolor": "white",
             "linecolor": "white",
             "minorgridcolor": "white",
             "startlinecolor": "#2a3f5f"
            },
            "type": "carpet"
           }
          ],
          "choropleth": [
           {
            "colorbar": {
             "outlinewidth": 0,
             "ticks": ""
            },
            "type": "choropleth"
           }
          ],
          "contour": [
           {
            "colorbar": {
             "outlinewidth": 0,
             "ticks": ""
            },
            "colorscale": [
             [
              0,
              "#0d0887"
             ],
             [
              0.1111111111111111,
              "#46039f"
             ],
             [
              0.2222222222222222,
              "#7201a8"
             ],
             [
              0.3333333333333333,
              "#9c179e"
             ],
             [
              0.4444444444444444,
              "#bd3786"
             ],
             [
              0.5555555555555556,
              "#d8576b"
             ],
             [
              0.6666666666666666,
              "#ed7953"
             ],
             [
              0.7777777777777778,
              "#fb9f3a"
             ],
             [
              0.8888888888888888,
              "#fdca26"
             ],
             [
              1,
              "#f0f921"
             ]
            ],
            "type": "contour"
           }
          ],
          "contourcarpet": [
           {
            "colorbar": {
             "outlinewidth": 0,
             "ticks": ""
            },
            "type": "contourcarpet"
           }
          ],
          "heatmap": [
           {
            "colorbar": {
             "outlinewidth": 0,
             "ticks": ""
            },
            "colorscale": [
             [
              0,
              "#0d0887"
             ],
             [
              0.1111111111111111,
              "#46039f"
             ],
             [
              0.2222222222222222,
              "#7201a8"
             ],
             [
              0.3333333333333333,
              "#9c179e"
             ],
             [
              0.4444444444444444,
              "#bd3786"
             ],
             [
              0.5555555555555556,
              "#d8576b"
             ],
             [
              0.6666666666666666,
              "#ed7953"
             ],
             [
              0.7777777777777778,
              "#fb9f3a"
             ],
             [
              0.8888888888888888,
              "#fdca26"
             ],
             [
              1,
              "#f0f921"
             ]
            ],
            "type": "heatmap"
           }
          ],
          "heatmapgl": [
           {
            "colorbar": {
             "outlinewidth": 0,
             "ticks": ""
            },
            "colorscale": [
             [
              0,
              "#0d0887"
             ],
             [
              0.1111111111111111,
              "#46039f"
             ],
             [
              0.2222222222222222,
              "#7201a8"
             ],
             [
              0.3333333333333333,
              "#9c179e"
             ],
             [
              0.4444444444444444,
              "#bd3786"
             ],
             [
              0.5555555555555556,
              "#d8576b"
             ],
             [
              0.6666666666666666,
              "#ed7953"
             ],
             [
              0.7777777777777778,
              "#fb9f3a"
             ],
             [
              0.8888888888888888,
              "#fdca26"
             ],
             [
              1,
              "#f0f921"
             ]
            ],
            "type": "heatmapgl"
           }
          ],
          "histogram": [
           {
            "marker": {
             "pattern": {
              "fillmode": "overlay",
              "size": 10,
              "solidity": 0.2
             }
            },
            "type": "histogram"
           }
          ],
          "histogram2d": [
           {
            "colorbar": {
             "outlinewidth": 0,
             "ticks": ""
            },
            "colorscale": [
             [
              0,
              "#0d0887"
             ],
             [
              0.1111111111111111,
              "#46039f"
             ],
             [
              0.2222222222222222,
              "#7201a8"
             ],
             [
              0.3333333333333333,
              "#9c179e"
             ],
             [
              0.4444444444444444,
              "#bd3786"
             ],
             [
              0.5555555555555556,
              "#d8576b"
             ],
             [
              0.6666666666666666,
              "#ed7953"
             ],
             [
              0.7777777777777778,
              "#fb9f3a"
             ],
             [
              0.8888888888888888,
              "#fdca26"
             ],
             [
              1,
              "#f0f921"
             ]
            ],
            "type": "histogram2d"
           }
          ],
          "histogram2dcontour": [
           {
            "colorbar": {
             "outlinewidth": 0,
             "ticks": ""
            },
            "colorscale": [
             [
              0,
              "#0d0887"
             ],
             [
              0.1111111111111111,
              "#46039f"
             ],
             [
              0.2222222222222222,
              "#7201a8"
             ],
             [
              0.3333333333333333,
              "#9c179e"
             ],
             [
              0.4444444444444444,
              "#bd3786"
             ],
             [
              0.5555555555555556,
              "#d8576b"
             ],
             [
              0.6666666666666666,
              "#ed7953"
             ],
             [
              0.7777777777777778,
              "#fb9f3a"
             ],
             [
              0.8888888888888888,
              "#fdca26"
             ],
             [
              1,
              "#f0f921"
             ]
            ],
            "type": "histogram2dcontour"
           }
          ],
          "mesh3d": [
           {
            "colorbar": {
             "outlinewidth": 0,
             "ticks": ""
            },
            "type": "mesh3d"
           }
          ],
          "parcoords": [
           {
            "line": {
             "colorbar": {
              "outlinewidth": 0,
              "ticks": ""
             }
            },
            "type": "parcoords"
           }
          ],
          "pie": [
           {
            "automargin": true,
            "type": "pie"
           }
          ],
          "scatter": [
           {
            "marker": {
             "colorbar": {
              "outlinewidth": 0,
              "ticks": ""
             }
            },
            "type": "scatter"
           }
          ],
          "scatter3d": [
           {
            "line": {
             "colorbar": {
              "outlinewidth": 0,
              "ticks": ""
             }
            },
            "marker": {
             "colorbar": {
              "outlinewidth": 0,
              "ticks": ""
             }
            },
            "type": "scatter3d"
           }
          ],
          "scattercarpet": [
           {
            "marker": {
             "colorbar": {
              "outlinewidth": 0,
              "ticks": ""
             }
            },
            "type": "scattercarpet"
           }
          ],
          "scattergeo": [
           {
            "marker": {
             "colorbar": {
              "outlinewidth": 0,
              "ticks": ""
             }
            },
            "type": "scattergeo"
           }
          ],
          "scattergl": [
           {
            "marker": {
             "colorbar": {
              "outlinewidth": 0,
              "ticks": ""
             }
            },
            "type": "scattergl"
           }
          ],
          "scattermapbox": [
           {
            "marker": {
             "colorbar": {
              "outlinewidth": 0,
              "ticks": ""
             }
            },
            "type": "scattermapbox"
           }
          ],
          "scatterpolar": [
           {
            "marker": {
             "colorbar": {
              "outlinewidth": 0,
              "ticks": ""
             }
            },
            "type": "scatterpolar"
           }
          ],
          "scatterpolargl": [
           {
            "marker": {
             "colorbar": {
              "outlinewidth": 0,
              "ticks": ""
             }
            },
            "type": "scatterpolargl"
           }
          ],
          "scatterternary": [
           {
            "marker": {
             "colorbar": {
              "outlinewidth": 0,
              "ticks": ""
             }
            },
            "type": "scatterternary"
           }
          ],
          "surface": [
           {
            "colorbar": {
             "outlinewidth": 0,
             "ticks": ""
            },
            "colorscale": [
             [
              0,
              "#0d0887"
             ],
             [
              0.1111111111111111,
              "#46039f"
             ],
             [
              0.2222222222222222,
              "#7201a8"
             ],
             [
              0.3333333333333333,
              "#9c179e"
             ],
             [
              0.4444444444444444,
              "#bd3786"
             ],
             [
              0.5555555555555556,
              "#d8576b"
             ],
             [
              0.6666666666666666,
              "#ed7953"
             ],
             [
              0.7777777777777778,
              "#fb9f3a"
             ],
             [
              0.8888888888888888,
              "#fdca26"
             ],
             [
              1,
              "#f0f921"
             ]
            ],
            "type": "surface"
           }
          ],
          "table": [
           {
            "cells": {
             "fill": {
              "color": "#EBF0F8"
             },
             "line": {
              "color": "white"
             }
            },
            "header": {
             "fill": {
              "color": "#C8D4E3"
             },
             "line": {
              "color": "white"
             }
            },
            "type": "table"
           }
          ]
         },
         "layout": {
          "annotationdefaults": {
           "arrowcolor": "#2a3f5f",
           "arrowhead": 0,
           "arrowwidth": 1
          },
          "autotypenumbers": "strict",
          "coloraxis": {
           "colorbar": {
            "outlinewidth": 0,
            "ticks": ""
           }
          },
          "colorscale": {
           "diverging": [
            [
             0,
             "#8e0152"
            ],
            [
             0.1,
             "#c51b7d"
            ],
            [
             0.2,
             "#de77ae"
            ],
            [
             0.3,
             "#f1b6da"
            ],
            [
             0.4,
             "#fde0ef"
            ],
            [
             0.5,
             "#f7f7f7"
            ],
            [
             0.6,
             "#e6f5d0"
            ],
            [
             0.7,
             "#b8e186"
            ],
            [
             0.8,
             "#7fbc41"
            ],
            [
             0.9,
             "#4d9221"
            ],
            [
             1,
             "#276419"
            ]
           ],
           "sequential": [
            [
             0,
             "#0d0887"
            ],
            [
             0.1111111111111111,
             "#46039f"
            ],
            [
             0.2222222222222222,
             "#7201a8"
            ],
            [
             0.3333333333333333,
             "#9c179e"
            ],
            [
             0.4444444444444444,
             "#bd3786"
            ],
            [
             0.5555555555555556,
             "#d8576b"
            ],
            [
             0.6666666666666666,
             "#ed7953"
            ],
            [
             0.7777777777777778,
             "#fb9f3a"
            ],
            [
             0.8888888888888888,
             "#fdca26"
            ],
            [
             1,
             "#f0f921"
            ]
           ],
           "sequentialminus": [
            [
             0,
             "#0d0887"
            ],
            [
             0.1111111111111111,
             "#46039f"
            ],
            [
             0.2222222222222222,
             "#7201a8"
            ],
            [
             0.3333333333333333,
             "#9c179e"
            ],
            [
             0.4444444444444444,
             "#bd3786"
            ],
            [
             0.5555555555555556,
             "#d8576b"
            ],
            [
             0.6666666666666666,
             "#ed7953"
            ],
            [
             0.7777777777777778,
             "#fb9f3a"
            ],
            [
             0.8888888888888888,
             "#fdca26"
            ],
            [
             1,
             "#f0f921"
            ]
           ]
          },
          "colorway": [
           "#636efa",
           "#EF553B",
           "#00cc96",
           "#ab63fa",
           "#FFA15A",
           "#19d3f3",
           "#FF6692",
           "#B6E880",
           "#FF97FF",
           "#FECB52"
          ],
          "font": {
           "color": "#2a3f5f"
          },
          "geo": {
           "bgcolor": "white",
           "lakecolor": "white",
           "landcolor": "#E5ECF6",
           "showlakes": true,
           "showland": true,
           "subunitcolor": "white"
          },
          "hoverlabel": {
           "align": "left"
          },
          "hovermode": "closest",
          "mapbox": {
           "style": "light"
          },
          "paper_bgcolor": "white",
          "plot_bgcolor": "#E5ECF6",
          "polar": {
           "angularaxis": {
            "gridcolor": "white",
            "linecolor": "white",
            "ticks": ""
           },
           "bgcolor": "#E5ECF6",
           "radialaxis": {
            "gridcolor": "white",
            "linecolor": "white",
            "ticks": ""
           }
          },
          "scene": {
           "xaxis": {
            "backgroundcolor": "#E5ECF6",
            "gridcolor": "white",
            "gridwidth": 2,
            "linecolor": "white",
            "showbackground": true,
            "ticks": "",
            "zerolinecolor": "white"
           },
           "yaxis": {
            "backgroundcolor": "#E5ECF6",
            "gridcolor": "white",
            "gridwidth": 2,
            "linecolor": "white",
            "showbackground": true,
            "ticks": "",
            "zerolinecolor": "white"
           },
           "zaxis": {
            "backgroundcolor": "#E5ECF6",
            "gridcolor": "white",
            "gridwidth": 2,
            "linecolor": "white",
            "showbackground": true,
            "ticks": "",
            "zerolinecolor": "white"
           }
          },
          "shapedefaults": {
           "line": {
            "color": "#2a3f5f"
           }
          },
          "ternary": {
           "aaxis": {
            "gridcolor": "white",
            "linecolor": "white",
            "ticks": ""
           },
           "baxis": {
            "gridcolor": "white",
            "linecolor": "white",
            "ticks": ""
           },
           "bgcolor": "#E5ECF6",
           "caxis": {
            "gridcolor": "white",
            "linecolor": "white",
            "ticks": ""
           }
          },
          "title": {
           "x": 0.05
          },
          "xaxis": {
           "automargin": true,
           "gridcolor": "white",
           "linecolor": "white",
           "ticks": "",
           "title": {
            "standoff": 15
           },
           "zerolinecolor": "white",
           "zerolinewidth": 2
          },
          "yaxis": {
           "automargin": true,
           "gridcolor": "white",
           "linecolor": "white",
           "ticks": "",
           "title": {
            "standoff": 15
           },
           "zerolinecolor": "white",
           "zerolinewidth": 2
          }
         }
        },
        "title": {
         "font": {
          "color": "#4D5663"
         }
        },
        "xaxis": {
         "gridcolor": "#E1E5ED",
         "showgrid": true,
         "tickfont": {
          "color": "#4D5663"
         },
         "title": {
          "font": {
           "color": "#4D5663"
          },
          "text": ""
         },
         "zerolinecolor": "#E1E5ED"
        },
        "yaxis": {
         "gridcolor": "#E1E5ED",
         "showgrid": true,
         "tickfont": {
          "color": "#4D5663"
         },
         "title": {
          "font": {
           "color": "#4D5663"
          },
          "text": ""
         },
         "zerolinecolor": "#E1E5ED"
        }
       }
      },
      "text/html": [
       "<div>                            <div id=\"ffaf4d7d-1d88-42ad-88c8-7fd958f507c1\" class=\"plotly-graph-div\" style=\"height:525px; width:100%;\"></div>            <script type=\"text/javascript\">                require([\"plotly\"], function(Plotly) {                    window.PLOTLYENV=window.PLOTLYENV || {};\n",
       "                    window.PLOTLYENV.BASE_URL='https://plot.ly';                                    if (document.getElementById(\"ffaf4d7d-1d88-42ad-88c8-7fd958f507c1\")) {                    Plotly.newPlot(                        \"ffaf4d7d-1d88-42ad-88c8-7fd958f507c1\",                        [{\"line\":{\"color\":\"rgba(255, 153, 51, 1.0)\",\"dash\":\"solid\",\"shape\":\"linear\",\"width\":1.3},\"marker\":{\"size\":12,\"symbol\":\"circle\"},\"mode\":\"markers\",\"name\":\"B\",\"text\":\"\",\"type\":\"scatter\",\"x\":[-1.8146574954917116,-0.8470670293864747,0.01303271026382539,0.5383973904884377,-1.0344275404533527,-0.014481183146433959,-0.08938697687335469,-0.2279462966589887,0.20711360453961028,-0.021592962086997517,-1.3155314021076847,1.0815405437572196,1.0300618169509475,0.419185149550798,-0.282387221331436,0.4500312576732678,-0.4531682811290232,0.803587506618999,0.24305721495871502,-0.5511324389875921,1.0035509726747378,0.9996125889407599,0.8023185895529278,0.04412618305525951,0.25347853157075056,1.2433702729360656,-1.0268712118101342,-1.060853493347942,-1.4957118506802942,-0.6697103466148886,-1.2517310903859882,1.1269441241461,-0.01799070648583695,0.6225295126265604,-0.4841422118182663,-0.11091402155480518,0.07163512965302882,0.017210445925269838,-0.7212961447125448,-1.8978008901658416,0.8265600904352766,0.9174456336264463,0.4434465307912776,-0.26219744713404364,0.9589701267767169,1.74764986708476,-0.7472437061411934,-1.5646976216694992,0.04785949111866218,0.8283250366439685,0.957468433091984,2.1364632752207875,1.0860639175632132,-2.181806151730958,2.4744394822296134,-0.1663691862291363,0.026036996500954954,0.8302626870007996,-0.9761854265625488,-1.4700624675122405,-0.49980681136089544,-0.6258119864619291,-2.295546921184517,-0.46620934106311007,-0.06321021651006506,-1.071106824112718,1.3718316933073766,-1.3723757816199358,0.4086088885911282,1.319008976927655,0.913541436709759,-0.18815365471447887,-0.17921705142587582,0.6699066350545103,-0.002064802276801852,1.2942114117336707,-0.11296231766794987,0.39774871792466554,0.30742295201909836,-0.8901118530424844,-0.8277680267335727,-1.3905943524321405,0.27109582264951154,-1.0402042031067,-0.6180286813831786,1.220731508698079,0.032335660654610215,1.371876469990915,-0.14227284170805551,-0.9293612896411669,0.5245397631247587,-1.3743351885913135,-0.2235602445858731,2.059251878770659,0.16798231879217662,1.2227899126847988,-1.4803029620484407,-0.36259968785276003,1.3847877377348967,-0.7641692991076208],\"y\":[-1.172029547175582,0.5708070752516582,-1.6189359028450274,-0.11002177675271357,-0.7698107914177563,-1.130940630137424,0.17137131096691868,0.6093855998569444,-0.5766712870446586,0.028278623704371335,1.0417134140215205,0.9850106390089924,-1.4203954521148767,-1.9950677383175508,-0.5358168691997359,0.9221726549694012,-0.978868200539945,-1.0698989367132654,-0.7517442471000252,1.5009921266616195,-0.9594011879437758,0.7383177651247519,-0.6914555417742713,-0.5645604463737631,-0.26255555518036666,0.8777155862996079,1.3865282543902668,0.6799435355541886,0.05323095752739842,0.36001486015979045,-0.22894012203603628,-0.6795156044467318,1.2460952828340515,0.43535735968925987,0.3893061305644368,-0.5367167845888886,1.0573469657014019,0.8890095994487124,-0.27981206788566115,-0.6408658061031824,1.0689268030832433,-0.263663140711461,-1.099291925128018,-0.16767591466922696,0.006293727405631618,-0.6325869665079422,-0.24941398295327308,0.3873403617527878,-0.41274194917011037,0.9042181661541013,-0.11241915637436253,-0.6437501106513058,-0.8644209188227071,0.6591758567880054,0.47883880247713184,0.42255192025444954,-1.7817407479725722,1.3203352028858883,1.2628178532108998,1.7517319799163185,-0.4582363103517554,1.0900380384519954,-0.3266139438726841,-0.45219001793651076,-0.23519261652283918,0.8935888890760553,0.6793646520505338,1.5196574967862317,-2.214729861015904,-0.5313262036348674,1.0557242631382586,1.2650150885205158,0.9329404701658465,0.461135250913148,0.38979614244120686,0.43916978524637246,-0.28931877608753215,1.424219318771104,-0.12520400381944702,0.07556342057472447,3.0384877076819317,-0.8363985571334522,-0.17957907908262027,-0.2522825766622861,-0.4292949920924141,-0.17825113513031168,-0.8323392351931449,-0.14311320586144974,1.1586212749682163,0.7031277482710866,0.7283866814552401,-0.36341363636003393,-0.50249202020569,-0.637790696427296,0.7987313988057939,0.7668900404860975,0.18460097455726704,-0.13994380894890507,-0.17570422328542692,-0.0892924617474906]}],                        {\"legend\":{\"bgcolor\":\"#F5F6F9\",\"font\":{\"color\":\"#4D5663\"}},\"paper_bgcolor\":\"#F5F6F9\",\"plot_bgcolor\":\"#F5F6F9\",\"template\":{\"data\":{\"bar\":[{\"error_x\":{\"color\":\"#2a3f5f\"},\"error_y\":{\"color\":\"#2a3f5f\"},\"marker\":{\"line\":{\"color\":\"#E5ECF6\",\"width\":0.5},\"pattern\":{\"fillmode\":\"overlay\",\"size\":10,\"solidity\":0.2}},\"type\":\"bar\"}],\"barpolar\":[{\"marker\":{\"line\":{\"color\":\"#E5ECF6\",\"width\":0.5},\"pattern\":{\"fillmode\":\"overlay\",\"size\":10,\"solidity\":0.2}},\"type\":\"barpolar\"}],\"carpet\":[{\"aaxis\":{\"endlinecolor\":\"#2a3f5f\",\"gridcolor\":\"white\",\"linecolor\":\"white\",\"minorgridcolor\":\"white\",\"startlinecolor\":\"#2a3f5f\"},\"baxis\":{\"endlinecolor\":\"#2a3f5f\",\"gridcolor\":\"white\",\"linecolor\":\"white\",\"minorgridcolor\":\"white\",\"startlinecolor\":\"#2a3f5f\"},\"type\":\"carpet\"}],\"choropleth\":[{\"colorbar\":{\"outlinewidth\":0,\"ticks\":\"\"},\"type\":\"choropleth\"}],\"contour\":[{\"colorbar\":{\"outlinewidth\":0,\"ticks\":\"\"},\"colorscale\":[[0.0,\"#0d0887\"],[0.1111111111111111,\"#46039f\"],[0.2222222222222222,\"#7201a8\"],[0.3333333333333333,\"#9c179e\"],[0.4444444444444444,\"#bd3786\"],[0.5555555555555556,\"#d8576b\"],[0.6666666666666666,\"#ed7953\"],[0.7777777777777778,\"#fb9f3a\"],[0.8888888888888888,\"#fdca26\"],[1.0,\"#f0f921\"]],\"type\":\"contour\"}],\"contourcarpet\":[{\"colorbar\":{\"outlinewidth\":0,\"ticks\":\"\"},\"type\":\"contourcarpet\"}],\"heatmap\":[{\"colorbar\":{\"outlinewidth\":0,\"ticks\":\"\"},\"colorscale\":[[0.0,\"#0d0887\"],[0.1111111111111111,\"#46039f\"],[0.2222222222222222,\"#7201a8\"],[0.3333333333333333,\"#9c179e\"],[0.4444444444444444,\"#bd3786\"],[0.5555555555555556,\"#d8576b\"],[0.6666666666666666,\"#ed7953\"],[0.7777777777777778,\"#fb9f3a\"],[0.8888888888888888,\"#fdca26\"],[1.0,\"#f0f921\"]],\"type\":\"heatmap\"}],\"heatmapgl\":[{\"colorbar\":{\"outlinewidth\":0,\"ticks\":\"\"},\"colorscale\":[[0.0,\"#0d0887\"],[0.1111111111111111,\"#46039f\"],[0.2222222222222222,\"#7201a8\"],[0.3333333333333333,\"#9c179e\"],[0.4444444444444444,\"#bd3786\"],[0.5555555555555556,\"#d8576b\"],[0.6666666666666666,\"#ed7953\"],[0.7777777777777778,\"#fb9f3a\"],[0.8888888888888888,\"#fdca26\"],[1.0,\"#f0f921\"]],\"type\":\"heatmapgl\"}],\"histogram\":[{\"marker\":{\"pattern\":{\"fillmode\":\"overlay\",\"size\":10,\"solidity\":0.2}},\"type\":\"histogram\"}],\"histogram2d\":[{\"colorbar\":{\"outlinewidth\":0,\"ticks\":\"\"},\"colorscale\":[[0.0,\"#0d0887\"],[0.1111111111111111,\"#46039f\"],[0.2222222222222222,\"#7201a8\"],[0.3333333333333333,\"#9c179e\"],[0.4444444444444444,\"#bd3786\"],[0.5555555555555556,\"#d8576b\"],[0.6666666666666666,\"#ed7953\"],[0.7777777777777778,\"#fb9f3a\"],[0.8888888888888888,\"#fdca26\"],[1.0,\"#f0f921\"]],\"type\":\"histogram2d\"}],\"histogram2dcontour\":[{\"colorbar\":{\"outlinewidth\":0,\"ticks\":\"\"},\"colorscale\":[[0.0,\"#0d0887\"],[0.1111111111111111,\"#46039f\"],[0.2222222222222222,\"#7201a8\"],[0.3333333333333333,\"#9c179e\"],[0.4444444444444444,\"#bd3786\"],[0.5555555555555556,\"#d8576b\"],[0.6666666666666666,\"#ed7953\"],[0.7777777777777778,\"#fb9f3a\"],[0.8888888888888888,\"#fdca26\"],[1.0,\"#f0f921\"]],\"type\":\"histogram2dcontour\"}],\"mesh3d\":[{\"colorbar\":{\"outlinewidth\":0,\"ticks\":\"\"},\"type\":\"mesh3d\"}],\"parcoords\":[{\"line\":{\"colorbar\":{\"outlinewidth\":0,\"ticks\":\"\"}},\"type\":\"parcoords\"}],\"pie\":[{\"automargin\":true,\"type\":\"pie\"}],\"scatter\":[{\"marker\":{\"colorbar\":{\"outlinewidth\":0,\"ticks\":\"\"}},\"type\":\"scatter\"}],\"scatter3d\":[{\"line\":{\"colorbar\":{\"outlinewidth\":0,\"ticks\":\"\"}},\"marker\":{\"colorbar\":{\"outlinewidth\":0,\"ticks\":\"\"}},\"type\":\"scatter3d\"}],\"scattercarpet\":[{\"marker\":{\"colorbar\":{\"outlinewidth\":0,\"ticks\":\"\"}},\"type\":\"scattercarpet\"}],\"scattergeo\":[{\"marker\":{\"colorbar\":{\"outlinewidth\":0,\"ticks\":\"\"}},\"type\":\"scattergeo\"}],\"scattergl\":[{\"marker\":{\"colorbar\":{\"outlinewidth\":0,\"ticks\":\"\"}},\"type\":\"scattergl\"}],\"scattermapbox\":[{\"marker\":{\"colorbar\":{\"outlinewidth\":0,\"ticks\":\"\"}},\"type\":\"scattermapbox\"}],\"scatterpolar\":[{\"marker\":{\"colorbar\":{\"outlinewidth\":0,\"ticks\":\"\"}},\"type\":\"scatterpolar\"}],\"scatterpolargl\":[{\"marker\":{\"colorbar\":{\"outlinewidth\":0,\"ticks\":\"\"}},\"type\":\"scatterpolargl\"}],\"scatterternary\":[{\"marker\":{\"colorbar\":{\"outlinewidth\":0,\"ticks\":\"\"}},\"type\":\"scatterternary\"}],\"surface\":[{\"colorbar\":{\"outlinewidth\":0,\"ticks\":\"\"},\"colorscale\":[[0.0,\"#0d0887\"],[0.1111111111111111,\"#46039f\"],[0.2222222222222222,\"#7201a8\"],[0.3333333333333333,\"#9c179e\"],[0.4444444444444444,\"#bd3786\"],[0.5555555555555556,\"#d8576b\"],[0.6666666666666666,\"#ed7953\"],[0.7777777777777778,\"#fb9f3a\"],[0.8888888888888888,\"#fdca26\"],[1.0,\"#f0f921\"]],\"type\":\"surface\"}],\"table\":[{\"cells\":{\"fill\":{\"color\":\"#EBF0F8\"},\"line\":{\"color\":\"white\"}},\"header\":{\"fill\":{\"color\":\"#C8D4E3\"},\"line\":{\"color\":\"white\"}},\"type\":\"table\"}]},\"layout\":{\"annotationdefaults\":{\"arrowcolor\":\"#2a3f5f\",\"arrowhead\":0,\"arrowwidth\":1},\"autotypenumbers\":\"strict\",\"coloraxis\":{\"colorbar\":{\"outlinewidth\":0,\"ticks\":\"\"}},\"colorscale\":{\"diverging\":[[0,\"#8e0152\"],[0.1,\"#c51b7d\"],[0.2,\"#de77ae\"],[0.3,\"#f1b6da\"],[0.4,\"#fde0ef\"],[0.5,\"#f7f7f7\"],[0.6,\"#e6f5d0\"],[0.7,\"#b8e186\"],[0.8,\"#7fbc41\"],[0.9,\"#4d9221\"],[1,\"#276419\"]],\"sequential\":[[0.0,\"#0d0887\"],[0.1111111111111111,\"#46039f\"],[0.2222222222222222,\"#7201a8\"],[0.3333333333333333,\"#9c179e\"],[0.4444444444444444,\"#bd3786\"],[0.5555555555555556,\"#d8576b\"],[0.6666666666666666,\"#ed7953\"],[0.7777777777777778,\"#fb9f3a\"],[0.8888888888888888,\"#fdca26\"],[1.0,\"#f0f921\"]],\"sequentialminus\":[[0.0,\"#0d0887\"],[0.1111111111111111,\"#46039f\"],[0.2222222222222222,\"#7201a8\"],[0.3333333333333333,\"#9c179e\"],[0.4444444444444444,\"#bd3786\"],[0.5555555555555556,\"#d8576b\"],[0.6666666666666666,\"#ed7953\"],[0.7777777777777778,\"#fb9f3a\"],[0.8888888888888888,\"#fdca26\"],[1.0,\"#f0f921\"]]},\"colorway\":[\"#636efa\",\"#EF553B\",\"#00cc96\",\"#ab63fa\",\"#FFA15A\",\"#19d3f3\",\"#FF6692\",\"#B6E880\",\"#FF97FF\",\"#FECB52\"],\"font\":{\"color\":\"#2a3f5f\"},\"geo\":{\"bgcolor\":\"white\",\"lakecolor\":\"white\",\"landcolor\":\"#E5ECF6\",\"showlakes\":true,\"showland\":true,\"subunitcolor\":\"white\"},\"hoverlabel\":{\"align\":\"left\"},\"hovermode\":\"closest\",\"mapbox\":{\"style\":\"light\"},\"paper_bgcolor\":\"white\",\"plot_bgcolor\":\"#E5ECF6\",\"polar\":{\"angularaxis\":{\"gridcolor\":\"white\",\"linecolor\":\"white\",\"ticks\":\"\"},\"bgcolor\":\"#E5ECF6\",\"radialaxis\":{\"gridcolor\":\"white\",\"linecolor\":\"white\",\"ticks\":\"\"}},\"scene\":{\"xaxis\":{\"backgroundcolor\":\"#E5ECF6\",\"gridcolor\":\"white\",\"gridwidth\":2,\"linecolor\":\"white\",\"showbackground\":true,\"ticks\":\"\",\"zerolinecolor\":\"white\"},\"yaxis\":{\"backgroundcolor\":\"#E5ECF6\",\"gridcolor\":\"white\",\"gridwidth\":2,\"linecolor\":\"white\",\"showbackground\":true,\"ticks\":\"\",\"zerolinecolor\":\"white\"},\"zaxis\":{\"backgroundcolor\":\"#E5ECF6\",\"gridcolor\":\"white\",\"gridwidth\":2,\"linecolor\":\"white\",\"showbackground\":true,\"ticks\":\"\",\"zerolinecolor\":\"white\"}},\"shapedefaults\":{\"line\":{\"color\":\"#2a3f5f\"}},\"ternary\":{\"aaxis\":{\"gridcolor\":\"white\",\"linecolor\":\"white\",\"ticks\":\"\"},\"baxis\":{\"gridcolor\":\"white\",\"linecolor\":\"white\",\"ticks\":\"\"},\"bgcolor\":\"#E5ECF6\",\"caxis\":{\"gridcolor\":\"white\",\"linecolor\":\"white\",\"ticks\":\"\"}},\"title\":{\"x\":0.05},\"xaxis\":{\"automargin\":true,\"gridcolor\":\"white\",\"linecolor\":\"white\",\"ticks\":\"\",\"title\":{\"standoff\":15},\"zerolinecolor\":\"white\",\"zerolinewidth\":2},\"yaxis\":{\"automargin\":true,\"gridcolor\":\"white\",\"linecolor\":\"white\",\"ticks\":\"\",\"title\":{\"standoff\":15},\"zerolinecolor\":\"white\",\"zerolinewidth\":2}}},\"title\":{\"font\":{\"color\":\"#4D5663\"}},\"xaxis\":{\"gridcolor\":\"#E1E5ED\",\"showgrid\":true,\"tickfont\":{\"color\":\"#4D5663\"},\"title\":{\"font\":{\"color\":\"#4D5663\"},\"text\":\"\"},\"zerolinecolor\":\"#E1E5ED\"},\"yaxis\":{\"gridcolor\":\"#E1E5ED\",\"showgrid\":true,\"tickfont\":{\"color\":\"#4D5663\"},\"title\":{\"font\":{\"color\":\"#4D5663\"},\"text\":\"\"},\"zerolinecolor\":\"#E1E5ED\"}},                        {\"showLink\": true, \"linkText\": \"Export to plot.ly\", \"plotlyServerURL\": \"https://plot.ly\", \"responsive\": true}                    ).then(function(){\n",
       "                            \n",
       "var gd = document.getElementById('ffaf4d7d-1d88-42ad-88c8-7fd958f507c1');\n",
       "var x = new MutationObserver(function (mutations, observer) {{\n",
       "        var display = window.getComputedStyle(gd).display;\n",
       "        if (!display || display === 'none') {{\n",
       "            console.log([gd, 'removed!']);\n",
       "            Plotly.purge(gd);\n",
       "            observer.disconnect();\n",
       "        }}\n",
       "}});\n",
       "\n",
       "// Listen for the removal of the full notebook cells\n",
       "var notebookContainer = gd.closest('#notebook-container');\n",
       "if (notebookContainer) {{\n",
       "    x.observe(notebookContainer, {childList: true});\n",
       "}}\n",
       "\n",
       "// Listen for the clearing of the current output cell\n",
       "var outputEl = gd.closest('.output');\n",
       "if (outputEl) {{\n",
       "    x.observe(outputEl, {childList: true});\n",
       "}}\n",
       "\n",
       "                        })                };                });            </script>        </div>"
      ]
     },
     "metadata": {},
     "output_type": "display_data"
    }
   ],
   "source": [
    "df.iplot(kind='scatter', x='A', y='B', mode='markers')"
   ]
  },
  {
   "cell_type": "code",
   "execution_count": 66,
   "id": "cb7b1370",
   "metadata": {},
   "outputs": [
    {
     "data": {
      "application/vnd.plotly.v1+json": {
       "config": {
        "linkText": "Export to plot.ly",
        "plotlyServerURL": "https://plot.ly",
        "showLink": true
       },
       "data": [
        {
         "marker": {
          "color": "rgba(255, 153, 51, 0.6)",
          "line": {
           "color": "rgba(255, 153, 51, 1.0)",
           "width": 1
          }
         },
         "name": "Valores",
         "orientation": "v",
         "text": "",
         "type": "bar",
         "x": [
          "A",
          "B",
          "C"
         ],
         "y": [
          32,
          43,
          50
         ]
        }
       ],
       "layout": {
        "legend": {
         "bgcolor": "#F5F6F9",
         "font": {
          "color": "#4D5663"
         }
        },
        "paper_bgcolor": "#F5F6F9",
        "plot_bgcolor": "#F5F6F9",
        "template": {
         "data": {
          "bar": [
           {
            "error_x": {
             "color": "#2a3f5f"
            },
            "error_y": {
             "color": "#2a3f5f"
            },
            "marker": {
             "line": {
              "color": "#E5ECF6",
              "width": 0.5
             },
             "pattern": {
              "fillmode": "overlay",
              "size": 10,
              "solidity": 0.2
             }
            },
            "type": "bar"
           }
          ],
          "barpolar": [
           {
            "marker": {
             "line": {
              "color": "#E5ECF6",
              "width": 0.5
             },
             "pattern": {
              "fillmode": "overlay",
              "size": 10,
              "solidity": 0.2
             }
            },
            "type": "barpolar"
           }
          ],
          "carpet": [
           {
            "aaxis": {
             "endlinecolor": "#2a3f5f",
             "gridcolor": "white",
             "linecolor": "white",
             "minorgridcolor": "white",
             "startlinecolor": "#2a3f5f"
            },
            "baxis": {
             "endlinecolor": "#2a3f5f",
             "gridcolor": "white",
             "linecolor": "white",
             "minorgridcolor": "white",
             "startlinecolor": "#2a3f5f"
            },
            "type": "carpet"
           }
          ],
          "choropleth": [
           {
            "colorbar": {
             "outlinewidth": 0,
             "ticks": ""
            },
            "type": "choropleth"
           }
          ],
          "contour": [
           {
            "colorbar": {
             "outlinewidth": 0,
             "ticks": ""
            },
            "colorscale": [
             [
              0,
              "#0d0887"
             ],
             [
              0.1111111111111111,
              "#46039f"
             ],
             [
              0.2222222222222222,
              "#7201a8"
             ],
             [
              0.3333333333333333,
              "#9c179e"
             ],
             [
              0.4444444444444444,
              "#bd3786"
             ],
             [
              0.5555555555555556,
              "#d8576b"
             ],
             [
              0.6666666666666666,
              "#ed7953"
             ],
             [
              0.7777777777777778,
              "#fb9f3a"
             ],
             [
              0.8888888888888888,
              "#fdca26"
             ],
             [
              1,
              "#f0f921"
             ]
            ],
            "type": "contour"
           }
          ],
          "contourcarpet": [
           {
            "colorbar": {
             "outlinewidth": 0,
             "ticks": ""
            },
            "type": "contourcarpet"
           }
          ],
          "heatmap": [
           {
            "colorbar": {
             "outlinewidth": 0,
             "ticks": ""
            },
            "colorscale": [
             [
              0,
              "#0d0887"
             ],
             [
              0.1111111111111111,
              "#46039f"
             ],
             [
              0.2222222222222222,
              "#7201a8"
             ],
             [
              0.3333333333333333,
              "#9c179e"
             ],
             [
              0.4444444444444444,
              "#bd3786"
             ],
             [
              0.5555555555555556,
              "#d8576b"
             ],
             [
              0.6666666666666666,
              "#ed7953"
             ],
             [
              0.7777777777777778,
              "#fb9f3a"
             ],
             [
              0.8888888888888888,
              "#fdca26"
             ],
             [
              1,
              "#f0f921"
             ]
            ],
            "type": "heatmap"
           }
          ],
          "heatmapgl": [
           {
            "colorbar": {
             "outlinewidth": 0,
             "ticks": ""
            },
            "colorscale": [
             [
              0,
              "#0d0887"
             ],
             [
              0.1111111111111111,
              "#46039f"
             ],
             [
              0.2222222222222222,
              "#7201a8"
             ],
             [
              0.3333333333333333,
              "#9c179e"
             ],
             [
              0.4444444444444444,
              "#bd3786"
             ],
             [
              0.5555555555555556,
              "#d8576b"
             ],
             [
              0.6666666666666666,
              "#ed7953"
             ],
             [
              0.7777777777777778,
              "#fb9f3a"
             ],
             [
              0.8888888888888888,
              "#fdca26"
             ],
             [
              1,
              "#f0f921"
             ]
            ],
            "type": "heatmapgl"
           }
          ],
          "histogram": [
           {
            "marker": {
             "pattern": {
              "fillmode": "overlay",
              "size": 10,
              "solidity": 0.2
             }
            },
            "type": "histogram"
           }
          ],
          "histogram2d": [
           {
            "colorbar": {
             "outlinewidth": 0,
             "ticks": ""
            },
            "colorscale": [
             [
              0,
              "#0d0887"
             ],
             [
              0.1111111111111111,
              "#46039f"
             ],
             [
              0.2222222222222222,
              "#7201a8"
             ],
             [
              0.3333333333333333,
              "#9c179e"
             ],
             [
              0.4444444444444444,
              "#bd3786"
             ],
             [
              0.5555555555555556,
              "#d8576b"
             ],
             [
              0.6666666666666666,
              "#ed7953"
             ],
             [
              0.7777777777777778,
              "#fb9f3a"
             ],
             [
              0.8888888888888888,
              "#fdca26"
             ],
             [
              1,
              "#f0f921"
             ]
            ],
            "type": "histogram2d"
           }
          ],
          "histogram2dcontour": [
           {
            "colorbar": {
             "outlinewidth": 0,
             "ticks": ""
            },
            "colorscale": [
             [
              0,
              "#0d0887"
             ],
             [
              0.1111111111111111,
              "#46039f"
             ],
             [
              0.2222222222222222,
              "#7201a8"
             ],
             [
              0.3333333333333333,
              "#9c179e"
             ],
             [
              0.4444444444444444,
              "#bd3786"
             ],
             [
              0.5555555555555556,
              "#d8576b"
             ],
             [
              0.6666666666666666,
              "#ed7953"
             ],
             [
              0.7777777777777778,
              "#fb9f3a"
             ],
             [
              0.8888888888888888,
              "#fdca26"
             ],
             [
              1,
              "#f0f921"
             ]
            ],
            "type": "histogram2dcontour"
           }
          ],
          "mesh3d": [
           {
            "colorbar": {
             "outlinewidth": 0,
             "ticks": ""
            },
            "type": "mesh3d"
           }
          ],
          "parcoords": [
           {
            "line": {
             "colorbar": {
              "outlinewidth": 0,
              "ticks": ""
             }
            },
            "type": "parcoords"
           }
          ],
          "pie": [
           {
            "automargin": true,
            "type": "pie"
           }
          ],
          "scatter": [
           {
            "marker": {
             "colorbar": {
              "outlinewidth": 0,
              "ticks": ""
             }
            },
            "type": "scatter"
           }
          ],
          "scatter3d": [
           {
            "line": {
             "colorbar": {
              "outlinewidth": 0,
              "ticks": ""
             }
            },
            "marker": {
             "colorbar": {
              "outlinewidth": 0,
              "ticks": ""
             }
            },
            "type": "scatter3d"
           }
          ],
          "scattercarpet": [
           {
            "marker": {
             "colorbar": {
              "outlinewidth": 0,
              "ticks": ""
             }
            },
            "type": "scattercarpet"
           }
          ],
          "scattergeo": [
           {
            "marker": {
             "colorbar": {
              "outlinewidth": 0,
              "ticks": ""
             }
            },
            "type": "scattergeo"
           }
          ],
          "scattergl": [
           {
            "marker": {
             "colorbar": {
              "outlinewidth": 0,
              "ticks": ""
             }
            },
            "type": "scattergl"
           }
          ],
          "scattermapbox": [
           {
            "marker": {
             "colorbar": {
              "outlinewidth": 0,
              "ticks": ""
             }
            },
            "type": "scattermapbox"
           }
          ],
          "scatterpolar": [
           {
            "marker": {
             "colorbar": {
              "outlinewidth": 0,
              "ticks": ""
             }
            },
            "type": "scatterpolar"
           }
          ],
          "scatterpolargl": [
           {
            "marker": {
             "colorbar": {
              "outlinewidth": 0,
              "ticks": ""
             }
            },
            "type": "scatterpolargl"
           }
          ],
          "scatterternary": [
           {
            "marker": {
             "colorbar": {
              "outlinewidth": 0,
              "ticks": ""
             }
            },
            "type": "scatterternary"
           }
          ],
          "surface": [
           {
            "colorbar": {
             "outlinewidth": 0,
             "ticks": ""
            },
            "colorscale": [
             [
              0,
              "#0d0887"
             ],
             [
              0.1111111111111111,
              "#46039f"
             ],
             [
              0.2222222222222222,
              "#7201a8"
             ],
             [
              0.3333333333333333,
              "#9c179e"
             ],
             [
              0.4444444444444444,
              "#bd3786"
             ],
             [
              0.5555555555555556,
              "#d8576b"
             ],
             [
              0.6666666666666666,
              "#ed7953"
             ],
             [
              0.7777777777777778,
              "#fb9f3a"
             ],
             [
              0.8888888888888888,
              "#fdca26"
             ],
             [
              1,
              "#f0f921"
             ]
            ],
            "type": "surface"
           }
          ],
          "table": [
           {
            "cells": {
             "fill": {
              "color": "#EBF0F8"
             },
             "line": {
              "color": "white"
             }
            },
            "header": {
             "fill": {
              "color": "#C8D4E3"
             },
             "line": {
              "color": "white"
             }
            },
            "type": "table"
           }
          ]
         },
         "layout": {
          "annotationdefaults": {
           "arrowcolor": "#2a3f5f",
           "arrowhead": 0,
           "arrowwidth": 1
          },
          "autotypenumbers": "strict",
          "coloraxis": {
           "colorbar": {
            "outlinewidth": 0,
            "ticks": ""
           }
          },
          "colorscale": {
           "diverging": [
            [
             0,
             "#8e0152"
            ],
            [
             0.1,
             "#c51b7d"
            ],
            [
             0.2,
             "#de77ae"
            ],
            [
             0.3,
             "#f1b6da"
            ],
            [
             0.4,
             "#fde0ef"
            ],
            [
             0.5,
             "#f7f7f7"
            ],
            [
             0.6,
             "#e6f5d0"
            ],
            [
             0.7,
             "#b8e186"
            ],
            [
             0.8,
             "#7fbc41"
            ],
            [
             0.9,
             "#4d9221"
            ],
            [
             1,
             "#276419"
            ]
           ],
           "sequential": [
            [
             0,
             "#0d0887"
            ],
            [
             0.1111111111111111,
             "#46039f"
            ],
            [
             0.2222222222222222,
             "#7201a8"
            ],
            [
             0.3333333333333333,
             "#9c179e"
            ],
            [
             0.4444444444444444,
             "#bd3786"
            ],
            [
             0.5555555555555556,
             "#d8576b"
            ],
            [
             0.6666666666666666,
             "#ed7953"
            ],
            [
             0.7777777777777778,
             "#fb9f3a"
            ],
            [
             0.8888888888888888,
             "#fdca26"
            ],
            [
             1,
             "#f0f921"
            ]
           ],
           "sequentialminus": [
            [
             0,
             "#0d0887"
            ],
            [
             0.1111111111111111,
             "#46039f"
            ],
            [
             0.2222222222222222,
             "#7201a8"
            ],
            [
             0.3333333333333333,
             "#9c179e"
            ],
            [
             0.4444444444444444,
             "#bd3786"
            ],
            [
             0.5555555555555556,
             "#d8576b"
            ],
            [
             0.6666666666666666,
             "#ed7953"
            ],
            [
             0.7777777777777778,
             "#fb9f3a"
            ],
            [
             0.8888888888888888,
             "#fdca26"
            ],
            [
             1,
             "#f0f921"
            ]
           ]
          },
          "colorway": [
           "#636efa",
           "#EF553B",
           "#00cc96",
           "#ab63fa",
           "#FFA15A",
           "#19d3f3",
           "#FF6692",
           "#B6E880",
           "#FF97FF",
           "#FECB52"
          ],
          "font": {
           "color": "#2a3f5f"
          },
          "geo": {
           "bgcolor": "white",
           "lakecolor": "white",
           "landcolor": "#E5ECF6",
           "showlakes": true,
           "showland": true,
           "subunitcolor": "white"
          },
          "hoverlabel": {
           "align": "left"
          },
          "hovermode": "closest",
          "mapbox": {
           "style": "light"
          },
          "paper_bgcolor": "white",
          "plot_bgcolor": "#E5ECF6",
          "polar": {
           "angularaxis": {
            "gridcolor": "white",
            "linecolor": "white",
            "ticks": ""
           },
           "bgcolor": "#E5ECF6",
           "radialaxis": {
            "gridcolor": "white",
            "linecolor": "white",
            "ticks": ""
           }
          },
          "scene": {
           "xaxis": {
            "backgroundcolor": "#E5ECF6",
            "gridcolor": "white",
            "gridwidth": 2,
            "linecolor": "white",
            "showbackground": true,
            "ticks": "",
            "zerolinecolor": "white"
           },
           "yaxis": {
            "backgroundcolor": "#E5ECF6",
            "gridcolor": "white",
            "gridwidth": 2,
            "linecolor": "white",
            "showbackground": true,
            "ticks": "",
            "zerolinecolor": "white"
           },
           "zaxis": {
            "backgroundcolor": "#E5ECF6",
            "gridcolor": "white",
            "gridwidth": 2,
            "linecolor": "white",
            "showbackground": true,
            "ticks": "",
            "zerolinecolor": "white"
           }
          },
          "shapedefaults": {
           "line": {
            "color": "#2a3f5f"
           }
          },
          "ternary": {
           "aaxis": {
            "gridcolor": "white",
            "linecolor": "white",
            "ticks": ""
           },
           "baxis": {
            "gridcolor": "white",
            "linecolor": "white",
            "ticks": ""
           },
           "bgcolor": "#E5ECF6",
           "caxis": {
            "gridcolor": "white",
            "linecolor": "white",
            "ticks": ""
           }
          },
          "title": {
           "x": 0.05
          },
          "xaxis": {
           "automargin": true,
           "gridcolor": "white",
           "linecolor": "white",
           "ticks": "",
           "title": {
            "standoff": 15
           },
           "zerolinecolor": "white",
           "zerolinewidth": 2
          },
          "yaxis": {
           "automargin": true,
           "gridcolor": "white",
           "linecolor": "white",
           "ticks": "",
           "title": {
            "standoff": 15
           },
           "zerolinecolor": "white",
           "zerolinewidth": 2
          }
         }
        },
        "title": {
         "font": {
          "color": "#4D5663"
         }
        },
        "xaxis": {
         "gridcolor": "#E1E5ED",
         "showgrid": true,
         "tickfont": {
          "color": "#4D5663"
         },
         "title": {
          "font": {
           "color": "#4D5663"
          },
          "text": ""
         },
         "zerolinecolor": "#E1E5ED"
        },
        "yaxis": {
         "gridcolor": "#E1E5ED",
         "showgrid": true,
         "tickfont": {
          "color": "#4D5663"
         },
         "title": {
          "font": {
           "color": "#4D5663"
          },
          "text": ""
         },
         "zerolinecolor": "#E1E5ED"
        }
       }
      },
      "text/html": [
       "<div>                            <div id=\"8eabf748-ff30-4e12-92cf-2be3b8cdb32c\" class=\"plotly-graph-div\" style=\"height:525px; width:100%;\"></div>            <script type=\"text/javascript\">                require([\"plotly\"], function(Plotly) {                    window.PLOTLYENV=window.PLOTLYENV || {};\n",
       "                    window.PLOTLYENV.BASE_URL='https://plot.ly';                                    if (document.getElementById(\"8eabf748-ff30-4e12-92cf-2be3b8cdb32c\")) {                    Plotly.newPlot(                        \"8eabf748-ff30-4e12-92cf-2be3b8cdb32c\",                        [{\"marker\":{\"color\":\"rgba(255, 153, 51, 0.6)\",\"line\":{\"color\":\"rgba(255, 153, 51, 1.0)\",\"width\":1}},\"name\":\"Valores\",\"orientation\":\"v\",\"text\":\"\",\"type\":\"bar\",\"x\":[\"A\",\"B\",\"C\"],\"y\":[32,43,50]}],                        {\"legend\":{\"bgcolor\":\"#F5F6F9\",\"font\":{\"color\":\"#4D5663\"}},\"paper_bgcolor\":\"#F5F6F9\",\"plot_bgcolor\":\"#F5F6F9\",\"template\":{\"data\":{\"bar\":[{\"error_x\":{\"color\":\"#2a3f5f\"},\"error_y\":{\"color\":\"#2a3f5f\"},\"marker\":{\"line\":{\"color\":\"#E5ECF6\",\"width\":0.5},\"pattern\":{\"fillmode\":\"overlay\",\"size\":10,\"solidity\":0.2}},\"type\":\"bar\"}],\"barpolar\":[{\"marker\":{\"line\":{\"color\":\"#E5ECF6\",\"width\":0.5},\"pattern\":{\"fillmode\":\"overlay\",\"size\":10,\"solidity\":0.2}},\"type\":\"barpolar\"}],\"carpet\":[{\"aaxis\":{\"endlinecolor\":\"#2a3f5f\",\"gridcolor\":\"white\",\"linecolor\":\"white\",\"minorgridcolor\":\"white\",\"startlinecolor\":\"#2a3f5f\"},\"baxis\":{\"endlinecolor\":\"#2a3f5f\",\"gridcolor\":\"white\",\"linecolor\":\"white\",\"minorgridcolor\":\"white\",\"startlinecolor\":\"#2a3f5f\"},\"type\":\"carpet\"}],\"choropleth\":[{\"colorbar\":{\"outlinewidth\":0,\"ticks\":\"\"},\"type\":\"choropleth\"}],\"contour\":[{\"colorbar\":{\"outlinewidth\":0,\"ticks\":\"\"},\"colorscale\":[[0.0,\"#0d0887\"],[0.1111111111111111,\"#46039f\"],[0.2222222222222222,\"#7201a8\"],[0.3333333333333333,\"#9c179e\"],[0.4444444444444444,\"#bd3786\"],[0.5555555555555556,\"#d8576b\"],[0.6666666666666666,\"#ed7953\"],[0.7777777777777778,\"#fb9f3a\"],[0.8888888888888888,\"#fdca26\"],[1.0,\"#f0f921\"]],\"type\":\"contour\"}],\"contourcarpet\":[{\"colorbar\":{\"outlinewidth\":0,\"ticks\":\"\"},\"type\":\"contourcarpet\"}],\"heatmap\":[{\"colorbar\":{\"outlinewidth\":0,\"ticks\":\"\"},\"colorscale\":[[0.0,\"#0d0887\"],[0.1111111111111111,\"#46039f\"],[0.2222222222222222,\"#7201a8\"],[0.3333333333333333,\"#9c179e\"],[0.4444444444444444,\"#bd3786\"],[0.5555555555555556,\"#d8576b\"],[0.6666666666666666,\"#ed7953\"],[0.7777777777777778,\"#fb9f3a\"],[0.8888888888888888,\"#fdca26\"],[1.0,\"#f0f921\"]],\"type\":\"heatmap\"}],\"heatmapgl\":[{\"colorbar\":{\"outlinewidth\":0,\"ticks\":\"\"},\"colorscale\":[[0.0,\"#0d0887\"],[0.1111111111111111,\"#46039f\"],[0.2222222222222222,\"#7201a8\"],[0.3333333333333333,\"#9c179e\"],[0.4444444444444444,\"#bd3786\"],[0.5555555555555556,\"#d8576b\"],[0.6666666666666666,\"#ed7953\"],[0.7777777777777778,\"#fb9f3a\"],[0.8888888888888888,\"#fdca26\"],[1.0,\"#f0f921\"]],\"type\":\"heatmapgl\"}],\"histogram\":[{\"marker\":{\"pattern\":{\"fillmode\":\"overlay\",\"size\":10,\"solidity\":0.2}},\"type\":\"histogram\"}],\"histogram2d\":[{\"colorbar\":{\"outlinewidth\":0,\"ticks\":\"\"},\"colorscale\":[[0.0,\"#0d0887\"],[0.1111111111111111,\"#46039f\"],[0.2222222222222222,\"#7201a8\"],[0.3333333333333333,\"#9c179e\"],[0.4444444444444444,\"#bd3786\"],[0.5555555555555556,\"#d8576b\"],[0.6666666666666666,\"#ed7953\"],[0.7777777777777778,\"#fb9f3a\"],[0.8888888888888888,\"#fdca26\"],[1.0,\"#f0f921\"]],\"type\":\"histogram2d\"}],\"histogram2dcontour\":[{\"colorbar\":{\"outlinewidth\":0,\"ticks\":\"\"},\"colorscale\":[[0.0,\"#0d0887\"],[0.1111111111111111,\"#46039f\"],[0.2222222222222222,\"#7201a8\"],[0.3333333333333333,\"#9c179e\"],[0.4444444444444444,\"#bd3786\"],[0.5555555555555556,\"#d8576b\"],[0.6666666666666666,\"#ed7953\"],[0.7777777777777778,\"#fb9f3a\"],[0.8888888888888888,\"#fdca26\"],[1.0,\"#f0f921\"]],\"type\":\"histogram2dcontour\"}],\"mesh3d\":[{\"colorbar\":{\"outlinewidth\":0,\"ticks\":\"\"},\"type\":\"mesh3d\"}],\"parcoords\":[{\"line\":{\"colorbar\":{\"outlinewidth\":0,\"ticks\":\"\"}},\"type\":\"parcoords\"}],\"pie\":[{\"automargin\":true,\"type\":\"pie\"}],\"scatter\":[{\"marker\":{\"colorbar\":{\"outlinewidth\":0,\"ticks\":\"\"}},\"type\":\"scatter\"}],\"scatter3d\":[{\"line\":{\"colorbar\":{\"outlinewidth\":0,\"ticks\":\"\"}},\"marker\":{\"colorbar\":{\"outlinewidth\":0,\"ticks\":\"\"}},\"type\":\"scatter3d\"}],\"scattercarpet\":[{\"marker\":{\"colorbar\":{\"outlinewidth\":0,\"ticks\":\"\"}},\"type\":\"scattercarpet\"}],\"scattergeo\":[{\"marker\":{\"colorbar\":{\"outlinewidth\":0,\"ticks\":\"\"}},\"type\":\"scattergeo\"}],\"scattergl\":[{\"marker\":{\"colorbar\":{\"outlinewidth\":0,\"ticks\":\"\"}},\"type\":\"scattergl\"}],\"scattermapbox\":[{\"marker\":{\"colorbar\":{\"outlinewidth\":0,\"ticks\":\"\"}},\"type\":\"scattermapbox\"}],\"scatterpolar\":[{\"marker\":{\"colorbar\":{\"outlinewidth\":0,\"ticks\":\"\"}},\"type\":\"scatterpolar\"}],\"scatterpolargl\":[{\"marker\":{\"colorbar\":{\"outlinewidth\":0,\"ticks\":\"\"}},\"type\":\"scatterpolargl\"}],\"scatterternary\":[{\"marker\":{\"colorbar\":{\"outlinewidth\":0,\"ticks\":\"\"}},\"type\":\"scatterternary\"}],\"surface\":[{\"colorbar\":{\"outlinewidth\":0,\"ticks\":\"\"},\"colorscale\":[[0.0,\"#0d0887\"],[0.1111111111111111,\"#46039f\"],[0.2222222222222222,\"#7201a8\"],[0.3333333333333333,\"#9c179e\"],[0.4444444444444444,\"#bd3786\"],[0.5555555555555556,\"#d8576b\"],[0.6666666666666666,\"#ed7953\"],[0.7777777777777778,\"#fb9f3a\"],[0.8888888888888888,\"#fdca26\"],[1.0,\"#f0f921\"]],\"type\":\"surface\"}],\"table\":[{\"cells\":{\"fill\":{\"color\":\"#EBF0F8\"},\"line\":{\"color\":\"white\"}},\"header\":{\"fill\":{\"color\":\"#C8D4E3\"},\"line\":{\"color\":\"white\"}},\"type\":\"table\"}]},\"layout\":{\"annotationdefaults\":{\"arrowcolor\":\"#2a3f5f\",\"arrowhead\":0,\"arrowwidth\":1},\"autotypenumbers\":\"strict\",\"coloraxis\":{\"colorbar\":{\"outlinewidth\":0,\"ticks\":\"\"}},\"colorscale\":{\"diverging\":[[0,\"#8e0152\"],[0.1,\"#c51b7d\"],[0.2,\"#de77ae\"],[0.3,\"#f1b6da\"],[0.4,\"#fde0ef\"],[0.5,\"#f7f7f7\"],[0.6,\"#e6f5d0\"],[0.7,\"#b8e186\"],[0.8,\"#7fbc41\"],[0.9,\"#4d9221\"],[1,\"#276419\"]],\"sequential\":[[0.0,\"#0d0887\"],[0.1111111111111111,\"#46039f\"],[0.2222222222222222,\"#7201a8\"],[0.3333333333333333,\"#9c179e\"],[0.4444444444444444,\"#bd3786\"],[0.5555555555555556,\"#d8576b\"],[0.6666666666666666,\"#ed7953\"],[0.7777777777777778,\"#fb9f3a\"],[0.8888888888888888,\"#fdca26\"],[1.0,\"#f0f921\"]],\"sequentialminus\":[[0.0,\"#0d0887\"],[0.1111111111111111,\"#46039f\"],[0.2222222222222222,\"#7201a8\"],[0.3333333333333333,\"#9c179e\"],[0.4444444444444444,\"#bd3786\"],[0.5555555555555556,\"#d8576b\"],[0.6666666666666666,\"#ed7953\"],[0.7777777777777778,\"#fb9f3a\"],[0.8888888888888888,\"#fdca26\"],[1.0,\"#f0f921\"]]},\"colorway\":[\"#636efa\",\"#EF553B\",\"#00cc96\",\"#ab63fa\",\"#FFA15A\",\"#19d3f3\",\"#FF6692\",\"#B6E880\",\"#FF97FF\",\"#FECB52\"],\"font\":{\"color\":\"#2a3f5f\"},\"geo\":{\"bgcolor\":\"white\",\"lakecolor\":\"white\",\"landcolor\":\"#E5ECF6\",\"showlakes\":true,\"showland\":true,\"subunitcolor\":\"white\"},\"hoverlabel\":{\"align\":\"left\"},\"hovermode\":\"closest\",\"mapbox\":{\"style\":\"light\"},\"paper_bgcolor\":\"white\",\"plot_bgcolor\":\"#E5ECF6\",\"polar\":{\"angularaxis\":{\"gridcolor\":\"white\",\"linecolor\":\"white\",\"ticks\":\"\"},\"bgcolor\":\"#E5ECF6\",\"radialaxis\":{\"gridcolor\":\"white\",\"linecolor\":\"white\",\"ticks\":\"\"}},\"scene\":{\"xaxis\":{\"backgroundcolor\":\"#E5ECF6\",\"gridcolor\":\"white\",\"gridwidth\":2,\"linecolor\":\"white\",\"showbackground\":true,\"ticks\":\"\",\"zerolinecolor\":\"white\"},\"yaxis\":{\"backgroundcolor\":\"#E5ECF6\",\"gridcolor\":\"white\",\"gridwidth\":2,\"linecolor\":\"white\",\"showbackground\":true,\"ticks\":\"\",\"zerolinecolor\":\"white\"},\"zaxis\":{\"backgroundcolor\":\"#E5ECF6\",\"gridcolor\":\"white\",\"gridwidth\":2,\"linecolor\":\"white\",\"showbackground\":true,\"ticks\":\"\",\"zerolinecolor\":\"white\"}},\"shapedefaults\":{\"line\":{\"color\":\"#2a3f5f\"}},\"ternary\":{\"aaxis\":{\"gridcolor\":\"white\",\"linecolor\":\"white\",\"ticks\":\"\"},\"baxis\":{\"gridcolor\":\"white\",\"linecolor\":\"white\",\"ticks\":\"\"},\"bgcolor\":\"#E5ECF6\",\"caxis\":{\"gridcolor\":\"white\",\"linecolor\":\"white\",\"ticks\":\"\"}},\"title\":{\"x\":0.05},\"xaxis\":{\"automargin\":true,\"gridcolor\":\"white\",\"linecolor\":\"white\",\"ticks\":\"\",\"title\":{\"standoff\":15},\"zerolinecolor\":\"white\",\"zerolinewidth\":2},\"yaxis\":{\"automargin\":true,\"gridcolor\":\"white\",\"linecolor\":\"white\",\"ticks\":\"\",\"title\":{\"standoff\":15},\"zerolinecolor\":\"white\",\"zerolinewidth\":2}}},\"title\":{\"font\":{\"color\":\"#4D5663\"}},\"xaxis\":{\"gridcolor\":\"#E1E5ED\",\"showgrid\":true,\"tickfont\":{\"color\":\"#4D5663\"},\"title\":{\"font\":{\"color\":\"#4D5663\"},\"text\":\"\"},\"zerolinecolor\":\"#E1E5ED\"},\"yaxis\":{\"gridcolor\":\"#E1E5ED\",\"showgrid\":true,\"tickfont\":{\"color\":\"#4D5663\"},\"title\":{\"font\":{\"color\":\"#4D5663\"},\"text\":\"\"},\"zerolinecolor\":\"#E1E5ED\"}},                        {\"showLink\": true, \"linkText\": \"Export to plot.ly\", \"plotlyServerURL\": \"https://plot.ly\", \"responsive\": true}                    ).then(function(){\n",
       "                            \n",
       "var gd = document.getElementById('8eabf748-ff30-4e12-92cf-2be3b8cdb32c');\n",
       "var x = new MutationObserver(function (mutations, observer) {{\n",
       "        var display = window.getComputedStyle(gd).display;\n",
       "        if (!display || display === 'none') {{\n",
       "            console.log([gd, 'removed!']);\n",
       "            Plotly.purge(gd);\n",
       "            observer.disconnect();\n",
       "        }}\n",
       "}});\n",
       "\n",
       "// Listen for the removal of the full notebook cells\n",
       "var notebookContainer = gd.closest('#notebook-container');\n",
       "if (notebookContainer) {{\n",
       "    x.observe(notebookContainer, {childList: true});\n",
       "}}\n",
       "\n",
       "// Listen for the clearing of the current output cell\n",
       "var outputEl = gd.closest('.output');\n",
       "if (outputEl) {{\n",
       "    x.observe(outputEl, {childList: true});\n",
       "}}\n",
       "\n",
       "                        })                };                });            </script>        </div>"
      ]
     },
     "metadata": {},
     "output_type": "display_data"
    }
   ],
   "source": [
    "df2.iplot(kind='bar', x='Categoria', y='Valores' )"
   ]
  },
  {
   "cell_type": "code",
   "execution_count": 67,
   "id": "a7da1ca3",
   "metadata": {},
   "outputs": [
    {
     "data": {
      "application/vnd.plotly.v1+json": {
       "config": {
        "linkText": "Export to plot.ly",
        "plotlyServerURL": "https://plot.ly",
        "showLink": true
       },
       "data": [
        {
         "marker": {
          "color": "rgba(255, 153, 51, 0.6)",
          "line": {
           "color": "rgba(255, 153, 51, 1.0)",
           "width": 1
          }
         },
         "name": "A",
         "orientation": "v",
         "text": "",
         "type": "bar",
         "x": [
          0,
          1,
          2,
          3,
          4,
          5,
          6,
          7,
          8,
          9,
          10,
          11,
          12,
          13,
          14,
          15,
          16,
          17,
          18,
          19,
          20,
          21,
          22,
          23,
          24,
          25,
          26,
          27,
          28,
          29,
          30,
          31,
          32,
          33,
          34,
          35,
          36,
          37,
          38,
          39,
          40,
          41,
          42,
          43,
          44,
          45,
          46,
          47,
          48,
          49,
          50,
          51,
          52,
          53,
          54,
          55,
          56,
          57,
          58,
          59,
          60,
          61,
          62,
          63,
          64,
          65,
          66,
          67,
          68,
          69,
          70,
          71,
          72,
          73,
          74,
          75,
          76,
          77,
          78,
          79,
          80,
          81,
          82,
          83,
          84,
          85,
          86,
          87,
          88,
          89,
          90,
          91,
          92,
          93,
          94,
          95,
          96,
          97,
          98,
          99
         ],
         "y": [
          -1.8146574954917116,
          -0.8470670293864747,
          0.01303271026382539,
          0.5383973904884377,
          -1.0344275404533527,
          -0.014481183146433959,
          -0.08938697687335469,
          -0.2279462966589887,
          0.20711360453961028,
          -0.021592962086997517,
          -1.3155314021076847,
          1.0815405437572196,
          1.0300618169509475,
          0.419185149550798,
          -0.282387221331436,
          0.4500312576732678,
          -0.4531682811290232,
          0.803587506618999,
          0.24305721495871502,
          -0.5511324389875921,
          1.0035509726747378,
          0.9996125889407599,
          0.8023185895529278,
          0.04412618305525951,
          0.25347853157075056,
          1.2433702729360656,
          -1.0268712118101342,
          -1.060853493347942,
          -1.4957118506802942,
          -0.6697103466148886,
          -1.2517310903859882,
          1.1269441241461,
          -0.01799070648583695,
          0.6225295126265604,
          -0.4841422118182663,
          -0.11091402155480518,
          0.07163512965302882,
          0.017210445925269838,
          -0.7212961447125448,
          -1.8978008901658416,
          0.8265600904352766,
          0.9174456336264463,
          0.4434465307912776,
          -0.26219744713404364,
          0.9589701267767169,
          1.74764986708476,
          -0.7472437061411934,
          -1.5646976216694992,
          0.04785949111866218,
          0.8283250366439685,
          0.957468433091984,
          2.1364632752207875,
          1.0860639175632132,
          -2.181806151730958,
          2.4744394822296134,
          -0.1663691862291363,
          0.026036996500954954,
          0.8302626870007996,
          -0.9761854265625488,
          -1.4700624675122405,
          -0.49980681136089544,
          -0.6258119864619291,
          -2.295546921184517,
          -0.46620934106311007,
          -0.06321021651006506,
          -1.071106824112718,
          1.3718316933073766,
          -1.3723757816199358,
          0.4086088885911282,
          1.319008976927655,
          0.913541436709759,
          -0.18815365471447887,
          -0.17921705142587582,
          0.6699066350545103,
          -0.002064802276801852,
          1.2942114117336707,
          -0.11296231766794987,
          0.39774871792466554,
          0.30742295201909836,
          -0.8901118530424844,
          -0.8277680267335727,
          -1.3905943524321405,
          0.27109582264951154,
          -1.0402042031067,
          -0.6180286813831786,
          1.220731508698079,
          0.032335660654610215,
          1.371876469990915,
          -0.14227284170805551,
          -0.9293612896411669,
          0.5245397631247587,
          -1.3743351885913135,
          -0.2235602445858731,
          2.059251878770659,
          0.16798231879217662,
          1.2227899126847988,
          -1.4803029620484407,
          -0.36259968785276003,
          1.3847877377348967,
          -0.7641692991076208
         ]
        },
        {
         "marker": {
          "color": "rgba(55, 128, 191, 0.6)",
          "line": {
           "color": "rgba(55, 128, 191, 1.0)",
           "width": 1
          }
         },
         "name": "B",
         "orientation": "v",
         "text": "",
         "type": "bar",
         "x": [
          0,
          1,
          2,
          3,
          4,
          5,
          6,
          7,
          8,
          9,
          10,
          11,
          12,
          13,
          14,
          15,
          16,
          17,
          18,
          19,
          20,
          21,
          22,
          23,
          24,
          25,
          26,
          27,
          28,
          29,
          30,
          31,
          32,
          33,
          34,
          35,
          36,
          37,
          38,
          39,
          40,
          41,
          42,
          43,
          44,
          45,
          46,
          47,
          48,
          49,
          50,
          51,
          52,
          53,
          54,
          55,
          56,
          57,
          58,
          59,
          60,
          61,
          62,
          63,
          64,
          65,
          66,
          67,
          68,
          69,
          70,
          71,
          72,
          73,
          74,
          75,
          76,
          77,
          78,
          79,
          80,
          81,
          82,
          83,
          84,
          85,
          86,
          87,
          88,
          89,
          90,
          91,
          92,
          93,
          94,
          95,
          96,
          97,
          98,
          99
         ],
         "y": [
          -1.172029547175582,
          0.5708070752516582,
          -1.6189359028450274,
          -0.11002177675271357,
          -0.7698107914177563,
          -1.130940630137424,
          0.17137131096691868,
          0.6093855998569444,
          -0.5766712870446586,
          0.028278623704371335,
          1.0417134140215205,
          0.9850106390089924,
          -1.4203954521148767,
          -1.9950677383175508,
          -0.5358168691997359,
          0.9221726549694012,
          -0.978868200539945,
          -1.0698989367132654,
          -0.7517442471000252,
          1.5009921266616195,
          -0.9594011879437758,
          0.7383177651247519,
          -0.6914555417742713,
          -0.5645604463737631,
          -0.26255555518036666,
          0.8777155862996079,
          1.3865282543902668,
          0.6799435355541886,
          0.05323095752739842,
          0.36001486015979045,
          -0.22894012203603628,
          -0.6795156044467318,
          1.2460952828340515,
          0.43535735968925987,
          0.3893061305644368,
          -0.5367167845888886,
          1.0573469657014019,
          0.8890095994487124,
          -0.27981206788566115,
          -0.6408658061031824,
          1.0689268030832433,
          -0.263663140711461,
          -1.099291925128018,
          -0.16767591466922696,
          0.006293727405631618,
          -0.6325869665079422,
          -0.24941398295327308,
          0.3873403617527878,
          -0.41274194917011037,
          0.9042181661541013,
          -0.11241915637436253,
          -0.6437501106513058,
          -0.8644209188227071,
          0.6591758567880054,
          0.47883880247713184,
          0.42255192025444954,
          -1.7817407479725722,
          1.3203352028858883,
          1.2628178532108998,
          1.7517319799163185,
          -0.4582363103517554,
          1.0900380384519954,
          -0.3266139438726841,
          -0.45219001793651076,
          -0.23519261652283918,
          0.8935888890760553,
          0.6793646520505338,
          1.5196574967862317,
          -2.214729861015904,
          -0.5313262036348674,
          1.0557242631382586,
          1.2650150885205158,
          0.9329404701658465,
          0.461135250913148,
          0.38979614244120686,
          0.43916978524637246,
          -0.28931877608753215,
          1.424219318771104,
          -0.12520400381944702,
          0.07556342057472447,
          3.0384877076819317,
          -0.8363985571334522,
          -0.17957907908262027,
          -0.2522825766622861,
          -0.4292949920924141,
          -0.17825113513031168,
          -0.8323392351931449,
          -0.14311320586144974,
          1.1586212749682163,
          0.7031277482710866,
          0.7283866814552401,
          -0.36341363636003393,
          -0.50249202020569,
          -0.637790696427296,
          0.7987313988057939,
          0.7668900404860975,
          0.18460097455726704,
          -0.13994380894890507,
          -0.17570422328542692,
          -0.0892924617474906
         ]
        },
        {
         "marker": {
          "color": "rgba(50, 171, 96, 0.6)",
          "line": {
           "color": "rgba(50, 171, 96, 1.0)",
           "width": 1
          }
         },
         "name": "C",
         "orientation": "v",
         "text": "",
         "type": "bar",
         "x": [
          0,
          1,
          2,
          3,
          4,
          5,
          6,
          7,
          8,
          9,
          10,
          11,
          12,
          13,
          14,
          15,
          16,
          17,
          18,
          19,
          20,
          21,
          22,
          23,
          24,
          25,
          26,
          27,
          28,
          29,
          30,
          31,
          32,
          33,
          34,
          35,
          36,
          37,
          38,
          39,
          40,
          41,
          42,
          43,
          44,
          45,
          46,
          47,
          48,
          49,
          50,
          51,
          52,
          53,
          54,
          55,
          56,
          57,
          58,
          59,
          60,
          61,
          62,
          63,
          64,
          65,
          66,
          67,
          68,
          69,
          70,
          71,
          72,
          73,
          74,
          75,
          76,
          77,
          78,
          79,
          80,
          81,
          82,
          83,
          84,
          85,
          86,
          87,
          88,
          89,
          90,
          91,
          92,
          93,
          94,
          95,
          96,
          97,
          98,
          99
         ],
         "y": [
          -0.7814042885776574,
          -0.6570536191519789,
          2.756935974954642,
          0.40640411526447373,
          -1.1661600882636183,
          -1.7319247194113332,
          -0.8582834854399468,
          -0.2599272786908284,
          1.7360755434143422,
          1.5786531315507075,
          -1.3884984056559986,
          -0.9599552553338249,
          -0.44840356873588066,
          1.577602594296153,
          -0.7413303063907769,
          0.07978217388082871,
          1.1334236144973089,
          0.04005275647459037,
          0.47426846858473254,
          -1.5125383140020334,
          1.1836398882065546,
          -1.655257982736034,
          -0.6678459827819542,
          -1.0646630488364337,
          -2.1985118348722743,
          -1.4721672819356348,
          -0.43529185493633754,
          0.184625824160237,
          1.2558857905135954,
          1.066154950124663,
          0.3832425621392652,
          -1.4523759957345912,
          -0.2051660906118652,
          0.35551987855421785,
          -0.30223502738920477,
          -1.018321256870088,
          -0.4340258627669384,
          -0.48994037492369374,
          0.5956093622634703,
          1.3856894338576555,
          0.213157358163665,
          -0.4014107945709725,
          -0.48269888616653706,
          0.6667909746158834,
          0.5913957004248953,
          0.04799024976186377,
          0.051197478704545,
          0.6382965000056416,
          0.20509704448072003,
          -1.1117586001713273,
          1.3888719657510793,
          0.07217285939900908,
          -0.2945588763918421,
          0.5168861665615841,
          -0.6251660870185811,
          1.4332674057800763,
          0.9757712584136982,
          0.14004428873044147,
          1.6968745372550422,
          0.15393239387588767,
          -0.16579606700815497,
          -1.7213520313954411,
          0.3795671005742294,
          1.2025115572362062,
          -0.7976964428301118,
          -0.47628753584306494,
          1.1958187172147259,
          1.9066703315574713,
          -0.6533606217297846,
          0.39576963327645487,
          -0.2390445817514245,
          2.3148742446434785,
          1.067972948977482,
          1.2614749483899448,
          0.9942749693146312,
          -1.3424003772797393,
          -1.1242661810310575,
          1.0406330138095752,
          -1.0216955896433741,
          -1.4049579532544616,
          -0.9802632873960898,
          0.8742399114585363,
          1.48576506842584,
          0.1042707494428018,
          0.20041088926857803,
          -0.956211435704891,
          -1.9710498525833182,
          -1.0345139775445806,
          -0.1800008951912733,
          0.351257683643523,
          0.3024100991431864,
          -0.21635476842713608,
          0.5575364674231739,
          -1.9465621806281679,
          2.295967700230583,
          -1.3827164062386463,
          0.7225105798772864,
          -0.690684329795509,
          -0.6288018267318949,
          -1.5498246177467476
         ]
        },
        {
         "marker": {
          "color": "rgba(128, 0, 128, 0.6)",
          "line": {
           "color": "rgba(128, 0, 128, 1.0)",
           "width": 1
          }
         },
         "name": "D",
         "orientation": "v",
         "text": "",
         "type": "bar",
         "x": [
          0,
          1,
          2,
          3,
          4,
          5,
          6,
          7,
          8,
          9,
          10,
          11,
          12,
          13,
          14,
          15,
          16,
          17,
          18,
          19,
          20,
          21,
          22,
          23,
          24,
          25,
          26,
          27,
          28,
          29,
          30,
          31,
          32,
          33,
          34,
          35,
          36,
          37,
          38,
          39,
          40,
          41,
          42,
          43,
          44,
          45,
          46,
          47,
          48,
          49,
          50,
          51,
          52,
          53,
          54,
          55,
          56,
          57,
          58,
          59,
          60,
          61,
          62,
          63,
          64,
          65,
          66,
          67,
          68,
          69,
          70,
          71,
          72,
          73,
          74,
          75,
          76,
          77,
          78,
          79,
          80,
          81,
          82,
          83,
          84,
          85,
          86,
          87,
          88,
          89,
          90,
          91,
          92,
          93,
          94,
          95,
          96,
          97,
          98,
          99
         ],
         "y": [
          0.2442434132814181,
          -0.5288050979965271,
          3.5286069369247066,
          1.1633222576478004,
          -0.6322690517714941,
          0.05497912906308278,
          0.9550602068239482,
          0.920340660599762,
          0.11135409926562147,
          0.1102074971249416,
          -0.18831856651127835,
          0.6736162474135285,
          1.4013852295315534,
          -0.11332390833616546,
          0.8102626289074134,
          -1.4855274001513237,
          -0.4529990867187134,
          -0.1376020867578222,
          1.2220039270912995,
          0.07708827827983968,
          2.1788568035788054,
          -0.41752035108871394,
          1.3001513770740378,
          -0.8931489221320447,
          -0.9662888770849758,
          0.7553808389093509,
          0.575221329739446,
          -2.3771833588718825,
          -0.6286843831580169,
          -0.708788628211804,
          -1.9490447019670933,
          0.2581687538237965,
          -0.3754372305567602,
          -0.8275638223051003,
          1.2152658733365742,
          -0.7085614258385646,
          -0.821204339801809,
          0.5085838971637473,
          -1.0298963845254674,
          0.8447200248123172,
          -0.6227969331208381,
          2.171572940144113,
          -0.7563405053355937,
          -0.10072862077963562,
          0.22836653470441506,
          -1.6365890983916749,
          -0.5110429104659345,
          1.061768604686841,
          -1.4618970548187755,
          -0.5161657699203809,
          0.09667969956102576,
          1.4812496378551316,
          1.1531243383840795,
          -1.6648200050136748,
          -0.07080123212525125,
          0.19451036992885903,
          2.693408417718509,
          -0.6240473492683131,
          -1.0539464252685977,
          -1.6665164532431795,
          -0.8402034894179713,
          -1.880812619358926,
          0.02119642042380144,
          0.01272071264962929,
          -0.30564084654790624,
          -0.04365957196668113,
          0.3009770956400371,
          0.9365741437593206,
          0.5643865442504427,
          -0.03476546700733019,
          -0.8761418478301107,
          -1.315064357093031,
          0.8135815761492984,
          0.9870185821696303,
          2.6951928280685213,
          1.0486360366949183,
          0.14571864577442104,
          0.7326179956848412,
          -1.6866076097597424,
          -1.8601398011097965,
          0.35264842683699377,
          0.7772706242648951,
          -1.1060318653417003,
          1.1657731714440094,
          -0.10068988564942408,
          -0.3279123330038592,
          0.2899933480616966,
          0.4890407354645279,
          0.36094480565240344,
          -1.7686717511804286,
          0.8419231380402565,
          -0.32485386844412956,
          0.45133231524155376,
          0.3537891733265878,
          0.8636363927942637,
          -0.6457113752742918,
          0.8423662574923896,
          1.2696703612760782,
          -0.6114432575514193,
          -2.0059369005142194
         ]
        }
       ],
       "layout": {
        "legend": {
         "bgcolor": "#F5F6F9",
         "font": {
          "color": "#4D5663"
         }
        },
        "paper_bgcolor": "#F5F6F9",
        "plot_bgcolor": "#F5F6F9",
        "template": {
         "data": {
          "bar": [
           {
            "error_x": {
             "color": "#2a3f5f"
            },
            "error_y": {
             "color": "#2a3f5f"
            },
            "marker": {
             "line": {
              "color": "#E5ECF6",
              "width": 0.5
             },
             "pattern": {
              "fillmode": "overlay",
              "size": 10,
              "solidity": 0.2
             }
            },
            "type": "bar"
           }
          ],
          "barpolar": [
           {
            "marker": {
             "line": {
              "color": "#E5ECF6",
              "width": 0.5
             },
             "pattern": {
              "fillmode": "overlay",
              "size": 10,
              "solidity": 0.2
             }
            },
            "type": "barpolar"
           }
          ],
          "carpet": [
           {
            "aaxis": {
             "endlinecolor": "#2a3f5f",
             "gridcolor": "white",
             "linecolor": "white",
             "minorgridcolor": "white",
             "startlinecolor": "#2a3f5f"
            },
            "baxis": {
             "endlinecolor": "#2a3f5f",
             "gridcolor": "white",
             "linecolor": "white",
             "minorgridcolor": "white",
             "startlinecolor": "#2a3f5f"
            },
            "type": "carpet"
           }
          ],
          "choropleth": [
           {
            "colorbar": {
             "outlinewidth": 0,
             "ticks": ""
            },
            "type": "choropleth"
           }
          ],
          "contour": [
           {
            "colorbar": {
             "outlinewidth": 0,
             "ticks": ""
            },
            "colorscale": [
             [
              0,
              "#0d0887"
             ],
             [
              0.1111111111111111,
              "#46039f"
             ],
             [
              0.2222222222222222,
              "#7201a8"
             ],
             [
              0.3333333333333333,
              "#9c179e"
             ],
             [
              0.4444444444444444,
              "#bd3786"
             ],
             [
              0.5555555555555556,
              "#d8576b"
             ],
             [
              0.6666666666666666,
              "#ed7953"
             ],
             [
              0.7777777777777778,
              "#fb9f3a"
             ],
             [
              0.8888888888888888,
              "#fdca26"
             ],
             [
              1,
              "#f0f921"
             ]
            ],
            "type": "contour"
           }
          ],
          "contourcarpet": [
           {
            "colorbar": {
             "outlinewidth": 0,
             "ticks": ""
            },
            "type": "contourcarpet"
           }
          ],
          "heatmap": [
           {
            "colorbar": {
             "outlinewidth": 0,
             "ticks": ""
            },
            "colorscale": [
             [
              0,
              "#0d0887"
             ],
             [
              0.1111111111111111,
              "#46039f"
             ],
             [
              0.2222222222222222,
              "#7201a8"
             ],
             [
              0.3333333333333333,
              "#9c179e"
             ],
             [
              0.4444444444444444,
              "#bd3786"
             ],
             [
              0.5555555555555556,
              "#d8576b"
             ],
             [
              0.6666666666666666,
              "#ed7953"
             ],
             [
              0.7777777777777778,
              "#fb9f3a"
             ],
             [
              0.8888888888888888,
              "#fdca26"
             ],
             [
              1,
              "#f0f921"
             ]
            ],
            "type": "heatmap"
           }
          ],
          "heatmapgl": [
           {
            "colorbar": {
             "outlinewidth": 0,
             "ticks": ""
            },
            "colorscale": [
             [
              0,
              "#0d0887"
             ],
             [
              0.1111111111111111,
              "#46039f"
             ],
             [
              0.2222222222222222,
              "#7201a8"
             ],
             [
              0.3333333333333333,
              "#9c179e"
             ],
             [
              0.4444444444444444,
              "#bd3786"
             ],
             [
              0.5555555555555556,
              "#d8576b"
             ],
             [
              0.6666666666666666,
              "#ed7953"
             ],
             [
              0.7777777777777778,
              "#fb9f3a"
             ],
             [
              0.8888888888888888,
              "#fdca26"
             ],
             [
              1,
              "#f0f921"
             ]
            ],
            "type": "heatmapgl"
           }
          ],
          "histogram": [
           {
            "marker": {
             "pattern": {
              "fillmode": "overlay",
              "size": 10,
              "solidity": 0.2
             }
            },
            "type": "histogram"
           }
          ],
          "histogram2d": [
           {
            "colorbar": {
             "outlinewidth": 0,
             "ticks": ""
            },
            "colorscale": [
             [
              0,
              "#0d0887"
             ],
             [
              0.1111111111111111,
              "#46039f"
             ],
             [
              0.2222222222222222,
              "#7201a8"
             ],
             [
              0.3333333333333333,
              "#9c179e"
             ],
             [
              0.4444444444444444,
              "#bd3786"
             ],
             [
              0.5555555555555556,
              "#d8576b"
             ],
             [
              0.6666666666666666,
              "#ed7953"
             ],
             [
              0.7777777777777778,
              "#fb9f3a"
             ],
             [
              0.8888888888888888,
              "#fdca26"
             ],
             [
              1,
              "#f0f921"
             ]
            ],
            "type": "histogram2d"
           }
          ],
          "histogram2dcontour": [
           {
            "colorbar": {
             "outlinewidth": 0,
             "ticks": ""
            },
            "colorscale": [
             [
              0,
              "#0d0887"
             ],
             [
              0.1111111111111111,
              "#46039f"
             ],
             [
              0.2222222222222222,
              "#7201a8"
             ],
             [
              0.3333333333333333,
              "#9c179e"
             ],
             [
              0.4444444444444444,
              "#bd3786"
             ],
             [
              0.5555555555555556,
              "#d8576b"
             ],
             [
              0.6666666666666666,
              "#ed7953"
             ],
             [
              0.7777777777777778,
              "#fb9f3a"
             ],
             [
              0.8888888888888888,
              "#fdca26"
             ],
             [
              1,
              "#f0f921"
             ]
            ],
            "type": "histogram2dcontour"
           }
          ],
          "mesh3d": [
           {
            "colorbar": {
             "outlinewidth": 0,
             "ticks": ""
            },
            "type": "mesh3d"
           }
          ],
          "parcoords": [
           {
            "line": {
             "colorbar": {
              "outlinewidth": 0,
              "ticks": ""
             }
            },
            "type": "parcoords"
           }
          ],
          "pie": [
           {
            "automargin": true,
            "type": "pie"
           }
          ],
          "scatter": [
           {
            "marker": {
             "colorbar": {
              "outlinewidth": 0,
              "ticks": ""
             }
            },
            "type": "scatter"
           }
          ],
          "scatter3d": [
           {
            "line": {
             "colorbar": {
              "outlinewidth": 0,
              "ticks": ""
             }
            },
            "marker": {
             "colorbar": {
              "outlinewidth": 0,
              "ticks": ""
             }
            },
            "type": "scatter3d"
           }
          ],
          "scattercarpet": [
           {
            "marker": {
             "colorbar": {
              "outlinewidth": 0,
              "ticks": ""
             }
            },
            "type": "scattercarpet"
           }
          ],
          "scattergeo": [
           {
            "marker": {
             "colorbar": {
              "outlinewidth": 0,
              "ticks": ""
             }
            },
            "type": "scattergeo"
           }
          ],
          "scattergl": [
           {
            "marker": {
             "colorbar": {
              "outlinewidth": 0,
              "ticks": ""
             }
            },
            "type": "scattergl"
           }
          ],
          "scattermapbox": [
           {
            "marker": {
             "colorbar": {
              "outlinewidth": 0,
              "ticks": ""
             }
            },
            "type": "scattermapbox"
           }
          ],
          "scatterpolar": [
           {
            "marker": {
             "colorbar": {
              "outlinewidth": 0,
              "ticks": ""
             }
            },
            "type": "scatterpolar"
           }
          ],
          "scatterpolargl": [
           {
            "marker": {
             "colorbar": {
              "outlinewidth": 0,
              "ticks": ""
             }
            },
            "type": "scatterpolargl"
           }
          ],
          "scatterternary": [
           {
            "marker": {
             "colorbar": {
              "outlinewidth": 0,
              "ticks": ""
             }
            },
            "type": "scatterternary"
           }
          ],
          "surface": [
           {
            "colorbar": {
             "outlinewidth": 0,
             "ticks": ""
            },
            "colorscale": [
             [
              0,
              "#0d0887"
             ],
             [
              0.1111111111111111,
              "#46039f"
             ],
             [
              0.2222222222222222,
              "#7201a8"
             ],
             [
              0.3333333333333333,
              "#9c179e"
             ],
             [
              0.4444444444444444,
              "#bd3786"
             ],
             [
              0.5555555555555556,
              "#d8576b"
             ],
             [
              0.6666666666666666,
              "#ed7953"
             ],
             [
              0.7777777777777778,
              "#fb9f3a"
             ],
             [
              0.8888888888888888,
              "#fdca26"
             ],
             [
              1,
              "#f0f921"
             ]
            ],
            "type": "surface"
           }
          ],
          "table": [
           {
            "cells": {
             "fill": {
              "color": "#EBF0F8"
             },
             "line": {
              "color": "white"
             }
            },
            "header": {
             "fill": {
              "color": "#C8D4E3"
             },
             "line": {
              "color": "white"
             }
            },
            "type": "table"
           }
          ]
         },
         "layout": {
          "annotationdefaults": {
           "arrowcolor": "#2a3f5f",
           "arrowhead": 0,
           "arrowwidth": 1
          },
          "autotypenumbers": "strict",
          "coloraxis": {
           "colorbar": {
            "outlinewidth": 0,
            "ticks": ""
           }
          },
          "colorscale": {
           "diverging": [
            [
             0,
             "#8e0152"
            ],
            [
             0.1,
             "#c51b7d"
            ],
            [
             0.2,
             "#de77ae"
            ],
            [
             0.3,
             "#f1b6da"
            ],
            [
             0.4,
             "#fde0ef"
            ],
            [
             0.5,
             "#f7f7f7"
            ],
            [
             0.6,
             "#e6f5d0"
            ],
            [
             0.7,
             "#b8e186"
            ],
            [
             0.8,
             "#7fbc41"
            ],
            [
             0.9,
             "#4d9221"
            ],
            [
             1,
             "#276419"
            ]
           ],
           "sequential": [
            [
             0,
             "#0d0887"
            ],
            [
             0.1111111111111111,
             "#46039f"
            ],
            [
             0.2222222222222222,
             "#7201a8"
            ],
            [
             0.3333333333333333,
             "#9c179e"
            ],
            [
             0.4444444444444444,
             "#bd3786"
            ],
            [
             0.5555555555555556,
             "#d8576b"
            ],
            [
             0.6666666666666666,
             "#ed7953"
            ],
            [
             0.7777777777777778,
             "#fb9f3a"
            ],
            [
             0.8888888888888888,
             "#fdca26"
            ],
            [
             1,
             "#f0f921"
            ]
           ],
           "sequentialminus": [
            [
             0,
             "#0d0887"
            ],
            [
             0.1111111111111111,
             "#46039f"
            ],
            [
             0.2222222222222222,
             "#7201a8"
            ],
            [
             0.3333333333333333,
             "#9c179e"
            ],
            [
             0.4444444444444444,
             "#bd3786"
            ],
            [
             0.5555555555555556,
             "#d8576b"
            ],
            [
             0.6666666666666666,
             "#ed7953"
            ],
            [
             0.7777777777777778,
             "#fb9f3a"
            ],
            [
             0.8888888888888888,
             "#fdca26"
            ],
            [
             1,
             "#f0f921"
            ]
           ]
          },
          "colorway": [
           "#636efa",
           "#EF553B",
           "#00cc96",
           "#ab63fa",
           "#FFA15A",
           "#19d3f3",
           "#FF6692",
           "#B6E880",
           "#FF97FF",
           "#FECB52"
          ],
          "font": {
           "color": "#2a3f5f"
          },
          "geo": {
           "bgcolor": "white",
           "lakecolor": "white",
           "landcolor": "#E5ECF6",
           "showlakes": true,
           "showland": true,
           "subunitcolor": "white"
          },
          "hoverlabel": {
           "align": "left"
          },
          "hovermode": "closest",
          "mapbox": {
           "style": "light"
          },
          "paper_bgcolor": "white",
          "plot_bgcolor": "#E5ECF6",
          "polar": {
           "angularaxis": {
            "gridcolor": "white",
            "linecolor": "white",
            "ticks": ""
           },
           "bgcolor": "#E5ECF6",
           "radialaxis": {
            "gridcolor": "white",
            "linecolor": "white",
            "ticks": ""
           }
          },
          "scene": {
           "xaxis": {
            "backgroundcolor": "#E5ECF6",
            "gridcolor": "white",
            "gridwidth": 2,
            "linecolor": "white",
            "showbackground": true,
            "ticks": "",
            "zerolinecolor": "white"
           },
           "yaxis": {
            "backgroundcolor": "#E5ECF6",
            "gridcolor": "white",
            "gridwidth": 2,
            "linecolor": "white",
            "showbackground": true,
            "ticks": "",
            "zerolinecolor": "white"
           },
           "zaxis": {
            "backgroundcolor": "#E5ECF6",
            "gridcolor": "white",
            "gridwidth": 2,
            "linecolor": "white",
            "showbackground": true,
            "ticks": "",
            "zerolinecolor": "white"
           }
          },
          "shapedefaults": {
           "line": {
            "color": "#2a3f5f"
           }
          },
          "ternary": {
           "aaxis": {
            "gridcolor": "white",
            "linecolor": "white",
            "ticks": ""
           },
           "baxis": {
            "gridcolor": "white",
            "linecolor": "white",
            "ticks": ""
           },
           "bgcolor": "#E5ECF6",
           "caxis": {
            "gridcolor": "white",
            "linecolor": "white",
            "ticks": ""
           }
          },
          "title": {
           "x": 0.05
          },
          "xaxis": {
           "automargin": true,
           "gridcolor": "white",
           "linecolor": "white",
           "ticks": "",
           "title": {
            "standoff": 15
           },
           "zerolinecolor": "white",
           "zerolinewidth": 2
          },
          "yaxis": {
           "automargin": true,
           "gridcolor": "white",
           "linecolor": "white",
           "ticks": "",
           "title": {
            "standoff": 15
           },
           "zerolinecolor": "white",
           "zerolinewidth": 2
          }
         }
        },
        "title": {
         "font": {
          "color": "#4D5663"
         }
        },
        "xaxis": {
         "gridcolor": "#E1E5ED",
         "showgrid": true,
         "tickfont": {
          "color": "#4D5663"
         },
         "title": {
          "font": {
           "color": "#4D5663"
          },
          "text": ""
         },
         "zerolinecolor": "#E1E5ED"
        },
        "yaxis": {
         "gridcolor": "#E1E5ED",
         "showgrid": true,
         "tickfont": {
          "color": "#4D5663"
         },
         "title": {
          "font": {
           "color": "#4D5663"
          },
          "text": ""
         },
         "zerolinecolor": "#E1E5ED"
        }
       }
      },
      "text/html": [
       "<div>                            <div id=\"4f23f354-d505-42e0-a830-9d4e70dfd63d\" class=\"plotly-graph-div\" style=\"height:525px; width:100%;\"></div>            <script type=\"text/javascript\">                require([\"plotly\"], function(Plotly) {                    window.PLOTLYENV=window.PLOTLYENV || {};\n",
       "                    window.PLOTLYENV.BASE_URL='https://plot.ly';                                    if (document.getElementById(\"4f23f354-d505-42e0-a830-9d4e70dfd63d\")) {                    Plotly.newPlot(                        \"4f23f354-d505-42e0-a830-9d4e70dfd63d\",                        [{\"marker\":{\"color\":\"rgba(255, 153, 51, 0.6)\",\"line\":{\"color\":\"rgba(255, 153, 51, 1.0)\",\"width\":1}},\"name\":\"A\",\"orientation\":\"v\",\"text\":\"\",\"type\":\"bar\",\"x\":[0,1,2,3,4,5,6,7,8,9,10,11,12,13,14,15,16,17,18,19,20,21,22,23,24,25,26,27,28,29,30,31,32,33,34,35,36,37,38,39,40,41,42,43,44,45,46,47,48,49,50,51,52,53,54,55,56,57,58,59,60,61,62,63,64,65,66,67,68,69,70,71,72,73,74,75,76,77,78,79,80,81,82,83,84,85,86,87,88,89,90,91,92,93,94,95,96,97,98,99],\"y\":[-1.8146574954917116,-0.8470670293864747,0.01303271026382539,0.5383973904884377,-1.0344275404533527,-0.014481183146433959,-0.08938697687335469,-0.2279462966589887,0.20711360453961028,-0.021592962086997517,-1.3155314021076847,1.0815405437572196,1.0300618169509475,0.419185149550798,-0.282387221331436,0.4500312576732678,-0.4531682811290232,0.803587506618999,0.24305721495871502,-0.5511324389875921,1.0035509726747378,0.9996125889407599,0.8023185895529278,0.04412618305525951,0.25347853157075056,1.2433702729360656,-1.0268712118101342,-1.060853493347942,-1.4957118506802942,-0.6697103466148886,-1.2517310903859882,1.1269441241461,-0.01799070648583695,0.6225295126265604,-0.4841422118182663,-0.11091402155480518,0.07163512965302882,0.017210445925269838,-0.7212961447125448,-1.8978008901658416,0.8265600904352766,0.9174456336264463,0.4434465307912776,-0.26219744713404364,0.9589701267767169,1.74764986708476,-0.7472437061411934,-1.5646976216694992,0.04785949111866218,0.8283250366439685,0.957468433091984,2.1364632752207875,1.0860639175632132,-2.181806151730958,2.4744394822296134,-0.1663691862291363,0.026036996500954954,0.8302626870007996,-0.9761854265625488,-1.4700624675122405,-0.49980681136089544,-0.6258119864619291,-2.295546921184517,-0.46620934106311007,-0.06321021651006506,-1.071106824112718,1.3718316933073766,-1.3723757816199358,0.4086088885911282,1.319008976927655,0.913541436709759,-0.18815365471447887,-0.17921705142587582,0.6699066350545103,-0.002064802276801852,1.2942114117336707,-0.11296231766794987,0.39774871792466554,0.30742295201909836,-0.8901118530424844,-0.8277680267335727,-1.3905943524321405,0.27109582264951154,-1.0402042031067,-0.6180286813831786,1.220731508698079,0.032335660654610215,1.371876469990915,-0.14227284170805551,-0.9293612896411669,0.5245397631247587,-1.3743351885913135,-0.2235602445858731,2.059251878770659,0.16798231879217662,1.2227899126847988,-1.4803029620484407,-0.36259968785276003,1.3847877377348967,-0.7641692991076208]},{\"marker\":{\"color\":\"rgba(55, 128, 191, 0.6)\",\"line\":{\"color\":\"rgba(55, 128, 191, 1.0)\",\"width\":1}},\"name\":\"B\",\"orientation\":\"v\",\"text\":\"\",\"type\":\"bar\",\"x\":[0,1,2,3,4,5,6,7,8,9,10,11,12,13,14,15,16,17,18,19,20,21,22,23,24,25,26,27,28,29,30,31,32,33,34,35,36,37,38,39,40,41,42,43,44,45,46,47,48,49,50,51,52,53,54,55,56,57,58,59,60,61,62,63,64,65,66,67,68,69,70,71,72,73,74,75,76,77,78,79,80,81,82,83,84,85,86,87,88,89,90,91,92,93,94,95,96,97,98,99],\"y\":[-1.172029547175582,0.5708070752516582,-1.6189359028450274,-0.11002177675271357,-0.7698107914177563,-1.130940630137424,0.17137131096691868,0.6093855998569444,-0.5766712870446586,0.028278623704371335,1.0417134140215205,0.9850106390089924,-1.4203954521148767,-1.9950677383175508,-0.5358168691997359,0.9221726549694012,-0.978868200539945,-1.0698989367132654,-0.7517442471000252,1.5009921266616195,-0.9594011879437758,0.7383177651247519,-0.6914555417742713,-0.5645604463737631,-0.26255555518036666,0.8777155862996079,1.3865282543902668,0.6799435355541886,0.05323095752739842,0.36001486015979045,-0.22894012203603628,-0.6795156044467318,1.2460952828340515,0.43535735968925987,0.3893061305644368,-0.5367167845888886,1.0573469657014019,0.8890095994487124,-0.27981206788566115,-0.6408658061031824,1.0689268030832433,-0.263663140711461,-1.099291925128018,-0.16767591466922696,0.006293727405631618,-0.6325869665079422,-0.24941398295327308,0.3873403617527878,-0.41274194917011037,0.9042181661541013,-0.11241915637436253,-0.6437501106513058,-0.8644209188227071,0.6591758567880054,0.47883880247713184,0.42255192025444954,-1.7817407479725722,1.3203352028858883,1.2628178532108998,1.7517319799163185,-0.4582363103517554,1.0900380384519954,-0.3266139438726841,-0.45219001793651076,-0.23519261652283918,0.8935888890760553,0.6793646520505338,1.5196574967862317,-2.214729861015904,-0.5313262036348674,1.0557242631382586,1.2650150885205158,0.9329404701658465,0.461135250913148,0.38979614244120686,0.43916978524637246,-0.28931877608753215,1.424219318771104,-0.12520400381944702,0.07556342057472447,3.0384877076819317,-0.8363985571334522,-0.17957907908262027,-0.2522825766622861,-0.4292949920924141,-0.17825113513031168,-0.8323392351931449,-0.14311320586144974,1.1586212749682163,0.7031277482710866,0.7283866814552401,-0.36341363636003393,-0.50249202020569,-0.637790696427296,0.7987313988057939,0.7668900404860975,0.18460097455726704,-0.13994380894890507,-0.17570422328542692,-0.0892924617474906]},{\"marker\":{\"color\":\"rgba(50, 171, 96, 0.6)\",\"line\":{\"color\":\"rgba(50, 171, 96, 1.0)\",\"width\":1}},\"name\":\"C\",\"orientation\":\"v\",\"text\":\"\",\"type\":\"bar\",\"x\":[0,1,2,3,4,5,6,7,8,9,10,11,12,13,14,15,16,17,18,19,20,21,22,23,24,25,26,27,28,29,30,31,32,33,34,35,36,37,38,39,40,41,42,43,44,45,46,47,48,49,50,51,52,53,54,55,56,57,58,59,60,61,62,63,64,65,66,67,68,69,70,71,72,73,74,75,76,77,78,79,80,81,82,83,84,85,86,87,88,89,90,91,92,93,94,95,96,97,98,99],\"y\":[-0.7814042885776574,-0.6570536191519789,2.756935974954642,0.40640411526447373,-1.1661600882636183,-1.7319247194113332,-0.8582834854399468,-0.2599272786908284,1.7360755434143422,1.5786531315507075,-1.3884984056559986,-0.9599552553338249,-0.44840356873588066,1.577602594296153,-0.7413303063907769,0.07978217388082871,1.1334236144973089,0.04005275647459037,0.47426846858473254,-1.5125383140020334,1.1836398882065546,-1.655257982736034,-0.6678459827819542,-1.0646630488364337,-2.1985118348722743,-1.4721672819356348,-0.43529185493633754,0.184625824160237,1.2558857905135954,1.066154950124663,0.3832425621392652,-1.4523759957345912,-0.2051660906118652,0.35551987855421785,-0.30223502738920477,-1.018321256870088,-0.4340258627669384,-0.48994037492369374,0.5956093622634703,1.3856894338576555,0.213157358163665,-0.4014107945709725,-0.48269888616653706,0.6667909746158834,0.5913957004248953,0.04799024976186377,0.051197478704545,0.6382965000056416,0.20509704448072003,-1.1117586001713273,1.3888719657510793,0.07217285939900908,-0.2945588763918421,0.5168861665615841,-0.6251660870185811,1.4332674057800763,0.9757712584136982,0.14004428873044147,1.6968745372550422,0.15393239387588767,-0.16579606700815497,-1.7213520313954411,0.3795671005742294,1.2025115572362062,-0.7976964428301118,-0.47628753584306494,1.1958187172147259,1.9066703315574713,-0.6533606217297846,0.39576963327645487,-0.2390445817514245,2.3148742446434785,1.067972948977482,1.2614749483899448,0.9942749693146312,-1.3424003772797393,-1.1242661810310575,1.0406330138095752,-1.0216955896433741,-1.4049579532544616,-0.9802632873960898,0.8742399114585363,1.48576506842584,0.1042707494428018,0.20041088926857803,-0.956211435704891,-1.9710498525833182,-1.0345139775445806,-0.1800008951912733,0.351257683643523,0.3024100991431864,-0.21635476842713608,0.5575364674231739,-1.9465621806281679,2.295967700230583,-1.3827164062386463,0.7225105798772864,-0.690684329795509,-0.6288018267318949,-1.5498246177467476]},{\"marker\":{\"color\":\"rgba(128, 0, 128, 0.6)\",\"line\":{\"color\":\"rgba(128, 0, 128, 1.0)\",\"width\":1}},\"name\":\"D\",\"orientation\":\"v\",\"text\":\"\",\"type\":\"bar\",\"x\":[0,1,2,3,4,5,6,7,8,9,10,11,12,13,14,15,16,17,18,19,20,21,22,23,24,25,26,27,28,29,30,31,32,33,34,35,36,37,38,39,40,41,42,43,44,45,46,47,48,49,50,51,52,53,54,55,56,57,58,59,60,61,62,63,64,65,66,67,68,69,70,71,72,73,74,75,76,77,78,79,80,81,82,83,84,85,86,87,88,89,90,91,92,93,94,95,96,97,98,99],\"y\":[0.2442434132814181,-0.5288050979965271,3.5286069369247066,1.1633222576478004,-0.6322690517714941,0.05497912906308278,0.9550602068239482,0.920340660599762,0.11135409926562147,0.1102074971249416,-0.18831856651127835,0.6736162474135285,1.4013852295315534,-0.11332390833616546,0.8102626289074134,-1.4855274001513237,-0.4529990867187134,-0.1376020867578222,1.2220039270912995,0.07708827827983968,2.1788568035788054,-0.41752035108871394,1.3001513770740378,-0.8931489221320447,-0.9662888770849758,0.7553808389093509,0.575221329739446,-2.3771833588718825,-0.6286843831580169,-0.708788628211804,-1.9490447019670933,0.2581687538237965,-0.3754372305567602,-0.8275638223051003,1.2152658733365742,-0.7085614258385646,-0.821204339801809,0.5085838971637473,-1.0298963845254674,0.8447200248123172,-0.6227969331208381,2.171572940144113,-0.7563405053355937,-0.10072862077963562,0.22836653470441506,-1.6365890983916749,-0.5110429104659345,1.061768604686841,-1.4618970548187755,-0.5161657699203809,0.09667969956102576,1.4812496378551316,1.1531243383840795,-1.6648200050136748,-0.07080123212525125,0.19451036992885903,2.693408417718509,-0.6240473492683131,-1.0539464252685977,-1.6665164532431795,-0.8402034894179713,-1.880812619358926,0.02119642042380144,0.01272071264962929,-0.30564084654790624,-0.04365957196668113,0.3009770956400371,0.9365741437593206,0.5643865442504427,-0.03476546700733019,-0.8761418478301107,-1.315064357093031,0.8135815761492984,0.9870185821696303,2.6951928280685213,1.0486360366949183,0.14571864577442104,0.7326179956848412,-1.6866076097597424,-1.8601398011097965,0.35264842683699377,0.7772706242648951,-1.1060318653417003,1.1657731714440094,-0.10068988564942408,-0.3279123330038592,0.2899933480616966,0.4890407354645279,0.36094480565240344,-1.7686717511804286,0.8419231380402565,-0.32485386844412956,0.45133231524155376,0.3537891733265878,0.8636363927942637,-0.6457113752742918,0.8423662574923896,1.2696703612760782,-0.6114432575514193,-2.0059369005142194]}],                        {\"legend\":{\"bgcolor\":\"#F5F6F9\",\"font\":{\"color\":\"#4D5663\"}},\"paper_bgcolor\":\"#F5F6F9\",\"plot_bgcolor\":\"#F5F6F9\",\"template\":{\"data\":{\"bar\":[{\"error_x\":{\"color\":\"#2a3f5f\"},\"error_y\":{\"color\":\"#2a3f5f\"},\"marker\":{\"line\":{\"color\":\"#E5ECF6\",\"width\":0.5},\"pattern\":{\"fillmode\":\"overlay\",\"size\":10,\"solidity\":0.2}},\"type\":\"bar\"}],\"barpolar\":[{\"marker\":{\"line\":{\"color\":\"#E5ECF6\",\"width\":0.5},\"pattern\":{\"fillmode\":\"overlay\",\"size\":10,\"solidity\":0.2}},\"type\":\"barpolar\"}],\"carpet\":[{\"aaxis\":{\"endlinecolor\":\"#2a3f5f\",\"gridcolor\":\"white\",\"linecolor\":\"white\",\"minorgridcolor\":\"white\",\"startlinecolor\":\"#2a3f5f\"},\"baxis\":{\"endlinecolor\":\"#2a3f5f\",\"gridcolor\":\"white\",\"linecolor\":\"white\",\"minorgridcolor\":\"white\",\"startlinecolor\":\"#2a3f5f\"},\"type\":\"carpet\"}],\"choropleth\":[{\"colorbar\":{\"outlinewidth\":0,\"ticks\":\"\"},\"type\":\"choropleth\"}],\"contour\":[{\"colorbar\":{\"outlinewidth\":0,\"ticks\":\"\"},\"colorscale\":[[0.0,\"#0d0887\"],[0.1111111111111111,\"#46039f\"],[0.2222222222222222,\"#7201a8\"],[0.3333333333333333,\"#9c179e\"],[0.4444444444444444,\"#bd3786\"],[0.5555555555555556,\"#d8576b\"],[0.6666666666666666,\"#ed7953\"],[0.7777777777777778,\"#fb9f3a\"],[0.8888888888888888,\"#fdca26\"],[1.0,\"#f0f921\"]],\"type\":\"contour\"}],\"contourcarpet\":[{\"colorbar\":{\"outlinewidth\":0,\"ticks\":\"\"},\"type\":\"contourcarpet\"}],\"heatmap\":[{\"colorbar\":{\"outlinewidth\":0,\"ticks\":\"\"},\"colorscale\":[[0.0,\"#0d0887\"],[0.1111111111111111,\"#46039f\"],[0.2222222222222222,\"#7201a8\"],[0.3333333333333333,\"#9c179e\"],[0.4444444444444444,\"#bd3786\"],[0.5555555555555556,\"#d8576b\"],[0.6666666666666666,\"#ed7953\"],[0.7777777777777778,\"#fb9f3a\"],[0.8888888888888888,\"#fdca26\"],[1.0,\"#f0f921\"]],\"type\":\"heatmap\"}],\"heatmapgl\":[{\"colorbar\":{\"outlinewidth\":0,\"ticks\":\"\"},\"colorscale\":[[0.0,\"#0d0887\"],[0.1111111111111111,\"#46039f\"],[0.2222222222222222,\"#7201a8\"],[0.3333333333333333,\"#9c179e\"],[0.4444444444444444,\"#bd3786\"],[0.5555555555555556,\"#d8576b\"],[0.6666666666666666,\"#ed7953\"],[0.7777777777777778,\"#fb9f3a\"],[0.8888888888888888,\"#fdca26\"],[1.0,\"#f0f921\"]],\"type\":\"heatmapgl\"}],\"histogram\":[{\"marker\":{\"pattern\":{\"fillmode\":\"overlay\",\"size\":10,\"solidity\":0.2}},\"type\":\"histogram\"}],\"histogram2d\":[{\"colorbar\":{\"outlinewidth\":0,\"ticks\":\"\"},\"colorscale\":[[0.0,\"#0d0887\"],[0.1111111111111111,\"#46039f\"],[0.2222222222222222,\"#7201a8\"],[0.3333333333333333,\"#9c179e\"],[0.4444444444444444,\"#bd3786\"],[0.5555555555555556,\"#d8576b\"],[0.6666666666666666,\"#ed7953\"],[0.7777777777777778,\"#fb9f3a\"],[0.8888888888888888,\"#fdca26\"],[1.0,\"#f0f921\"]],\"type\":\"histogram2d\"}],\"histogram2dcontour\":[{\"colorbar\":{\"outlinewidth\":0,\"ticks\":\"\"},\"colorscale\":[[0.0,\"#0d0887\"],[0.1111111111111111,\"#46039f\"],[0.2222222222222222,\"#7201a8\"],[0.3333333333333333,\"#9c179e\"],[0.4444444444444444,\"#bd3786\"],[0.5555555555555556,\"#d8576b\"],[0.6666666666666666,\"#ed7953\"],[0.7777777777777778,\"#fb9f3a\"],[0.8888888888888888,\"#fdca26\"],[1.0,\"#f0f921\"]],\"type\":\"histogram2dcontour\"}],\"mesh3d\":[{\"colorbar\":{\"outlinewidth\":0,\"ticks\":\"\"},\"type\":\"mesh3d\"}],\"parcoords\":[{\"line\":{\"colorbar\":{\"outlinewidth\":0,\"ticks\":\"\"}},\"type\":\"parcoords\"}],\"pie\":[{\"automargin\":true,\"type\":\"pie\"}],\"scatter\":[{\"marker\":{\"colorbar\":{\"outlinewidth\":0,\"ticks\":\"\"}},\"type\":\"scatter\"}],\"scatter3d\":[{\"line\":{\"colorbar\":{\"outlinewidth\":0,\"ticks\":\"\"}},\"marker\":{\"colorbar\":{\"outlinewidth\":0,\"ticks\":\"\"}},\"type\":\"scatter3d\"}],\"scattercarpet\":[{\"marker\":{\"colorbar\":{\"outlinewidth\":0,\"ticks\":\"\"}},\"type\":\"scattercarpet\"}],\"scattergeo\":[{\"marker\":{\"colorbar\":{\"outlinewidth\":0,\"ticks\":\"\"}},\"type\":\"scattergeo\"}],\"scattergl\":[{\"marker\":{\"colorbar\":{\"outlinewidth\":0,\"ticks\":\"\"}},\"type\":\"scattergl\"}],\"scattermapbox\":[{\"marker\":{\"colorbar\":{\"outlinewidth\":0,\"ticks\":\"\"}},\"type\":\"scattermapbox\"}],\"scatterpolar\":[{\"marker\":{\"colorbar\":{\"outlinewidth\":0,\"ticks\":\"\"}},\"type\":\"scatterpolar\"}],\"scatterpolargl\":[{\"marker\":{\"colorbar\":{\"outlinewidth\":0,\"ticks\":\"\"}},\"type\":\"scatterpolargl\"}],\"scatterternary\":[{\"marker\":{\"colorbar\":{\"outlinewidth\":0,\"ticks\":\"\"}},\"type\":\"scatterternary\"}],\"surface\":[{\"colorbar\":{\"outlinewidth\":0,\"ticks\":\"\"},\"colorscale\":[[0.0,\"#0d0887\"],[0.1111111111111111,\"#46039f\"],[0.2222222222222222,\"#7201a8\"],[0.3333333333333333,\"#9c179e\"],[0.4444444444444444,\"#bd3786\"],[0.5555555555555556,\"#d8576b\"],[0.6666666666666666,\"#ed7953\"],[0.7777777777777778,\"#fb9f3a\"],[0.8888888888888888,\"#fdca26\"],[1.0,\"#f0f921\"]],\"type\":\"surface\"}],\"table\":[{\"cells\":{\"fill\":{\"color\":\"#EBF0F8\"},\"line\":{\"color\":\"white\"}},\"header\":{\"fill\":{\"color\":\"#C8D4E3\"},\"line\":{\"color\":\"white\"}},\"type\":\"table\"}]},\"layout\":{\"annotationdefaults\":{\"arrowcolor\":\"#2a3f5f\",\"arrowhead\":0,\"arrowwidth\":1},\"autotypenumbers\":\"strict\",\"coloraxis\":{\"colorbar\":{\"outlinewidth\":0,\"ticks\":\"\"}},\"colorscale\":{\"diverging\":[[0,\"#8e0152\"],[0.1,\"#c51b7d\"],[0.2,\"#de77ae\"],[0.3,\"#f1b6da\"],[0.4,\"#fde0ef\"],[0.5,\"#f7f7f7\"],[0.6,\"#e6f5d0\"],[0.7,\"#b8e186\"],[0.8,\"#7fbc41\"],[0.9,\"#4d9221\"],[1,\"#276419\"]],\"sequential\":[[0.0,\"#0d0887\"],[0.1111111111111111,\"#46039f\"],[0.2222222222222222,\"#7201a8\"],[0.3333333333333333,\"#9c179e\"],[0.4444444444444444,\"#bd3786\"],[0.5555555555555556,\"#d8576b\"],[0.6666666666666666,\"#ed7953\"],[0.7777777777777778,\"#fb9f3a\"],[0.8888888888888888,\"#fdca26\"],[1.0,\"#f0f921\"]],\"sequentialminus\":[[0.0,\"#0d0887\"],[0.1111111111111111,\"#46039f\"],[0.2222222222222222,\"#7201a8\"],[0.3333333333333333,\"#9c179e\"],[0.4444444444444444,\"#bd3786\"],[0.5555555555555556,\"#d8576b\"],[0.6666666666666666,\"#ed7953\"],[0.7777777777777778,\"#fb9f3a\"],[0.8888888888888888,\"#fdca26\"],[1.0,\"#f0f921\"]]},\"colorway\":[\"#636efa\",\"#EF553B\",\"#00cc96\",\"#ab63fa\",\"#FFA15A\",\"#19d3f3\",\"#FF6692\",\"#B6E880\",\"#FF97FF\",\"#FECB52\"],\"font\":{\"color\":\"#2a3f5f\"},\"geo\":{\"bgcolor\":\"white\",\"lakecolor\":\"white\",\"landcolor\":\"#E5ECF6\",\"showlakes\":true,\"showland\":true,\"subunitcolor\":\"white\"},\"hoverlabel\":{\"align\":\"left\"},\"hovermode\":\"closest\",\"mapbox\":{\"style\":\"light\"},\"paper_bgcolor\":\"white\",\"plot_bgcolor\":\"#E5ECF6\",\"polar\":{\"angularaxis\":{\"gridcolor\":\"white\",\"linecolor\":\"white\",\"ticks\":\"\"},\"bgcolor\":\"#E5ECF6\",\"radialaxis\":{\"gridcolor\":\"white\",\"linecolor\":\"white\",\"ticks\":\"\"}},\"scene\":{\"xaxis\":{\"backgroundcolor\":\"#E5ECF6\",\"gridcolor\":\"white\",\"gridwidth\":2,\"linecolor\":\"white\",\"showbackground\":true,\"ticks\":\"\",\"zerolinecolor\":\"white\"},\"yaxis\":{\"backgroundcolor\":\"#E5ECF6\",\"gridcolor\":\"white\",\"gridwidth\":2,\"linecolor\":\"white\",\"showbackground\":true,\"ticks\":\"\",\"zerolinecolor\":\"white\"},\"zaxis\":{\"backgroundcolor\":\"#E5ECF6\",\"gridcolor\":\"white\",\"gridwidth\":2,\"linecolor\":\"white\",\"showbackground\":true,\"ticks\":\"\",\"zerolinecolor\":\"white\"}},\"shapedefaults\":{\"line\":{\"color\":\"#2a3f5f\"}},\"ternary\":{\"aaxis\":{\"gridcolor\":\"white\",\"linecolor\":\"white\",\"ticks\":\"\"},\"baxis\":{\"gridcolor\":\"white\",\"linecolor\":\"white\",\"ticks\":\"\"},\"bgcolor\":\"#E5ECF6\",\"caxis\":{\"gridcolor\":\"white\",\"linecolor\":\"white\",\"ticks\":\"\"}},\"title\":{\"x\":0.05},\"xaxis\":{\"automargin\":true,\"gridcolor\":\"white\",\"linecolor\":\"white\",\"ticks\":\"\",\"title\":{\"standoff\":15},\"zerolinecolor\":\"white\",\"zerolinewidth\":2},\"yaxis\":{\"automargin\":true,\"gridcolor\":\"white\",\"linecolor\":\"white\",\"ticks\":\"\",\"title\":{\"standoff\":15},\"zerolinecolor\":\"white\",\"zerolinewidth\":2}}},\"title\":{\"font\":{\"color\":\"#4D5663\"}},\"xaxis\":{\"gridcolor\":\"#E1E5ED\",\"showgrid\":true,\"tickfont\":{\"color\":\"#4D5663\"},\"title\":{\"font\":{\"color\":\"#4D5663\"},\"text\":\"\"},\"zerolinecolor\":\"#E1E5ED\"},\"yaxis\":{\"gridcolor\":\"#E1E5ED\",\"showgrid\":true,\"tickfont\":{\"color\":\"#4D5663\"},\"title\":{\"font\":{\"color\":\"#4D5663\"},\"text\":\"\"},\"zerolinecolor\":\"#E1E5ED\"}},                        {\"showLink\": true, \"linkText\": \"Export to plot.ly\", \"plotlyServerURL\": \"https://plot.ly\", \"responsive\": true}                    ).then(function(){\n",
       "                            \n",
       "var gd = document.getElementById('4f23f354-d505-42e0-a830-9d4e70dfd63d');\n",
       "var x = new MutationObserver(function (mutations, observer) {{\n",
       "        var display = window.getComputedStyle(gd).display;\n",
       "        if (!display || display === 'none') {{\n",
       "            console.log([gd, 'removed!']);\n",
       "            Plotly.purge(gd);\n",
       "            observer.disconnect();\n",
       "        }}\n",
       "}});\n",
       "\n",
       "// Listen for the removal of the full notebook cells\n",
       "var notebookContainer = gd.closest('#notebook-container');\n",
       "if (notebookContainer) {{\n",
       "    x.observe(notebookContainer, {childList: true});\n",
       "}}\n",
       "\n",
       "// Listen for the clearing of the current output cell\n",
       "var outputEl = gd.closest('.output');\n",
       "if (outputEl) {{\n",
       "    x.observe(outputEl, {childList: true});\n",
       "}}\n",
       "\n",
       "                        })                };                });            </script>        </div>"
      ]
     },
     "metadata": {},
     "output_type": "display_data"
    }
   ],
   "source": [
    "df.iplot(kind='bar')"
   ]
  },
  {
   "cell_type": "code",
   "execution_count": 68,
   "id": "b0049d19",
   "metadata": {},
   "outputs": [
    {
     "data": {
      "application/vnd.plotly.v1+json": {
       "config": {
        "linkText": "Export to plot.ly",
        "plotlyServerURL": "https://plot.ly",
        "showLink": true
       },
       "data": [
        {
         "marker": {
          "color": "rgba(255, 153, 51, 0.6)",
          "line": {
           "color": "rgba(255, 153, 51, 1.0)",
           "width": 1
          }
         },
         "name": "None",
         "orientation": "v",
         "text": "",
         "type": "bar",
         "x": [
          "A",
          "B",
          "C",
          "D"
         ],
         "y": [
          100,
          100,
          100,
          100
         ]
        }
       ],
       "layout": {
        "legend": {
         "bgcolor": "#F5F6F9",
         "font": {
          "color": "#4D5663"
         }
        },
        "paper_bgcolor": "#F5F6F9",
        "plot_bgcolor": "#F5F6F9",
        "template": {
         "data": {
          "bar": [
           {
            "error_x": {
             "color": "#2a3f5f"
            },
            "error_y": {
             "color": "#2a3f5f"
            },
            "marker": {
             "line": {
              "color": "#E5ECF6",
              "width": 0.5
             },
             "pattern": {
              "fillmode": "overlay",
              "size": 10,
              "solidity": 0.2
             }
            },
            "type": "bar"
           }
          ],
          "barpolar": [
           {
            "marker": {
             "line": {
              "color": "#E5ECF6",
              "width": 0.5
             },
             "pattern": {
              "fillmode": "overlay",
              "size": 10,
              "solidity": 0.2
             }
            },
            "type": "barpolar"
           }
          ],
          "carpet": [
           {
            "aaxis": {
             "endlinecolor": "#2a3f5f",
             "gridcolor": "white",
             "linecolor": "white",
             "minorgridcolor": "white",
             "startlinecolor": "#2a3f5f"
            },
            "baxis": {
             "endlinecolor": "#2a3f5f",
             "gridcolor": "white",
             "linecolor": "white",
             "minorgridcolor": "white",
             "startlinecolor": "#2a3f5f"
            },
            "type": "carpet"
           }
          ],
          "choropleth": [
           {
            "colorbar": {
             "outlinewidth": 0,
             "ticks": ""
            },
            "type": "choropleth"
           }
          ],
          "contour": [
           {
            "colorbar": {
             "outlinewidth": 0,
             "ticks": ""
            },
            "colorscale": [
             [
              0,
              "#0d0887"
             ],
             [
              0.1111111111111111,
              "#46039f"
             ],
             [
              0.2222222222222222,
              "#7201a8"
             ],
             [
              0.3333333333333333,
              "#9c179e"
             ],
             [
              0.4444444444444444,
              "#bd3786"
             ],
             [
              0.5555555555555556,
              "#d8576b"
             ],
             [
              0.6666666666666666,
              "#ed7953"
             ],
             [
              0.7777777777777778,
              "#fb9f3a"
             ],
             [
              0.8888888888888888,
              "#fdca26"
             ],
             [
              1,
              "#f0f921"
             ]
            ],
            "type": "contour"
           }
          ],
          "contourcarpet": [
           {
            "colorbar": {
             "outlinewidth": 0,
             "ticks": ""
            },
            "type": "contourcarpet"
           }
          ],
          "heatmap": [
           {
            "colorbar": {
             "outlinewidth": 0,
             "ticks": ""
            },
            "colorscale": [
             [
              0,
              "#0d0887"
             ],
             [
              0.1111111111111111,
              "#46039f"
             ],
             [
              0.2222222222222222,
              "#7201a8"
             ],
             [
              0.3333333333333333,
              "#9c179e"
             ],
             [
              0.4444444444444444,
              "#bd3786"
             ],
             [
              0.5555555555555556,
              "#d8576b"
             ],
             [
              0.6666666666666666,
              "#ed7953"
             ],
             [
              0.7777777777777778,
              "#fb9f3a"
             ],
             [
              0.8888888888888888,
              "#fdca26"
             ],
             [
              1,
              "#f0f921"
             ]
            ],
            "type": "heatmap"
           }
          ],
          "heatmapgl": [
           {
            "colorbar": {
             "outlinewidth": 0,
             "ticks": ""
            },
            "colorscale": [
             [
              0,
              "#0d0887"
             ],
             [
              0.1111111111111111,
              "#46039f"
             ],
             [
              0.2222222222222222,
              "#7201a8"
             ],
             [
              0.3333333333333333,
              "#9c179e"
             ],
             [
              0.4444444444444444,
              "#bd3786"
             ],
             [
              0.5555555555555556,
              "#d8576b"
             ],
             [
              0.6666666666666666,
              "#ed7953"
             ],
             [
              0.7777777777777778,
              "#fb9f3a"
             ],
             [
              0.8888888888888888,
              "#fdca26"
             ],
             [
              1,
              "#f0f921"
             ]
            ],
            "type": "heatmapgl"
           }
          ],
          "histogram": [
           {
            "marker": {
             "pattern": {
              "fillmode": "overlay",
              "size": 10,
              "solidity": 0.2
             }
            },
            "type": "histogram"
           }
          ],
          "histogram2d": [
           {
            "colorbar": {
             "outlinewidth": 0,
             "ticks": ""
            },
            "colorscale": [
             [
              0,
              "#0d0887"
             ],
             [
              0.1111111111111111,
              "#46039f"
             ],
             [
              0.2222222222222222,
              "#7201a8"
             ],
             [
              0.3333333333333333,
              "#9c179e"
             ],
             [
              0.4444444444444444,
              "#bd3786"
             ],
             [
              0.5555555555555556,
              "#d8576b"
             ],
             [
              0.6666666666666666,
              "#ed7953"
             ],
             [
              0.7777777777777778,
              "#fb9f3a"
             ],
             [
              0.8888888888888888,
              "#fdca26"
             ],
             [
              1,
              "#f0f921"
             ]
            ],
            "type": "histogram2d"
           }
          ],
          "histogram2dcontour": [
           {
            "colorbar": {
             "outlinewidth": 0,
             "ticks": ""
            },
            "colorscale": [
             [
              0,
              "#0d0887"
             ],
             [
              0.1111111111111111,
              "#46039f"
             ],
             [
              0.2222222222222222,
              "#7201a8"
             ],
             [
              0.3333333333333333,
              "#9c179e"
             ],
             [
              0.4444444444444444,
              "#bd3786"
             ],
             [
              0.5555555555555556,
              "#d8576b"
             ],
             [
              0.6666666666666666,
              "#ed7953"
             ],
             [
              0.7777777777777778,
              "#fb9f3a"
             ],
             [
              0.8888888888888888,
              "#fdca26"
             ],
             [
              1,
              "#f0f921"
             ]
            ],
            "type": "histogram2dcontour"
           }
          ],
          "mesh3d": [
           {
            "colorbar": {
             "outlinewidth": 0,
             "ticks": ""
            },
            "type": "mesh3d"
           }
          ],
          "parcoords": [
           {
            "line": {
             "colorbar": {
              "outlinewidth": 0,
              "ticks": ""
             }
            },
            "type": "parcoords"
           }
          ],
          "pie": [
           {
            "automargin": true,
            "type": "pie"
           }
          ],
          "scatter": [
           {
            "marker": {
             "colorbar": {
              "outlinewidth": 0,
              "ticks": ""
             }
            },
            "type": "scatter"
           }
          ],
          "scatter3d": [
           {
            "line": {
             "colorbar": {
              "outlinewidth": 0,
              "ticks": ""
             }
            },
            "marker": {
             "colorbar": {
              "outlinewidth": 0,
              "ticks": ""
             }
            },
            "type": "scatter3d"
           }
          ],
          "scattercarpet": [
           {
            "marker": {
             "colorbar": {
              "outlinewidth": 0,
              "ticks": ""
             }
            },
            "type": "scattercarpet"
           }
          ],
          "scattergeo": [
           {
            "marker": {
             "colorbar": {
              "outlinewidth": 0,
              "ticks": ""
             }
            },
            "type": "scattergeo"
           }
          ],
          "scattergl": [
           {
            "marker": {
             "colorbar": {
              "outlinewidth": 0,
              "ticks": ""
             }
            },
            "type": "scattergl"
           }
          ],
          "scattermapbox": [
           {
            "marker": {
             "colorbar": {
              "outlinewidth": 0,
              "ticks": ""
             }
            },
            "type": "scattermapbox"
           }
          ],
          "scatterpolar": [
           {
            "marker": {
             "colorbar": {
              "outlinewidth": 0,
              "ticks": ""
             }
            },
            "type": "scatterpolar"
           }
          ],
          "scatterpolargl": [
           {
            "marker": {
             "colorbar": {
              "outlinewidth": 0,
              "ticks": ""
             }
            },
            "type": "scatterpolargl"
           }
          ],
          "scatterternary": [
           {
            "marker": {
             "colorbar": {
              "outlinewidth": 0,
              "ticks": ""
             }
            },
            "type": "scatterternary"
           }
          ],
          "surface": [
           {
            "colorbar": {
             "outlinewidth": 0,
             "ticks": ""
            },
            "colorscale": [
             [
              0,
              "#0d0887"
             ],
             [
              0.1111111111111111,
              "#46039f"
             ],
             [
              0.2222222222222222,
              "#7201a8"
             ],
             [
              0.3333333333333333,
              "#9c179e"
             ],
             [
              0.4444444444444444,
              "#bd3786"
             ],
             [
              0.5555555555555556,
              "#d8576b"
             ],
             [
              0.6666666666666666,
              "#ed7953"
             ],
             [
              0.7777777777777778,
              "#fb9f3a"
             ],
             [
              0.8888888888888888,
              "#fdca26"
             ],
             [
              1,
              "#f0f921"
             ]
            ],
            "type": "surface"
           }
          ],
          "table": [
           {
            "cells": {
             "fill": {
              "color": "#EBF0F8"
             },
             "line": {
              "color": "white"
             }
            },
            "header": {
             "fill": {
              "color": "#C8D4E3"
             },
             "line": {
              "color": "white"
             }
            },
            "type": "table"
           }
          ]
         },
         "layout": {
          "annotationdefaults": {
           "arrowcolor": "#2a3f5f",
           "arrowhead": 0,
           "arrowwidth": 1
          },
          "autotypenumbers": "strict",
          "coloraxis": {
           "colorbar": {
            "outlinewidth": 0,
            "ticks": ""
           }
          },
          "colorscale": {
           "diverging": [
            [
             0,
             "#8e0152"
            ],
            [
             0.1,
             "#c51b7d"
            ],
            [
             0.2,
             "#de77ae"
            ],
            [
             0.3,
             "#f1b6da"
            ],
            [
             0.4,
             "#fde0ef"
            ],
            [
             0.5,
             "#f7f7f7"
            ],
            [
             0.6,
             "#e6f5d0"
            ],
            [
             0.7,
             "#b8e186"
            ],
            [
             0.8,
             "#7fbc41"
            ],
            [
             0.9,
             "#4d9221"
            ],
            [
             1,
             "#276419"
            ]
           ],
           "sequential": [
            [
             0,
             "#0d0887"
            ],
            [
             0.1111111111111111,
             "#46039f"
            ],
            [
             0.2222222222222222,
             "#7201a8"
            ],
            [
             0.3333333333333333,
             "#9c179e"
            ],
            [
             0.4444444444444444,
             "#bd3786"
            ],
            [
             0.5555555555555556,
             "#d8576b"
            ],
            [
             0.6666666666666666,
             "#ed7953"
            ],
            [
             0.7777777777777778,
             "#fb9f3a"
            ],
            [
             0.8888888888888888,
             "#fdca26"
            ],
            [
             1,
             "#f0f921"
            ]
           ],
           "sequentialminus": [
            [
             0,
             "#0d0887"
            ],
            [
             0.1111111111111111,
             "#46039f"
            ],
            [
             0.2222222222222222,
             "#7201a8"
            ],
            [
             0.3333333333333333,
             "#9c179e"
            ],
            [
             0.4444444444444444,
             "#bd3786"
            ],
            [
             0.5555555555555556,
             "#d8576b"
            ],
            [
             0.6666666666666666,
             "#ed7953"
            ],
            [
             0.7777777777777778,
             "#fb9f3a"
            ],
            [
             0.8888888888888888,
             "#fdca26"
            ],
            [
             1,
             "#f0f921"
            ]
           ]
          },
          "colorway": [
           "#636efa",
           "#EF553B",
           "#00cc96",
           "#ab63fa",
           "#FFA15A",
           "#19d3f3",
           "#FF6692",
           "#B6E880",
           "#FF97FF",
           "#FECB52"
          ],
          "font": {
           "color": "#2a3f5f"
          },
          "geo": {
           "bgcolor": "white",
           "lakecolor": "white",
           "landcolor": "#E5ECF6",
           "showlakes": true,
           "showland": true,
           "subunitcolor": "white"
          },
          "hoverlabel": {
           "align": "left"
          },
          "hovermode": "closest",
          "mapbox": {
           "style": "light"
          },
          "paper_bgcolor": "white",
          "plot_bgcolor": "#E5ECF6",
          "polar": {
           "angularaxis": {
            "gridcolor": "white",
            "linecolor": "white",
            "ticks": ""
           },
           "bgcolor": "#E5ECF6",
           "radialaxis": {
            "gridcolor": "white",
            "linecolor": "white",
            "ticks": ""
           }
          },
          "scene": {
           "xaxis": {
            "backgroundcolor": "#E5ECF6",
            "gridcolor": "white",
            "gridwidth": 2,
            "linecolor": "white",
            "showbackground": true,
            "ticks": "",
            "zerolinecolor": "white"
           },
           "yaxis": {
            "backgroundcolor": "#E5ECF6",
            "gridcolor": "white",
            "gridwidth": 2,
            "linecolor": "white",
            "showbackground": true,
            "ticks": "",
            "zerolinecolor": "white"
           },
           "zaxis": {
            "backgroundcolor": "#E5ECF6",
            "gridcolor": "white",
            "gridwidth": 2,
            "linecolor": "white",
            "showbackground": true,
            "ticks": "",
            "zerolinecolor": "white"
           }
          },
          "shapedefaults": {
           "line": {
            "color": "#2a3f5f"
           }
          },
          "ternary": {
           "aaxis": {
            "gridcolor": "white",
            "linecolor": "white",
            "ticks": ""
           },
           "baxis": {
            "gridcolor": "white",
            "linecolor": "white",
            "ticks": ""
           },
           "bgcolor": "#E5ECF6",
           "caxis": {
            "gridcolor": "white",
            "linecolor": "white",
            "ticks": ""
           }
          },
          "title": {
           "x": 0.05
          },
          "xaxis": {
           "automargin": true,
           "gridcolor": "white",
           "linecolor": "white",
           "ticks": "",
           "title": {
            "standoff": 15
           },
           "zerolinecolor": "white",
           "zerolinewidth": 2
          },
          "yaxis": {
           "automargin": true,
           "gridcolor": "white",
           "linecolor": "white",
           "ticks": "",
           "title": {
            "standoff": 15
           },
           "zerolinecolor": "white",
           "zerolinewidth": 2
          }
         }
        },
        "title": {
         "font": {
          "color": "#4D5663"
         }
        },
        "xaxis": {
         "gridcolor": "#E1E5ED",
         "showgrid": true,
         "tickfont": {
          "color": "#4D5663"
         },
         "title": {
          "font": {
           "color": "#4D5663"
          },
          "text": ""
         },
         "zerolinecolor": "#E1E5ED"
        },
        "yaxis": {
         "gridcolor": "#E1E5ED",
         "showgrid": true,
         "tickfont": {
          "color": "#4D5663"
         },
         "title": {
          "font": {
           "color": "#4D5663"
          },
          "text": ""
         },
         "zerolinecolor": "#E1E5ED"
        }
       }
      },
      "text/html": [
       "<div>                            <div id=\"7659a034-98bd-4d02-a31b-6c79eebe4fa8\" class=\"plotly-graph-div\" style=\"height:525px; width:100%;\"></div>            <script type=\"text/javascript\">                require([\"plotly\"], function(Plotly) {                    window.PLOTLYENV=window.PLOTLYENV || {};\n",
       "                    window.PLOTLYENV.BASE_URL='https://plot.ly';                                    if (document.getElementById(\"7659a034-98bd-4d02-a31b-6c79eebe4fa8\")) {                    Plotly.newPlot(                        \"7659a034-98bd-4d02-a31b-6c79eebe4fa8\",                        [{\"marker\":{\"color\":\"rgba(255, 153, 51, 0.6)\",\"line\":{\"color\":\"rgba(255, 153, 51, 1.0)\",\"width\":1}},\"name\":\"None\",\"orientation\":\"v\",\"text\":\"\",\"type\":\"bar\",\"x\":[\"A\",\"B\",\"C\",\"D\"],\"y\":[100,100,100,100]}],                        {\"legend\":{\"bgcolor\":\"#F5F6F9\",\"font\":{\"color\":\"#4D5663\"}},\"paper_bgcolor\":\"#F5F6F9\",\"plot_bgcolor\":\"#F5F6F9\",\"template\":{\"data\":{\"bar\":[{\"error_x\":{\"color\":\"#2a3f5f\"},\"error_y\":{\"color\":\"#2a3f5f\"},\"marker\":{\"line\":{\"color\":\"#E5ECF6\",\"width\":0.5},\"pattern\":{\"fillmode\":\"overlay\",\"size\":10,\"solidity\":0.2}},\"type\":\"bar\"}],\"barpolar\":[{\"marker\":{\"line\":{\"color\":\"#E5ECF6\",\"width\":0.5},\"pattern\":{\"fillmode\":\"overlay\",\"size\":10,\"solidity\":0.2}},\"type\":\"barpolar\"}],\"carpet\":[{\"aaxis\":{\"endlinecolor\":\"#2a3f5f\",\"gridcolor\":\"white\",\"linecolor\":\"white\",\"minorgridcolor\":\"white\",\"startlinecolor\":\"#2a3f5f\"},\"baxis\":{\"endlinecolor\":\"#2a3f5f\",\"gridcolor\":\"white\",\"linecolor\":\"white\",\"minorgridcolor\":\"white\",\"startlinecolor\":\"#2a3f5f\"},\"type\":\"carpet\"}],\"choropleth\":[{\"colorbar\":{\"outlinewidth\":0,\"ticks\":\"\"},\"type\":\"choropleth\"}],\"contour\":[{\"colorbar\":{\"outlinewidth\":0,\"ticks\":\"\"},\"colorscale\":[[0.0,\"#0d0887\"],[0.1111111111111111,\"#46039f\"],[0.2222222222222222,\"#7201a8\"],[0.3333333333333333,\"#9c179e\"],[0.4444444444444444,\"#bd3786\"],[0.5555555555555556,\"#d8576b\"],[0.6666666666666666,\"#ed7953\"],[0.7777777777777778,\"#fb9f3a\"],[0.8888888888888888,\"#fdca26\"],[1.0,\"#f0f921\"]],\"type\":\"contour\"}],\"contourcarpet\":[{\"colorbar\":{\"outlinewidth\":0,\"ticks\":\"\"},\"type\":\"contourcarpet\"}],\"heatmap\":[{\"colorbar\":{\"outlinewidth\":0,\"ticks\":\"\"},\"colorscale\":[[0.0,\"#0d0887\"],[0.1111111111111111,\"#46039f\"],[0.2222222222222222,\"#7201a8\"],[0.3333333333333333,\"#9c179e\"],[0.4444444444444444,\"#bd3786\"],[0.5555555555555556,\"#d8576b\"],[0.6666666666666666,\"#ed7953\"],[0.7777777777777778,\"#fb9f3a\"],[0.8888888888888888,\"#fdca26\"],[1.0,\"#f0f921\"]],\"type\":\"heatmap\"}],\"heatmapgl\":[{\"colorbar\":{\"outlinewidth\":0,\"ticks\":\"\"},\"colorscale\":[[0.0,\"#0d0887\"],[0.1111111111111111,\"#46039f\"],[0.2222222222222222,\"#7201a8\"],[0.3333333333333333,\"#9c179e\"],[0.4444444444444444,\"#bd3786\"],[0.5555555555555556,\"#d8576b\"],[0.6666666666666666,\"#ed7953\"],[0.7777777777777778,\"#fb9f3a\"],[0.8888888888888888,\"#fdca26\"],[1.0,\"#f0f921\"]],\"type\":\"heatmapgl\"}],\"histogram\":[{\"marker\":{\"pattern\":{\"fillmode\":\"overlay\",\"size\":10,\"solidity\":0.2}},\"type\":\"histogram\"}],\"histogram2d\":[{\"colorbar\":{\"outlinewidth\":0,\"ticks\":\"\"},\"colorscale\":[[0.0,\"#0d0887\"],[0.1111111111111111,\"#46039f\"],[0.2222222222222222,\"#7201a8\"],[0.3333333333333333,\"#9c179e\"],[0.4444444444444444,\"#bd3786\"],[0.5555555555555556,\"#d8576b\"],[0.6666666666666666,\"#ed7953\"],[0.7777777777777778,\"#fb9f3a\"],[0.8888888888888888,\"#fdca26\"],[1.0,\"#f0f921\"]],\"type\":\"histogram2d\"}],\"histogram2dcontour\":[{\"colorbar\":{\"outlinewidth\":0,\"ticks\":\"\"},\"colorscale\":[[0.0,\"#0d0887\"],[0.1111111111111111,\"#46039f\"],[0.2222222222222222,\"#7201a8\"],[0.3333333333333333,\"#9c179e\"],[0.4444444444444444,\"#bd3786\"],[0.5555555555555556,\"#d8576b\"],[0.6666666666666666,\"#ed7953\"],[0.7777777777777778,\"#fb9f3a\"],[0.8888888888888888,\"#fdca26\"],[1.0,\"#f0f921\"]],\"type\":\"histogram2dcontour\"}],\"mesh3d\":[{\"colorbar\":{\"outlinewidth\":0,\"ticks\":\"\"},\"type\":\"mesh3d\"}],\"parcoords\":[{\"line\":{\"colorbar\":{\"outlinewidth\":0,\"ticks\":\"\"}},\"type\":\"parcoords\"}],\"pie\":[{\"automargin\":true,\"type\":\"pie\"}],\"scatter\":[{\"marker\":{\"colorbar\":{\"outlinewidth\":0,\"ticks\":\"\"}},\"type\":\"scatter\"}],\"scatter3d\":[{\"line\":{\"colorbar\":{\"outlinewidth\":0,\"ticks\":\"\"}},\"marker\":{\"colorbar\":{\"outlinewidth\":0,\"ticks\":\"\"}},\"type\":\"scatter3d\"}],\"scattercarpet\":[{\"marker\":{\"colorbar\":{\"outlinewidth\":0,\"ticks\":\"\"}},\"type\":\"scattercarpet\"}],\"scattergeo\":[{\"marker\":{\"colorbar\":{\"outlinewidth\":0,\"ticks\":\"\"}},\"type\":\"scattergeo\"}],\"scattergl\":[{\"marker\":{\"colorbar\":{\"outlinewidth\":0,\"ticks\":\"\"}},\"type\":\"scattergl\"}],\"scattermapbox\":[{\"marker\":{\"colorbar\":{\"outlinewidth\":0,\"ticks\":\"\"}},\"type\":\"scattermapbox\"}],\"scatterpolar\":[{\"marker\":{\"colorbar\":{\"outlinewidth\":0,\"ticks\":\"\"}},\"type\":\"scatterpolar\"}],\"scatterpolargl\":[{\"marker\":{\"colorbar\":{\"outlinewidth\":0,\"ticks\":\"\"}},\"type\":\"scatterpolargl\"}],\"scatterternary\":[{\"marker\":{\"colorbar\":{\"outlinewidth\":0,\"ticks\":\"\"}},\"type\":\"scatterternary\"}],\"surface\":[{\"colorbar\":{\"outlinewidth\":0,\"ticks\":\"\"},\"colorscale\":[[0.0,\"#0d0887\"],[0.1111111111111111,\"#46039f\"],[0.2222222222222222,\"#7201a8\"],[0.3333333333333333,\"#9c179e\"],[0.4444444444444444,\"#bd3786\"],[0.5555555555555556,\"#d8576b\"],[0.6666666666666666,\"#ed7953\"],[0.7777777777777778,\"#fb9f3a\"],[0.8888888888888888,\"#fdca26\"],[1.0,\"#f0f921\"]],\"type\":\"surface\"}],\"table\":[{\"cells\":{\"fill\":{\"color\":\"#EBF0F8\"},\"line\":{\"color\":\"white\"}},\"header\":{\"fill\":{\"color\":\"#C8D4E3\"},\"line\":{\"color\":\"white\"}},\"type\":\"table\"}]},\"layout\":{\"annotationdefaults\":{\"arrowcolor\":\"#2a3f5f\",\"arrowhead\":0,\"arrowwidth\":1},\"autotypenumbers\":\"strict\",\"coloraxis\":{\"colorbar\":{\"outlinewidth\":0,\"ticks\":\"\"}},\"colorscale\":{\"diverging\":[[0,\"#8e0152\"],[0.1,\"#c51b7d\"],[0.2,\"#de77ae\"],[0.3,\"#f1b6da\"],[0.4,\"#fde0ef\"],[0.5,\"#f7f7f7\"],[0.6,\"#e6f5d0\"],[0.7,\"#b8e186\"],[0.8,\"#7fbc41\"],[0.9,\"#4d9221\"],[1,\"#276419\"]],\"sequential\":[[0.0,\"#0d0887\"],[0.1111111111111111,\"#46039f\"],[0.2222222222222222,\"#7201a8\"],[0.3333333333333333,\"#9c179e\"],[0.4444444444444444,\"#bd3786\"],[0.5555555555555556,\"#d8576b\"],[0.6666666666666666,\"#ed7953\"],[0.7777777777777778,\"#fb9f3a\"],[0.8888888888888888,\"#fdca26\"],[1.0,\"#f0f921\"]],\"sequentialminus\":[[0.0,\"#0d0887\"],[0.1111111111111111,\"#46039f\"],[0.2222222222222222,\"#7201a8\"],[0.3333333333333333,\"#9c179e\"],[0.4444444444444444,\"#bd3786\"],[0.5555555555555556,\"#d8576b\"],[0.6666666666666666,\"#ed7953\"],[0.7777777777777778,\"#fb9f3a\"],[0.8888888888888888,\"#fdca26\"],[1.0,\"#f0f921\"]]},\"colorway\":[\"#636efa\",\"#EF553B\",\"#00cc96\",\"#ab63fa\",\"#FFA15A\",\"#19d3f3\",\"#FF6692\",\"#B6E880\",\"#FF97FF\",\"#FECB52\"],\"font\":{\"color\":\"#2a3f5f\"},\"geo\":{\"bgcolor\":\"white\",\"lakecolor\":\"white\",\"landcolor\":\"#E5ECF6\",\"showlakes\":true,\"showland\":true,\"subunitcolor\":\"white\"},\"hoverlabel\":{\"align\":\"left\"},\"hovermode\":\"closest\",\"mapbox\":{\"style\":\"light\"},\"paper_bgcolor\":\"white\",\"plot_bgcolor\":\"#E5ECF6\",\"polar\":{\"angularaxis\":{\"gridcolor\":\"white\",\"linecolor\":\"white\",\"ticks\":\"\"},\"bgcolor\":\"#E5ECF6\",\"radialaxis\":{\"gridcolor\":\"white\",\"linecolor\":\"white\",\"ticks\":\"\"}},\"scene\":{\"xaxis\":{\"backgroundcolor\":\"#E5ECF6\",\"gridcolor\":\"white\",\"gridwidth\":2,\"linecolor\":\"white\",\"showbackground\":true,\"ticks\":\"\",\"zerolinecolor\":\"white\"},\"yaxis\":{\"backgroundcolor\":\"#E5ECF6\",\"gridcolor\":\"white\",\"gridwidth\":2,\"linecolor\":\"white\",\"showbackground\":true,\"ticks\":\"\",\"zerolinecolor\":\"white\"},\"zaxis\":{\"backgroundcolor\":\"#E5ECF6\",\"gridcolor\":\"white\",\"gridwidth\":2,\"linecolor\":\"white\",\"showbackground\":true,\"ticks\":\"\",\"zerolinecolor\":\"white\"}},\"shapedefaults\":{\"line\":{\"color\":\"#2a3f5f\"}},\"ternary\":{\"aaxis\":{\"gridcolor\":\"white\",\"linecolor\":\"white\",\"ticks\":\"\"},\"baxis\":{\"gridcolor\":\"white\",\"linecolor\":\"white\",\"ticks\":\"\"},\"bgcolor\":\"#E5ECF6\",\"caxis\":{\"gridcolor\":\"white\",\"linecolor\":\"white\",\"ticks\":\"\"}},\"title\":{\"x\":0.05},\"xaxis\":{\"automargin\":true,\"gridcolor\":\"white\",\"linecolor\":\"white\",\"ticks\":\"\",\"title\":{\"standoff\":15},\"zerolinecolor\":\"white\",\"zerolinewidth\":2},\"yaxis\":{\"automargin\":true,\"gridcolor\":\"white\",\"linecolor\":\"white\",\"ticks\":\"\",\"title\":{\"standoff\":15},\"zerolinecolor\":\"white\",\"zerolinewidth\":2}}},\"title\":{\"font\":{\"color\":\"#4D5663\"}},\"xaxis\":{\"gridcolor\":\"#E1E5ED\",\"showgrid\":true,\"tickfont\":{\"color\":\"#4D5663\"},\"title\":{\"font\":{\"color\":\"#4D5663\"},\"text\":\"\"},\"zerolinecolor\":\"#E1E5ED\"},\"yaxis\":{\"gridcolor\":\"#E1E5ED\",\"showgrid\":true,\"tickfont\":{\"color\":\"#4D5663\"},\"title\":{\"font\":{\"color\":\"#4D5663\"},\"text\":\"\"},\"zerolinecolor\":\"#E1E5ED\"}},                        {\"showLink\": true, \"linkText\": \"Export to plot.ly\", \"plotlyServerURL\": \"https://plot.ly\", \"responsive\": true}                    ).then(function(){\n",
       "                            \n",
       "var gd = document.getElementById('7659a034-98bd-4d02-a31b-6c79eebe4fa8');\n",
       "var x = new MutationObserver(function (mutations, observer) {{\n",
       "        var display = window.getComputedStyle(gd).display;\n",
       "        if (!display || display === 'none') {{\n",
       "            console.log([gd, 'removed!']);\n",
       "            Plotly.purge(gd);\n",
       "            observer.disconnect();\n",
       "        }}\n",
       "}});\n",
       "\n",
       "// Listen for the removal of the full notebook cells\n",
       "var notebookContainer = gd.closest('#notebook-container');\n",
       "if (notebookContainer) {{\n",
       "    x.observe(notebookContainer, {childList: true});\n",
       "}}\n",
       "\n",
       "// Listen for the clearing of the current output cell\n",
       "var outputEl = gd.closest('.output');\n",
       "if (outputEl) {{\n",
       "    x.observe(outputEl, {childList: true});\n",
       "}}\n",
       "\n",
       "                        })                };                });            </script>        </div>"
      ]
     },
     "metadata": {},
     "output_type": "display_data"
    }
   ],
   "source": [
    "df.count().iplot(kind='bar')"
   ]
  },
  {
   "cell_type": "code",
   "execution_count": 69,
   "id": "60282e4f",
   "metadata": {},
   "outputs": [
    {
     "data": {
      "application/vnd.plotly.v1+json": {
       "config": {
        "linkText": "Export to plot.ly",
        "plotlyServerURL": "https://plot.ly",
        "showLink": true
       },
       "data": [
        {
         "boxpoints": false,
         "line": {
          "width": 1.3
         },
         "marker": {
          "color": "rgba(255, 153, 51, 1.0)"
         },
         "name": "A",
         "orientation": "v",
         "type": "box",
         "y": [
          -1.8146574954917116,
          -0.8470670293864747,
          0.01303271026382539,
          0.5383973904884377,
          -1.0344275404533527,
          -0.014481183146433959,
          -0.08938697687335469,
          -0.2279462966589887,
          0.20711360453961028,
          -0.021592962086997517,
          -1.3155314021076847,
          1.0815405437572196,
          1.0300618169509475,
          0.419185149550798,
          -0.282387221331436,
          0.4500312576732678,
          -0.4531682811290232,
          0.803587506618999,
          0.24305721495871502,
          -0.5511324389875921,
          1.0035509726747378,
          0.9996125889407599,
          0.8023185895529278,
          0.04412618305525951,
          0.25347853157075056,
          1.2433702729360656,
          -1.0268712118101342,
          -1.060853493347942,
          -1.4957118506802942,
          -0.6697103466148886,
          -1.2517310903859882,
          1.1269441241461,
          -0.01799070648583695,
          0.6225295126265604,
          -0.4841422118182663,
          -0.11091402155480518,
          0.07163512965302882,
          0.017210445925269838,
          -0.7212961447125448,
          -1.8978008901658416,
          0.8265600904352766,
          0.9174456336264463,
          0.4434465307912776,
          -0.26219744713404364,
          0.9589701267767169,
          1.74764986708476,
          -0.7472437061411934,
          -1.5646976216694992,
          0.04785949111866218,
          0.8283250366439685,
          0.957468433091984,
          2.1364632752207875,
          1.0860639175632132,
          -2.181806151730958,
          2.4744394822296134,
          -0.1663691862291363,
          0.026036996500954954,
          0.8302626870007996,
          -0.9761854265625488,
          -1.4700624675122405,
          -0.49980681136089544,
          -0.6258119864619291,
          -2.295546921184517,
          -0.46620934106311007,
          -0.06321021651006506,
          -1.071106824112718,
          1.3718316933073766,
          -1.3723757816199358,
          0.4086088885911282,
          1.319008976927655,
          0.913541436709759,
          -0.18815365471447887,
          -0.17921705142587582,
          0.6699066350545103,
          -0.002064802276801852,
          1.2942114117336707,
          -0.11296231766794987,
          0.39774871792466554,
          0.30742295201909836,
          -0.8901118530424844,
          -0.8277680267335727,
          -1.3905943524321405,
          0.27109582264951154,
          -1.0402042031067,
          -0.6180286813831786,
          1.220731508698079,
          0.032335660654610215,
          1.371876469990915,
          -0.14227284170805551,
          -0.9293612896411669,
          0.5245397631247587,
          -1.3743351885913135,
          -0.2235602445858731,
          2.059251878770659,
          0.16798231879217662,
          1.2227899126847988,
          -1.4803029620484407,
          -0.36259968785276003,
          1.3847877377348967,
          -0.7641692991076208
         ]
        },
        {
         "boxpoints": false,
         "line": {
          "width": 1.3
         },
         "marker": {
          "color": "rgba(55, 128, 191, 1.0)"
         },
         "name": "B",
         "orientation": "v",
         "type": "box",
         "y": [
          -1.172029547175582,
          0.5708070752516582,
          -1.6189359028450274,
          -0.11002177675271357,
          -0.7698107914177563,
          -1.130940630137424,
          0.17137131096691868,
          0.6093855998569444,
          -0.5766712870446586,
          0.028278623704371335,
          1.0417134140215205,
          0.9850106390089924,
          -1.4203954521148767,
          -1.9950677383175508,
          -0.5358168691997359,
          0.9221726549694012,
          -0.978868200539945,
          -1.0698989367132654,
          -0.7517442471000252,
          1.5009921266616195,
          -0.9594011879437758,
          0.7383177651247519,
          -0.6914555417742713,
          -0.5645604463737631,
          -0.26255555518036666,
          0.8777155862996079,
          1.3865282543902668,
          0.6799435355541886,
          0.05323095752739842,
          0.36001486015979045,
          -0.22894012203603628,
          -0.6795156044467318,
          1.2460952828340515,
          0.43535735968925987,
          0.3893061305644368,
          -0.5367167845888886,
          1.0573469657014019,
          0.8890095994487124,
          -0.27981206788566115,
          -0.6408658061031824,
          1.0689268030832433,
          -0.263663140711461,
          -1.099291925128018,
          -0.16767591466922696,
          0.006293727405631618,
          -0.6325869665079422,
          -0.24941398295327308,
          0.3873403617527878,
          -0.41274194917011037,
          0.9042181661541013,
          -0.11241915637436253,
          -0.6437501106513058,
          -0.8644209188227071,
          0.6591758567880054,
          0.47883880247713184,
          0.42255192025444954,
          -1.7817407479725722,
          1.3203352028858883,
          1.2628178532108998,
          1.7517319799163185,
          -0.4582363103517554,
          1.0900380384519954,
          -0.3266139438726841,
          -0.45219001793651076,
          -0.23519261652283918,
          0.8935888890760553,
          0.6793646520505338,
          1.5196574967862317,
          -2.214729861015904,
          -0.5313262036348674,
          1.0557242631382586,
          1.2650150885205158,
          0.9329404701658465,
          0.461135250913148,
          0.38979614244120686,
          0.43916978524637246,
          -0.28931877608753215,
          1.424219318771104,
          -0.12520400381944702,
          0.07556342057472447,
          3.0384877076819317,
          -0.8363985571334522,
          -0.17957907908262027,
          -0.2522825766622861,
          -0.4292949920924141,
          -0.17825113513031168,
          -0.8323392351931449,
          -0.14311320586144974,
          1.1586212749682163,
          0.7031277482710866,
          0.7283866814552401,
          -0.36341363636003393,
          -0.50249202020569,
          -0.637790696427296,
          0.7987313988057939,
          0.7668900404860975,
          0.18460097455726704,
          -0.13994380894890507,
          -0.17570422328542692,
          -0.0892924617474906
         ]
        },
        {
         "boxpoints": false,
         "line": {
          "width": 1.3
         },
         "marker": {
          "color": "rgba(50, 171, 96, 1.0)"
         },
         "name": "C",
         "orientation": "v",
         "type": "box",
         "y": [
          -0.7814042885776574,
          -0.6570536191519789,
          2.756935974954642,
          0.40640411526447373,
          -1.1661600882636183,
          -1.7319247194113332,
          -0.8582834854399468,
          -0.2599272786908284,
          1.7360755434143422,
          1.5786531315507075,
          -1.3884984056559986,
          -0.9599552553338249,
          -0.44840356873588066,
          1.577602594296153,
          -0.7413303063907769,
          0.07978217388082871,
          1.1334236144973089,
          0.04005275647459037,
          0.47426846858473254,
          -1.5125383140020334,
          1.1836398882065546,
          -1.655257982736034,
          -0.6678459827819542,
          -1.0646630488364337,
          -2.1985118348722743,
          -1.4721672819356348,
          -0.43529185493633754,
          0.184625824160237,
          1.2558857905135954,
          1.066154950124663,
          0.3832425621392652,
          -1.4523759957345912,
          -0.2051660906118652,
          0.35551987855421785,
          -0.30223502738920477,
          -1.018321256870088,
          -0.4340258627669384,
          -0.48994037492369374,
          0.5956093622634703,
          1.3856894338576555,
          0.213157358163665,
          -0.4014107945709725,
          -0.48269888616653706,
          0.6667909746158834,
          0.5913957004248953,
          0.04799024976186377,
          0.051197478704545,
          0.6382965000056416,
          0.20509704448072003,
          -1.1117586001713273,
          1.3888719657510793,
          0.07217285939900908,
          -0.2945588763918421,
          0.5168861665615841,
          -0.6251660870185811,
          1.4332674057800763,
          0.9757712584136982,
          0.14004428873044147,
          1.6968745372550422,
          0.15393239387588767,
          -0.16579606700815497,
          -1.7213520313954411,
          0.3795671005742294,
          1.2025115572362062,
          -0.7976964428301118,
          -0.47628753584306494,
          1.1958187172147259,
          1.9066703315574713,
          -0.6533606217297846,
          0.39576963327645487,
          -0.2390445817514245,
          2.3148742446434785,
          1.067972948977482,
          1.2614749483899448,
          0.9942749693146312,
          -1.3424003772797393,
          -1.1242661810310575,
          1.0406330138095752,
          -1.0216955896433741,
          -1.4049579532544616,
          -0.9802632873960898,
          0.8742399114585363,
          1.48576506842584,
          0.1042707494428018,
          0.20041088926857803,
          -0.956211435704891,
          -1.9710498525833182,
          -1.0345139775445806,
          -0.1800008951912733,
          0.351257683643523,
          0.3024100991431864,
          -0.21635476842713608,
          0.5575364674231739,
          -1.9465621806281679,
          2.295967700230583,
          -1.3827164062386463,
          0.7225105798772864,
          -0.690684329795509,
          -0.6288018267318949,
          -1.5498246177467476
         ]
        },
        {
         "boxpoints": false,
         "line": {
          "width": 1.3
         },
         "marker": {
          "color": "rgba(128, 0, 128, 1.0)"
         },
         "name": "D",
         "orientation": "v",
         "type": "box",
         "y": [
          0.2442434132814181,
          -0.5288050979965271,
          3.5286069369247066,
          1.1633222576478004,
          -0.6322690517714941,
          0.05497912906308278,
          0.9550602068239482,
          0.920340660599762,
          0.11135409926562147,
          0.1102074971249416,
          -0.18831856651127835,
          0.6736162474135285,
          1.4013852295315534,
          -0.11332390833616546,
          0.8102626289074134,
          -1.4855274001513237,
          -0.4529990867187134,
          -0.1376020867578222,
          1.2220039270912995,
          0.07708827827983968,
          2.1788568035788054,
          -0.41752035108871394,
          1.3001513770740378,
          -0.8931489221320447,
          -0.9662888770849758,
          0.7553808389093509,
          0.575221329739446,
          -2.3771833588718825,
          -0.6286843831580169,
          -0.708788628211804,
          -1.9490447019670933,
          0.2581687538237965,
          -0.3754372305567602,
          -0.8275638223051003,
          1.2152658733365742,
          -0.7085614258385646,
          -0.821204339801809,
          0.5085838971637473,
          -1.0298963845254674,
          0.8447200248123172,
          -0.6227969331208381,
          2.171572940144113,
          -0.7563405053355937,
          -0.10072862077963562,
          0.22836653470441506,
          -1.6365890983916749,
          -0.5110429104659345,
          1.061768604686841,
          -1.4618970548187755,
          -0.5161657699203809,
          0.09667969956102576,
          1.4812496378551316,
          1.1531243383840795,
          -1.6648200050136748,
          -0.07080123212525125,
          0.19451036992885903,
          2.693408417718509,
          -0.6240473492683131,
          -1.0539464252685977,
          -1.6665164532431795,
          -0.8402034894179713,
          -1.880812619358926,
          0.02119642042380144,
          0.01272071264962929,
          -0.30564084654790624,
          -0.04365957196668113,
          0.3009770956400371,
          0.9365741437593206,
          0.5643865442504427,
          -0.03476546700733019,
          -0.8761418478301107,
          -1.315064357093031,
          0.8135815761492984,
          0.9870185821696303,
          2.6951928280685213,
          1.0486360366949183,
          0.14571864577442104,
          0.7326179956848412,
          -1.6866076097597424,
          -1.8601398011097965,
          0.35264842683699377,
          0.7772706242648951,
          -1.1060318653417003,
          1.1657731714440094,
          -0.10068988564942408,
          -0.3279123330038592,
          0.2899933480616966,
          0.4890407354645279,
          0.36094480565240344,
          -1.7686717511804286,
          0.8419231380402565,
          -0.32485386844412956,
          0.45133231524155376,
          0.3537891733265878,
          0.8636363927942637,
          -0.6457113752742918,
          0.8423662574923896,
          1.2696703612760782,
          -0.6114432575514193,
          -2.0059369005142194
         ]
        }
       ],
       "layout": {
        "legend": {
         "bgcolor": "#F5F6F9",
         "font": {
          "color": "#4D5663"
         }
        },
        "paper_bgcolor": "#F5F6F9",
        "plot_bgcolor": "#F5F6F9",
        "template": {
         "data": {
          "bar": [
           {
            "error_x": {
             "color": "#2a3f5f"
            },
            "error_y": {
             "color": "#2a3f5f"
            },
            "marker": {
             "line": {
              "color": "#E5ECF6",
              "width": 0.5
             },
             "pattern": {
              "fillmode": "overlay",
              "size": 10,
              "solidity": 0.2
             }
            },
            "type": "bar"
           }
          ],
          "barpolar": [
           {
            "marker": {
             "line": {
              "color": "#E5ECF6",
              "width": 0.5
             },
             "pattern": {
              "fillmode": "overlay",
              "size": 10,
              "solidity": 0.2
             }
            },
            "type": "barpolar"
           }
          ],
          "carpet": [
           {
            "aaxis": {
             "endlinecolor": "#2a3f5f",
             "gridcolor": "white",
             "linecolor": "white",
             "minorgridcolor": "white",
             "startlinecolor": "#2a3f5f"
            },
            "baxis": {
             "endlinecolor": "#2a3f5f",
             "gridcolor": "white",
             "linecolor": "white",
             "minorgridcolor": "white",
             "startlinecolor": "#2a3f5f"
            },
            "type": "carpet"
           }
          ],
          "choropleth": [
           {
            "colorbar": {
             "outlinewidth": 0,
             "ticks": ""
            },
            "type": "choropleth"
           }
          ],
          "contour": [
           {
            "colorbar": {
             "outlinewidth": 0,
             "ticks": ""
            },
            "colorscale": [
             [
              0,
              "#0d0887"
             ],
             [
              0.1111111111111111,
              "#46039f"
             ],
             [
              0.2222222222222222,
              "#7201a8"
             ],
             [
              0.3333333333333333,
              "#9c179e"
             ],
             [
              0.4444444444444444,
              "#bd3786"
             ],
             [
              0.5555555555555556,
              "#d8576b"
             ],
             [
              0.6666666666666666,
              "#ed7953"
             ],
             [
              0.7777777777777778,
              "#fb9f3a"
             ],
             [
              0.8888888888888888,
              "#fdca26"
             ],
             [
              1,
              "#f0f921"
             ]
            ],
            "type": "contour"
           }
          ],
          "contourcarpet": [
           {
            "colorbar": {
             "outlinewidth": 0,
             "ticks": ""
            },
            "type": "contourcarpet"
           }
          ],
          "heatmap": [
           {
            "colorbar": {
             "outlinewidth": 0,
             "ticks": ""
            },
            "colorscale": [
             [
              0,
              "#0d0887"
             ],
             [
              0.1111111111111111,
              "#46039f"
             ],
             [
              0.2222222222222222,
              "#7201a8"
             ],
             [
              0.3333333333333333,
              "#9c179e"
             ],
             [
              0.4444444444444444,
              "#bd3786"
             ],
             [
              0.5555555555555556,
              "#d8576b"
             ],
             [
              0.6666666666666666,
              "#ed7953"
             ],
             [
              0.7777777777777778,
              "#fb9f3a"
             ],
             [
              0.8888888888888888,
              "#fdca26"
             ],
             [
              1,
              "#f0f921"
             ]
            ],
            "type": "heatmap"
           }
          ],
          "heatmapgl": [
           {
            "colorbar": {
             "outlinewidth": 0,
             "ticks": ""
            },
            "colorscale": [
             [
              0,
              "#0d0887"
             ],
             [
              0.1111111111111111,
              "#46039f"
             ],
             [
              0.2222222222222222,
              "#7201a8"
             ],
             [
              0.3333333333333333,
              "#9c179e"
             ],
             [
              0.4444444444444444,
              "#bd3786"
             ],
             [
              0.5555555555555556,
              "#d8576b"
             ],
             [
              0.6666666666666666,
              "#ed7953"
             ],
             [
              0.7777777777777778,
              "#fb9f3a"
             ],
             [
              0.8888888888888888,
              "#fdca26"
             ],
             [
              1,
              "#f0f921"
             ]
            ],
            "type": "heatmapgl"
           }
          ],
          "histogram": [
           {
            "marker": {
             "pattern": {
              "fillmode": "overlay",
              "size": 10,
              "solidity": 0.2
             }
            },
            "type": "histogram"
           }
          ],
          "histogram2d": [
           {
            "colorbar": {
             "outlinewidth": 0,
             "ticks": ""
            },
            "colorscale": [
             [
              0,
              "#0d0887"
             ],
             [
              0.1111111111111111,
              "#46039f"
             ],
             [
              0.2222222222222222,
              "#7201a8"
             ],
             [
              0.3333333333333333,
              "#9c179e"
             ],
             [
              0.4444444444444444,
              "#bd3786"
             ],
             [
              0.5555555555555556,
              "#d8576b"
             ],
             [
              0.6666666666666666,
              "#ed7953"
             ],
             [
              0.7777777777777778,
              "#fb9f3a"
             ],
             [
              0.8888888888888888,
              "#fdca26"
             ],
             [
              1,
              "#f0f921"
             ]
            ],
            "type": "histogram2d"
           }
          ],
          "histogram2dcontour": [
           {
            "colorbar": {
             "outlinewidth": 0,
             "ticks": ""
            },
            "colorscale": [
             [
              0,
              "#0d0887"
             ],
             [
              0.1111111111111111,
              "#46039f"
             ],
             [
              0.2222222222222222,
              "#7201a8"
             ],
             [
              0.3333333333333333,
              "#9c179e"
             ],
             [
              0.4444444444444444,
              "#bd3786"
             ],
             [
              0.5555555555555556,
              "#d8576b"
             ],
             [
              0.6666666666666666,
              "#ed7953"
             ],
             [
              0.7777777777777778,
              "#fb9f3a"
             ],
             [
              0.8888888888888888,
              "#fdca26"
             ],
             [
              1,
              "#f0f921"
             ]
            ],
            "type": "histogram2dcontour"
           }
          ],
          "mesh3d": [
           {
            "colorbar": {
             "outlinewidth": 0,
             "ticks": ""
            },
            "type": "mesh3d"
           }
          ],
          "parcoords": [
           {
            "line": {
             "colorbar": {
              "outlinewidth": 0,
              "ticks": ""
             }
            },
            "type": "parcoords"
           }
          ],
          "pie": [
           {
            "automargin": true,
            "type": "pie"
           }
          ],
          "scatter": [
           {
            "marker": {
             "colorbar": {
              "outlinewidth": 0,
              "ticks": ""
             }
            },
            "type": "scatter"
           }
          ],
          "scatter3d": [
           {
            "line": {
             "colorbar": {
              "outlinewidth": 0,
              "ticks": ""
             }
            },
            "marker": {
             "colorbar": {
              "outlinewidth": 0,
              "ticks": ""
             }
            },
            "type": "scatter3d"
           }
          ],
          "scattercarpet": [
           {
            "marker": {
             "colorbar": {
              "outlinewidth": 0,
              "ticks": ""
             }
            },
            "type": "scattercarpet"
           }
          ],
          "scattergeo": [
           {
            "marker": {
             "colorbar": {
              "outlinewidth": 0,
              "ticks": ""
             }
            },
            "type": "scattergeo"
           }
          ],
          "scattergl": [
           {
            "marker": {
             "colorbar": {
              "outlinewidth": 0,
              "ticks": ""
             }
            },
            "type": "scattergl"
           }
          ],
          "scattermapbox": [
           {
            "marker": {
             "colorbar": {
              "outlinewidth": 0,
              "ticks": ""
             }
            },
            "type": "scattermapbox"
           }
          ],
          "scatterpolar": [
           {
            "marker": {
             "colorbar": {
              "outlinewidth": 0,
              "ticks": ""
             }
            },
            "type": "scatterpolar"
           }
          ],
          "scatterpolargl": [
           {
            "marker": {
             "colorbar": {
              "outlinewidth": 0,
              "ticks": ""
             }
            },
            "type": "scatterpolargl"
           }
          ],
          "scatterternary": [
           {
            "marker": {
             "colorbar": {
              "outlinewidth": 0,
              "ticks": ""
             }
            },
            "type": "scatterternary"
           }
          ],
          "surface": [
           {
            "colorbar": {
             "outlinewidth": 0,
             "ticks": ""
            },
            "colorscale": [
             [
              0,
              "#0d0887"
             ],
             [
              0.1111111111111111,
              "#46039f"
             ],
             [
              0.2222222222222222,
              "#7201a8"
             ],
             [
              0.3333333333333333,
              "#9c179e"
             ],
             [
              0.4444444444444444,
              "#bd3786"
             ],
             [
              0.5555555555555556,
              "#d8576b"
             ],
             [
              0.6666666666666666,
              "#ed7953"
             ],
             [
              0.7777777777777778,
              "#fb9f3a"
             ],
             [
              0.8888888888888888,
              "#fdca26"
             ],
             [
              1,
              "#f0f921"
             ]
            ],
            "type": "surface"
           }
          ],
          "table": [
           {
            "cells": {
             "fill": {
              "color": "#EBF0F8"
             },
             "line": {
              "color": "white"
             }
            },
            "header": {
             "fill": {
              "color": "#C8D4E3"
             },
             "line": {
              "color": "white"
             }
            },
            "type": "table"
           }
          ]
         },
         "layout": {
          "annotationdefaults": {
           "arrowcolor": "#2a3f5f",
           "arrowhead": 0,
           "arrowwidth": 1
          },
          "autotypenumbers": "strict",
          "coloraxis": {
           "colorbar": {
            "outlinewidth": 0,
            "ticks": ""
           }
          },
          "colorscale": {
           "diverging": [
            [
             0,
             "#8e0152"
            ],
            [
             0.1,
             "#c51b7d"
            ],
            [
             0.2,
             "#de77ae"
            ],
            [
             0.3,
             "#f1b6da"
            ],
            [
             0.4,
             "#fde0ef"
            ],
            [
             0.5,
             "#f7f7f7"
            ],
            [
             0.6,
             "#e6f5d0"
            ],
            [
             0.7,
             "#b8e186"
            ],
            [
             0.8,
             "#7fbc41"
            ],
            [
             0.9,
             "#4d9221"
            ],
            [
             1,
             "#276419"
            ]
           ],
           "sequential": [
            [
             0,
             "#0d0887"
            ],
            [
             0.1111111111111111,
             "#46039f"
            ],
            [
             0.2222222222222222,
             "#7201a8"
            ],
            [
             0.3333333333333333,
             "#9c179e"
            ],
            [
             0.4444444444444444,
             "#bd3786"
            ],
            [
             0.5555555555555556,
             "#d8576b"
            ],
            [
             0.6666666666666666,
             "#ed7953"
            ],
            [
             0.7777777777777778,
             "#fb9f3a"
            ],
            [
             0.8888888888888888,
             "#fdca26"
            ],
            [
             1,
             "#f0f921"
            ]
           ],
           "sequentialminus": [
            [
             0,
             "#0d0887"
            ],
            [
             0.1111111111111111,
             "#46039f"
            ],
            [
             0.2222222222222222,
             "#7201a8"
            ],
            [
             0.3333333333333333,
             "#9c179e"
            ],
            [
             0.4444444444444444,
             "#bd3786"
            ],
            [
             0.5555555555555556,
             "#d8576b"
            ],
            [
             0.6666666666666666,
             "#ed7953"
            ],
            [
             0.7777777777777778,
             "#fb9f3a"
            ],
            [
             0.8888888888888888,
             "#fdca26"
            ],
            [
             1,
             "#f0f921"
            ]
           ]
          },
          "colorway": [
           "#636efa",
           "#EF553B",
           "#00cc96",
           "#ab63fa",
           "#FFA15A",
           "#19d3f3",
           "#FF6692",
           "#B6E880",
           "#FF97FF",
           "#FECB52"
          ],
          "font": {
           "color": "#2a3f5f"
          },
          "geo": {
           "bgcolor": "white",
           "lakecolor": "white",
           "landcolor": "#E5ECF6",
           "showlakes": true,
           "showland": true,
           "subunitcolor": "white"
          },
          "hoverlabel": {
           "align": "left"
          },
          "hovermode": "closest",
          "mapbox": {
           "style": "light"
          },
          "paper_bgcolor": "white",
          "plot_bgcolor": "#E5ECF6",
          "polar": {
           "angularaxis": {
            "gridcolor": "white",
            "linecolor": "white",
            "ticks": ""
           },
           "bgcolor": "#E5ECF6",
           "radialaxis": {
            "gridcolor": "white",
            "linecolor": "white",
            "ticks": ""
           }
          },
          "scene": {
           "xaxis": {
            "backgroundcolor": "#E5ECF6",
            "gridcolor": "white",
            "gridwidth": 2,
            "linecolor": "white",
            "showbackground": true,
            "ticks": "",
            "zerolinecolor": "white"
           },
           "yaxis": {
            "backgroundcolor": "#E5ECF6",
            "gridcolor": "white",
            "gridwidth": 2,
            "linecolor": "white",
            "showbackground": true,
            "ticks": "",
            "zerolinecolor": "white"
           },
           "zaxis": {
            "backgroundcolor": "#E5ECF6",
            "gridcolor": "white",
            "gridwidth": 2,
            "linecolor": "white",
            "showbackground": true,
            "ticks": "",
            "zerolinecolor": "white"
           }
          },
          "shapedefaults": {
           "line": {
            "color": "#2a3f5f"
           }
          },
          "ternary": {
           "aaxis": {
            "gridcolor": "white",
            "linecolor": "white",
            "ticks": ""
           },
           "baxis": {
            "gridcolor": "white",
            "linecolor": "white",
            "ticks": ""
           },
           "bgcolor": "#E5ECF6",
           "caxis": {
            "gridcolor": "white",
            "linecolor": "white",
            "ticks": ""
           }
          },
          "title": {
           "x": 0.05
          },
          "xaxis": {
           "automargin": true,
           "gridcolor": "white",
           "linecolor": "white",
           "ticks": "",
           "title": {
            "standoff": 15
           },
           "zerolinecolor": "white",
           "zerolinewidth": 2
          },
          "yaxis": {
           "automargin": true,
           "gridcolor": "white",
           "linecolor": "white",
           "ticks": "",
           "title": {
            "standoff": 15
           },
           "zerolinecolor": "white",
           "zerolinewidth": 2
          }
         }
        },
        "title": {
         "font": {
          "color": "#4D5663"
         }
        },
        "xaxis": {
         "gridcolor": "#E1E5ED",
         "showgrid": true,
         "tickfont": {
          "color": "#4D5663"
         },
         "title": {
          "font": {
           "color": "#4D5663"
          },
          "text": ""
         },
         "zerolinecolor": "#E1E5ED"
        },
        "yaxis": {
         "gridcolor": "#E1E5ED",
         "showgrid": true,
         "tickfont": {
          "color": "#4D5663"
         },
         "title": {
          "font": {
           "color": "#4D5663"
          },
          "text": ""
         },
         "zerolinecolor": "#E1E5ED"
        }
       }
      },
      "text/html": [
       "<div>                            <div id=\"a25b3202-bab3-425e-ba0b-72482a7f1044\" class=\"plotly-graph-div\" style=\"height:525px; width:100%;\"></div>            <script type=\"text/javascript\">                require([\"plotly\"], function(Plotly) {                    window.PLOTLYENV=window.PLOTLYENV || {};\n",
       "                    window.PLOTLYENV.BASE_URL='https://plot.ly';                                    if (document.getElementById(\"a25b3202-bab3-425e-ba0b-72482a7f1044\")) {                    Plotly.newPlot(                        \"a25b3202-bab3-425e-ba0b-72482a7f1044\",                        [{\"boxpoints\":false,\"line\":{\"width\":1.3},\"marker\":{\"color\":\"rgba(255, 153, 51, 1.0)\"},\"name\":\"A\",\"orientation\":\"v\",\"type\":\"box\",\"y\":[-1.8146574954917116,-0.8470670293864747,0.01303271026382539,0.5383973904884377,-1.0344275404533527,-0.014481183146433959,-0.08938697687335469,-0.2279462966589887,0.20711360453961028,-0.021592962086997517,-1.3155314021076847,1.0815405437572196,1.0300618169509475,0.419185149550798,-0.282387221331436,0.4500312576732678,-0.4531682811290232,0.803587506618999,0.24305721495871502,-0.5511324389875921,1.0035509726747378,0.9996125889407599,0.8023185895529278,0.04412618305525951,0.25347853157075056,1.2433702729360656,-1.0268712118101342,-1.060853493347942,-1.4957118506802942,-0.6697103466148886,-1.2517310903859882,1.1269441241461,-0.01799070648583695,0.6225295126265604,-0.4841422118182663,-0.11091402155480518,0.07163512965302882,0.017210445925269838,-0.7212961447125448,-1.8978008901658416,0.8265600904352766,0.9174456336264463,0.4434465307912776,-0.26219744713404364,0.9589701267767169,1.74764986708476,-0.7472437061411934,-1.5646976216694992,0.04785949111866218,0.8283250366439685,0.957468433091984,2.1364632752207875,1.0860639175632132,-2.181806151730958,2.4744394822296134,-0.1663691862291363,0.026036996500954954,0.8302626870007996,-0.9761854265625488,-1.4700624675122405,-0.49980681136089544,-0.6258119864619291,-2.295546921184517,-0.46620934106311007,-0.06321021651006506,-1.071106824112718,1.3718316933073766,-1.3723757816199358,0.4086088885911282,1.319008976927655,0.913541436709759,-0.18815365471447887,-0.17921705142587582,0.6699066350545103,-0.002064802276801852,1.2942114117336707,-0.11296231766794987,0.39774871792466554,0.30742295201909836,-0.8901118530424844,-0.8277680267335727,-1.3905943524321405,0.27109582264951154,-1.0402042031067,-0.6180286813831786,1.220731508698079,0.032335660654610215,1.371876469990915,-0.14227284170805551,-0.9293612896411669,0.5245397631247587,-1.3743351885913135,-0.2235602445858731,2.059251878770659,0.16798231879217662,1.2227899126847988,-1.4803029620484407,-0.36259968785276003,1.3847877377348967,-0.7641692991076208]},{\"boxpoints\":false,\"line\":{\"width\":1.3},\"marker\":{\"color\":\"rgba(55, 128, 191, 1.0)\"},\"name\":\"B\",\"orientation\":\"v\",\"type\":\"box\",\"y\":[-1.172029547175582,0.5708070752516582,-1.6189359028450274,-0.11002177675271357,-0.7698107914177563,-1.130940630137424,0.17137131096691868,0.6093855998569444,-0.5766712870446586,0.028278623704371335,1.0417134140215205,0.9850106390089924,-1.4203954521148767,-1.9950677383175508,-0.5358168691997359,0.9221726549694012,-0.978868200539945,-1.0698989367132654,-0.7517442471000252,1.5009921266616195,-0.9594011879437758,0.7383177651247519,-0.6914555417742713,-0.5645604463737631,-0.26255555518036666,0.8777155862996079,1.3865282543902668,0.6799435355541886,0.05323095752739842,0.36001486015979045,-0.22894012203603628,-0.6795156044467318,1.2460952828340515,0.43535735968925987,0.3893061305644368,-0.5367167845888886,1.0573469657014019,0.8890095994487124,-0.27981206788566115,-0.6408658061031824,1.0689268030832433,-0.263663140711461,-1.099291925128018,-0.16767591466922696,0.006293727405631618,-0.6325869665079422,-0.24941398295327308,0.3873403617527878,-0.41274194917011037,0.9042181661541013,-0.11241915637436253,-0.6437501106513058,-0.8644209188227071,0.6591758567880054,0.47883880247713184,0.42255192025444954,-1.7817407479725722,1.3203352028858883,1.2628178532108998,1.7517319799163185,-0.4582363103517554,1.0900380384519954,-0.3266139438726841,-0.45219001793651076,-0.23519261652283918,0.8935888890760553,0.6793646520505338,1.5196574967862317,-2.214729861015904,-0.5313262036348674,1.0557242631382586,1.2650150885205158,0.9329404701658465,0.461135250913148,0.38979614244120686,0.43916978524637246,-0.28931877608753215,1.424219318771104,-0.12520400381944702,0.07556342057472447,3.0384877076819317,-0.8363985571334522,-0.17957907908262027,-0.2522825766622861,-0.4292949920924141,-0.17825113513031168,-0.8323392351931449,-0.14311320586144974,1.1586212749682163,0.7031277482710866,0.7283866814552401,-0.36341363636003393,-0.50249202020569,-0.637790696427296,0.7987313988057939,0.7668900404860975,0.18460097455726704,-0.13994380894890507,-0.17570422328542692,-0.0892924617474906]},{\"boxpoints\":false,\"line\":{\"width\":1.3},\"marker\":{\"color\":\"rgba(50, 171, 96, 1.0)\"},\"name\":\"C\",\"orientation\":\"v\",\"type\":\"box\",\"y\":[-0.7814042885776574,-0.6570536191519789,2.756935974954642,0.40640411526447373,-1.1661600882636183,-1.7319247194113332,-0.8582834854399468,-0.2599272786908284,1.7360755434143422,1.5786531315507075,-1.3884984056559986,-0.9599552553338249,-0.44840356873588066,1.577602594296153,-0.7413303063907769,0.07978217388082871,1.1334236144973089,0.04005275647459037,0.47426846858473254,-1.5125383140020334,1.1836398882065546,-1.655257982736034,-0.6678459827819542,-1.0646630488364337,-2.1985118348722743,-1.4721672819356348,-0.43529185493633754,0.184625824160237,1.2558857905135954,1.066154950124663,0.3832425621392652,-1.4523759957345912,-0.2051660906118652,0.35551987855421785,-0.30223502738920477,-1.018321256870088,-0.4340258627669384,-0.48994037492369374,0.5956093622634703,1.3856894338576555,0.213157358163665,-0.4014107945709725,-0.48269888616653706,0.6667909746158834,0.5913957004248953,0.04799024976186377,0.051197478704545,0.6382965000056416,0.20509704448072003,-1.1117586001713273,1.3888719657510793,0.07217285939900908,-0.2945588763918421,0.5168861665615841,-0.6251660870185811,1.4332674057800763,0.9757712584136982,0.14004428873044147,1.6968745372550422,0.15393239387588767,-0.16579606700815497,-1.7213520313954411,0.3795671005742294,1.2025115572362062,-0.7976964428301118,-0.47628753584306494,1.1958187172147259,1.9066703315574713,-0.6533606217297846,0.39576963327645487,-0.2390445817514245,2.3148742446434785,1.067972948977482,1.2614749483899448,0.9942749693146312,-1.3424003772797393,-1.1242661810310575,1.0406330138095752,-1.0216955896433741,-1.4049579532544616,-0.9802632873960898,0.8742399114585363,1.48576506842584,0.1042707494428018,0.20041088926857803,-0.956211435704891,-1.9710498525833182,-1.0345139775445806,-0.1800008951912733,0.351257683643523,0.3024100991431864,-0.21635476842713608,0.5575364674231739,-1.9465621806281679,2.295967700230583,-1.3827164062386463,0.7225105798772864,-0.690684329795509,-0.6288018267318949,-1.5498246177467476]},{\"boxpoints\":false,\"line\":{\"width\":1.3},\"marker\":{\"color\":\"rgba(128, 0, 128, 1.0)\"},\"name\":\"D\",\"orientation\":\"v\",\"type\":\"box\",\"y\":[0.2442434132814181,-0.5288050979965271,3.5286069369247066,1.1633222576478004,-0.6322690517714941,0.05497912906308278,0.9550602068239482,0.920340660599762,0.11135409926562147,0.1102074971249416,-0.18831856651127835,0.6736162474135285,1.4013852295315534,-0.11332390833616546,0.8102626289074134,-1.4855274001513237,-0.4529990867187134,-0.1376020867578222,1.2220039270912995,0.07708827827983968,2.1788568035788054,-0.41752035108871394,1.3001513770740378,-0.8931489221320447,-0.9662888770849758,0.7553808389093509,0.575221329739446,-2.3771833588718825,-0.6286843831580169,-0.708788628211804,-1.9490447019670933,0.2581687538237965,-0.3754372305567602,-0.8275638223051003,1.2152658733365742,-0.7085614258385646,-0.821204339801809,0.5085838971637473,-1.0298963845254674,0.8447200248123172,-0.6227969331208381,2.171572940144113,-0.7563405053355937,-0.10072862077963562,0.22836653470441506,-1.6365890983916749,-0.5110429104659345,1.061768604686841,-1.4618970548187755,-0.5161657699203809,0.09667969956102576,1.4812496378551316,1.1531243383840795,-1.6648200050136748,-0.07080123212525125,0.19451036992885903,2.693408417718509,-0.6240473492683131,-1.0539464252685977,-1.6665164532431795,-0.8402034894179713,-1.880812619358926,0.02119642042380144,0.01272071264962929,-0.30564084654790624,-0.04365957196668113,0.3009770956400371,0.9365741437593206,0.5643865442504427,-0.03476546700733019,-0.8761418478301107,-1.315064357093031,0.8135815761492984,0.9870185821696303,2.6951928280685213,1.0486360366949183,0.14571864577442104,0.7326179956848412,-1.6866076097597424,-1.8601398011097965,0.35264842683699377,0.7772706242648951,-1.1060318653417003,1.1657731714440094,-0.10068988564942408,-0.3279123330038592,0.2899933480616966,0.4890407354645279,0.36094480565240344,-1.7686717511804286,0.8419231380402565,-0.32485386844412956,0.45133231524155376,0.3537891733265878,0.8636363927942637,-0.6457113752742918,0.8423662574923896,1.2696703612760782,-0.6114432575514193,-2.0059369005142194]}],                        {\"legend\":{\"bgcolor\":\"#F5F6F9\",\"font\":{\"color\":\"#4D5663\"}},\"paper_bgcolor\":\"#F5F6F9\",\"plot_bgcolor\":\"#F5F6F9\",\"template\":{\"data\":{\"bar\":[{\"error_x\":{\"color\":\"#2a3f5f\"},\"error_y\":{\"color\":\"#2a3f5f\"},\"marker\":{\"line\":{\"color\":\"#E5ECF6\",\"width\":0.5},\"pattern\":{\"fillmode\":\"overlay\",\"size\":10,\"solidity\":0.2}},\"type\":\"bar\"}],\"barpolar\":[{\"marker\":{\"line\":{\"color\":\"#E5ECF6\",\"width\":0.5},\"pattern\":{\"fillmode\":\"overlay\",\"size\":10,\"solidity\":0.2}},\"type\":\"barpolar\"}],\"carpet\":[{\"aaxis\":{\"endlinecolor\":\"#2a3f5f\",\"gridcolor\":\"white\",\"linecolor\":\"white\",\"minorgridcolor\":\"white\",\"startlinecolor\":\"#2a3f5f\"},\"baxis\":{\"endlinecolor\":\"#2a3f5f\",\"gridcolor\":\"white\",\"linecolor\":\"white\",\"minorgridcolor\":\"white\",\"startlinecolor\":\"#2a3f5f\"},\"type\":\"carpet\"}],\"choropleth\":[{\"colorbar\":{\"outlinewidth\":0,\"ticks\":\"\"},\"type\":\"choropleth\"}],\"contour\":[{\"colorbar\":{\"outlinewidth\":0,\"ticks\":\"\"},\"colorscale\":[[0.0,\"#0d0887\"],[0.1111111111111111,\"#46039f\"],[0.2222222222222222,\"#7201a8\"],[0.3333333333333333,\"#9c179e\"],[0.4444444444444444,\"#bd3786\"],[0.5555555555555556,\"#d8576b\"],[0.6666666666666666,\"#ed7953\"],[0.7777777777777778,\"#fb9f3a\"],[0.8888888888888888,\"#fdca26\"],[1.0,\"#f0f921\"]],\"type\":\"contour\"}],\"contourcarpet\":[{\"colorbar\":{\"outlinewidth\":0,\"ticks\":\"\"},\"type\":\"contourcarpet\"}],\"heatmap\":[{\"colorbar\":{\"outlinewidth\":0,\"ticks\":\"\"},\"colorscale\":[[0.0,\"#0d0887\"],[0.1111111111111111,\"#46039f\"],[0.2222222222222222,\"#7201a8\"],[0.3333333333333333,\"#9c179e\"],[0.4444444444444444,\"#bd3786\"],[0.5555555555555556,\"#d8576b\"],[0.6666666666666666,\"#ed7953\"],[0.7777777777777778,\"#fb9f3a\"],[0.8888888888888888,\"#fdca26\"],[1.0,\"#f0f921\"]],\"type\":\"heatmap\"}],\"heatmapgl\":[{\"colorbar\":{\"outlinewidth\":0,\"ticks\":\"\"},\"colorscale\":[[0.0,\"#0d0887\"],[0.1111111111111111,\"#46039f\"],[0.2222222222222222,\"#7201a8\"],[0.3333333333333333,\"#9c179e\"],[0.4444444444444444,\"#bd3786\"],[0.5555555555555556,\"#d8576b\"],[0.6666666666666666,\"#ed7953\"],[0.7777777777777778,\"#fb9f3a\"],[0.8888888888888888,\"#fdca26\"],[1.0,\"#f0f921\"]],\"type\":\"heatmapgl\"}],\"histogram\":[{\"marker\":{\"pattern\":{\"fillmode\":\"overlay\",\"size\":10,\"solidity\":0.2}},\"type\":\"histogram\"}],\"histogram2d\":[{\"colorbar\":{\"outlinewidth\":0,\"ticks\":\"\"},\"colorscale\":[[0.0,\"#0d0887\"],[0.1111111111111111,\"#46039f\"],[0.2222222222222222,\"#7201a8\"],[0.3333333333333333,\"#9c179e\"],[0.4444444444444444,\"#bd3786\"],[0.5555555555555556,\"#d8576b\"],[0.6666666666666666,\"#ed7953\"],[0.7777777777777778,\"#fb9f3a\"],[0.8888888888888888,\"#fdca26\"],[1.0,\"#f0f921\"]],\"type\":\"histogram2d\"}],\"histogram2dcontour\":[{\"colorbar\":{\"outlinewidth\":0,\"ticks\":\"\"},\"colorscale\":[[0.0,\"#0d0887\"],[0.1111111111111111,\"#46039f\"],[0.2222222222222222,\"#7201a8\"],[0.3333333333333333,\"#9c179e\"],[0.4444444444444444,\"#bd3786\"],[0.5555555555555556,\"#d8576b\"],[0.6666666666666666,\"#ed7953\"],[0.7777777777777778,\"#fb9f3a\"],[0.8888888888888888,\"#fdca26\"],[1.0,\"#f0f921\"]],\"type\":\"histogram2dcontour\"}],\"mesh3d\":[{\"colorbar\":{\"outlinewidth\":0,\"ticks\":\"\"},\"type\":\"mesh3d\"}],\"parcoords\":[{\"line\":{\"colorbar\":{\"outlinewidth\":0,\"ticks\":\"\"}},\"type\":\"parcoords\"}],\"pie\":[{\"automargin\":true,\"type\":\"pie\"}],\"scatter\":[{\"marker\":{\"colorbar\":{\"outlinewidth\":0,\"ticks\":\"\"}},\"type\":\"scatter\"}],\"scatter3d\":[{\"line\":{\"colorbar\":{\"outlinewidth\":0,\"ticks\":\"\"}},\"marker\":{\"colorbar\":{\"outlinewidth\":0,\"ticks\":\"\"}},\"type\":\"scatter3d\"}],\"scattercarpet\":[{\"marker\":{\"colorbar\":{\"outlinewidth\":0,\"ticks\":\"\"}},\"type\":\"scattercarpet\"}],\"scattergeo\":[{\"marker\":{\"colorbar\":{\"outlinewidth\":0,\"ticks\":\"\"}},\"type\":\"scattergeo\"}],\"scattergl\":[{\"marker\":{\"colorbar\":{\"outlinewidth\":0,\"ticks\":\"\"}},\"type\":\"scattergl\"}],\"scattermapbox\":[{\"marker\":{\"colorbar\":{\"outlinewidth\":0,\"ticks\":\"\"}},\"type\":\"scattermapbox\"}],\"scatterpolar\":[{\"marker\":{\"colorbar\":{\"outlinewidth\":0,\"ticks\":\"\"}},\"type\":\"scatterpolar\"}],\"scatterpolargl\":[{\"marker\":{\"colorbar\":{\"outlinewidth\":0,\"ticks\":\"\"}},\"type\":\"scatterpolargl\"}],\"scatterternary\":[{\"marker\":{\"colorbar\":{\"outlinewidth\":0,\"ticks\":\"\"}},\"type\":\"scatterternary\"}],\"surface\":[{\"colorbar\":{\"outlinewidth\":0,\"ticks\":\"\"},\"colorscale\":[[0.0,\"#0d0887\"],[0.1111111111111111,\"#46039f\"],[0.2222222222222222,\"#7201a8\"],[0.3333333333333333,\"#9c179e\"],[0.4444444444444444,\"#bd3786\"],[0.5555555555555556,\"#d8576b\"],[0.6666666666666666,\"#ed7953\"],[0.7777777777777778,\"#fb9f3a\"],[0.8888888888888888,\"#fdca26\"],[1.0,\"#f0f921\"]],\"type\":\"surface\"}],\"table\":[{\"cells\":{\"fill\":{\"color\":\"#EBF0F8\"},\"line\":{\"color\":\"white\"}},\"header\":{\"fill\":{\"color\":\"#C8D4E3\"},\"line\":{\"color\":\"white\"}},\"type\":\"table\"}]},\"layout\":{\"annotationdefaults\":{\"arrowcolor\":\"#2a3f5f\",\"arrowhead\":0,\"arrowwidth\":1},\"autotypenumbers\":\"strict\",\"coloraxis\":{\"colorbar\":{\"outlinewidth\":0,\"ticks\":\"\"}},\"colorscale\":{\"diverging\":[[0,\"#8e0152\"],[0.1,\"#c51b7d\"],[0.2,\"#de77ae\"],[0.3,\"#f1b6da\"],[0.4,\"#fde0ef\"],[0.5,\"#f7f7f7\"],[0.6,\"#e6f5d0\"],[0.7,\"#b8e186\"],[0.8,\"#7fbc41\"],[0.9,\"#4d9221\"],[1,\"#276419\"]],\"sequential\":[[0.0,\"#0d0887\"],[0.1111111111111111,\"#46039f\"],[0.2222222222222222,\"#7201a8\"],[0.3333333333333333,\"#9c179e\"],[0.4444444444444444,\"#bd3786\"],[0.5555555555555556,\"#d8576b\"],[0.6666666666666666,\"#ed7953\"],[0.7777777777777778,\"#fb9f3a\"],[0.8888888888888888,\"#fdca26\"],[1.0,\"#f0f921\"]],\"sequentialminus\":[[0.0,\"#0d0887\"],[0.1111111111111111,\"#46039f\"],[0.2222222222222222,\"#7201a8\"],[0.3333333333333333,\"#9c179e\"],[0.4444444444444444,\"#bd3786\"],[0.5555555555555556,\"#d8576b\"],[0.6666666666666666,\"#ed7953\"],[0.7777777777777778,\"#fb9f3a\"],[0.8888888888888888,\"#fdca26\"],[1.0,\"#f0f921\"]]},\"colorway\":[\"#636efa\",\"#EF553B\",\"#00cc96\",\"#ab63fa\",\"#FFA15A\",\"#19d3f3\",\"#FF6692\",\"#B6E880\",\"#FF97FF\",\"#FECB52\"],\"font\":{\"color\":\"#2a3f5f\"},\"geo\":{\"bgcolor\":\"white\",\"lakecolor\":\"white\",\"landcolor\":\"#E5ECF6\",\"showlakes\":true,\"showland\":true,\"subunitcolor\":\"white\"},\"hoverlabel\":{\"align\":\"left\"},\"hovermode\":\"closest\",\"mapbox\":{\"style\":\"light\"},\"paper_bgcolor\":\"white\",\"plot_bgcolor\":\"#E5ECF6\",\"polar\":{\"angularaxis\":{\"gridcolor\":\"white\",\"linecolor\":\"white\",\"ticks\":\"\"},\"bgcolor\":\"#E5ECF6\",\"radialaxis\":{\"gridcolor\":\"white\",\"linecolor\":\"white\",\"ticks\":\"\"}},\"scene\":{\"xaxis\":{\"backgroundcolor\":\"#E5ECF6\",\"gridcolor\":\"white\",\"gridwidth\":2,\"linecolor\":\"white\",\"showbackground\":true,\"ticks\":\"\",\"zerolinecolor\":\"white\"},\"yaxis\":{\"backgroundcolor\":\"#E5ECF6\",\"gridcolor\":\"white\",\"gridwidth\":2,\"linecolor\":\"white\",\"showbackground\":true,\"ticks\":\"\",\"zerolinecolor\":\"white\"},\"zaxis\":{\"backgroundcolor\":\"#E5ECF6\",\"gridcolor\":\"white\",\"gridwidth\":2,\"linecolor\":\"white\",\"showbackground\":true,\"ticks\":\"\",\"zerolinecolor\":\"white\"}},\"shapedefaults\":{\"line\":{\"color\":\"#2a3f5f\"}},\"ternary\":{\"aaxis\":{\"gridcolor\":\"white\",\"linecolor\":\"white\",\"ticks\":\"\"},\"baxis\":{\"gridcolor\":\"white\",\"linecolor\":\"white\",\"ticks\":\"\"},\"bgcolor\":\"#E5ECF6\",\"caxis\":{\"gridcolor\":\"white\",\"linecolor\":\"white\",\"ticks\":\"\"}},\"title\":{\"x\":0.05},\"xaxis\":{\"automargin\":true,\"gridcolor\":\"white\",\"linecolor\":\"white\",\"ticks\":\"\",\"title\":{\"standoff\":15},\"zerolinecolor\":\"white\",\"zerolinewidth\":2},\"yaxis\":{\"automargin\":true,\"gridcolor\":\"white\",\"linecolor\":\"white\",\"ticks\":\"\",\"title\":{\"standoff\":15},\"zerolinecolor\":\"white\",\"zerolinewidth\":2}}},\"title\":{\"font\":{\"color\":\"#4D5663\"}},\"xaxis\":{\"gridcolor\":\"#E1E5ED\",\"showgrid\":true,\"tickfont\":{\"color\":\"#4D5663\"},\"title\":{\"font\":{\"color\":\"#4D5663\"},\"text\":\"\"},\"zerolinecolor\":\"#E1E5ED\"},\"yaxis\":{\"gridcolor\":\"#E1E5ED\",\"showgrid\":true,\"tickfont\":{\"color\":\"#4D5663\"},\"title\":{\"font\":{\"color\":\"#4D5663\"},\"text\":\"\"},\"zerolinecolor\":\"#E1E5ED\"}},                        {\"showLink\": true, \"linkText\": \"Export to plot.ly\", \"plotlyServerURL\": \"https://plot.ly\", \"responsive\": true}                    ).then(function(){\n",
       "                            \n",
       "var gd = document.getElementById('a25b3202-bab3-425e-ba0b-72482a7f1044');\n",
       "var x = new MutationObserver(function (mutations, observer) {{\n",
       "        var display = window.getComputedStyle(gd).display;\n",
       "        if (!display || display === 'none') {{\n",
       "            console.log([gd, 'removed!']);\n",
       "            Plotly.purge(gd);\n",
       "            observer.disconnect();\n",
       "        }}\n",
       "}});\n",
       "\n",
       "// Listen for the removal of the full notebook cells\n",
       "var notebookContainer = gd.closest('#notebook-container');\n",
       "if (notebookContainer) {{\n",
       "    x.observe(notebookContainer, {childList: true});\n",
       "}}\n",
       "\n",
       "// Listen for the clearing of the current output cell\n",
       "var outputEl = gd.closest('.output');\n",
       "if (outputEl) {{\n",
       "    x.observe(outputEl, {childList: true});\n",
       "}}\n",
       "\n",
       "                        })                };                });            </script>        </div>"
      ]
     },
     "metadata": {},
     "output_type": "display_data"
    }
   ],
   "source": [
    "df.iplot(kind='box')"
   ]
  },
  {
   "cell_type": "code",
   "execution_count": 70,
   "id": "23ff3e5a",
   "metadata": {},
   "outputs": [],
   "source": [
    "#criação de superficies 3d\n",
    "df3 = pd.DataFrame({'x':[1, 2, 3, 4, 5], 'y':[10, 20, 30, 40, 50], 'z':[5, 4, 3, 2, 1]})"
   ]
  },
  {
   "cell_type": "code",
   "execution_count": 71,
   "id": "e9c61e1f",
   "metadata": {},
   "outputs": [
    {
     "data": {
      "text/html": [
       "<div>\n",
       "<style scoped>\n",
       "    .dataframe tbody tr th:only-of-type {\n",
       "        vertical-align: middle;\n",
       "    }\n",
       "\n",
       "    .dataframe tbody tr th {\n",
       "        vertical-align: top;\n",
       "    }\n",
       "\n",
       "    .dataframe thead th {\n",
       "        text-align: right;\n",
       "    }\n",
       "</style>\n",
       "<table border=\"1\" class=\"dataframe\">\n",
       "  <thead>\n",
       "    <tr style=\"text-align: right;\">\n",
       "      <th></th>\n",
       "      <th>x</th>\n",
       "      <th>y</th>\n",
       "      <th>z</th>\n",
       "    </tr>\n",
       "  </thead>\n",
       "  <tbody>\n",
       "    <tr>\n",
       "      <th>0</th>\n",
       "      <td>1</td>\n",
       "      <td>10</td>\n",
       "      <td>5</td>\n",
       "    </tr>\n",
       "    <tr>\n",
       "      <th>1</th>\n",
       "      <td>2</td>\n",
       "      <td>20</td>\n",
       "      <td>4</td>\n",
       "    </tr>\n",
       "    <tr>\n",
       "      <th>2</th>\n",
       "      <td>3</td>\n",
       "      <td>30</td>\n",
       "      <td>3</td>\n",
       "    </tr>\n",
       "    <tr>\n",
       "      <th>3</th>\n",
       "      <td>4</td>\n",
       "      <td>40</td>\n",
       "      <td>2</td>\n",
       "    </tr>\n",
       "    <tr>\n",
       "      <th>4</th>\n",
       "      <td>5</td>\n",
       "      <td>50</td>\n",
       "      <td>1</td>\n",
       "    </tr>\n",
       "  </tbody>\n",
       "</table>\n",
       "</div>"
      ],
      "text/plain": [
       "   x   y  z\n",
       "0  1  10  5\n",
       "1  2  20  4\n",
       "2  3  30  3\n",
       "3  4  40  2\n",
       "4  5  50  1"
      ]
     },
     "execution_count": 71,
     "metadata": {},
     "output_type": "execute_result"
    }
   ],
   "source": [
    "df3"
   ]
  },
  {
   "cell_type": "code",
   "execution_count": 75,
   "id": "d7c6c3c8",
   "metadata": {},
   "outputs": [
    {
     "data": {
      "application/vnd.plotly.v1+json": {
       "config": {
        "linkText": "Export to plot.ly",
        "plotlyServerURL": "https://plot.ly",
        "showLink": true
       },
       "data": [
        {
         "colorscale": [
          [
           0,
           "rgb(165,0,38)"
          ],
          [
           0.1,
           "rgb(215,48,39)"
          ],
          [
           0.2,
           "rgb(244,109,67)"
          ],
          [
           0.3,
           "rgb(253,174,97)"
          ],
          [
           0.4,
           "rgb(254,224,144)"
          ],
          [
           0.5,
           "rgb(255,255,191)"
          ],
          [
           0.6,
           "rgb(224,243,248)"
          ],
          [
           0.7,
           "rgb(171,217,233)"
          ],
          [
           0.8,
           "rgb(116,173,209)"
          ],
          [
           0.9,
           "rgb(69,117,180)"
          ],
          [
           1,
           "rgb(49,54,149)"
          ]
         ],
         "type": "surface",
         "x": [
          0,
          1,
          2,
          3,
          4
         ],
         "y": [
          "x",
          "y",
          "z"
         ],
         "z": [
          [
           1,
           2,
           3,
           4,
           5
          ],
          [
           10,
           20,
           30,
           40,
           50
          ],
          [
           5,
           4,
           3,
           2,
           1
          ]
         ]
        }
       ],
       "layout": {
        "legend": {
         "bgcolor": "#F5F6F9",
         "font": {
          "color": "#4D5663"
         }
        },
        "paper_bgcolor": "#F5F6F9",
        "plot_bgcolor": "#F5F6F9",
        "template": {
         "data": {
          "bar": [
           {
            "error_x": {
             "color": "#2a3f5f"
            },
            "error_y": {
             "color": "#2a3f5f"
            },
            "marker": {
             "line": {
              "color": "#E5ECF6",
              "width": 0.5
             },
             "pattern": {
              "fillmode": "overlay",
              "size": 10,
              "solidity": 0.2
             }
            },
            "type": "bar"
           }
          ],
          "barpolar": [
           {
            "marker": {
             "line": {
              "color": "#E5ECF6",
              "width": 0.5
             },
             "pattern": {
              "fillmode": "overlay",
              "size": 10,
              "solidity": 0.2
             }
            },
            "type": "barpolar"
           }
          ],
          "carpet": [
           {
            "aaxis": {
             "endlinecolor": "#2a3f5f",
             "gridcolor": "white",
             "linecolor": "white",
             "minorgridcolor": "white",
             "startlinecolor": "#2a3f5f"
            },
            "baxis": {
             "endlinecolor": "#2a3f5f",
             "gridcolor": "white",
             "linecolor": "white",
             "minorgridcolor": "white",
             "startlinecolor": "#2a3f5f"
            },
            "type": "carpet"
           }
          ],
          "choropleth": [
           {
            "colorbar": {
             "outlinewidth": 0,
             "ticks": ""
            },
            "type": "choropleth"
           }
          ],
          "contour": [
           {
            "colorbar": {
             "outlinewidth": 0,
             "ticks": ""
            },
            "colorscale": [
             [
              0,
              "#0d0887"
             ],
             [
              0.1111111111111111,
              "#46039f"
             ],
             [
              0.2222222222222222,
              "#7201a8"
             ],
             [
              0.3333333333333333,
              "#9c179e"
             ],
             [
              0.4444444444444444,
              "#bd3786"
             ],
             [
              0.5555555555555556,
              "#d8576b"
             ],
             [
              0.6666666666666666,
              "#ed7953"
             ],
             [
              0.7777777777777778,
              "#fb9f3a"
             ],
             [
              0.8888888888888888,
              "#fdca26"
             ],
             [
              1,
              "#f0f921"
             ]
            ],
            "type": "contour"
           }
          ],
          "contourcarpet": [
           {
            "colorbar": {
             "outlinewidth": 0,
             "ticks": ""
            },
            "type": "contourcarpet"
           }
          ],
          "heatmap": [
           {
            "colorbar": {
             "outlinewidth": 0,
             "ticks": ""
            },
            "colorscale": [
             [
              0,
              "#0d0887"
             ],
             [
              0.1111111111111111,
              "#46039f"
             ],
             [
              0.2222222222222222,
              "#7201a8"
             ],
             [
              0.3333333333333333,
              "#9c179e"
             ],
             [
              0.4444444444444444,
              "#bd3786"
             ],
             [
              0.5555555555555556,
              "#d8576b"
             ],
             [
              0.6666666666666666,
              "#ed7953"
             ],
             [
              0.7777777777777778,
              "#fb9f3a"
             ],
             [
              0.8888888888888888,
              "#fdca26"
             ],
             [
              1,
              "#f0f921"
             ]
            ],
            "type": "heatmap"
           }
          ],
          "heatmapgl": [
           {
            "colorbar": {
             "outlinewidth": 0,
             "ticks": ""
            },
            "colorscale": [
             [
              0,
              "#0d0887"
             ],
             [
              0.1111111111111111,
              "#46039f"
             ],
             [
              0.2222222222222222,
              "#7201a8"
             ],
             [
              0.3333333333333333,
              "#9c179e"
             ],
             [
              0.4444444444444444,
              "#bd3786"
             ],
             [
              0.5555555555555556,
              "#d8576b"
             ],
             [
              0.6666666666666666,
              "#ed7953"
             ],
             [
              0.7777777777777778,
              "#fb9f3a"
             ],
             [
              0.8888888888888888,
              "#fdca26"
             ],
             [
              1,
              "#f0f921"
             ]
            ],
            "type": "heatmapgl"
           }
          ],
          "histogram": [
           {
            "marker": {
             "pattern": {
              "fillmode": "overlay",
              "size": 10,
              "solidity": 0.2
             }
            },
            "type": "histogram"
           }
          ],
          "histogram2d": [
           {
            "colorbar": {
             "outlinewidth": 0,
             "ticks": ""
            },
            "colorscale": [
             [
              0,
              "#0d0887"
             ],
             [
              0.1111111111111111,
              "#46039f"
             ],
             [
              0.2222222222222222,
              "#7201a8"
             ],
             [
              0.3333333333333333,
              "#9c179e"
             ],
             [
              0.4444444444444444,
              "#bd3786"
             ],
             [
              0.5555555555555556,
              "#d8576b"
             ],
             [
              0.6666666666666666,
              "#ed7953"
             ],
             [
              0.7777777777777778,
              "#fb9f3a"
             ],
             [
              0.8888888888888888,
              "#fdca26"
             ],
             [
              1,
              "#f0f921"
             ]
            ],
            "type": "histogram2d"
           }
          ],
          "histogram2dcontour": [
           {
            "colorbar": {
             "outlinewidth": 0,
             "ticks": ""
            },
            "colorscale": [
             [
              0,
              "#0d0887"
             ],
             [
              0.1111111111111111,
              "#46039f"
             ],
             [
              0.2222222222222222,
              "#7201a8"
             ],
             [
              0.3333333333333333,
              "#9c179e"
             ],
             [
              0.4444444444444444,
              "#bd3786"
             ],
             [
              0.5555555555555556,
              "#d8576b"
             ],
             [
              0.6666666666666666,
              "#ed7953"
             ],
             [
              0.7777777777777778,
              "#fb9f3a"
             ],
             [
              0.8888888888888888,
              "#fdca26"
             ],
             [
              1,
              "#f0f921"
             ]
            ],
            "type": "histogram2dcontour"
           }
          ],
          "mesh3d": [
           {
            "colorbar": {
             "outlinewidth": 0,
             "ticks": ""
            },
            "type": "mesh3d"
           }
          ],
          "parcoords": [
           {
            "line": {
             "colorbar": {
              "outlinewidth": 0,
              "ticks": ""
             }
            },
            "type": "parcoords"
           }
          ],
          "pie": [
           {
            "automargin": true,
            "type": "pie"
           }
          ],
          "scatter": [
           {
            "marker": {
             "colorbar": {
              "outlinewidth": 0,
              "ticks": ""
             }
            },
            "type": "scatter"
           }
          ],
          "scatter3d": [
           {
            "line": {
             "colorbar": {
              "outlinewidth": 0,
              "ticks": ""
             }
            },
            "marker": {
             "colorbar": {
              "outlinewidth": 0,
              "ticks": ""
             }
            },
            "type": "scatter3d"
           }
          ],
          "scattercarpet": [
           {
            "marker": {
             "colorbar": {
              "outlinewidth": 0,
              "ticks": ""
             }
            },
            "type": "scattercarpet"
           }
          ],
          "scattergeo": [
           {
            "marker": {
             "colorbar": {
              "outlinewidth": 0,
              "ticks": ""
             }
            },
            "type": "scattergeo"
           }
          ],
          "scattergl": [
           {
            "marker": {
             "colorbar": {
              "outlinewidth": 0,
              "ticks": ""
             }
            },
            "type": "scattergl"
           }
          ],
          "scattermapbox": [
           {
            "marker": {
             "colorbar": {
              "outlinewidth": 0,
              "ticks": ""
             }
            },
            "type": "scattermapbox"
           }
          ],
          "scatterpolar": [
           {
            "marker": {
             "colorbar": {
              "outlinewidth": 0,
              "ticks": ""
             }
            },
            "type": "scatterpolar"
           }
          ],
          "scatterpolargl": [
           {
            "marker": {
             "colorbar": {
              "outlinewidth": 0,
              "ticks": ""
             }
            },
            "type": "scatterpolargl"
           }
          ],
          "scatterternary": [
           {
            "marker": {
             "colorbar": {
              "outlinewidth": 0,
              "ticks": ""
             }
            },
            "type": "scatterternary"
           }
          ],
          "surface": [
           {
            "colorbar": {
             "outlinewidth": 0,
             "ticks": ""
            },
            "colorscale": [
             [
              0,
              "#0d0887"
             ],
             [
              0.1111111111111111,
              "#46039f"
             ],
             [
              0.2222222222222222,
              "#7201a8"
             ],
             [
              0.3333333333333333,
              "#9c179e"
             ],
             [
              0.4444444444444444,
              "#bd3786"
             ],
             [
              0.5555555555555556,
              "#d8576b"
             ],
             [
              0.6666666666666666,
              "#ed7953"
             ],
             [
              0.7777777777777778,
              "#fb9f3a"
             ],
             [
              0.8888888888888888,
              "#fdca26"
             ],
             [
              1,
              "#f0f921"
             ]
            ],
            "type": "surface"
           }
          ],
          "table": [
           {
            "cells": {
             "fill": {
              "color": "#EBF0F8"
             },
             "line": {
              "color": "white"
             }
            },
            "header": {
             "fill": {
              "color": "#C8D4E3"
             },
             "line": {
              "color": "white"
             }
            },
            "type": "table"
           }
          ]
         },
         "layout": {
          "annotationdefaults": {
           "arrowcolor": "#2a3f5f",
           "arrowhead": 0,
           "arrowwidth": 1
          },
          "autotypenumbers": "strict",
          "coloraxis": {
           "colorbar": {
            "outlinewidth": 0,
            "ticks": ""
           }
          },
          "colorscale": {
           "diverging": [
            [
             0,
             "#8e0152"
            ],
            [
             0.1,
             "#c51b7d"
            ],
            [
             0.2,
             "#de77ae"
            ],
            [
             0.3,
             "#f1b6da"
            ],
            [
             0.4,
             "#fde0ef"
            ],
            [
             0.5,
             "#f7f7f7"
            ],
            [
             0.6,
             "#e6f5d0"
            ],
            [
             0.7,
             "#b8e186"
            ],
            [
             0.8,
             "#7fbc41"
            ],
            [
             0.9,
             "#4d9221"
            ],
            [
             1,
             "#276419"
            ]
           ],
           "sequential": [
            [
             0,
             "#0d0887"
            ],
            [
             0.1111111111111111,
             "#46039f"
            ],
            [
             0.2222222222222222,
             "#7201a8"
            ],
            [
             0.3333333333333333,
             "#9c179e"
            ],
            [
             0.4444444444444444,
             "#bd3786"
            ],
            [
             0.5555555555555556,
             "#d8576b"
            ],
            [
             0.6666666666666666,
             "#ed7953"
            ],
            [
             0.7777777777777778,
             "#fb9f3a"
            ],
            [
             0.8888888888888888,
             "#fdca26"
            ],
            [
             1,
             "#f0f921"
            ]
           ],
           "sequentialminus": [
            [
             0,
             "#0d0887"
            ],
            [
             0.1111111111111111,
             "#46039f"
            ],
            [
             0.2222222222222222,
             "#7201a8"
            ],
            [
             0.3333333333333333,
             "#9c179e"
            ],
            [
             0.4444444444444444,
             "#bd3786"
            ],
            [
             0.5555555555555556,
             "#d8576b"
            ],
            [
             0.6666666666666666,
             "#ed7953"
            ],
            [
             0.7777777777777778,
             "#fb9f3a"
            ],
            [
             0.8888888888888888,
             "#fdca26"
            ],
            [
             1,
             "#f0f921"
            ]
           ]
          },
          "colorway": [
           "#636efa",
           "#EF553B",
           "#00cc96",
           "#ab63fa",
           "#FFA15A",
           "#19d3f3",
           "#FF6692",
           "#B6E880",
           "#FF97FF",
           "#FECB52"
          ],
          "font": {
           "color": "#2a3f5f"
          },
          "geo": {
           "bgcolor": "white",
           "lakecolor": "white",
           "landcolor": "#E5ECF6",
           "showlakes": true,
           "showland": true,
           "subunitcolor": "white"
          },
          "hoverlabel": {
           "align": "left"
          },
          "hovermode": "closest",
          "mapbox": {
           "style": "light"
          },
          "paper_bgcolor": "white",
          "plot_bgcolor": "#E5ECF6",
          "polar": {
           "angularaxis": {
            "gridcolor": "white",
            "linecolor": "white",
            "ticks": ""
           },
           "bgcolor": "#E5ECF6",
           "radialaxis": {
            "gridcolor": "white",
            "linecolor": "white",
            "ticks": ""
           }
          },
          "scene": {
           "xaxis": {
            "backgroundcolor": "#E5ECF6",
            "gridcolor": "white",
            "gridwidth": 2,
            "linecolor": "white",
            "showbackground": true,
            "ticks": "",
            "zerolinecolor": "white"
           },
           "yaxis": {
            "backgroundcolor": "#E5ECF6",
            "gridcolor": "white",
            "gridwidth": 2,
            "linecolor": "white",
            "showbackground": true,
            "ticks": "",
            "zerolinecolor": "white"
           },
           "zaxis": {
            "backgroundcolor": "#E5ECF6",
            "gridcolor": "white",
            "gridwidth": 2,
            "linecolor": "white",
            "showbackground": true,
            "ticks": "",
            "zerolinecolor": "white"
           }
          },
          "shapedefaults": {
           "line": {
            "color": "#2a3f5f"
           }
          },
          "ternary": {
           "aaxis": {
            "gridcolor": "white",
            "linecolor": "white",
            "ticks": ""
           },
           "baxis": {
            "gridcolor": "white",
            "linecolor": "white",
            "ticks": ""
           },
           "bgcolor": "#E5ECF6",
           "caxis": {
            "gridcolor": "white",
            "linecolor": "white",
            "ticks": ""
           }
          },
          "title": {
           "x": 0.05
          },
          "xaxis": {
           "automargin": true,
           "gridcolor": "white",
           "linecolor": "white",
           "ticks": "",
           "title": {
            "standoff": 15
           },
           "zerolinecolor": "white",
           "zerolinewidth": 2
          },
          "yaxis": {
           "automargin": true,
           "gridcolor": "white",
           "linecolor": "white",
           "ticks": "",
           "title": {
            "standoff": 15
           },
           "zerolinecolor": "white",
           "zerolinewidth": 2
          }
         }
        },
        "title": {
         "font": {
          "color": "#4D5663"
         }
        },
        "xaxis": {
         "gridcolor": "#E1E5ED",
         "showgrid": true,
         "tickfont": {
          "color": "#4D5663"
         },
         "title": {
          "font": {
           "color": "#4D5663"
          },
          "text": ""
         },
         "zerolinecolor": "#E1E5ED"
        },
        "yaxis": {
         "gridcolor": "#E1E5ED",
         "showgrid": true,
         "tickfont": {
          "color": "#4D5663"
         },
         "title": {
          "font": {
           "color": "#4D5663"
          },
          "text": ""
         },
         "zerolinecolor": "#E1E5ED"
        }
       }
      },
      "text/html": [
       "<div>                            <div id=\"47737b5d-4ea3-4b3f-9cca-e00372f0d16b\" class=\"plotly-graph-div\" style=\"height:525px; width:100%;\"></div>            <script type=\"text/javascript\">                require([\"plotly\"], function(Plotly) {                    window.PLOTLYENV=window.PLOTLYENV || {};\n",
       "                    window.PLOTLYENV.BASE_URL='https://plot.ly';                                    if (document.getElementById(\"47737b5d-4ea3-4b3f-9cca-e00372f0d16b\")) {                    Plotly.newPlot(                        \"47737b5d-4ea3-4b3f-9cca-e00372f0d16b\",                        [{\"colorscale\":[[0.0,\"rgb(165,0,38)\"],[0.1,\"rgb(215,48,39)\"],[0.2,\"rgb(244,109,67)\"],[0.3,\"rgb(253,174,97)\"],[0.4,\"rgb(254,224,144)\"],[0.5,\"rgb(255,255,191)\"],[0.6,\"rgb(224,243,248)\"],[0.7,\"rgb(171,217,233)\"],[0.8,\"rgb(116,173,209)\"],[0.9,\"rgb(69,117,180)\"],[1.0,\"rgb(49,54,149)\"]],\"type\":\"surface\",\"x\":[0,1,2,3,4],\"y\":[\"x\",\"y\",\"z\"],\"z\":[[1,2,3,4,5],[10,20,30,40,50],[5,4,3,2,1]]}],                        {\"legend\":{\"bgcolor\":\"#F5F6F9\",\"font\":{\"color\":\"#4D5663\"}},\"paper_bgcolor\":\"#F5F6F9\",\"plot_bgcolor\":\"#F5F6F9\",\"template\":{\"data\":{\"bar\":[{\"error_x\":{\"color\":\"#2a3f5f\"},\"error_y\":{\"color\":\"#2a3f5f\"},\"marker\":{\"line\":{\"color\":\"#E5ECF6\",\"width\":0.5},\"pattern\":{\"fillmode\":\"overlay\",\"size\":10,\"solidity\":0.2}},\"type\":\"bar\"}],\"barpolar\":[{\"marker\":{\"line\":{\"color\":\"#E5ECF6\",\"width\":0.5},\"pattern\":{\"fillmode\":\"overlay\",\"size\":10,\"solidity\":0.2}},\"type\":\"barpolar\"}],\"carpet\":[{\"aaxis\":{\"endlinecolor\":\"#2a3f5f\",\"gridcolor\":\"white\",\"linecolor\":\"white\",\"minorgridcolor\":\"white\",\"startlinecolor\":\"#2a3f5f\"},\"baxis\":{\"endlinecolor\":\"#2a3f5f\",\"gridcolor\":\"white\",\"linecolor\":\"white\",\"minorgridcolor\":\"white\",\"startlinecolor\":\"#2a3f5f\"},\"type\":\"carpet\"}],\"choropleth\":[{\"colorbar\":{\"outlinewidth\":0,\"ticks\":\"\"},\"type\":\"choropleth\"}],\"contour\":[{\"colorbar\":{\"outlinewidth\":0,\"ticks\":\"\"},\"colorscale\":[[0.0,\"#0d0887\"],[0.1111111111111111,\"#46039f\"],[0.2222222222222222,\"#7201a8\"],[0.3333333333333333,\"#9c179e\"],[0.4444444444444444,\"#bd3786\"],[0.5555555555555556,\"#d8576b\"],[0.6666666666666666,\"#ed7953\"],[0.7777777777777778,\"#fb9f3a\"],[0.8888888888888888,\"#fdca26\"],[1.0,\"#f0f921\"]],\"type\":\"contour\"}],\"contourcarpet\":[{\"colorbar\":{\"outlinewidth\":0,\"ticks\":\"\"},\"type\":\"contourcarpet\"}],\"heatmap\":[{\"colorbar\":{\"outlinewidth\":0,\"ticks\":\"\"},\"colorscale\":[[0.0,\"#0d0887\"],[0.1111111111111111,\"#46039f\"],[0.2222222222222222,\"#7201a8\"],[0.3333333333333333,\"#9c179e\"],[0.4444444444444444,\"#bd3786\"],[0.5555555555555556,\"#d8576b\"],[0.6666666666666666,\"#ed7953\"],[0.7777777777777778,\"#fb9f3a\"],[0.8888888888888888,\"#fdca26\"],[1.0,\"#f0f921\"]],\"type\":\"heatmap\"}],\"heatmapgl\":[{\"colorbar\":{\"outlinewidth\":0,\"ticks\":\"\"},\"colorscale\":[[0.0,\"#0d0887\"],[0.1111111111111111,\"#46039f\"],[0.2222222222222222,\"#7201a8\"],[0.3333333333333333,\"#9c179e\"],[0.4444444444444444,\"#bd3786\"],[0.5555555555555556,\"#d8576b\"],[0.6666666666666666,\"#ed7953\"],[0.7777777777777778,\"#fb9f3a\"],[0.8888888888888888,\"#fdca26\"],[1.0,\"#f0f921\"]],\"type\":\"heatmapgl\"}],\"histogram\":[{\"marker\":{\"pattern\":{\"fillmode\":\"overlay\",\"size\":10,\"solidity\":0.2}},\"type\":\"histogram\"}],\"histogram2d\":[{\"colorbar\":{\"outlinewidth\":0,\"ticks\":\"\"},\"colorscale\":[[0.0,\"#0d0887\"],[0.1111111111111111,\"#46039f\"],[0.2222222222222222,\"#7201a8\"],[0.3333333333333333,\"#9c179e\"],[0.4444444444444444,\"#bd3786\"],[0.5555555555555556,\"#d8576b\"],[0.6666666666666666,\"#ed7953\"],[0.7777777777777778,\"#fb9f3a\"],[0.8888888888888888,\"#fdca26\"],[1.0,\"#f0f921\"]],\"type\":\"histogram2d\"}],\"histogram2dcontour\":[{\"colorbar\":{\"outlinewidth\":0,\"ticks\":\"\"},\"colorscale\":[[0.0,\"#0d0887\"],[0.1111111111111111,\"#46039f\"],[0.2222222222222222,\"#7201a8\"],[0.3333333333333333,\"#9c179e\"],[0.4444444444444444,\"#bd3786\"],[0.5555555555555556,\"#d8576b\"],[0.6666666666666666,\"#ed7953\"],[0.7777777777777778,\"#fb9f3a\"],[0.8888888888888888,\"#fdca26\"],[1.0,\"#f0f921\"]],\"type\":\"histogram2dcontour\"}],\"mesh3d\":[{\"colorbar\":{\"outlinewidth\":0,\"ticks\":\"\"},\"type\":\"mesh3d\"}],\"parcoords\":[{\"line\":{\"colorbar\":{\"outlinewidth\":0,\"ticks\":\"\"}},\"type\":\"parcoords\"}],\"pie\":[{\"automargin\":true,\"type\":\"pie\"}],\"scatter\":[{\"marker\":{\"colorbar\":{\"outlinewidth\":0,\"ticks\":\"\"}},\"type\":\"scatter\"}],\"scatter3d\":[{\"line\":{\"colorbar\":{\"outlinewidth\":0,\"ticks\":\"\"}},\"marker\":{\"colorbar\":{\"outlinewidth\":0,\"ticks\":\"\"}},\"type\":\"scatter3d\"}],\"scattercarpet\":[{\"marker\":{\"colorbar\":{\"outlinewidth\":0,\"ticks\":\"\"}},\"type\":\"scattercarpet\"}],\"scattergeo\":[{\"marker\":{\"colorbar\":{\"outlinewidth\":0,\"ticks\":\"\"}},\"type\":\"scattergeo\"}],\"scattergl\":[{\"marker\":{\"colorbar\":{\"outlinewidth\":0,\"ticks\":\"\"}},\"type\":\"scattergl\"}],\"scattermapbox\":[{\"marker\":{\"colorbar\":{\"outlinewidth\":0,\"ticks\":\"\"}},\"type\":\"scattermapbox\"}],\"scatterpolar\":[{\"marker\":{\"colorbar\":{\"outlinewidth\":0,\"ticks\":\"\"}},\"type\":\"scatterpolar\"}],\"scatterpolargl\":[{\"marker\":{\"colorbar\":{\"outlinewidth\":0,\"ticks\":\"\"}},\"type\":\"scatterpolargl\"}],\"scatterternary\":[{\"marker\":{\"colorbar\":{\"outlinewidth\":0,\"ticks\":\"\"}},\"type\":\"scatterternary\"}],\"surface\":[{\"colorbar\":{\"outlinewidth\":0,\"ticks\":\"\"},\"colorscale\":[[0.0,\"#0d0887\"],[0.1111111111111111,\"#46039f\"],[0.2222222222222222,\"#7201a8\"],[0.3333333333333333,\"#9c179e\"],[0.4444444444444444,\"#bd3786\"],[0.5555555555555556,\"#d8576b\"],[0.6666666666666666,\"#ed7953\"],[0.7777777777777778,\"#fb9f3a\"],[0.8888888888888888,\"#fdca26\"],[1.0,\"#f0f921\"]],\"type\":\"surface\"}],\"table\":[{\"cells\":{\"fill\":{\"color\":\"#EBF0F8\"},\"line\":{\"color\":\"white\"}},\"header\":{\"fill\":{\"color\":\"#C8D4E3\"},\"line\":{\"color\":\"white\"}},\"type\":\"table\"}]},\"layout\":{\"annotationdefaults\":{\"arrowcolor\":\"#2a3f5f\",\"arrowhead\":0,\"arrowwidth\":1},\"autotypenumbers\":\"strict\",\"coloraxis\":{\"colorbar\":{\"outlinewidth\":0,\"ticks\":\"\"}},\"colorscale\":{\"diverging\":[[0,\"#8e0152\"],[0.1,\"#c51b7d\"],[0.2,\"#de77ae\"],[0.3,\"#f1b6da\"],[0.4,\"#fde0ef\"],[0.5,\"#f7f7f7\"],[0.6,\"#e6f5d0\"],[0.7,\"#b8e186\"],[0.8,\"#7fbc41\"],[0.9,\"#4d9221\"],[1,\"#276419\"]],\"sequential\":[[0.0,\"#0d0887\"],[0.1111111111111111,\"#46039f\"],[0.2222222222222222,\"#7201a8\"],[0.3333333333333333,\"#9c179e\"],[0.4444444444444444,\"#bd3786\"],[0.5555555555555556,\"#d8576b\"],[0.6666666666666666,\"#ed7953\"],[0.7777777777777778,\"#fb9f3a\"],[0.8888888888888888,\"#fdca26\"],[1.0,\"#f0f921\"]],\"sequentialminus\":[[0.0,\"#0d0887\"],[0.1111111111111111,\"#46039f\"],[0.2222222222222222,\"#7201a8\"],[0.3333333333333333,\"#9c179e\"],[0.4444444444444444,\"#bd3786\"],[0.5555555555555556,\"#d8576b\"],[0.6666666666666666,\"#ed7953\"],[0.7777777777777778,\"#fb9f3a\"],[0.8888888888888888,\"#fdca26\"],[1.0,\"#f0f921\"]]},\"colorway\":[\"#636efa\",\"#EF553B\",\"#00cc96\",\"#ab63fa\",\"#FFA15A\",\"#19d3f3\",\"#FF6692\",\"#B6E880\",\"#FF97FF\",\"#FECB52\"],\"font\":{\"color\":\"#2a3f5f\"},\"geo\":{\"bgcolor\":\"white\",\"lakecolor\":\"white\",\"landcolor\":\"#E5ECF6\",\"showlakes\":true,\"showland\":true,\"subunitcolor\":\"white\"},\"hoverlabel\":{\"align\":\"left\"},\"hovermode\":\"closest\",\"mapbox\":{\"style\":\"light\"},\"paper_bgcolor\":\"white\",\"plot_bgcolor\":\"#E5ECF6\",\"polar\":{\"angularaxis\":{\"gridcolor\":\"white\",\"linecolor\":\"white\",\"ticks\":\"\"},\"bgcolor\":\"#E5ECF6\",\"radialaxis\":{\"gridcolor\":\"white\",\"linecolor\":\"white\",\"ticks\":\"\"}},\"scene\":{\"xaxis\":{\"backgroundcolor\":\"#E5ECF6\",\"gridcolor\":\"white\",\"gridwidth\":2,\"linecolor\":\"white\",\"showbackground\":true,\"ticks\":\"\",\"zerolinecolor\":\"white\"},\"yaxis\":{\"backgroundcolor\":\"#E5ECF6\",\"gridcolor\":\"white\",\"gridwidth\":2,\"linecolor\":\"white\",\"showbackground\":true,\"ticks\":\"\",\"zerolinecolor\":\"white\"},\"zaxis\":{\"backgroundcolor\":\"#E5ECF6\",\"gridcolor\":\"white\",\"gridwidth\":2,\"linecolor\":\"white\",\"showbackground\":true,\"ticks\":\"\",\"zerolinecolor\":\"white\"}},\"shapedefaults\":{\"line\":{\"color\":\"#2a3f5f\"}},\"ternary\":{\"aaxis\":{\"gridcolor\":\"white\",\"linecolor\":\"white\",\"ticks\":\"\"},\"baxis\":{\"gridcolor\":\"white\",\"linecolor\":\"white\",\"ticks\":\"\"},\"bgcolor\":\"#E5ECF6\",\"caxis\":{\"gridcolor\":\"white\",\"linecolor\":\"white\",\"ticks\":\"\"}},\"title\":{\"x\":0.05},\"xaxis\":{\"automargin\":true,\"gridcolor\":\"white\",\"linecolor\":\"white\",\"ticks\":\"\",\"title\":{\"standoff\":15},\"zerolinecolor\":\"white\",\"zerolinewidth\":2},\"yaxis\":{\"automargin\":true,\"gridcolor\":\"white\",\"linecolor\":\"white\",\"ticks\":\"\",\"title\":{\"standoff\":15},\"zerolinecolor\":\"white\",\"zerolinewidth\":2}}},\"title\":{\"font\":{\"color\":\"#4D5663\"}},\"xaxis\":{\"gridcolor\":\"#E1E5ED\",\"showgrid\":true,\"tickfont\":{\"color\":\"#4D5663\"},\"title\":{\"font\":{\"color\":\"#4D5663\"},\"text\":\"\"},\"zerolinecolor\":\"#E1E5ED\"},\"yaxis\":{\"gridcolor\":\"#E1E5ED\",\"showgrid\":true,\"tickfont\":{\"color\":\"#4D5663\"},\"title\":{\"font\":{\"color\":\"#4D5663\"},\"text\":\"\"},\"zerolinecolor\":\"#E1E5ED\"}},                        {\"showLink\": true, \"linkText\": \"Export to plot.ly\", \"plotlyServerURL\": \"https://plot.ly\", \"responsive\": true}                    ).then(function(){\n",
       "                            \n",
       "var gd = document.getElementById('47737b5d-4ea3-4b3f-9cca-e00372f0d16b');\n",
       "var x = new MutationObserver(function (mutations, observer) {{\n",
       "        var display = window.getComputedStyle(gd).display;\n",
       "        if (!display || display === 'none') {{\n",
       "            console.log([gd, 'removed!']);\n",
       "            Plotly.purge(gd);\n",
       "            observer.disconnect();\n",
       "        }}\n",
       "}});\n",
       "\n",
       "// Listen for the removal of the full notebook cells\n",
       "var notebookContainer = gd.closest('#notebook-container');\n",
       "if (notebookContainer) {{\n",
       "    x.observe(notebookContainer, {childList: true});\n",
       "}}\n",
       "\n",
       "// Listen for the clearing of the current output cell\n",
       "var outputEl = gd.closest('.output');\n",
       "if (outputEl) {{\n",
       "    x.observe(outputEl, {childList: true});\n",
       "}}\n",
       "\n",
       "                        })                };                });            </script>        </div>"
      ]
     },
     "metadata": {},
     "output_type": "display_data"
    }
   ],
   "source": [
    "df3.iplot(kind='surface', colorscale='rdylbu')"
   ]
  },
  {
   "cell_type": "code",
   "execution_count": 38,
   "id": "5d8b2b88",
   "metadata": {},
   "outputs": [
    {
     "name": "stderr",
     "output_type": "stream",
     "text": [
      "C:\\ProgramData\\Anaconda3\\lib\\site-packages\\cufflinks\\plotlytools.py:849: FutureWarning:\n",
      "\n",
      "The pandas.np module is deprecated and will be removed from pandas in a future version. Import numpy directly instead\n",
      "\n",
      "C:\\ProgramData\\Anaconda3\\lib\\site-packages\\cufflinks\\plotlytools.py:850: FutureWarning:\n",
      "\n",
      "The pandas.np module is deprecated and will be removed from pandas in a future version. Import numpy directly instead\n",
      "\n"
     ]
    },
    {
     "data": {
      "application/vnd.plotly.v1+json": {
       "config": {
        "linkText": "Export to plot.ly",
        "plotlyServerURL": "https://plot.ly",
        "showLink": true
       },
       "data": [
        {
         "line": {
          "color": "rgba(255, 153, 51, 1.0)",
          "dash": "solid",
          "shape": "linear",
          "width": 1.3
         },
         "mode": "lines",
         "name": "A",
         "text": "",
         "type": "scatter",
         "x": [
          0,
          1,
          2,
          3,
          4,
          5,
          6,
          7,
          8,
          9,
          10,
          11,
          12,
          13,
          14,
          15,
          16,
          17,
          18,
          19,
          20,
          21,
          22,
          23,
          24,
          25,
          26,
          27,
          28,
          29,
          30,
          31,
          32,
          33,
          34,
          35,
          36,
          37,
          38,
          39,
          40,
          41,
          42,
          43,
          44,
          45,
          46,
          47,
          48,
          49,
          50,
          51,
          52,
          53,
          54,
          55,
          56,
          57,
          58,
          59,
          60,
          61,
          62,
          63,
          64,
          65,
          66,
          67,
          68,
          69,
          70,
          71,
          72,
          73,
          74,
          75,
          76,
          77,
          78,
          79,
          80,
          81,
          82,
          83,
          84,
          85,
          86,
          87,
          88,
          89,
          90,
          91,
          92,
          93,
          94,
          95,
          96,
          97,
          98,
          99
         ],
         "y": [
          -0.9689814687300818,
          -1.819070192646803,
          -1.6177056676563566,
          -1.2822048972762328,
          -0.07026639488898488,
          0.07989276314379316,
          -0.07971619676774501,
          1.8887431391867724,
          -2.690163801793752,
          -0.6469135654693827,
          0.21996753741385894,
          -0.00017554401226315753,
          0.6722152939484372,
          0.375773105108882,
          -0.6771372160943433,
          -0.05166991576338214,
          -0.9712984391510093,
          -1.2796606868932487,
          -2.684010644068368,
          1.446535962278647,
          -0.3933833350696182,
          0.3398045294122675,
          -0.21429156338043284,
          -0.8694853586368659,
          2.1258079670627255,
          -0.9964294983320559,
          -0.12971727935162083,
          -0.33777437015986483,
          -0.0029251286295001733,
          -0.4033053186404409,
          0.9515131078888949,
          -0.2148102151939041,
          -0.321029567081902,
          -2.0619659695924595,
          -0.3921888116037307,
          0.45270332797963847,
          -1.220863538633721,
          -0.5670044277442816,
          0.7015293738927034,
          -1.7783627238418853,
          -0.6726036079003833,
          1.8057874407056216,
          0.4615826345114712,
          0.5637210583051996,
          -0.8001230867823986,
          0.4001494149324175,
          1.487280228539015,
          -0.537545948213816,
          -0.013491547963904374,
          -0.9115002435641544,
          1.3492085214066536,
          0.09399125992628336,
          1.5361969424936541,
          1.209276503142546,
          0.8957163383160075,
          0.3286960813754728,
          1.186564808953308,
          0.030209342638638,
          -1.2881376826026363,
          0.36899985773680694,
          -0.9991276431316153,
          -0.5523528967741201,
          0.7489283897900095,
          -1.2702653278648925,
          -2.319649876420089,
          -0.7346948750986463,
          -0.3018090654226126,
          0.3304576617158405,
          -0.36971406428792614,
          -0.07108244031274921,
          0.046893968106723694,
          -0.39995761665655655,
          -0.22773800313605314,
          0.8385401917037871,
          -0.7843817301737499,
          0.2903325643545476,
          0.9970639076883745,
          0.2564228095813574,
          0.1937322846658141,
          -0.23692927107798026,
          0.15129977012907359,
          1.1622861457099305,
          0.35724052008541807,
          -1.0476356542501768,
          -0.9290698364313671,
          0.6498657401938932,
          0.31098653768337015,
          -1.2884673415770924,
          -0.3709162009778576,
          -0.08147258065577224,
          0.3917267335706723,
          1.317194918920567,
          -0.7387079120619336,
          -0.8113449879094478,
          0.10548121430996321,
          -0.9428818835204189,
          -0.39409862948233865,
          -0.7599119421073366,
          -0.9392878656019644,
          -0.6414534205937111
         ]
        },
        {
         "line": {
          "color": "rgba(55, 128, 191, 1.0)",
          "dash": "solid",
          "shape": "linear",
          "width": 1.3
         },
         "mode": "lines",
         "name": "B",
         "text": "",
         "type": "scatter",
         "x": [
          0,
          1,
          2,
          3,
          4,
          5,
          6,
          7,
          8,
          9,
          10,
          11,
          12,
          13,
          14,
          15,
          16,
          17,
          18,
          19,
          20,
          21,
          22,
          23,
          24,
          25,
          26,
          27,
          28,
          29,
          30,
          31,
          32,
          33,
          34,
          35,
          36,
          37,
          38,
          39,
          40,
          41,
          42,
          43,
          44,
          45,
          46,
          47,
          48,
          49,
          50,
          51,
          52,
          53,
          54,
          55,
          56,
          57,
          58,
          59,
          60,
          61,
          62,
          63,
          64,
          65,
          66,
          67,
          68,
          69,
          70,
          71,
          72,
          73,
          74,
          75,
          76,
          77,
          78,
          79,
          80,
          81,
          82,
          83,
          84,
          85,
          86,
          87,
          88,
          89,
          90,
          91,
          92,
          93,
          94,
          95,
          96,
          97,
          98,
          99
         ],
         "y": [
          -0.1211208137774323,
          -1.8669022025714948,
          1.737516503033625,
          0.5044240956820294,
          -0.20905583360850305,
          -0.66772859732106,
          0.5656417368363179,
          0.2102108947831347,
          0.8550471770361316,
          -0.13283022951731127,
          0.969815666521891,
          -0.16871551693805362,
          2.092685942748639,
          0.5237592381430538,
          -0.010500868040481256,
          -1.137343946132466,
          0.5512793414300526,
          0.5197315132903045,
          -1.7811716569010465,
          0.34977051002786974,
          -0.7459647351215088,
          0.19919254393703917,
          1.8077163522887307,
          -0.216988180681477,
          -0.4177862033865263,
          0.746167660555817,
          -0.9574318820790669,
          -0.5144457784361782,
          1.3585871365744233,
          -1.0493862514077785,
          0.8793373873096768,
          -0.27549849124045706,
          0.32855096075725276,
          -1.0782383348802669,
          1.1201645932568207,
          -0.19666795060448894,
          -0.9223697379062344,
          -0.07066226018755582,
          1.0324765677224157,
          -0.46510567659253005,
          -1.0390679203513948,
          -0.6268136544660237,
          -1.240897527809027,
          0.29504172322456695,
          -2.085766843947555,
          -0.46363252809304023,
          0.7757346775150722,
          -1.3371935591276607,
          1.2163827222373251,
          2.633594925454588,
          0.4499655942953177,
          0.184472988849856,
          -1.1818101965101444,
          -0.5032375940021327,
          -2.077026996927567,
          -0.40345947297564294,
          0.8340533086799418,
          0.23415359584272882,
          0.15310414820274426,
          -0.05325788444610945,
          -0.49074866569690617,
          -1.4503869387444497,
          -0.9025655678068205,
          -1.8593786106700807,
          -0.15006435115168323,
          -0.44345640821757226,
          -0.5469890879102364,
          0.6704553123370551,
          -0.43056258080143867,
          -0.8285096744572659,
          -0.7523279355476609,
          -0.4065290311809796,
          -0.9854210226515766,
          0.5131658746463367,
          -1.2401297192695295,
          -1.5236664929255284,
          -0.902711813233216,
          -0.4025798221426037,
          0.32820815879307785,
          -0.6416640335873163,
          -0.10691501386440859,
          -0.5879888346195667,
          -0.832335880512588,
          -1.014271362470708,
          0.10909659869528526,
          0.0040316135089033325,
          -0.5223490638140886,
          -1.0204424496120819,
          -0.6920773504994652,
          -0.3354304437469444,
          -0.26800259441500757,
          0.5215906989263392,
          -0.19530421366543338,
          -1.1879199037324808,
          0.5404764085850129,
          0.8883326284340181,
          -0.11262805297656645,
          -0.01930789194348459,
          0.5587540791169096,
          -1.2228888614424702
         ]
        },
        {
         "connectgaps": false,
         "fill": "tozeroy",
         "line": {
          "color": "green",
          "dash": "solid",
          "shape": "linear",
          "width": 0.5
         },
         "mode": "lines",
         "name": "Spread",
         "showlegend": false,
         "type": "scatter",
         "x": [
          0,
          1,
          2,
          3,
          4,
          5,
          6,
          7,
          8,
          9,
          10,
          11,
          12,
          13,
          14,
          15,
          16,
          17,
          18,
          19,
          20,
          21,
          22,
          23,
          24,
          25,
          26,
          27,
          28,
          29,
          30,
          31,
          32,
          33,
          34,
          35,
          36,
          37,
          38,
          39,
          40,
          41,
          42,
          43,
          44,
          45,
          46,
          47,
          48,
          49,
          50,
          51,
          52,
          53,
          54,
          55,
          56,
          57,
          58,
          59,
          60,
          61,
          62,
          63,
          64,
          65,
          66,
          67,
          68,
          69,
          70,
          71,
          72,
          73,
          74,
          75,
          76,
          77,
          78,
          79,
          80,
          81,
          82,
          83,
          84,
          85,
          86,
          87,
          88,
          89,
          90,
          91,
          92,
          93,
          94,
          95,
          96,
          97,
          98,
          99
         ],
         "xaxis": "x2",
         "y": [
          "",
          0.04783200992469183,
          "",
          "",
          0.13878943871951815,
          0.7476213604648532,
          "",
          1.6785322444036377,
          "",
          "",
          "",
          0.16853997292579045,
          "",
          "",
          "",
          1.0856740303690837,
          "",
          "",
          "",
          1.0967654522507773,
          0.35258140005189065,
          0.14061198547522835,
          "",
          "",
          2.5435941704492517,
          "",
          0.8277146027274461,
          0.1766714082763134,
          "",
          0.6460809327673376,
          0.07217572057921806,
          0.06068827604655294,
          "",
          "",
          "",
          0.6493712785841275,
          "",
          "",
          "",
          "",
          0.3664643124510115,
          2.4326010951716452,
          1.7024801623204984,
          0.26867933508063263,
          1.2856437571651562,
          0.8637819430254577,
          0.7115455510239428,
          0.7996476109138447,
          "",
          "",
          0.8992429271113359,
          "",
          2.7180071390037988,
          1.7125140971446788,
          2.9727433352435746,
          0.7321555543511158,
          0.3525115002733663,
          "",
          "",
          0.4222577421829164,
          "",
          0.8980340419703295,
          1.6514939575968302,
          0.5891132828051882,
          "",
          "",
          0.24518002248762377,
          "",
          0.06084851651351253,
          0.7574272341445166,
          0.7992219036543846,
          0.006571414524423058,
          0.7576830195155235,
          0.32537431705745046,
          0.4557479890957796,
          1.813999057280076,
          1.8997757209215904,
          0.659002631723961,
          "",
          0.40473476250933604,
          0.2582147839934822,
          1.7502749803294972,
          1.189576400598006,
          "",
          "",
          0.6458341266849899,
          0.8333356014974588,
          "",
          0.32116114952160757,
          0.2539578630911722,
          0.6597293279856798,
          0.7956042199942277,
          "",
          0.37657491582303304,
          "",
          "",
          "",
          "",
          "",
          0.5814354408487591
         ],
         "yaxis": "y2"
        },
        {
         "connectgaps": false,
         "fill": "tozeroy",
         "line": {
          "color": "red",
          "dash": "solid",
          "shape": "linear",
          "width": 0.5
         },
         "mode": "lines",
         "name": "Spread",
         "showlegend": false,
         "type": "scatter",
         "x": [
          0,
          1,
          2,
          3,
          4,
          5,
          6,
          7,
          8,
          9,
          10,
          11,
          12,
          13,
          14,
          15,
          16,
          17,
          18,
          19,
          20,
          21,
          22,
          23,
          24,
          25,
          26,
          27,
          28,
          29,
          30,
          31,
          32,
          33,
          34,
          35,
          36,
          37,
          38,
          39,
          40,
          41,
          42,
          43,
          44,
          45,
          46,
          47,
          48,
          49,
          50,
          51,
          52,
          53,
          54,
          55,
          56,
          57,
          58,
          59,
          60,
          61,
          62,
          63,
          64,
          65,
          66,
          67,
          68,
          69,
          70,
          71,
          72,
          73,
          74,
          75,
          76,
          77,
          78,
          79,
          80,
          81,
          82,
          83,
          84,
          85,
          86,
          87,
          88,
          89,
          90,
          91,
          92,
          93,
          94,
          95,
          96,
          97,
          98,
          99
         ],
         "xaxis": "x2",
         "y": [
          -0.8478606549526495,
          "",
          -3.3552221706899816,
          -1.7866289929582622,
          "",
          "",
          -0.6453579336040629,
          "",
          -3.545210978829884,
          -0.5140833359520715,
          -0.7498481291080321,
          "",
          -1.420470648800202,
          -0.1479861330341718,
          -0.6666363480538621,
          "",
          -1.522577780581062,
          -1.7993922001835534,
          -0.9028389871673217,
          "",
          "",
          "",
          -2.0220079156691635,
          -0.652497177955389,
          "",
          -1.7425971588878728,
          "",
          "",
          -1.3615122652039235,
          "",
          "",
          "",
          -0.6495805278391548,
          -0.9837276347121926,
          -1.5123534048605514,
          "",
          -0.29849380072748655,
          -0.4963421675567258,
          -0.33094719382971227,
          -1.3132570472493552,
          "",
          "",
          "",
          "",
          "",
          "",
          "",
          "",
          -1.2298742702012295,
          -3.5450951690187424,
          "",
          -0.09048172892357263,
          "",
          "",
          "",
          "",
          "",
          -0.20394425320409082,
          -1.4412418308053805,
          "",
          -0.5083789774347092,
          "",
          "",
          "",
          -2.1695855252684058,
          -0.291238466881074,
          "",
          -0.3399976506212146,
          "",
          "",
          "",
          "",
          "",
          "",
          "",
          "",
          "",
          "",
          -0.13447587412726375,
          "",
          "",
          "",
          "",
          -0.03336429177946876,
          -1.0381664351266524,
          "",
          "",
          -0.26802489196501056,
          "",
          "",
          "",
          "",
          -0.5434036983965003,
          "",
          -0.4349951942750497,
          -1.831214511954437,
          -0.28147057650577223,
          -0.740604050163852,
          -1.498041944718874,
          ""
         ],
         "yaxis": "y2"
        }
       ],
       "layout": {
        "hovermode": "x",
        "legend": {
         "bgcolor": "#F5F6F9",
         "font": {
          "color": "#4D5663"
         }
        },
        "paper_bgcolor": "#F5F6F9",
        "plot_bgcolor": "#F5F6F9",
        "template": {
         "data": {
          "bar": [
           {
            "error_x": {
             "color": "#2a3f5f"
            },
            "error_y": {
             "color": "#2a3f5f"
            },
            "marker": {
             "line": {
              "color": "#E5ECF6",
              "width": 0.5
             },
             "pattern": {
              "fillmode": "overlay",
              "size": 10,
              "solidity": 0.2
             }
            },
            "type": "bar"
           }
          ],
          "barpolar": [
           {
            "marker": {
             "line": {
              "color": "#E5ECF6",
              "width": 0.5
             },
             "pattern": {
              "fillmode": "overlay",
              "size": 10,
              "solidity": 0.2
             }
            },
            "type": "barpolar"
           }
          ],
          "carpet": [
           {
            "aaxis": {
             "endlinecolor": "#2a3f5f",
             "gridcolor": "white",
             "linecolor": "white",
             "minorgridcolor": "white",
             "startlinecolor": "#2a3f5f"
            },
            "baxis": {
             "endlinecolor": "#2a3f5f",
             "gridcolor": "white",
             "linecolor": "white",
             "minorgridcolor": "white",
             "startlinecolor": "#2a3f5f"
            },
            "type": "carpet"
           }
          ],
          "choropleth": [
           {
            "colorbar": {
             "outlinewidth": 0,
             "ticks": ""
            },
            "type": "choropleth"
           }
          ],
          "contour": [
           {
            "colorbar": {
             "outlinewidth": 0,
             "ticks": ""
            },
            "colorscale": [
             [
              0,
              "#0d0887"
             ],
             [
              0.1111111111111111,
              "#46039f"
             ],
             [
              0.2222222222222222,
              "#7201a8"
             ],
             [
              0.3333333333333333,
              "#9c179e"
             ],
             [
              0.4444444444444444,
              "#bd3786"
             ],
             [
              0.5555555555555556,
              "#d8576b"
             ],
             [
              0.6666666666666666,
              "#ed7953"
             ],
             [
              0.7777777777777778,
              "#fb9f3a"
             ],
             [
              0.8888888888888888,
              "#fdca26"
             ],
             [
              1,
              "#f0f921"
             ]
            ],
            "type": "contour"
           }
          ],
          "contourcarpet": [
           {
            "colorbar": {
             "outlinewidth": 0,
             "ticks": ""
            },
            "type": "contourcarpet"
           }
          ],
          "heatmap": [
           {
            "colorbar": {
             "outlinewidth": 0,
             "ticks": ""
            },
            "colorscale": [
             [
              0,
              "#0d0887"
             ],
             [
              0.1111111111111111,
              "#46039f"
             ],
             [
              0.2222222222222222,
              "#7201a8"
             ],
             [
              0.3333333333333333,
              "#9c179e"
             ],
             [
              0.4444444444444444,
              "#bd3786"
             ],
             [
              0.5555555555555556,
              "#d8576b"
             ],
             [
              0.6666666666666666,
              "#ed7953"
             ],
             [
              0.7777777777777778,
              "#fb9f3a"
             ],
             [
              0.8888888888888888,
              "#fdca26"
             ],
             [
              1,
              "#f0f921"
             ]
            ],
            "type": "heatmap"
           }
          ],
          "heatmapgl": [
           {
            "colorbar": {
             "outlinewidth": 0,
             "ticks": ""
            },
            "colorscale": [
             [
              0,
              "#0d0887"
             ],
             [
              0.1111111111111111,
              "#46039f"
             ],
             [
              0.2222222222222222,
              "#7201a8"
             ],
             [
              0.3333333333333333,
              "#9c179e"
             ],
             [
              0.4444444444444444,
              "#bd3786"
             ],
             [
              0.5555555555555556,
              "#d8576b"
             ],
             [
              0.6666666666666666,
              "#ed7953"
             ],
             [
              0.7777777777777778,
              "#fb9f3a"
             ],
             [
              0.8888888888888888,
              "#fdca26"
             ],
             [
              1,
              "#f0f921"
             ]
            ],
            "type": "heatmapgl"
           }
          ],
          "histogram": [
           {
            "marker": {
             "pattern": {
              "fillmode": "overlay",
              "size": 10,
              "solidity": 0.2
             }
            },
            "type": "histogram"
           }
          ],
          "histogram2d": [
           {
            "colorbar": {
             "outlinewidth": 0,
             "ticks": ""
            },
            "colorscale": [
             [
              0,
              "#0d0887"
             ],
             [
              0.1111111111111111,
              "#46039f"
             ],
             [
              0.2222222222222222,
              "#7201a8"
             ],
             [
              0.3333333333333333,
              "#9c179e"
             ],
             [
              0.4444444444444444,
              "#bd3786"
             ],
             [
              0.5555555555555556,
              "#d8576b"
             ],
             [
              0.6666666666666666,
              "#ed7953"
             ],
             [
              0.7777777777777778,
              "#fb9f3a"
             ],
             [
              0.8888888888888888,
              "#fdca26"
             ],
             [
              1,
              "#f0f921"
             ]
            ],
            "type": "histogram2d"
           }
          ],
          "histogram2dcontour": [
           {
            "colorbar": {
             "outlinewidth": 0,
             "ticks": ""
            },
            "colorscale": [
             [
              0,
              "#0d0887"
             ],
             [
              0.1111111111111111,
              "#46039f"
             ],
             [
              0.2222222222222222,
              "#7201a8"
             ],
             [
              0.3333333333333333,
              "#9c179e"
             ],
             [
              0.4444444444444444,
              "#bd3786"
             ],
             [
              0.5555555555555556,
              "#d8576b"
             ],
             [
              0.6666666666666666,
              "#ed7953"
             ],
             [
              0.7777777777777778,
              "#fb9f3a"
             ],
             [
              0.8888888888888888,
              "#fdca26"
             ],
             [
              1,
              "#f0f921"
             ]
            ],
            "type": "histogram2dcontour"
           }
          ],
          "mesh3d": [
           {
            "colorbar": {
             "outlinewidth": 0,
             "ticks": ""
            },
            "type": "mesh3d"
           }
          ],
          "parcoords": [
           {
            "line": {
             "colorbar": {
              "outlinewidth": 0,
              "ticks": ""
             }
            },
            "type": "parcoords"
           }
          ],
          "pie": [
           {
            "automargin": true,
            "type": "pie"
           }
          ],
          "scatter": [
           {
            "marker": {
             "colorbar": {
              "outlinewidth": 0,
              "ticks": ""
             }
            },
            "type": "scatter"
           }
          ],
          "scatter3d": [
           {
            "line": {
             "colorbar": {
              "outlinewidth": 0,
              "ticks": ""
             }
            },
            "marker": {
             "colorbar": {
              "outlinewidth": 0,
              "ticks": ""
             }
            },
            "type": "scatter3d"
           }
          ],
          "scattercarpet": [
           {
            "marker": {
             "colorbar": {
              "outlinewidth": 0,
              "ticks": ""
             }
            },
            "type": "scattercarpet"
           }
          ],
          "scattergeo": [
           {
            "marker": {
             "colorbar": {
              "outlinewidth": 0,
              "ticks": ""
             }
            },
            "type": "scattergeo"
           }
          ],
          "scattergl": [
           {
            "marker": {
             "colorbar": {
              "outlinewidth": 0,
              "ticks": ""
             }
            },
            "type": "scattergl"
           }
          ],
          "scattermapbox": [
           {
            "marker": {
             "colorbar": {
              "outlinewidth": 0,
              "ticks": ""
             }
            },
            "type": "scattermapbox"
           }
          ],
          "scatterpolar": [
           {
            "marker": {
             "colorbar": {
              "outlinewidth": 0,
              "ticks": ""
             }
            },
            "type": "scatterpolar"
           }
          ],
          "scatterpolargl": [
           {
            "marker": {
             "colorbar": {
              "outlinewidth": 0,
              "ticks": ""
             }
            },
            "type": "scatterpolargl"
           }
          ],
          "scatterternary": [
           {
            "marker": {
             "colorbar": {
              "outlinewidth": 0,
              "ticks": ""
             }
            },
            "type": "scatterternary"
           }
          ],
          "surface": [
           {
            "colorbar": {
             "outlinewidth": 0,
             "ticks": ""
            },
            "colorscale": [
             [
              0,
              "#0d0887"
             ],
             [
              0.1111111111111111,
              "#46039f"
             ],
             [
              0.2222222222222222,
              "#7201a8"
             ],
             [
              0.3333333333333333,
              "#9c179e"
             ],
             [
              0.4444444444444444,
              "#bd3786"
             ],
             [
              0.5555555555555556,
              "#d8576b"
             ],
             [
              0.6666666666666666,
              "#ed7953"
             ],
             [
              0.7777777777777778,
              "#fb9f3a"
             ],
             [
              0.8888888888888888,
              "#fdca26"
             ],
             [
              1,
              "#f0f921"
             ]
            ],
            "type": "surface"
           }
          ],
          "table": [
           {
            "cells": {
             "fill": {
              "color": "#EBF0F8"
             },
             "line": {
              "color": "white"
             }
            },
            "header": {
             "fill": {
              "color": "#C8D4E3"
             },
             "line": {
              "color": "white"
             }
            },
            "type": "table"
           }
          ]
         },
         "layout": {
          "annotationdefaults": {
           "arrowcolor": "#2a3f5f",
           "arrowhead": 0,
           "arrowwidth": 1
          },
          "autotypenumbers": "strict",
          "coloraxis": {
           "colorbar": {
            "outlinewidth": 0,
            "ticks": ""
           }
          },
          "colorscale": {
           "diverging": [
            [
             0,
             "#8e0152"
            ],
            [
             0.1,
             "#c51b7d"
            ],
            [
             0.2,
             "#de77ae"
            ],
            [
             0.3,
             "#f1b6da"
            ],
            [
             0.4,
             "#fde0ef"
            ],
            [
             0.5,
             "#f7f7f7"
            ],
            [
             0.6,
             "#e6f5d0"
            ],
            [
             0.7,
             "#b8e186"
            ],
            [
             0.8,
             "#7fbc41"
            ],
            [
             0.9,
             "#4d9221"
            ],
            [
             1,
             "#276419"
            ]
           ],
           "sequential": [
            [
             0,
             "#0d0887"
            ],
            [
             0.1111111111111111,
             "#46039f"
            ],
            [
             0.2222222222222222,
             "#7201a8"
            ],
            [
             0.3333333333333333,
             "#9c179e"
            ],
            [
             0.4444444444444444,
             "#bd3786"
            ],
            [
             0.5555555555555556,
             "#d8576b"
            ],
            [
             0.6666666666666666,
             "#ed7953"
            ],
            [
             0.7777777777777778,
             "#fb9f3a"
            ],
            [
             0.8888888888888888,
             "#fdca26"
            ],
            [
             1,
             "#f0f921"
            ]
           ],
           "sequentialminus": [
            [
             0,
             "#0d0887"
            ],
            [
             0.1111111111111111,
             "#46039f"
            ],
            [
             0.2222222222222222,
             "#7201a8"
            ],
            [
             0.3333333333333333,
             "#9c179e"
            ],
            [
             0.4444444444444444,
             "#bd3786"
            ],
            [
             0.5555555555555556,
             "#d8576b"
            ],
            [
             0.6666666666666666,
             "#ed7953"
            ],
            [
             0.7777777777777778,
             "#fb9f3a"
            ],
            [
             0.8888888888888888,
             "#fdca26"
            ],
            [
             1,
             "#f0f921"
            ]
           ]
          },
          "colorway": [
           "#636efa",
           "#EF553B",
           "#00cc96",
           "#ab63fa",
           "#FFA15A",
           "#19d3f3",
           "#FF6692",
           "#B6E880",
           "#FF97FF",
           "#FECB52"
          ],
          "font": {
           "color": "#2a3f5f"
          },
          "geo": {
           "bgcolor": "white",
           "lakecolor": "white",
           "landcolor": "#E5ECF6",
           "showlakes": true,
           "showland": true,
           "subunitcolor": "white"
          },
          "hoverlabel": {
           "align": "left"
          },
          "hovermode": "closest",
          "mapbox": {
           "style": "light"
          },
          "paper_bgcolor": "white",
          "plot_bgcolor": "#E5ECF6",
          "polar": {
           "angularaxis": {
            "gridcolor": "white",
            "linecolor": "white",
            "ticks": ""
           },
           "bgcolor": "#E5ECF6",
           "radialaxis": {
            "gridcolor": "white",
            "linecolor": "white",
            "ticks": ""
           }
          },
          "scene": {
           "xaxis": {
            "backgroundcolor": "#E5ECF6",
            "gridcolor": "white",
            "gridwidth": 2,
            "linecolor": "white",
            "showbackground": true,
            "ticks": "",
            "zerolinecolor": "white"
           },
           "yaxis": {
            "backgroundcolor": "#E5ECF6",
            "gridcolor": "white",
            "gridwidth": 2,
            "linecolor": "white",
            "showbackground": true,
            "ticks": "",
            "zerolinecolor": "white"
           },
           "zaxis": {
            "backgroundcolor": "#E5ECF6",
            "gridcolor": "white",
            "gridwidth": 2,
            "linecolor": "white",
            "showbackground": true,
            "ticks": "",
            "zerolinecolor": "white"
           }
          },
          "shapedefaults": {
           "line": {
            "color": "#2a3f5f"
           }
          },
          "ternary": {
           "aaxis": {
            "gridcolor": "white",
            "linecolor": "white",
            "ticks": ""
           },
           "baxis": {
            "gridcolor": "white",
            "linecolor": "white",
            "ticks": ""
           },
           "bgcolor": "#E5ECF6",
           "caxis": {
            "gridcolor": "white",
            "linecolor": "white",
            "ticks": ""
           }
          },
          "title": {
           "x": 0.05
          },
          "xaxis": {
           "automargin": true,
           "gridcolor": "white",
           "linecolor": "white",
           "ticks": "",
           "title": {
            "standoff": 15
           },
           "zerolinecolor": "white",
           "zerolinewidth": 2
          },
          "yaxis": {
           "automargin": true,
           "gridcolor": "white",
           "linecolor": "white",
           "ticks": "",
           "title": {
            "standoff": 15
           },
           "zerolinecolor": "white",
           "zerolinewidth": 2
          }
         }
        },
        "title": {
         "font": {
          "color": "#4D5663"
         }
        },
        "xaxis": {
         "gridcolor": "#E1E5ED",
         "showgrid": true,
         "tickfont": {
          "color": "#4D5663"
         },
         "title": {
          "font": {
           "color": "#4D5663"
          },
          "text": ""
         },
         "zerolinecolor": "#E1E5ED"
        },
        "xaxis2": {
         "anchor": "y2",
         "gridcolor": "#E1E5ED",
         "showgrid": true,
         "showticklabels": false,
         "tickfont": {
          "color": "#4D5663"
         },
         "title": {
          "font": {
           "color": "#4D5663"
          },
          "text": ""
         },
         "zerolinecolor": "#E1E5ED"
        },
        "yaxis": {
         "domain": [
          0.3,
          1
         ],
         "gridcolor": "#E1E5ED",
         "showgrid": true,
         "tickfont": {
          "color": "#4D5663"
         },
         "title": {
          "font": {
           "color": "#4D5663"
          },
          "text": ""
         },
         "zerolinecolor": "#E1E5ED"
        },
        "yaxis2": {
         "domain": [
          0,
          0.25
         ],
         "gridcolor": "#E1E5ED",
         "showgrid": true,
         "tickfont": {
          "color": "#4D5663"
         },
         "title": {
          "font": {
           "color": "#4D5663"
          },
          "text": "Spread"
         },
         "zerolinecolor": "#E1E5ED"
        }
       }
      },
      "text/html": [
       "<div>                            <div id=\"96cc1504-73ae-40a4-8b94-8ed4d272aeb9\" class=\"plotly-graph-div\" style=\"height:525px; width:100%;\"></div>            <script type=\"text/javascript\">                require([\"plotly\"], function(Plotly) {                    window.PLOTLYENV=window.PLOTLYENV || {};\n",
       "                    window.PLOTLYENV.BASE_URL='https://plot.ly';                                    if (document.getElementById(\"96cc1504-73ae-40a4-8b94-8ed4d272aeb9\")) {                    Plotly.newPlot(                        \"96cc1504-73ae-40a4-8b94-8ed4d272aeb9\",                        [{\"line\":{\"color\":\"rgba(255, 153, 51, 1.0)\",\"dash\":\"solid\",\"shape\":\"linear\",\"width\":1.3},\"mode\":\"lines\",\"name\":\"A\",\"text\":\"\",\"type\":\"scatter\",\"x\":[0,1,2,3,4,5,6,7,8,9,10,11,12,13,14,15,16,17,18,19,20,21,22,23,24,25,26,27,28,29,30,31,32,33,34,35,36,37,38,39,40,41,42,43,44,45,46,47,48,49,50,51,52,53,54,55,56,57,58,59,60,61,62,63,64,65,66,67,68,69,70,71,72,73,74,75,76,77,78,79,80,81,82,83,84,85,86,87,88,89,90,91,92,93,94,95,96,97,98,99],\"y\":[-0.9689814687300818,-1.819070192646803,-1.6177056676563566,-1.2822048972762328,-0.07026639488898488,0.07989276314379316,-0.07971619676774501,1.8887431391867724,-2.690163801793752,-0.6469135654693827,0.21996753741385894,-0.00017554401226315753,0.6722152939484372,0.375773105108882,-0.6771372160943433,-0.05166991576338214,-0.9712984391510093,-1.2796606868932487,-2.684010644068368,1.446535962278647,-0.3933833350696182,0.3398045294122675,-0.21429156338043284,-0.8694853586368659,2.1258079670627255,-0.9964294983320559,-0.12971727935162083,-0.33777437015986483,-0.0029251286295001733,-0.4033053186404409,0.9515131078888949,-0.2148102151939041,-0.321029567081902,-2.0619659695924595,-0.3921888116037307,0.45270332797963847,-1.220863538633721,-0.5670044277442816,0.7015293738927034,-1.7783627238418853,-0.6726036079003833,1.8057874407056216,0.4615826345114712,0.5637210583051996,-0.8001230867823986,0.4001494149324175,1.487280228539015,-0.537545948213816,-0.013491547963904374,-0.9115002435641544,1.3492085214066536,0.09399125992628336,1.5361969424936541,1.209276503142546,0.8957163383160075,0.3286960813754728,1.186564808953308,0.030209342638638,-1.2881376826026363,0.36899985773680694,-0.9991276431316153,-0.5523528967741201,0.7489283897900095,-1.2702653278648925,-2.319649876420089,-0.7346948750986463,-0.3018090654226126,0.3304576617158405,-0.36971406428792614,-0.07108244031274921,0.046893968106723694,-0.39995761665655655,-0.22773800313605314,0.8385401917037871,-0.7843817301737499,0.2903325643545476,0.9970639076883745,0.2564228095813574,0.1937322846658141,-0.23692927107798026,0.15129977012907359,1.1622861457099305,0.35724052008541807,-1.0476356542501768,-0.9290698364313671,0.6498657401938932,0.31098653768337015,-1.2884673415770924,-0.3709162009778576,-0.08147258065577224,0.3917267335706723,1.317194918920567,-0.7387079120619336,-0.8113449879094478,0.10548121430996321,-0.9428818835204189,-0.39409862948233865,-0.7599119421073366,-0.9392878656019644,-0.6414534205937111]},{\"line\":{\"color\":\"rgba(55, 128, 191, 1.0)\",\"dash\":\"solid\",\"shape\":\"linear\",\"width\":1.3},\"mode\":\"lines\",\"name\":\"B\",\"text\":\"\",\"type\":\"scatter\",\"x\":[0,1,2,3,4,5,6,7,8,9,10,11,12,13,14,15,16,17,18,19,20,21,22,23,24,25,26,27,28,29,30,31,32,33,34,35,36,37,38,39,40,41,42,43,44,45,46,47,48,49,50,51,52,53,54,55,56,57,58,59,60,61,62,63,64,65,66,67,68,69,70,71,72,73,74,75,76,77,78,79,80,81,82,83,84,85,86,87,88,89,90,91,92,93,94,95,96,97,98,99],\"y\":[-0.1211208137774323,-1.8669022025714948,1.737516503033625,0.5044240956820294,-0.20905583360850305,-0.66772859732106,0.5656417368363179,0.2102108947831347,0.8550471770361316,-0.13283022951731127,0.969815666521891,-0.16871551693805362,2.092685942748639,0.5237592381430538,-0.010500868040481256,-1.137343946132466,0.5512793414300526,0.5197315132903045,-1.7811716569010465,0.34977051002786974,-0.7459647351215088,0.19919254393703917,1.8077163522887307,-0.216988180681477,-0.4177862033865263,0.746167660555817,-0.9574318820790669,-0.5144457784361782,1.3585871365744233,-1.0493862514077785,0.8793373873096768,-0.27549849124045706,0.32855096075725276,-1.0782383348802669,1.1201645932568207,-0.19666795060448894,-0.9223697379062344,-0.07066226018755582,1.0324765677224157,-0.46510567659253005,-1.0390679203513948,-0.6268136544660237,-1.240897527809027,0.29504172322456695,-2.085766843947555,-0.46363252809304023,0.7757346775150722,-1.3371935591276607,1.2163827222373251,2.633594925454588,0.4499655942953177,0.184472988849856,-1.1818101965101444,-0.5032375940021327,-2.077026996927567,-0.40345947297564294,0.8340533086799418,0.23415359584272882,0.15310414820274426,-0.05325788444610945,-0.49074866569690617,-1.4503869387444497,-0.9025655678068205,-1.8593786106700807,-0.15006435115168323,-0.44345640821757226,-0.5469890879102364,0.6704553123370551,-0.43056258080143867,-0.8285096744572659,-0.7523279355476609,-0.4065290311809796,-0.9854210226515766,0.5131658746463367,-1.2401297192695295,-1.5236664929255284,-0.902711813233216,-0.4025798221426037,0.32820815879307785,-0.6416640335873163,-0.10691501386440859,-0.5879888346195667,-0.832335880512588,-1.014271362470708,0.10909659869528526,0.0040316135089033325,-0.5223490638140886,-1.0204424496120819,-0.6920773504994652,-0.3354304437469444,-0.26800259441500757,0.5215906989263392,-0.19530421366543338,-1.1879199037324808,0.5404764085850129,0.8883326284340181,-0.11262805297656645,-0.01930789194348459,0.5587540791169096,-1.2228888614424702]},{\"connectgaps\":false,\"fill\":\"tozeroy\",\"line\":{\"color\":\"green\",\"dash\":\"solid\",\"shape\":\"linear\",\"width\":0.5},\"mode\":\"lines\",\"name\":\"Spread\",\"showlegend\":false,\"type\":\"scatter\",\"x\":[0,1,2,3,4,5,6,7,8,9,10,11,12,13,14,15,16,17,18,19,20,21,22,23,24,25,26,27,28,29,30,31,32,33,34,35,36,37,38,39,40,41,42,43,44,45,46,47,48,49,50,51,52,53,54,55,56,57,58,59,60,61,62,63,64,65,66,67,68,69,70,71,72,73,74,75,76,77,78,79,80,81,82,83,84,85,86,87,88,89,90,91,92,93,94,95,96,97,98,99],\"xaxis\":\"x2\",\"y\":[\"\",0.04783200992469183,\"\",\"\",0.13878943871951815,0.7476213604648532,\"\",1.6785322444036377,\"\",\"\",\"\",0.16853997292579045,\"\",\"\",\"\",1.0856740303690837,\"\",\"\",\"\",1.0967654522507773,0.35258140005189065,0.14061198547522835,\"\",\"\",2.5435941704492517,\"\",0.8277146027274461,0.1766714082763134,\"\",0.6460809327673376,0.07217572057921806,0.06068827604655294,\"\",\"\",\"\",0.6493712785841275,\"\",\"\",\"\",\"\",0.3664643124510115,2.4326010951716452,1.7024801623204984,0.26867933508063263,1.2856437571651562,0.8637819430254577,0.7115455510239428,0.7996476109138447,\"\",\"\",0.8992429271113359,\"\",2.7180071390037988,1.7125140971446788,2.9727433352435746,0.7321555543511158,0.3525115002733663,\"\",\"\",0.4222577421829164,\"\",0.8980340419703295,1.6514939575968302,0.5891132828051882,\"\",\"\",0.24518002248762377,\"\",0.06084851651351253,0.7574272341445166,0.7992219036543846,0.006571414524423058,0.7576830195155235,0.32537431705745046,0.4557479890957796,1.813999057280076,1.8997757209215904,0.659002631723961,\"\",0.40473476250933604,0.2582147839934822,1.7502749803294972,1.189576400598006,\"\",\"\",0.6458341266849899,0.8333356014974588,\"\",0.32116114952160757,0.2539578630911722,0.6597293279856798,0.7956042199942277,\"\",0.37657491582303304,\"\",\"\",\"\",\"\",\"\",0.5814354408487591],\"yaxis\":\"y2\"},{\"connectgaps\":false,\"fill\":\"tozeroy\",\"line\":{\"color\":\"red\",\"dash\":\"solid\",\"shape\":\"linear\",\"width\":0.5},\"mode\":\"lines\",\"name\":\"Spread\",\"showlegend\":false,\"type\":\"scatter\",\"x\":[0,1,2,3,4,5,6,7,8,9,10,11,12,13,14,15,16,17,18,19,20,21,22,23,24,25,26,27,28,29,30,31,32,33,34,35,36,37,38,39,40,41,42,43,44,45,46,47,48,49,50,51,52,53,54,55,56,57,58,59,60,61,62,63,64,65,66,67,68,69,70,71,72,73,74,75,76,77,78,79,80,81,82,83,84,85,86,87,88,89,90,91,92,93,94,95,96,97,98,99],\"xaxis\":\"x2\",\"y\":[-0.8478606549526495,\"\",-3.3552221706899816,-1.7866289929582622,\"\",\"\",-0.6453579336040629,\"\",-3.545210978829884,-0.5140833359520715,-0.7498481291080321,\"\",-1.420470648800202,-0.1479861330341718,-0.6666363480538621,\"\",-1.522577780581062,-1.7993922001835534,-0.9028389871673217,\"\",\"\",\"\",-2.0220079156691635,-0.652497177955389,\"\",-1.7425971588878728,\"\",\"\",-1.3615122652039235,\"\",\"\",\"\",-0.6495805278391548,-0.9837276347121926,-1.5123534048605514,\"\",-0.29849380072748655,-0.4963421675567258,-0.33094719382971227,-1.3132570472493552,\"\",\"\",\"\",\"\",\"\",\"\",\"\",\"\",-1.2298742702012295,-3.5450951690187424,\"\",-0.09048172892357263,\"\",\"\",\"\",\"\",\"\",-0.20394425320409082,-1.4412418308053805,\"\",-0.5083789774347092,\"\",\"\",\"\",-2.1695855252684058,-0.291238466881074,\"\",-0.3399976506212146,\"\",\"\",\"\",\"\",\"\",\"\",\"\",\"\",\"\",\"\",-0.13447587412726375,\"\",\"\",\"\",\"\",-0.03336429177946876,-1.0381664351266524,\"\",\"\",-0.26802489196501056,\"\",\"\",\"\",\"\",-0.5434036983965003,\"\",-0.4349951942750497,-1.831214511954437,-0.28147057650577223,-0.740604050163852,-1.498041944718874,\"\"],\"yaxis\":\"y2\"}],                        {\"hovermode\":\"x\",\"legend\":{\"bgcolor\":\"#F5F6F9\",\"font\":{\"color\":\"#4D5663\"}},\"paper_bgcolor\":\"#F5F6F9\",\"plot_bgcolor\":\"#F5F6F9\",\"template\":{\"data\":{\"bar\":[{\"error_x\":{\"color\":\"#2a3f5f\"},\"error_y\":{\"color\":\"#2a3f5f\"},\"marker\":{\"line\":{\"color\":\"#E5ECF6\",\"width\":0.5},\"pattern\":{\"fillmode\":\"overlay\",\"size\":10,\"solidity\":0.2}},\"type\":\"bar\"}],\"barpolar\":[{\"marker\":{\"line\":{\"color\":\"#E5ECF6\",\"width\":0.5},\"pattern\":{\"fillmode\":\"overlay\",\"size\":10,\"solidity\":0.2}},\"type\":\"barpolar\"}],\"carpet\":[{\"aaxis\":{\"endlinecolor\":\"#2a3f5f\",\"gridcolor\":\"white\",\"linecolor\":\"white\",\"minorgridcolor\":\"white\",\"startlinecolor\":\"#2a3f5f\"},\"baxis\":{\"endlinecolor\":\"#2a3f5f\",\"gridcolor\":\"white\",\"linecolor\":\"white\",\"minorgridcolor\":\"white\",\"startlinecolor\":\"#2a3f5f\"},\"type\":\"carpet\"}],\"choropleth\":[{\"colorbar\":{\"outlinewidth\":0,\"ticks\":\"\"},\"type\":\"choropleth\"}],\"contour\":[{\"colorbar\":{\"outlinewidth\":0,\"ticks\":\"\"},\"colorscale\":[[0.0,\"#0d0887\"],[0.1111111111111111,\"#46039f\"],[0.2222222222222222,\"#7201a8\"],[0.3333333333333333,\"#9c179e\"],[0.4444444444444444,\"#bd3786\"],[0.5555555555555556,\"#d8576b\"],[0.6666666666666666,\"#ed7953\"],[0.7777777777777778,\"#fb9f3a\"],[0.8888888888888888,\"#fdca26\"],[1.0,\"#f0f921\"]],\"type\":\"contour\"}],\"contourcarpet\":[{\"colorbar\":{\"outlinewidth\":0,\"ticks\":\"\"},\"type\":\"contourcarpet\"}],\"heatmap\":[{\"colorbar\":{\"outlinewidth\":0,\"ticks\":\"\"},\"colorscale\":[[0.0,\"#0d0887\"],[0.1111111111111111,\"#46039f\"],[0.2222222222222222,\"#7201a8\"],[0.3333333333333333,\"#9c179e\"],[0.4444444444444444,\"#bd3786\"],[0.5555555555555556,\"#d8576b\"],[0.6666666666666666,\"#ed7953\"],[0.7777777777777778,\"#fb9f3a\"],[0.8888888888888888,\"#fdca26\"],[1.0,\"#f0f921\"]],\"type\":\"heatmap\"}],\"heatmapgl\":[{\"colorbar\":{\"outlinewidth\":0,\"ticks\":\"\"},\"colorscale\":[[0.0,\"#0d0887\"],[0.1111111111111111,\"#46039f\"],[0.2222222222222222,\"#7201a8\"],[0.3333333333333333,\"#9c179e\"],[0.4444444444444444,\"#bd3786\"],[0.5555555555555556,\"#d8576b\"],[0.6666666666666666,\"#ed7953\"],[0.7777777777777778,\"#fb9f3a\"],[0.8888888888888888,\"#fdca26\"],[1.0,\"#f0f921\"]],\"type\":\"heatmapgl\"}],\"histogram\":[{\"marker\":{\"pattern\":{\"fillmode\":\"overlay\",\"size\":10,\"solidity\":0.2}},\"type\":\"histogram\"}],\"histogram2d\":[{\"colorbar\":{\"outlinewidth\":0,\"ticks\":\"\"},\"colorscale\":[[0.0,\"#0d0887\"],[0.1111111111111111,\"#46039f\"],[0.2222222222222222,\"#7201a8\"],[0.3333333333333333,\"#9c179e\"],[0.4444444444444444,\"#bd3786\"],[0.5555555555555556,\"#d8576b\"],[0.6666666666666666,\"#ed7953\"],[0.7777777777777778,\"#fb9f3a\"],[0.8888888888888888,\"#fdca26\"],[1.0,\"#f0f921\"]],\"type\":\"histogram2d\"}],\"histogram2dcontour\":[{\"colorbar\":{\"outlinewidth\":0,\"ticks\":\"\"},\"colorscale\":[[0.0,\"#0d0887\"],[0.1111111111111111,\"#46039f\"],[0.2222222222222222,\"#7201a8\"],[0.3333333333333333,\"#9c179e\"],[0.4444444444444444,\"#bd3786\"],[0.5555555555555556,\"#d8576b\"],[0.6666666666666666,\"#ed7953\"],[0.7777777777777778,\"#fb9f3a\"],[0.8888888888888888,\"#fdca26\"],[1.0,\"#f0f921\"]],\"type\":\"histogram2dcontour\"}],\"mesh3d\":[{\"colorbar\":{\"outlinewidth\":0,\"ticks\":\"\"},\"type\":\"mesh3d\"}],\"parcoords\":[{\"line\":{\"colorbar\":{\"outlinewidth\":0,\"ticks\":\"\"}},\"type\":\"parcoords\"}],\"pie\":[{\"automargin\":true,\"type\":\"pie\"}],\"scatter\":[{\"marker\":{\"colorbar\":{\"outlinewidth\":0,\"ticks\":\"\"}},\"type\":\"scatter\"}],\"scatter3d\":[{\"line\":{\"colorbar\":{\"outlinewidth\":0,\"ticks\":\"\"}},\"marker\":{\"colorbar\":{\"outlinewidth\":0,\"ticks\":\"\"}},\"type\":\"scatter3d\"}],\"scattercarpet\":[{\"marker\":{\"colorbar\":{\"outlinewidth\":0,\"ticks\":\"\"}},\"type\":\"scattercarpet\"}],\"scattergeo\":[{\"marker\":{\"colorbar\":{\"outlinewidth\":0,\"ticks\":\"\"}},\"type\":\"scattergeo\"}],\"scattergl\":[{\"marker\":{\"colorbar\":{\"outlinewidth\":0,\"ticks\":\"\"}},\"type\":\"scattergl\"}],\"scattermapbox\":[{\"marker\":{\"colorbar\":{\"outlinewidth\":0,\"ticks\":\"\"}},\"type\":\"scattermapbox\"}],\"scatterpolar\":[{\"marker\":{\"colorbar\":{\"outlinewidth\":0,\"ticks\":\"\"}},\"type\":\"scatterpolar\"}],\"scatterpolargl\":[{\"marker\":{\"colorbar\":{\"outlinewidth\":0,\"ticks\":\"\"}},\"type\":\"scatterpolargl\"}],\"scatterternary\":[{\"marker\":{\"colorbar\":{\"outlinewidth\":0,\"ticks\":\"\"}},\"type\":\"scatterternary\"}],\"surface\":[{\"colorbar\":{\"outlinewidth\":0,\"ticks\":\"\"},\"colorscale\":[[0.0,\"#0d0887\"],[0.1111111111111111,\"#46039f\"],[0.2222222222222222,\"#7201a8\"],[0.3333333333333333,\"#9c179e\"],[0.4444444444444444,\"#bd3786\"],[0.5555555555555556,\"#d8576b\"],[0.6666666666666666,\"#ed7953\"],[0.7777777777777778,\"#fb9f3a\"],[0.8888888888888888,\"#fdca26\"],[1.0,\"#f0f921\"]],\"type\":\"surface\"}],\"table\":[{\"cells\":{\"fill\":{\"color\":\"#EBF0F8\"},\"line\":{\"color\":\"white\"}},\"header\":{\"fill\":{\"color\":\"#C8D4E3\"},\"line\":{\"color\":\"white\"}},\"type\":\"table\"}]},\"layout\":{\"annotationdefaults\":{\"arrowcolor\":\"#2a3f5f\",\"arrowhead\":0,\"arrowwidth\":1},\"autotypenumbers\":\"strict\",\"coloraxis\":{\"colorbar\":{\"outlinewidth\":0,\"ticks\":\"\"}},\"colorscale\":{\"diverging\":[[0,\"#8e0152\"],[0.1,\"#c51b7d\"],[0.2,\"#de77ae\"],[0.3,\"#f1b6da\"],[0.4,\"#fde0ef\"],[0.5,\"#f7f7f7\"],[0.6,\"#e6f5d0\"],[0.7,\"#b8e186\"],[0.8,\"#7fbc41\"],[0.9,\"#4d9221\"],[1,\"#276419\"]],\"sequential\":[[0.0,\"#0d0887\"],[0.1111111111111111,\"#46039f\"],[0.2222222222222222,\"#7201a8\"],[0.3333333333333333,\"#9c179e\"],[0.4444444444444444,\"#bd3786\"],[0.5555555555555556,\"#d8576b\"],[0.6666666666666666,\"#ed7953\"],[0.7777777777777778,\"#fb9f3a\"],[0.8888888888888888,\"#fdca26\"],[1.0,\"#f0f921\"]],\"sequentialminus\":[[0.0,\"#0d0887\"],[0.1111111111111111,\"#46039f\"],[0.2222222222222222,\"#7201a8\"],[0.3333333333333333,\"#9c179e\"],[0.4444444444444444,\"#bd3786\"],[0.5555555555555556,\"#d8576b\"],[0.6666666666666666,\"#ed7953\"],[0.7777777777777778,\"#fb9f3a\"],[0.8888888888888888,\"#fdca26\"],[1.0,\"#f0f921\"]]},\"colorway\":[\"#636efa\",\"#EF553B\",\"#00cc96\",\"#ab63fa\",\"#FFA15A\",\"#19d3f3\",\"#FF6692\",\"#B6E880\",\"#FF97FF\",\"#FECB52\"],\"font\":{\"color\":\"#2a3f5f\"},\"geo\":{\"bgcolor\":\"white\",\"lakecolor\":\"white\",\"landcolor\":\"#E5ECF6\",\"showlakes\":true,\"showland\":true,\"subunitcolor\":\"white\"},\"hoverlabel\":{\"align\":\"left\"},\"hovermode\":\"closest\",\"mapbox\":{\"style\":\"light\"},\"paper_bgcolor\":\"white\",\"plot_bgcolor\":\"#E5ECF6\",\"polar\":{\"angularaxis\":{\"gridcolor\":\"white\",\"linecolor\":\"white\",\"ticks\":\"\"},\"bgcolor\":\"#E5ECF6\",\"radialaxis\":{\"gridcolor\":\"white\",\"linecolor\":\"white\",\"ticks\":\"\"}},\"scene\":{\"xaxis\":{\"backgroundcolor\":\"#E5ECF6\",\"gridcolor\":\"white\",\"gridwidth\":2,\"linecolor\":\"white\",\"showbackground\":true,\"ticks\":\"\",\"zerolinecolor\":\"white\"},\"yaxis\":{\"backgroundcolor\":\"#E5ECF6\",\"gridcolor\":\"white\",\"gridwidth\":2,\"linecolor\":\"white\",\"showbackground\":true,\"ticks\":\"\",\"zerolinecolor\":\"white\"},\"zaxis\":{\"backgroundcolor\":\"#E5ECF6\",\"gridcolor\":\"white\",\"gridwidth\":2,\"linecolor\":\"white\",\"showbackground\":true,\"ticks\":\"\",\"zerolinecolor\":\"white\"}},\"shapedefaults\":{\"line\":{\"color\":\"#2a3f5f\"}},\"ternary\":{\"aaxis\":{\"gridcolor\":\"white\",\"linecolor\":\"white\",\"ticks\":\"\"},\"baxis\":{\"gridcolor\":\"white\",\"linecolor\":\"white\",\"ticks\":\"\"},\"bgcolor\":\"#E5ECF6\",\"caxis\":{\"gridcolor\":\"white\",\"linecolor\":\"white\",\"ticks\":\"\"}},\"title\":{\"x\":0.05},\"xaxis\":{\"automargin\":true,\"gridcolor\":\"white\",\"linecolor\":\"white\",\"ticks\":\"\",\"title\":{\"standoff\":15},\"zerolinecolor\":\"white\",\"zerolinewidth\":2},\"yaxis\":{\"automargin\":true,\"gridcolor\":\"white\",\"linecolor\":\"white\",\"ticks\":\"\",\"title\":{\"standoff\":15},\"zerolinecolor\":\"white\",\"zerolinewidth\":2}}},\"title\":{\"font\":{\"color\":\"#4D5663\"}},\"xaxis\":{\"gridcolor\":\"#E1E5ED\",\"showgrid\":true,\"tickfont\":{\"color\":\"#4D5663\"},\"title\":{\"font\":{\"color\":\"#4D5663\"},\"text\":\"\"},\"zerolinecolor\":\"#E1E5ED\"},\"xaxis2\":{\"anchor\":\"y2\",\"gridcolor\":\"#E1E5ED\",\"showgrid\":true,\"showticklabels\":false,\"tickfont\":{\"color\":\"#4D5663\"},\"title\":{\"font\":{\"color\":\"#4D5663\"},\"text\":\"\"},\"zerolinecolor\":\"#E1E5ED\"},\"yaxis\":{\"domain\":[0.3,1],\"gridcolor\":\"#E1E5ED\",\"showgrid\":true,\"tickfont\":{\"color\":\"#4D5663\"},\"title\":{\"font\":{\"color\":\"#4D5663\"},\"text\":\"\"},\"zerolinecolor\":\"#E1E5ED\"},\"yaxis2\":{\"domain\":[0,0.25],\"gridcolor\":\"#E1E5ED\",\"showgrid\":true,\"tickfont\":{\"color\":\"#4D5663\"},\"title\":{\"font\":{\"color\":\"#4D5663\"},\"text\":\"Spread\"},\"zerolinecolor\":\"#E1E5ED\"}},                        {\"showLink\": true, \"linkText\": \"Export to plot.ly\", \"plotlyServerURL\": \"https://plot.ly\", \"responsive\": true}                    ).then(function(){\n",
       "                            \n",
       "var gd = document.getElementById('96cc1504-73ae-40a4-8b94-8ed4d272aeb9');\n",
       "var x = new MutationObserver(function (mutations, observer) {{\n",
       "        var display = window.getComputedStyle(gd).display;\n",
       "        if (!display || display === 'none') {{\n",
       "            console.log([gd, 'removed!']);\n",
       "            Plotly.purge(gd);\n",
       "            observer.disconnect();\n",
       "        }}\n",
       "}});\n",
       "\n",
       "// Listen for the removal of the full notebook cells\n",
       "var notebookContainer = gd.closest('#notebook-container');\n",
       "if (notebookContainer) {{\n",
       "    x.observe(notebookContainer, {childList: true});\n",
       "}}\n",
       "\n",
       "// Listen for the clearing of the current output cell\n",
       "var outputEl = gd.closest('.output');\n",
       "if (outputEl) {{\n",
       "    x.observe(outputEl, {childList: true});\n",
       "}}\n",
       "\n",
       "                        })                };                });            </script>        </div>"
      ]
     },
     "metadata": {},
     "output_type": "display_data"
    }
   ],
   "source": [
    "df[['A', 'B']].iplot(kind='spread')"
   ]
  },
  {
   "cell_type": "code",
   "execution_count": 41,
   "id": "e8d3c009",
   "metadata": {},
   "outputs": [
    {
     "data": {
      "application/vnd.plotly.v1+json": {
       "config": {
        "linkText": "Export to plot.ly",
        "plotlyServerURL": "https://plot.ly",
        "showLink": true
       },
       "data": [
        {
         "histfunc": "count",
         "histnorm": "",
         "marker": {
          "color": "rgba(255, 153, 51, 1.0)",
          "line": {
           "color": "#4D5663",
           "width": 1.3
          }
         },
         "name": "A",
         "nbinsx": 50,
         "opacity": 0.8,
         "orientation": "v",
         "type": "histogram",
         "x": [
          -0.9689814687300818,
          -1.819070192646803,
          -1.6177056676563566,
          -1.2822048972762328,
          -0.07026639488898488,
          0.07989276314379316,
          -0.07971619676774501,
          1.8887431391867724,
          -2.690163801793752,
          -0.6469135654693827,
          0.21996753741385894,
          -0.00017554401226315753,
          0.6722152939484372,
          0.375773105108882,
          -0.6771372160943433,
          -0.05166991576338214,
          -0.9712984391510093,
          -1.2796606868932487,
          -2.684010644068368,
          1.446535962278647,
          -0.3933833350696182,
          0.3398045294122675,
          -0.21429156338043284,
          -0.8694853586368659,
          2.1258079670627255,
          -0.9964294983320559,
          -0.12971727935162083,
          -0.33777437015986483,
          -0.0029251286295001733,
          -0.4033053186404409,
          0.9515131078888949,
          -0.2148102151939041,
          -0.321029567081902,
          -2.0619659695924595,
          -0.3921888116037307,
          0.45270332797963847,
          -1.220863538633721,
          -0.5670044277442816,
          0.7015293738927034,
          -1.7783627238418853,
          -0.6726036079003833,
          1.8057874407056216,
          0.4615826345114712,
          0.5637210583051996,
          -0.8001230867823986,
          0.4001494149324175,
          1.487280228539015,
          -0.537545948213816,
          -0.013491547963904374,
          -0.9115002435641544,
          1.3492085214066536,
          0.09399125992628336,
          1.5361969424936541,
          1.209276503142546,
          0.8957163383160075,
          0.3286960813754728,
          1.186564808953308,
          0.030209342638638,
          -1.2881376826026363,
          0.36899985773680694,
          -0.9991276431316153,
          -0.5523528967741201,
          0.7489283897900095,
          -1.2702653278648925,
          -2.319649876420089,
          -0.7346948750986463,
          -0.3018090654226126,
          0.3304576617158405,
          -0.36971406428792614,
          -0.07108244031274921,
          0.046893968106723694,
          -0.39995761665655655,
          -0.22773800313605314,
          0.8385401917037871,
          -0.7843817301737499,
          0.2903325643545476,
          0.9970639076883745,
          0.2564228095813574,
          0.1937322846658141,
          -0.23692927107798026,
          0.15129977012907359,
          1.1622861457099305,
          0.35724052008541807,
          -1.0476356542501768,
          -0.9290698364313671,
          0.6498657401938932,
          0.31098653768337015,
          -1.2884673415770924,
          -0.3709162009778576,
          -0.08147258065577224,
          0.3917267335706723,
          1.317194918920567,
          -0.7387079120619336,
          -0.8113449879094478,
          0.10548121430996321,
          -0.9428818835204189,
          -0.39409862948233865,
          -0.7599119421073366,
          -0.9392878656019644,
          -0.6414534205937111
         ]
        }
       ],
       "layout": {
        "barmode": "overlay",
        "legend": {
         "bgcolor": "#F5F6F9",
         "font": {
          "color": "#4D5663"
         }
        },
        "paper_bgcolor": "#F5F6F9",
        "plot_bgcolor": "#F5F6F9",
        "template": {
         "data": {
          "bar": [
           {
            "error_x": {
             "color": "#2a3f5f"
            },
            "error_y": {
             "color": "#2a3f5f"
            },
            "marker": {
             "line": {
              "color": "#E5ECF6",
              "width": 0.5
             },
             "pattern": {
              "fillmode": "overlay",
              "size": 10,
              "solidity": 0.2
             }
            },
            "type": "bar"
           }
          ],
          "barpolar": [
           {
            "marker": {
             "line": {
              "color": "#E5ECF6",
              "width": 0.5
             },
             "pattern": {
              "fillmode": "overlay",
              "size": 10,
              "solidity": 0.2
             }
            },
            "type": "barpolar"
           }
          ],
          "carpet": [
           {
            "aaxis": {
             "endlinecolor": "#2a3f5f",
             "gridcolor": "white",
             "linecolor": "white",
             "minorgridcolor": "white",
             "startlinecolor": "#2a3f5f"
            },
            "baxis": {
             "endlinecolor": "#2a3f5f",
             "gridcolor": "white",
             "linecolor": "white",
             "minorgridcolor": "white",
             "startlinecolor": "#2a3f5f"
            },
            "type": "carpet"
           }
          ],
          "choropleth": [
           {
            "colorbar": {
             "outlinewidth": 0,
             "ticks": ""
            },
            "type": "choropleth"
           }
          ],
          "contour": [
           {
            "colorbar": {
             "outlinewidth": 0,
             "ticks": ""
            },
            "colorscale": [
             [
              0,
              "#0d0887"
             ],
             [
              0.1111111111111111,
              "#46039f"
             ],
             [
              0.2222222222222222,
              "#7201a8"
             ],
             [
              0.3333333333333333,
              "#9c179e"
             ],
             [
              0.4444444444444444,
              "#bd3786"
             ],
             [
              0.5555555555555556,
              "#d8576b"
             ],
             [
              0.6666666666666666,
              "#ed7953"
             ],
             [
              0.7777777777777778,
              "#fb9f3a"
             ],
             [
              0.8888888888888888,
              "#fdca26"
             ],
             [
              1,
              "#f0f921"
             ]
            ],
            "type": "contour"
           }
          ],
          "contourcarpet": [
           {
            "colorbar": {
             "outlinewidth": 0,
             "ticks": ""
            },
            "type": "contourcarpet"
           }
          ],
          "heatmap": [
           {
            "colorbar": {
             "outlinewidth": 0,
             "ticks": ""
            },
            "colorscale": [
             [
              0,
              "#0d0887"
             ],
             [
              0.1111111111111111,
              "#46039f"
             ],
             [
              0.2222222222222222,
              "#7201a8"
             ],
             [
              0.3333333333333333,
              "#9c179e"
             ],
             [
              0.4444444444444444,
              "#bd3786"
             ],
             [
              0.5555555555555556,
              "#d8576b"
             ],
             [
              0.6666666666666666,
              "#ed7953"
             ],
             [
              0.7777777777777778,
              "#fb9f3a"
             ],
             [
              0.8888888888888888,
              "#fdca26"
             ],
             [
              1,
              "#f0f921"
             ]
            ],
            "type": "heatmap"
           }
          ],
          "heatmapgl": [
           {
            "colorbar": {
             "outlinewidth": 0,
             "ticks": ""
            },
            "colorscale": [
             [
              0,
              "#0d0887"
             ],
             [
              0.1111111111111111,
              "#46039f"
             ],
             [
              0.2222222222222222,
              "#7201a8"
             ],
             [
              0.3333333333333333,
              "#9c179e"
             ],
             [
              0.4444444444444444,
              "#bd3786"
             ],
             [
              0.5555555555555556,
              "#d8576b"
             ],
             [
              0.6666666666666666,
              "#ed7953"
             ],
             [
              0.7777777777777778,
              "#fb9f3a"
             ],
             [
              0.8888888888888888,
              "#fdca26"
             ],
             [
              1,
              "#f0f921"
             ]
            ],
            "type": "heatmapgl"
           }
          ],
          "histogram": [
           {
            "marker": {
             "pattern": {
              "fillmode": "overlay",
              "size": 10,
              "solidity": 0.2
             }
            },
            "type": "histogram"
           }
          ],
          "histogram2d": [
           {
            "colorbar": {
             "outlinewidth": 0,
             "ticks": ""
            },
            "colorscale": [
             [
              0,
              "#0d0887"
             ],
             [
              0.1111111111111111,
              "#46039f"
             ],
             [
              0.2222222222222222,
              "#7201a8"
             ],
             [
              0.3333333333333333,
              "#9c179e"
             ],
             [
              0.4444444444444444,
              "#bd3786"
             ],
             [
              0.5555555555555556,
              "#d8576b"
             ],
             [
              0.6666666666666666,
              "#ed7953"
             ],
             [
              0.7777777777777778,
              "#fb9f3a"
             ],
             [
              0.8888888888888888,
              "#fdca26"
             ],
             [
              1,
              "#f0f921"
             ]
            ],
            "type": "histogram2d"
           }
          ],
          "histogram2dcontour": [
           {
            "colorbar": {
             "outlinewidth": 0,
             "ticks": ""
            },
            "colorscale": [
             [
              0,
              "#0d0887"
             ],
             [
              0.1111111111111111,
              "#46039f"
             ],
             [
              0.2222222222222222,
              "#7201a8"
             ],
             [
              0.3333333333333333,
              "#9c179e"
             ],
             [
              0.4444444444444444,
              "#bd3786"
             ],
             [
              0.5555555555555556,
              "#d8576b"
             ],
             [
              0.6666666666666666,
              "#ed7953"
             ],
             [
              0.7777777777777778,
              "#fb9f3a"
             ],
             [
              0.8888888888888888,
              "#fdca26"
             ],
             [
              1,
              "#f0f921"
             ]
            ],
            "type": "histogram2dcontour"
           }
          ],
          "mesh3d": [
           {
            "colorbar": {
             "outlinewidth": 0,
             "ticks": ""
            },
            "type": "mesh3d"
           }
          ],
          "parcoords": [
           {
            "line": {
             "colorbar": {
              "outlinewidth": 0,
              "ticks": ""
             }
            },
            "type": "parcoords"
           }
          ],
          "pie": [
           {
            "automargin": true,
            "type": "pie"
           }
          ],
          "scatter": [
           {
            "marker": {
             "colorbar": {
              "outlinewidth": 0,
              "ticks": ""
             }
            },
            "type": "scatter"
           }
          ],
          "scatter3d": [
           {
            "line": {
             "colorbar": {
              "outlinewidth": 0,
              "ticks": ""
             }
            },
            "marker": {
             "colorbar": {
              "outlinewidth": 0,
              "ticks": ""
             }
            },
            "type": "scatter3d"
           }
          ],
          "scattercarpet": [
           {
            "marker": {
             "colorbar": {
              "outlinewidth": 0,
              "ticks": ""
             }
            },
            "type": "scattercarpet"
           }
          ],
          "scattergeo": [
           {
            "marker": {
             "colorbar": {
              "outlinewidth": 0,
              "ticks": ""
             }
            },
            "type": "scattergeo"
           }
          ],
          "scattergl": [
           {
            "marker": {
             "colorbar": {
              "outlinewidth": 0,
              "ticks": ""
             }
            },
            "type": "scattergl"
           }
          ],
          "scattermapbox": [
           {
            "marker": {
             "colorbar": {
              "outlinewidth": 0,
              "ticks": ""
             }
            },
            "type": "scattermapbox"
           }
          ],
          "scatterpolar": [
           {
            "marker": {
             "colorbar": {
              "outlinewidth": 0,
              "ticks": ""
             }
            },
            "type": "scatterpolar"
           }
          ],
          "scatterpolargl": [
           {
            "marker": {
             "colorbar": {
              "outlinewidth": 0,
              "ticks": ""
             }
            },
            "type": "scatterpolargl"
           }
          ],
          "scatterternary": [
           {
            "marker": {
             "colorbar": {
              "outlinewidth": 0,
              "ticks": ""
             }
            },
            "type": "scatterternary"
           }
          ],
          "surface": [
           {
            "colorbar": {
             "outlinewidth": 0,
             "ticks": ""
            },
            "colorscale": [
             [
              0,
              "#0d0887"
             ],
             [
              0.1111111111111111,
              "#46039f"
             ],
             [
              0.2222222222222222,
              "#7201a8"
             ],
             [
              0.3333333333333333,
              "#9c179e"
             ],
             [
              0.4444444444444444,
              "#bd3786"
             ],
             [
              0.5555555555555556,
              "#d8576b"
             ],
             [
              0.6666666666666666,
              "#ed7953"
             ],
             [
              0.7777777777777778,
              "#fb9f3a"
             ],
             [
              0.8888888888888888,
              "#fdca26"
             ],
             [
              1,
              "#f0f921"
             ]
            ],
            "type": "surface"
           }
          ],
          "table": [
           {
            "cells": {
             "fill": {
              "color": "#EBF0F8"
             },
             "line": {
              "color": "white"
             }
            },
            "header": {
             "fill": {
              "color": "#C8D4E3"
             },
             "line": {
              "color": "white"
             }
            },
            "type": "table"
           }
          ]
         },
         "layout": {
          "annotationdefaults": {
           "arrowcolor": "#2a3f5f",
           "arrowhead": 0,
           "arrowwidth": 1
          },
          "autotypenumbers": "strict",
          "coloraxis": {
           "colorbar": {
            "outlinewidth": 0,
            "ticks": ""
           }
          },
          "colorscale": {
           "diverging": [
            [
             0,
             "#8e0152"
            ],
            [
             0.1,
             "#c51b7d"
            ],
            [
             0.2,
             "#de77ae"
            ],
            [
             0.3,
             "#f1b6da"
            ],
            [
             0.4,
             "#fde0ef"
            ],
            [
             0.5,
             "#f7f7f7"
            ],
            [
             0.6,
             "#e6f5d0"
            ],
            [
             0.7,
             "#b8e186"
            ],
            [
             0.8,
             "#7fbc41"
            ],
            [
             0.9,
             "#4d9221"
            ],
            [
             1,
             "#276419"
            ]
           ],
           "sequential": [
            [
             0,
             "#0d0887"
            ],
            [
             0.1111111111111111,
             "#46039f"
            ],
            [
             0.2222222222222222,
             "#7201a8"
            ],
            [
             0.3333333333333333,
             "#9c179e"
            ],
            [
             0.4444444444444444,
             "#bd3786"
            ],
            [
             0.5555555555555556,
             "#d8576b"
            ],
            [
             0.6666666666666666,
             "#ed7953"
            ],
            [
             0.7777777777777778,
             "#fb9f3a"
            ],
            [
             0.8888888888888888,
             "#fdca26"
            ],
            [
             1,
             "#f0f921"
            ]
           ],
           "sequentialminus": [
            [
             0,
             "#0d0887"
            ],
            [
             0.1111111111111111,
             "#46039f"
            ],
            [
             0.2222222222222222,
             "#7201a8"
            ],
            [
             0.3333333333333333,
             "#9c179e"
            ],
            [
             0.4444444444444444,
             "#bd3786"
            ],
            [
             0.5555555555555556,
             "#d8576b"
            ],
            [
             0.6666666666666666,
             "#ed7953"
            ],
            [
             0.7777777777777778,
             "#fb9f3a"
            ],
            [
             0.8888888888888888,
             "#fdca26"
            ],
            [
             1,
             "#f0f921"
            ]
           ]
          },
          "colorway": [
           "#636efa",
           "#EF553B",
           "#00cc96",
           "#ab63fa",
           "#FFA15A",
           "#19d3f3",
           "#FF6692",
           "#B6E880",
           "#FF97FF",
           "#FECB52"
          ],
          "font": {
           "color": "#2a3f5f"
          },
          "geo": {
           "bgcolor": "white",
           "lakecolor": "white",
           "landcolor": "#E5ECF6",
           "showlakes": true,
           "showland": true,
           "subunitcolor": "white"
          },
          "hoverlabel": {
           "align": "left"
          },
          "hovermode": "closest",
          "mapbox": {
           "style": "light"
          },
          "paper_bgcolor": "white",
          "plot_bgcolor": "#E5ECF6",
          "polar": {
           "angularaxis": {
            "gridcolor": "white",
            "linecolor": "white",
            "ticks": ""
           },
           "bgcolor": "#E5ECF6",
           "radialaxis": {
            "gridcolor": "white",
            "linecolor": "white",
            "ticks": ""
           }
          },
          "scene": {
           "xaxis": {
            "backgroundcolor": "#E5ECF6",
            "gridcolor": "white",
            "gridwidth": 2,
            "linecolor": "white",
            "showbackground": true,
            "ticks": "",
            "zerolinecolor": "white"
           },
           "yaxis": {
            "backgroundcolor": "#E5ECF6",
            "gridcolor": "white",
            "gridwidth": 2,
            "linecolor": "white",
            "showbackground": true,
            "ticks": "",
            "zerolinecolor": "white"
           },
           "zaxis": {
            "backgroundcolor": "#E5ECF6",
            "gridcolor": "white",
            "gridwidth": 2,
            "linecolor": "white",
            "showbackground": true,
            "ticks": "",
            "zerolinecolor": "white"
           }
          },
          "shapedefaults": {
           "line": {
            "color": "#2a3f5f"
           }
          },
          "ternary": {
           "aaxis": {
            "gridcolor": "white",
            "linecolor": "white",
            "ticks": ""
           },
           "baxis": {
            "gridcolor": "white",
            "linecolor": "white",
            "ticks": ""
           },
           "bgcolor": "#E5ECF6",
           "caxis": {
            "gridcolor": "white",
            "linecolor": "white",
            "ticks": ""
           }
          },
          "title": {
           "x": 0.05
          },
          "xaxis": {
           "automargin": true,
           "gridcolor": "white",
           "linecolor": "white",
           "ticks": "",
           "title": {
            "standoff": 15
           },
           "zerolinecolor": "white",
           "zerolinewidth": 2
          },
          "yaxis": {
           "automargin": true,
           "gridcolor": "white",
           "linecolor": "white",
           "ticks": "",
           "title": {
            "standoff": 15
           },
           "zerolinecolor": "white",
           "zerolinewidth": 2
          }
         }
        },
        "title": {
         "font": {
          "color": "#4D5663"
         }
        },
        "xaxis": {
         "gridcolor": "#E1E5ED",
         "showgrid": true,
         "tickfont": {
          "color": "#4D5663"
         },
         "title": {
          "font": {
           "color": "#4D5663"
          },
          "text": ""
         },
         "zerolinecolor": "#E1E5ED"
        },
        "yaxis": {
         "gridcolor": "#E1E5ED",
         "showgrid": true,
         "tickfont": {
          "color": "#4D5663"
         },
         "title": {
          "font": {
           "color": "#4D5663"
          },
          "text": ""
         },
         "zerolinecolor": "#E1E5ED"
        }
       }
      },
      "text/html": [
       "<div>                            <div id=\"e8e5ecde-73b4-47c9-b4c4-7889dc673770\" class=\"plotly-graph-div\" style=\"height:525px; width:100%;\"></div>            <script type=\"text/javascript\">                require([\"plotly\"], function(Plotly) {                    window.PLOTLYENV=window.PLOTLYENV || {};\n",
       "                    window.PLOTLYENV.BASE_URL='https://plot.ly';                                    if (document.getElementById(\"e8e5ecde-73b4-47c9-b4c4-7889dc673770\")) {                    Plotly.newPlot(                        \"e8e5ecde-73b4-47c9-b4c4-7889dc673770\",                        [{\"histfunc\":\"count\",\"histnorm\":\"\",\"marker\":{\"color\":\"rgba(255, 153, 51, 1.0)\",\"line\":{\"color\":\"#4D5663\",\"width\":1.3}},\"name\":\"A\",\"nbinsx\":50,\"opacity\":0.8,\"orientation\":\"v\",\"type\":\"histogram\",\"x\":[-0.9689814687300818,-1.819070192646803,-1.6177056676563566,-1.2822048972762328,-0.07026639488898488,0.07989276314379316,-0.07971619676774501,1.8887431391867724,-2.690163801793752,-0.6469135654693827,0.21996753741385894,-0.00017554401226315753,0.6722152939484372,0.375773105108882,-0.6771372160943433,-0.05166991576338214,-0.9712984391510093,-1.2796606868932487,-2.684010644068368,1.446535962278647,-0.3933833350696182,0.3398045294122675,-0.21429156338043284,-0.8694853586368659,2.1258079670627255,-0.9964294983320559,-0.12971727935162083,-0.33777437015986483,-0.0029251286295001733,-0.4033053186404409,0.9515131078888949,-0.2148102151939041,-0.321029567081902,-2.0619659695924595,-0.3921888116037307,0.45270332797963847,-1.220863538633721,-0.5670044277442816,0.7015293738927034,-1.7783627238418853,-0.6726036079003833,1.8057874407056216,0.4615826345114712,0.5637210583051996,-0.8001230867823986,0.4001494149324175,1.487280228539015,-0.537545948213816,-0.013491547963904374,-0.9115002435641544,1.3492085214066536,0.09399125992628336,1.5361969424936541,1.209276503142546,0.8957163383160075,0.3286960813754728,1.186564808953308,0.030209342638638,-1.2881376826026363,0.36899985773680694,-0.9991276431316153,-0.5523528967741201,0.7489283897900095,-1.2702653278648925,-2.319649876420089,-0.7346948750986463,-0.3018090654226126,0.3304576617158405,-0.36971406428792614,-0.07108244031274921,0.046893968106723694,-0.39995761665655655,-0.22773800313605314,0.8385401917037871,-0.7843817301737499,0.2903325643545476,0.9970639076883745,0.2564228095813574,0.1937322846658141,-0.23692927107798026,0.15129977012907359,1.1622861457099305,0.35724052008541807,-1.0476356542501768,-0.9290698364313671,0.6498657401938932,0.31098653768337015,-1.2884673415770924,-0.3709162009778576,-0.08147258065577224,0.3917267335706723,1.317194918920567,-0.7387079120619336,-0.8113449879094478,0.10548121430996321,-0.9428818835204189,-0.39409862948233865,-0.7599119421073366,-0.9392878656019644,-0.6414534205937111]}],                        {\"barmode\":\"overlay\",\"legend\":{\"bgcolor\":\"#F5F6F9\",\"font\":{\"color\":\"#4D5663\"}},\"paper_bgcolor\":\"#F5F6F9\",\"plot_bgcolor\":\"#F5F6F9\",\"template\":{\"data\":{\"bar\":[{\"error_x\":{\"color\":\"#2a3f5f\"},\"error_y\":{\"color\":\"#2a3f5f\"},\"marker\":{\"line\":{\"color\":\"#E5ECF6\",\"width\":0.5},\"pattern\":{\"fillmode\":\"overlay\",\"size\":10,\"solidity\":0.2}},\"type\":\"bar\"}],\"barpolar\":[{\"marker\":{\"line\":{\"color\":\"#E5ECF6\",\"width\":0.5},\"pattern\":{\"fillmode\":\"overlay\",\"size\":10,\"solidity\":0.2}},\"type\":\"barpolar\"}],\"carpet\":[{\"aaxis\":{\"endlinecolor\":\"#2a3f5f\",\"gridcolor\":\"white\",\"linecolor\":\"white\",\"minorgridcolor\":\"white\",\"startlinecolor\":\"#2a3f5f\"},\"baxis\":{\"endlinecolor\":\"#2a3f5f\",\"gridcolor\":\"white\",\"linecolor\":\"white\",\"minorgridcolor\":\"white\",\"startlinecolor\":\"#2a3f5f\"},\"type\":\"carpet\"}],\"choropleth\":[{\"colorbar\":{\"outlinewidth\":0,\"ticks\":\"\"},\"type\":\"choropleth\"}],\"contour\":[{\"colorbar\":{\"outlinewidth\":0,\"ticks\":\"\"},\"colorscale\":[[0.0,\"#0d0887\"],[0.1111111111111111,\"#46039f\"],[0.2222222222222222,\"#7201a8\"],[0.3333333333333333,\"#9c179e\"],[0.4444444444444444,\"#bd3786\"],[0.5555555555555556,\"#d8576b\"],[0.6666666666666666,\"#ed7953\"],[0.7777777777777778,\"#fb9f3a\"],[0.8888888888888888,\"#fdca26\"],[1.0,\"#f0f921\"]],\"type\":\"contour\"}],\"contourcarpet\":[{\"colorbar\":{\"outlinewidth\":0,\"ticks\":\"\"},\"type\":\"contourcarpet\"}],\"heatmap\":[{\"colorbar\":{\"outlinewidth\":0,\"ticks\":\"\"},\"colorscale\":[[0.0,\"#0d0887\"],[0.1111111111111111,\"#46039f\"],[0.2222222222222222,\"#7201a8\"],[0.3333333333333333,\"#9c179e\"],[0.4444444444444444,\"#bd3786\"],[0.5555555555555556,\"#d8576b\"],[0.6666666666666666,\"#ed7953\"],[0.7777777777777778,\"#fb9f3a\"],[0.8888888888888888,\"#fdca26\"],[1.0,\"#f0f921\"]],\"type\":\"heatmap\"}],\"heatmapgl\":[{\"colorbar\":{\"outlinewidth\":0,\"ticks\":\"\"},\"colorscale\":[[0.0,\"#0d0887\"],[0.1111111111111111,\"#46039f\"],[0.2222222222222222,\"#7201a8\"],[0.3333333333333333,\"#9c179e\"],[0.4444444444444444,\"#bd3786\"],[0.5555555555555556,\"#d8576b\"],[0.6666666666666666,\"#ed7953\"],[0.7777777777777778,\"#fb9f3a\"],[0.8888888888888888,\"#fdca26\"],[1.0,\"#f0f921\"]],\"type\":\"heatmapgl\"}],\"histogram\":[{\"marker\":{\"pattern\":{\"fillmode\":\"overlay\",\"size\":10,\"solidity\":0.2}},\"type\":\"histogram\"}],\"histogram2d\":[{\"colorbar\":{\"outlinewidth\":0,\"ticks\":\"\"},\"colorscale\":[[0.0,\"#0d0887\"],[0.1111111111111111,\"#46039f\"],[0.2222222222222222,\"#7201a8\"],[0.3333333333333333,\"#9c179e\"],[0.4444444444444444,\"#bd3786\"],[0.5555555555555556,\"#d8576b\"],[0.6666666666666666,\"#ed7953\"],[0.7777777777777778,\"#fb9f3a\"],[0.8888888888888888,\"#fdca26\"],[1.0,\"#f0f921\"]],\"type\":\"histogram2d\"}],\"histogram2dcontour\":[{\"colorbar\":{\"outlinewidth\":0,\"ticks\":\"\"},\"colorscale\":[[0.0,\"#0d0887\"],[0.1111111111111111,\"#46039f\"],[0.2222222222222222,\"#7201a8\"],[0.3333333333333333,\"#9c179e\"],[0.4444444444444444,\"#bd3786\"],[0.5555555555555556,\"#d8576b\"],[0.6666666666666666,\"#ed7953\"],[0.7777777777777778,\"#fb9f3a\"],[0.8888888888888888,\"#fdca26\"],[1.0,\"#f0f921\"]],\"type\":\"histogram2dcontour\"}],\"mesh3d\":[{\"colorbar\":{\"outlinewidth\":0,\"ticks\":\"\"},\"type\":\"mesh3d\"}],\"parcoords\":[{\"line\":{\"colorbar\":{\"outlinewidth\":0,\"ticks\":\"\"}},\"type\":\"parcoords\"}],\"pie\":[{\"automargin\":true,\"type\":\"pie\"}],\"scatter\":[{\"marker\":{\"colorbar\":{\"outlinewidth\":0,\"ticks\":\"\"}},\"type\":\"scatter\"}],\"scatter3d\":[{\"line\":{\"colorbar\":{\"outlinewidth\":0,\"ticks\":\"\"}},\"marker\":{\"colorbar\":{\"outlinewidth\":0,\"ticks\":\"\"}},\"type\":\"scatter3d\"}],\"scattercarpet\":[{\"marker\":{\"colorbar\":{\"outlinewidth\":0,\"ticks\":\"\"}},\"type\":\"scattercarpet\"}],\"scattergeo\":[{\"marker\":{\"colorbar\":{\"outlinewidth\":0,\"ticks\":\"\"}},\"type\":\"scattergeo\"}],\"scattergl\":[{\"marker\":{\"colorbar\":{\"outlinewidth\":0,\"ticks\":\"\"}},\"type\":\"scattergl\"}],\"scattermapbox\":[{\"marker\":{\"colorbar\":{\"outlinewidth\":0,\"ticks\":\"\"}},\"type\":\"scattermapbox\"}],\"scatterpolar\":[{\"marker\":{\"colorbar\":{\"outlinewidth\":0,\"ticks\":\"\"}},\"type\":\"scatterpolar\"}],\"scatterpolargl\":[{\"marker\":{\"colorbar\":{\"outlinewidth\":0,\"ticks\":\"\"}},\"type\":\"scatterpolargl\"}],\"scatterternary\":[{\"marker\":{\"colorbar\":{\"outlinewidth\":0,\"ticks\":\"\"}},\"type\":\"scatterternary\"}],\"surface\":[{\"colorbar\":{\"outlinewidth\":0,\"ticks\":\"\"},\"colorscale\":[[0.0,\"#0d0887\"],[0.1111111111111111,\"#46039f\"],[0.2222222222222222,\"#7201a8\"],[0.3333333333333333,\"#9c179e\"],[0.4444444444444444,\"#bd3786\"],[0.5555555555555556,\"#d8576b\"],[0.6666666666666666,\"#ed7953\"],[0.7777777777777778,\"#fb9f3a\"],[0.8888888888888888,\"#fdca26\"],[1.0,\"#f0f921\"]],\"type\":\"surface\"}],\"table\":[{\"cells\":{\"fill\":{\"color\":\"#EBF0F8\"},\"line\":{\"color\":\"white\"}},\"header\":{\"fill\":{\"color\":\"#C8D4E3\"},\"line\":{\"color\":\"white\"}},\"type\":\"table\"}]},\"layout\":{\"annotationdefaults\":{\"arrowcolor\":\"#2a3f5f\",\"arrowhead\":0,\"arrowwidth\":1},\"autotypenumbers\":\"strict\",\"coloraxis\":{\"colorbar\":{\"outlinewidth\":0,\"ticks\":\"\"}},\"colorscale\":{\"diverging\":[[0,\"#8e0152\"],[0.1,\"#c51b7d\"],[0.2,\"#de77ae\"],[0.3,\"#f1b6da\"],[0.4,\"#fde0ef\"],[0.5,\"#f7f7f7\"],[0.6,\"#e6f5d0\"],[0.7,\"#b8e186\"],[0.8,\"#7fbc41\"],[0.9,\"#4d9221\"],[1,\"#276419\"]],\"sequential\":[[0.0,\"#0d0887\"],[0.1111111111111111,\"#46039f\"],[0.2222222222222222,\"#7201a8\"],[0.3333333333333333,\"#9c179e\"],[0.4444444444444444,\"#bd3786\"],[0.5555555555555556,\"#d8576b\"],[0.6666666666666666,\"#ed7953\"],[0.7777777777777778,\"#fb9f3a\"],[0.8888888888888888,\"#fdca26\"],[1.0,\"#f0f921\"]],\"sequentialminus\":[[0.0,\"#0d0887\"],[0.1111111111111111,\"#46039f\"],[0.2222222222222222,\"#7201a8\"],[0.3333333333333333,\"#9c179e\"],[0.4444444444444444,\"#bd3786\"],[0.5555555555555556,\"#d8576b\"],[0.6666666666666666,\"#ed7953\"],[0.7777777777777778,\"#fb9f3a\"],[0.8888888888888888,\"#fdca26\"],[1.0,\"#f0f921\"]]},\"colorway\":[\"#636efa\",\"#EF553B\",\"#00cc96\",\"#ab63fa\",\"#FFA15A\",\"#19d3f3\",\"#FF6692\",\"#B6E880\",\"#FF97FF\",\"#FECB52\"],\"font\":{\"color\":\"#2a3f5f\"},\"geo\":{\"bgcolor\":\"white\",\"lakecolor\":\"white\",\"landcolor\":\"#E5ECF6\",\"showlakes\":true,\"showland\":true,\"subunitcolor\":\"white\"},\"hoverlabel\":{\"align\":\"left\"},\"hovermode\":\"closest\",\"mapbox\":{\"style\":\"light\"},\"paper_bgcolor\":\"white\",\"plot_bgcolor\":\"#E5ECF6\",\"polar\":{\"angularaxis\":{\"gridcolor\":\"white\",\"linecolor\":\"white\",\"ticks\":\"\"},\"bgcolor\":\"#E5ECF6\",\"radialaxis\":{\"gridcolor\":\"white\",\"linecolor\":\"white\",\"ticks\":\"\"}},\"scene\":{\"xaxis\":{\"backgroundcolor\":\"#E5ECF6\",\"gridcolor\":\"white\",\"gridwidth\":2,\"linecolor\":\"white\",\"showbackground\":true,\"ticks\":\"\",\"zerolinecolor\":\"white\"},\"yaxis\":{\"backgroundcolor\":\"#E5ECF6\",\"gridcolor\":\"white\",\"gridwidth\":2,\"linecolor\":\"white\",\"showbackground\":true,\"ticks\":\"\",\"zerolinecolor\":\"white\"},\"zaxis\":{\"backgroundcolor\":\"#E5ECF6\",\"gridcolor\":\"white\",\"gridwidth\":2,\"linecolor\":\"white\",\"showbackground\":true,\"ticks\":\"\",\"zerolinecolor\":\"white\"}},\"shapedefaults\":{\"line\":{\"color\":\"#2a3f5f\"}},\"ternary\":{\"aaxis\":{\"gridcolor\":\"white\",\"linecolor\":\"white\",\"ticks\":\"\"},\"baxis\":{\"gridcolor\":\"white\",\"linecolor\":\"white\",\"ticks\":\"\"},\"bgcolor\":\"#E5ECF6\",\"caxis\":{\"gridcolor\":\"white\",\"linecolor\":\"white\",\"ticks\":\"\"}},\"title\":{\"x\":0.05},\"xaxis\":{\"automargin\":true,\"gridcolor\":\"white\",\"linecolor\":\"white\",\"ticks\":\"\",\"title\":{\"standoff\":15},\"zerolinecolor\":\"white\",\"zerolinewidth\":2},\"yaxis\":{\"automargin\":true,\"gridcolor\":\"white\",\"linecolor\":\"white\",\"ticks\":\"\",\"title\":{\"standoff\":15},\"zerolinecolor\":\"white\",\"zerolinewidth\":2}}},\"title\":{\"font\":{\"color\":\"#4D5663\"}},\"xaxis\":{\"gridcolor\":\"#E1E5ED\",\"showgrid\":true,\"tickfont\":{\"color\":\"#4D5663\"},\"title\":{\"font\":{\"color\":\"#4D5663\"},\"text\":\"\"},\"zerolinecolor\":\"#E1E5ED\"},\"yaxis\":{\"gridcolor\":\"#E1E5ED\",\"showgrid\":true,\"tickfont\":{\"color\":\"#4D5663\"},\"title\":{\"font\":{\"color\":\"#4D5663\"},\"text\":\"\"},\"zerolinecolor\":\"#E1E5ED\"}},                        {\"showLink\": true, \"linkText\": \"Export to plot.ly\", \"plotlyServerURL\": \"https://plot.ly\", \"responsive\": true}                    ).then(function(){\n",
       "                            \n",
       "var gd = document.getElementById('e8e5ecde-73b4-47c9-b4c4-7889dc673770');\n",
       "var x = new MutationObserver(function (mutations, observer) {{\n",
       "        var display = window.getComputedStyle(gd).display;\n",
       "        if (!display || display === 'none') {{\n",
       "            console.log([gd, 'removed!']);\n",
       "            Plotly.purge(gd);\n",
       "            observer.disconnect();\n",
       "        }}\n",
       "}});\n",
       "\n",
       "// Listen for the removal of the full notebook cells\n",
       "var notebookContainer = gd.closest('#notebook-container');\n",
       "if (notebookContainer) {{\n",
       "    x.observe(notebookContainer, {childList: true});\n",
       "}}\n",
       "\n",
       "// Listen for the clearing of the current output cell\n",
       "var outputEl = gd.closest('.output');\n",
       "if (outputEl) {{\n",
       "    x.observe(outputEl, {childList: true});\n",
       "}}\n",
       "\n",
       "                        })                };                });            </script>        </div>"
      ]
     },
     "metadata": {},
     "output_type": "display_data"
    }
   ],
   "source": [
    "df['A'].iplot(kind='hist', bins=50)"
   ]
  },
  {
   "cell_type": "code",
   "execution_count": 42,
   "id": "0020b7cc",
   "metadata": {},
   "outputs": [
    {
     "data": {
      "application/vnd.plotly.v1+json": {
       "config": {
        "linkText": "Export to plot.ly",
        "plotlyServerURL": "https://plot.ly",
        "showLink": true
       },
       "data": [
        {
         "marker": {
          "color": [
           "rgb(255, 153, 51)",
           "rgb(55, 128, 191)",
           "rgb(50, 171, 96)",
           "rgb(128, 0, 128)",
           "rgb(219, 64, 82)",
           "rgb(0, 128, 128)",
           "rgb(255, 255, 51)",
           "rgb(128, 128, 0)",
           "rgb(251, 128, 114)",
           "rgb(128, 177, 211)"
          ],
          "line": {
           "width": 1.3
          },
          "size": [
           55,
           63,
           42,
           31,
           30,
           42,
           52,
           53,
           79,
           80,
           43,
           46,
           49,
           44,
           69,
           76,
           47,
           13,
           61,
           74,
           62,
           87,
           19,
           30,
           83,
           39,
           71,
           79,
           69,
           52,
           93,
           48,
           47,
           12,
           41,
           32,
           61,
           57,
           17,
           61,
           68,
           83,
           87,
           39,
           52,
           31,
           22,
           35,
           48,
           69,
           59,
           46,
           85,
           94,
           49,
           69,
           55,
           35,
           86,
           34,
           55,
           112,
           70,
           88,
           66,
           66,
           68,
           66,
           84,
           53,
           35,
           41,
           55,
           93,
           37,
           34,
           73,
           54,
           16,
           68,
           80,
           47,
           16,
           73,
           76,
           61,
           63,
           31,
           95,
           38,
           62,
           27,
           66,
           57,
           49,
           64,
           79,
           46,
           64,
           82
          ],
          "symbol": "circle"
         },
         "mode": "markers",
         "text": "",
         "type": "scatter",
         "x": [
          -0.9689814687300818,
          -1.819070192646803,
          -1.6177056676563566,
          -1.2822048972762328,
          -0.07026639488898488,
          0.07989276314379316,
          -0.07971619676774501,
          1.8887431391867724,
          -2.690163801793752,
          -0.6469135654693827,
          0.21996753741385894,
          -0.00017554401226315753,
          0.6722152939484372,
          0.375773105108882,
          -0.6771372160943433,
          -0.05166991576338214,
          -0.9712984391510093,
          -1.2796606868932487,
          -2.684010644068368,
          1.446535962278647,
          -0.3933833350696182,
          0.3398045294122675,
          -0.21429156338043284,
          -0.8694853586368659,
          2.1258079670627255,
          -0.9964294983320559,
          -0.12971727935162083,
          -0.33777437015986483,
          -0.0029251286295001733,
          -0.4033053186404409,
          0.9515131078888949,
          -0.2148102151939041,
          -0.321029567081902,
          -2.0619659695924595,
          -0.3921888116037307,
          0.45270332797963847,
          -1.220863538633721,
          -0.5670044277442816,
          0.7015293738927034,
          -1.7783627238418853,
          -0.6726036079003833,
          1.8057874407056216,
          0.4615826345114712,
          0.5637210583051996,
          -0.8001230867823986,
          0.4001494149324175,
          1.487280228539015,
          -0.537545948213816,
          -0.013491547963904374,
          -0.9115002435641544,
          1.3492085214066536,
          0.09399125992628336,
          1.5361969424936541,
          1.209276503142546,
          0.8957163383160075,
          0.3286960813754728,
          1.186564808953308,
          0.030209342638638,
          -1.2881376826026363,
          0.36899985773680694,
          -0.9991276431316153,
          -0.5523528967741201,
          0.7489283897900095,
          -1.2702653278648925,
          -2.319649876420089,
          -0.7346948750986463,
          -0.3018090654226126,
          0.3304576617158405,
          -0.36971406428792614,
          -0.07108244031274921,
          0.046893968106723694,
          -0.39995761665655655,
          -0.22773800313605314,
          0.8385401917037871,
          -0.7843817301737499,
          0.2903325643545476,
          0.9970639076883745,
          0.2564228095813574,
          0.1937322846658141,
          -0.23692927107798026,
          0.15129977012907359,
          1.1622861457099305,
          0.35724052008541807,
          -1.0476356542501768,
          -0.9290698364313671,
          0.6498657401938932,
          0.31098653768337015,
          -1.2884673415770924,
          -0.3709162009778576,
          -0.08147258065577224,
          0.3917267335706723,
          1.317194918920567,
          -0.7387079120619336,
          -0.8113449879094478,
          0.10548121430996321,
          -0.9428818835204189,
          -0.39409862948233865,
          -0.7599119421073366,
          -0.9392878656019644,
          -0.6414534205937111
         ],
         "y": [
          -0.1211208137774323,
          -1.8669022025714948,
          1.737516503033625,
          0.5044240956820294,
          -0.20905583360850305,
          -0.66772859732106,
          0.5656417368363179,
          0.2102108947831347,
          0.8550471770361316,
          -0.13283022951731127,
          0.969815666521891,
          -0.16871551693805362,
          2.092685942748639,
          0.5237592381430538,
          -0.010500868040481256,
          -1.137343946132466,
          0.5512793414300526,
          0.5197315132903045,
          -1.7811716569010465,
          0.34977051002786974,
          -0.7459647351215088,
          0.19919254393703917,
          1.8077163522887307,
          -0.216988180681477,
          -0.4177862033865263,
          0.746167660555817,
          -0.9574318820790669,
          -0.5144457784361782,
          1.3585871365744233,
          -1.0493862514077785,
          0.8793373873096768,
          -0.27549849124045706,
          0.32855096075725276,
          -1.0782383348802669,
          1.1201645932568207,
          -0.19666795060448894,
          -0.9223697379062344,
          -0.07066226018755582,
          1.0324765677224157,
          -0.46510567659253005,
          -1.0390679203513948,
          -0.6268136544660237,
          -1.240897527809027,
          0.29504172322456695,
          -2.085766843947555,
          -0.46363252809304023,
          0.7757346775150722,
          -1.3371935591276607,
          1.2163827222373251,
          2.633594925454588,
          0.4499655942953177,
          0.184472988849856,
          -1.1818101965101444,
          -0.5032375940021327,
          -2.077026996927567,
          -0.40345947297564294,
          0.8340533086799418,
          0.23415359584272882,
          0.15310414820274426,
          -0.05325788444610945,
          -0.49074866569690617,
          -1.4503869387444497,
          -0.9025655678068205,
          -1.8593786106700807,
          -0.15006435115168323,
          -0.44345640821757226,
          -0.5469890879102364,
          0.6704553123370551,
          -0.43056258080143867,
          -0.8285096744572659,
          -0.7523279355476609,
          -0.4065290311809796,
          -0.9854210226515766,
          0.5131658746463367,
          -1.2401297192695295,
          -1.5236664929255284,
          -0.902711813233216,
          -0.4025798221426037,
          0.32820815879307785,
          -0.6416640335873163,
          -0.10691501386440859,
          -0.5879888346195667,
          -0.832335880512588,
          -1.014271362470708,
          0.10909659869528526,
          0.0040316135089033325,
          -0.5223490638140886,
          -1.0204424496120819,
          -0.6920773504994652,
          -0.3354304437469444,
          -0.26800259441500757,
          0.5215906989263392,
          -0.19530421366543338,
          -1.1879199037324808,
          0.5404764085850129,
          0.8883326284340181,
          -0.11262805297656645,
          -0.01930789194348459,
          0.5587540791169096,
          -1.2228888614424702
         ]
        }
       ],
       "layout": {
        "legend": {
         "bgcolor": "#F5F6F9",
         "font": {
          "color": "#4D5663"
         }
        },
        "paper_bgcolor": "#F5F6F9",
        "plot_bgcolor": "#F5F6F9",
        "template": {
         "data": {
          "bar": [
           {
            "error_x": {
             "color": "#2a3f5f"
            },
            "error_y": {
             "color": "#2a3f5f"
            },
            "marker": {
             "line": {
              "color": "#E5ECF6",
              "width": 0.5
             },
             "pattern": {
              "fillmode": "overlay",
              "size": 10,
              "solidity": 0.2
             }
            },
            "type": "bar"
           }
          ],
          "barpolar": [
           {
            "marker": {
             "line": {
              "color": "#E5ECF6",
              "width": 0.5
             },
             "pattern": {
              "fillmode": "overlay",
              "size": 10,
              "solidity": 0.2
             }
            },
            "type": "barpolar"
           }
          ],
          "carpet": [
           {
            "aaxis": {
             "endlinecolor": "#2a3f5f",
             "gridcolor": "white",
             "linecolor": "white",
             "minorgridcolor": "white",
             "startlinecolor": "#2a3f5f"
            },
            "baxis": {
             "endlinecolor": "#2a3f5f",
             "gridcolor": "white",
             "linecolor": "white",
             "minorgridcolor": "white",
             "startlinecolor": "#2a3f5f"
            },
            "type": "carpet"
           }
          ],
          "choropleth": [
           {
            "colorbar": {
             "outlinewidth": 0,
             "ticks": ""
            },
            "type": "choropleth"
           }
          ],
          "contour": [
           {
            "colorbar": {
             "outlinewidth": 0,
             "ticks": ""
            },
            "colorscale": [
             [
              0,
              "#0d0887"
             ],
             [
              0.1111111111111111,
              "#46039f"
             ],
             [
              0.2222222222222222,
              "#7201a8"
             ],
             [
              0.3333333333333333,
              "#9c179e"
             ],
             [
              0.4444444444444444,
              "#bd3786"
             ],
             [
              0.5555555555555556,
              "#d8576b"
             ],
             [
              0.6666666666666666,
              "#ed7953"
             ],
             [
              0.7777777777777778,
              "#fb9f3a"
             ],
             [
              0.8888888888888888,
              "#fdca26"
             ],
             [
              1,
              "#f0f921"
             ]
            ],
            "type": "contour"
           }
          ],
          "contourcarpet": [
           {
            "colorbar": {
             "outlinewidth": 0,
             "ticks": ""
            },
            "type": "contourcarpet"
           }
          ],
          "heatmap": [
           {
            "colorbar": {
             "outlinewidth": 0,
             "ticks": ""
            },
            "colorscale": [
             [
              0,
              "#0d0887"
             ],
             [
              0.1111111111111111,
              "#46039f"
             ],
             [
              0.2222222222222222,
              "#7201a8"
             ],
             [
              0.3333333333333333,
              "#9c179e"
             ],
             [
              0.4444444444444444,
              "#bd3786"
             ],
             [
              0.5555555555555556,
              "#d8576b"
             ],
             [
              0.6666666666666666,
              "#ed7953"
             ],
             [
              0.7777777777777778,
              "#fb9f3a"
             ],
             [
              0.8888888888888888,
              "#fdca26"
             ],
             [
              1,
              "#f0f921"
             ]
            ],
            "type": "heatmap"
           }
          ],
          "heatmapgl": [
           {
            "colorbar": {
             "outlinewidth": 0,
             "ticks": ""
            },
            "colorscale": [
             [
              0,
              "#0d0887"
             ],
             [
              0.1111111111111111,
              "#46039f"
             ],
             [
              0.2222222222222222,
              "#7201a8"
             ],
             [
              0.3333333333333333,
              "#9c179e"
             ],
             [
              0.4444444444444444,
              "#bd3786"
             ],
             [
              0.5555555555555556,
              "#d8576b"
             ],
             [
              0.6666666666666666,
              "#ed7953"
             ],
             [
              0.7777777777777778,
              "#fb9f3a"
             ],
             [
              0.8888888888888888,
              "#fdca26"
             ],
             [
              1,
              "#f0f921"
             ]
            ],
            "type": "heatmapgl"
           }
          ],
          "histogram": [
           {
            "marker": {
             "pattern": {
              "fillmode": "overlay",
              "size": 10,
              "solidity": 0.2
             }
            },
            "type": "histogram"
           }
          ],
          "histogram2d": [
           {
            "colorbar": {
             "outlinewidth": 0,
             "ticks": ""
            },
            "colorscale": [
             [
              0,
              "#0d0887"
             ],
             [
              0.1111111111111111,
              "#46039f"
             ],
             [
              0.2222222222222222,
              "#7201a8"
             ],
             [
              0.3333333333333333,
              "#9c179e"
             ],
             [
              0.4444444444444444,
              "#bd3786"
             ],
             [
              0.5555555555555556,
              "#d8576b"
             ],
             [
              0.6666666666666666,
              "#ed7953"
             ],
             [
              0.7777777777777778,
              "#fb9f3a"
             ],
             [
              0.8888888888888888,
              "#fdca26"
             ],
             [
              1,
              "#f0f921"
             ]
            ],
            "type": "histogram2d"
           }
          ],
          "histogram2dcontour": [
           {
            "colorbar": {
             "outlinewidth": 0,
             "ticks": ""
            },
            "colorscale": [
             [
              0,
              "#0d0887"
             ],
             [
              0.1111111111111111,
              "#46039f"
             ],
             [
              0.2222222222222222,
              "#7201a8"
             ],
             [
              0.3333333333333333,
              "#9c179e"
             ],
             [
              0.4444444444444444,
              "#bd3786"
             ],
             [
              0.5555555555555556,
              "#d8576b"
             ],
             [
              0.6666666666666666,
              "#ed7953"
             ],
             [
              0.7777777777777778,
              "#fb9f3a"
             ],
             [
              0.8888888888888888,
              "#fdca26"
             ],
             [
              1,
              "#f0f921"
             ]
            ],
            "type": "histogram2dcontour"
           }
          ],
          "mesh3d": [
           {
            "colorbar": {
             "outlinewidth": 0,
             "ticks": ""
            },
            "type": "mesh3d"
           }
          ],
          "parcoords": [
           {
            "line": {
             "colorbar": {
              "outlinewidth": 0,
              "ticks": ""
             }
            },
            "type": "parcoords"
           }
          ],
          "pie": [
           {
            "automargin": true,
            "type": "pie"
           }
          ],
          "scatter": [
           {
            "marker": {
             "colorbar": {
              "outlinewidth": 0,
              "ticks": ""
             }
            },
            "type": "scatter"
           }
          ],
          "scatter3d": [
           {
            "line": {
             "colorbar": {
              "outlinewidth": 0,
              "ticks": ""
             }
            },
            "marker": {
             "colorbar": {
              "outlinewidth": 0,
              "ticks": ""
             }
            },
            "type": "scatter3d"
           }
          ],
          "scattercarpet": [
           {
            "marker": {
             "colorbar": {
              "outlinewidth": 0,
              "ticks": ""
             }
            },
            "type": "scattercarpet"
           }
          ],
          "scattergeo": [
           {
            "marker": {
             "colorbar": {
              "outlinewidth": 0,
              "ticks": ""
             }
            },
            "type": "scattergeo"
           }
          ],
          "scattergl": [
           {
            "marker": {
             "colorbar": {
              "outlinewidth": 0,
              "ticks": ""
             }
            },
            "type": "scattergl"
           }
          ],
          "scattermapbox": [
           {
            "marker": {
             "colorbar": {
              "outlinewidth": 0,
              "ticks": ""
             }
            },
            "type": "scattermapbox"
           }
          ],
          "scatterpolar": [
           {
            "marker": {
             "colorbar": {
              "outlinewidth": 0,
              "ticks": ""
             }
            },
            "type": "scatterpolar"
           }
          ],
          "scatterpolargl": [
           {
            "marker": {
             "colorbar": {
              "outlinewidth": 0,
              "ticks": ""
             }
            },
            "type": "scatterpolargl"
           }
          ],
          "scatterternary": [
           {
            "marker": {
             "colorbar": {
              "outlinewidth": 0,
              "ticks": ""
             }
            },
            "type": "scatterternary"
           }
          ],
          "surface": [
           {
            "colorbar": {
             "outlinewidth": 0,
             "ticks": ""
            },
            "colorscale": [
             [
              0,
              "#0d0887"
             ],
             [
              0.1111111111111111,
              "#46039f"
             ],
             [
              0.2222222222222222,
              "#7201a8"
             ],
             [
              0.3333333333333333,
              "#9c179e"
             ],
             [
              0.4444444444444444,
              "#bd3786"
             ],
             [
              0.5555555555555556,
              "#d8576b"
             ],
             [
              0.6666666666666666,
              "#ed7953"
             ],
             [
              0.7777777777777778,
              "#fb9f3a"
             ],
             [
              0.8888888888888888,
              "#fdca26"
             ],
             [
              1,
              "#f0f921"
             ]
            ],
            "type": "surface"
           }
          ],
          "table": [
           {
            "cells": {
             "fill": {
              "color": "#EBF0F8"
             },
             "line": {
              "color": "white"
             }
            },
            "header": {
             "fill": {
              "color": "#C8D4E3"
             },
             "line": {
              "color": "white"
             }
            },
            "type": "table"
           }
          ]
         },
         "layout": {
          "annotationdefaults": {
           "arrowcolor": "#2a3f5f",
           "arrowhead": 0,
           "arrowwidth": 1
          },
          "autotypenumbers": "strict",
          "coloraxis": {
           "colorbar": {
            "outlinewidth": 0,
            "ticks": ""
           }
          },
          "colorscale": {
           "diverging": [
            [
             0,
             "#8e0152"
            ],
            [
             0.1,
             "#c51b7d"
            ],
            [
             0.2,
             "#de77ae"
            ],
            [
             0.3,
             "#f1b6da"
            ],
            [
             0.4,
             "#fde0ef"
            ],
            [
             0.5,
             "#f7f7f7"
            ],
            [
             0.6,
             "#e6f5d0"
            ],
            [
             0.7,
             "#b8e186"
            ],
            [
             0.8,
             "#7fbc41"
            ],
            [
             0.9,
             "#4d9221"
            ],
            [
             1,
             "#276419"
            ]
           ],
           "sequential": [
            [
             0,
             "#0d0887"
            ],
            [
             0.1111111111111111,
             "#46039f"
            ],
            [
             0.2222222222222222,
             "#7201a8"
            ],
            [
             0.3333333333333333,
             "#9c179e"
            ],
            [
             0.4444444444444444,
             "#bd3786"
            ],
            [
             0.5555555555555556,
             "#d8576b"
            ],
            [
             0.6666666666666666,
             "#ed7953"
            ],
            [
             0.7777777777777778,
             "#fb9f3a"
            ],
            [
             0.8888888888888888,
             "#fdca26"
            ],
            [
             1,
             "#f0f921"
            ]
           ],
           "sequentialminus": [
            [
             0,
             "#0d0887"
            ],
            [
             0.1111111111111111,
             "#46039f"
            ],
            [
             0.2222222222222222,
             "#7201a8"
            ],
            [
             0.3333333333333333,
             "#9c179e"
            ],
            [
             0.4444444444444444,
             "#bd3786"
            ],
            [
             0.5555555555555556,
             "#d8576b"
            ],
            [
             0.6666666666666666,
             "#ed7953"
            ],
            [
             0.7777777777777778,
             "#fb9f3a"
            ],
            [
             0.8888888888888888,
             "#fdca26"
            ],
            [
             1,
             "#f0f921"
            ]
           ]
          },
          "colorway": [
           "#636efa",
           "#EF553B",
           "#00cc96",
           "#ab63fa",
           "#FFA15A",
           "#19d3f3",
           "#FF6692",
           "#B6E880",
           "#FF97FF",
           "#FECB52"
          ],
          "font": {
           "color": "#2a3f5f"
          },
          "geo": {
           "bgcolor": "white",
           "lakecolor": "white",
           "landcolor": "#E5ECF6",
           "showlakes": true,
           "showland": true,
           "subunitcolor": "white"
          },
          "hoverlabel": {
           "align": "left"
          },
          "hovermode": "closest",
          "mapbox": {
           "style": "light"
          },
          "paper_bgcolor": "white",
          "plot_bgcolor": "#E5ECF6",
          "polar": {
           "angularaxis": {
            "gridcolor": "white",
            "linecolor": "white",
            "ticks": ""
           },
           "bgcolor": "#E5ECF6",
           "radialaxis": {
            "gridcolor": "white",
            "linecolor": "white",
            "ticks": ""
           }
          },
          "scene": {
           "xaxis": {
            "backgroundcolor": "#E5ECF6",
            "gridcolor": "white",
            "gridwidth": 2,
            "linecolor": "white",
            "showbackground": true,
            "ticks": "",
            "zerolinecolor": "white"
           },
           "yaxis": {
            "backgroundcolor": "#E5ECF6",
            "gridcolor": "white",
            "gridwidth": 2,
            "linecolor": "white",
            "showbackground": true,
            "ticks": "",
            "zerolinecolor": "white"
           },
           "zaxis": {
            "backgroundcolor": "#E5ECF6",
            "gridcolor": "white",
            "gridwidth": 2,
            "linecolor": "white",
            "showbackground": true,
            "ticks": "",
            "zerolinecolor": "white"
           }
          },
          "shapedefaults": {
           "line": {
            "color": "#2a3f5f"
           }
          },
          "ternary": {
           "aaxis": {
            "gridcolor": "white",
            "linecolor": "white",
            "ticks": ""
           },
           "baxis": {
            "gridcolor": "white",
            "linecolor": "white",
            "ticks": ""
           },
           "bgcolor": "#E5ECF6",
           "caxis": {
            "gridcolor": "white",
            "linecolor": "white",
            "ticks": ""
           }
          },
          "title": {
           "x": 0.05
          },
          "xaxis": {
           "automargin": true,
           "gridcolor": "white",
           "linecolor": "white",
           "ticks": "",
           "title": {
            "standoff": 15
           },
           "zerolinecolor": "white",
           "zerolinewidth": 2
          },
          "yaxis": {
           "automargin": true,
           "gridcolor": "white",
           "linecolor": "white",
           "ticks": "",
           "title": {
            "standoff": 15
           },
           "zerolinecolor": "white",
           "zerolinewidth": 2
          }
         }
        },
        "title": {
         "font": {
          "color": "#4D5663"
         }
        },
        "xaxis": {
         "gridcolor": "#E1E5ED",
         "showgrid": true,
         "tickfont": {
          "color": "#4D5663"
         },
         "title": {
          "font": {
           "color": "#4D5663"
          },
          "text": ""
         },
         "zerolinecolor": "#E1E5ED"
        },
        "yaxis": {
         "gridcolor": "#E1E5ED",
         "showgrid": true,
         "tickfont": {
          "color": "#4D5663"
         },
         "title": {
          "font": {
           "color": "#4D5663"
          },
          "text": ""
         },
         "zerolinecolor": "#E1E5ED"
        }
       }
      },
      "text/html": [
       "<div>                            <div id=\"96b21573-1245-40ad-96ea-ca7b8d5a74f6\" class=\"plotly-graph-div\" style=\"height:525px; width:100%;\"></div>            <script type=\"text/javascript\">                require([\"plotly\"], function(Plotly) {                    window.PLOTLYENV=window.PLOTLYENV || {};\n",
       "                    window.PLOTLYENV.BASE_URL='https://plot.ly';                                    if (document.getElementById(\"96b21573-1245-40ad-96ea-ca7b8d5a74f6\")) {                    Plotly.newPlot(                        \"96b21573-1245-40ad-96ea-ca7b8d5a74f6\",                        [{\"marker\":{\"color\":[\"rgb(255, 153, 51)\",\"rgb(55, 128, 191)\",\"rgb(50, 171, 96)\",\"rgb(128, 0, 128)\",\"rgb(219, 64, 82)\",\"rgb(0, 128, 128)\",\"rgb(255, 255, 51)\",\"rgb(128, 128, 0)\",\"rgb(251, 128, 114)\",\"rgb(128, 177, 211)\"],\"line\":{\"width\":1.3},\"size\":[55,63,42,31,30,42,52,53,79,80,43,46,49,44,69,76,47,13,61,74,62,87,19,30,83,39,71,79,69,52,93,48,47,12,41,32,61,57,17,61,68,83,87,39,52,31,22,35,48,69,59,46,85,94,49,69,55,35,86,34,55,112,70,88,66,66,68,66,84,53,35,41,55,93,37,34,73,54,16,68,80,47,16,73,76,61,63,31,95,38,62,27,66,57,49,64,79,46,64,82],\"symbol\":\"circle\"},\"mode\":\"markers\",\"text\":\"\",\"type\":\"scatter\",\"x\":[-0.9689814687300818,-1.819070192646803,-1.6177056676563566,-1.2822048972762328,-0.07026639488898488,0.07989276314379316,-0.07971619676774501,1.8887431391867724,-2.690163801793752,-0.6469135654693827,0.21996753741385894,-0.00017554401226315753,0.6722152939484372,0.375773105108882,-0.6771372160943433,-0.05166991576338214,-0.9712984391510093,-1.2796606868932487,-2.684010644068368,1.446535962278647,-0.3933833350696182,0.3398045294122675,-0.21429156338043284,-0.8694853586368659,2.1258079670627255,-0.9964294983320559,-0.12971727935162083,-0.33777437015986483,-0.0029251286295001733,-0.4033053186404409,0.9515131078888949,-0.2148102151939041,-0.321029567081902,-2.0619659695924595,-0.3921888116037307,0.45270332797963847,-1.220863538633721,-0.5670044277442816,0.7015293738927034,-1.7783627238418853,-0.6726036079003833,1.8057874407056216,0.4615826345114712,0.5637210583051996,-0.8001230867823986,0.4001494149324175,1.487280228539015,-0.537545948213816,-0.013491547963904374,-0.9115002435641544,1.3492085214066536,0.09399125992628336,1.5361969424936541,1.209276503142546,0.8957163383160075,0.3286960813754728,1.186564808953308,0.030209342638638,-1.2881376826026363,0.36899985773680694,-0.9991276431316153,-0.5523528967741201,0.7489283897900095,-1.2702653278648925,-2.319649876420089,-0.7346948750986463,-0.3018090654226126,0.3304576617158405,-0.36971406428792614,-0.07108244031274921,0.046893968106723694,-0.39995761665655655,-0.22773800313605314,0.8385401917037871,-0.7843817301737499,0.2903325643545476,0.9970639076883745,0.2564228095813574,0.1937322846658141,-0.23692927107798026,0.15129977012907359,1.1622861457099305,0.35724052008541807,-1.0476356542501768,-0.9290698364313671,0.6498657401938932,0.31098653768337015,-1.2884673415770924,-0.3709162009778576,-0.08147258065577224,0.3917267335706723,1.317194918920567,-0.7387079120619336,-0.8113449879094478,0.10548121430996321,-0.9428818835204189,-0.39409862948233865,-0.7599119421073366,-0.9392878656019644,-0.6414534205937111],\"y\":[-0.1211208137774323,-1.8669022025714948,1.737516503033625,0.5044240956820294,-0.20905583360850305,-0.66772859732106,0.5656417368363179,0.2102108947831347,0.8550471770361316,-0.13283022951731127,0.969815666521891,-0.16871551693805362,2.092685942748639,0.5237592381430538,-0.010500868040481256,-1.137343946132466,0.5512793414300526,0.5197315132903045,-1.7811716569010465,0.34977051002786974,-0.7459647351215088,0.19919254393703917,1.8077163522887307,-0.216988180681477,-0.4177862033865263,0.746167660555817,-0.9574318820790669,-0.5144457784361782,1.3585871365744233,-1.0493862514077785,0.8793373873096768,-0.27549849124045706,0.32855096075725276,-1.0782383348802669,1.1201645932568207,-0.19666795060448894,-0.9223697379062344,-0.07066226018755582,1.0324765677224157,-0.46510567659253005,-1.0390679203513948,-0.6268136544660237,-1.240897527809027,0.29504172322456695,-2.085766843947555,-0.46363252809304023,0.7757346775150722,-1.3371935591276607,1.2163827222373251,2.633594925454588,0.4499655942953177,0.184472988849856,-1.1818101965101444,-0.5032375940021327,-2.077026996927567,-0.40345947297564294,0.8340533086799418,0.23415359584272882,0.15310414820274426,-0.05325788444610945,-0.49074866569690617,-1.4503869387444497,-0.9025655678068205,-1.8593786106700807,-0.15006435115168323,-0.44345640821757226,-0.5469890879102364,0.6704553123370551,-0.43056258080143867,-0.8285096744572659,-0.7523279355476609,-0.4065290311809796,-0.9854210226515766,0.5131658746463367,-1.2401297192695295,-1.5236664929255284,-0.902711813233216,-0.4025798221426037,0.32820815879307785,-0.6416640335873163,-0.10691501386440859,-0.5879888346195667,-0.832335880512588,-1.014271362470708,0.10909659869528526,0.0040316135089033325,-0.5223490638140886,-1.0204424496120819,-0.6920773504994652,-0.3354304437469444,-0.26800259441500757,0.5215906989263392,-0.19530421366543338,-1.1879199037324808,0.5404764085850129,0.8883326284340181,-0.11262805297656645,-0.01930789194348459,0.5587540791169096,-1.2228888614424702]}],                        {\"legend\":{\"bgcolor\":\"#F5F6F9\",\"font\":{\"color\":\"#4D5663\"}},\"paper_bgcolor\":\"#F5F6F9\",\"plot_bgcolor\":\"#F5F6F9\",\"template\":{\"data\":{\"bar\":[{\"error_x\":{\"color\":\"#2a3f5f\"},\"error_y\":{\"color\":\"#2a3f5f\"},\"marker\":{\"line\":{\"color\":\"#E5ECF6\",\"width\":0.5},\"pattern\":{\"fillmode\":\"overlay\",\"size\":10,\"solidity\":0.2}},\"type\":\"bar\"}],\"barpolar\":[{\"marker\":{\"line\":{\"color\":\"#E5ECF6\",\"width\":0.5},\"pattern\":{\"fillmode\":\"overlay\",\"size\":10,\"solidity\":0.2}},\"type\":\"barpolar\"}],\"carpet\":[{\"aaxis\":{\"endlinecolor\":\"#2a3f5f\",\"gridcolor\":\"white\",\"linecolor\":\"white\",\"minorgridcolor\":\"white\",\"startlinecolor\":\"#2a3f5f\"},\"baxis\":{\"endlinecolor\":\"#2a3f5f\",\"gridcolor\":\"white\",\"linecolor\":\"white\",\"minorgridcolor\":\"white\",\"startlinecolor\":\"#2a3f5f\"},\"type\":\"carpet\"}],\"choropleth\":[{\"colorbar\":{\"outlinewidth\":0,\"ticks\":\"\"},\"type\":\"choropleth\"}],\"contour\":[{\"colorbar\":{\"outlinewidth\":0,\"ticks\":\"\"},\"colorscale\":[[0.0,\"#0d0887\"],[0.1111111111111111,\"#46039f\"],[0.2222222222222222,\"#7201a8\"],[0.3333333333333333,\"#9c179e\"],[0.4444444444444444,\"#bd3786\"],[0.5555555555555556,\"#d8576b\"],[0.6666666666666666,\"#ed7953\"],[0.7777777777777778,\"#fb9f3a\"],[0.8888888888888888,\"#fdca26\"],[1.0,\"#f0f921\"]],\"type\":\"contour\"}],\"contourcarpet\":[{\"colorbar\":{\"outlinewidth\":0,\"ticks\":\"\"},\"type\":\"contourcarpet\"}],\"heatmap\":[{\"colorbar\":{\"outlinewidth\":0,\"ticks\":\"\"},\"colorscale\":[[0.0,\"#0d0887\"],[0.1111111111111111,\"#46039f\"],[0.2222222222222222,\"#7201a8\"],[0.3333333333333333,\"#9c179e\"],[0.4444444444444444,\"#bd3786\"],[0.5555555555555556,\"#d8576b\"],[0.6666666666666666,\"#ed7953\"],[0.7777777777777778,\"#fb9f3a\"],[0.8888888888888888,\"#fdca26\"],[1.0,\"#f0f921\"]],\"type\":\"heatmap\"}],\"heatmapgl\":[{\"colorbar\":{\"outlinewidth\":0,\"ticks\":\"\"},\"colorscale\":[[0.0,\"#0d0887\"],[0.1111111111111111,\"#46039f\"],[0.2222222222222222,\"#7201a8\"],[0.3333333333333333,\"#9c179e\"],[0.4444444444444444,\"#bd3786\"],[0.5555555555555556,\"#d8576b\"],[0.6666666666666666,\"#ed7953\"],[0.7777777777777778,\"#fb9f3a\"],[0.8888888888888888,\"#fdca26\"],[1.0,\"#f0f921\"]],\"type\":\"heatmapgl\"}],\"histogram\":[{\"marker\":{\"pattern\":{\"fillmode\":\"overlay\",\"size\":10,\"solidity\":0.2}},\"type\":\"histogram\"}],\"histogram2d\":[{\"colorbar\":{\"outlinewidth\":0,\"ticks\":\"\"},\"colorscale\":[[0.0,\"#0d0887\"],[0.1111111111111111,\"#46039f\"],[0.2222222222222222,\"#7201a8\"],[0.3333333333333333,\"#9c179e\"],[0.4444444444444444,\"#bd3786\"],[0.5555555555555556,\"#d8576b\"],[0.6666666666666666,\"#ed7953\"],[0.7777777777777778,\"#fb9f3a\"],[0.8888888888888888,\"#fdca26\"],[1.0,\"#f0f921\"]],\"type\":\"histogram2d\"}],\"histogram2dcontour\":[{\"colorbar\":{\"outlinewidth\":0,\"ticks\":\"\"},\"colorscale\":[[0.0,\"#0d0887\"],[0.1111111111111111,\"#46039f\"],[0.2222222222222222,\"#7201a8\"],[0.3333333333333333,\"#9c179e\"],[0.4444444444444444,\"#bd3786\"],[0.5555555555555556,\"#d8576b\"],[0.6666666666666666,\"#ed7953\"],[0.7777777777777778,\"#fb9f3a\"],[0.8888888888888888,\"#fdca26\"],[1.0,\"#f0f921\"]],\"type\":\"histogram2dcontour\"}],\"mesh3d\":[{\"colorbar\":{\"outlinewidth\":0,\"ticks\":\"\"},\"type\":\"mesh3d\"}],\"parcoords\":[{\"line\":{\"colorbar\":{\"outlinewidth\":0,\"ticks\":\"\"}},\"type\":\"parcoords\"}],\"pie\":[{\"automargin\":true,\"type\":\"pie\"}],\"scatter\":[{\"marker\":{\"colorbar\":{\"outlinewidth\":0,\"ticks\":\"\"}},\"type\":\"scatter\"}],\"scatter3d\":[{\"line\":{\"colorbar\":{\"outlinewidth\":0,\"ticks\":\"\"}},\"marker\":{\"colorbar\":{\"outlinewidth\":0,\"ticks\":\"\"}},\"type\":\"scatter3d\"}],\"scattercarpet\":[{\"marker\":{\"colorbar\":{\"outlinewidth\":0,\"ticks\":\"\"}},\"type\":\"scattercarpet\"}],\"scattergeo\":[{\"marker\":{\"colorbar\":{\"outlinewidth\":0,\"ticks\":\"\"}},\"type\":\"scattergeo\"}],\"scattergl\":[{\"marker\":{\"colorbar\":{\"outlinewidth\":0,\"ticks\":\"\"}},\"type\":\"scattergl\"}],\"scattermapbox\":[{\"marker\":{\"colorbar\":{\"outlinewidth\":0,\"ticks\":\"\"}},\"type\":\"scattermapbox\"}],\"scatterpolar\":[{\"marker\":{\"colorbar\":{\"outlinewidth\":0,\"ticks\":\"\"}},\"type\":\"scatterpolar\"}],\"scatterpolargl\":[{\"marker\":{\"colorbar\":{\"outlinewidth\":0,\"ticks\":\"\"}},\"type\":\"scatterpolargl\"}],\"scatterternary\":[{\"marker\":{\"colorbar\":{\"outlinewidth\":0,\"ticks\":\"\"}},\"type\":\"scatterternary\"}],\"surface\":[{\"colorbar\":{\"outlinewidth\":0,\"ticks\":\"\"},\"colorscale\":[[0.0,\"#0d0887\"],[0.1111111111111111,\"#46039f\"],[0.2222222222222222,\"#7201a8\"],[0.3333333333333333,\"#9c179e\"],[0.4444444444444444,\"#bd3786\"],[0.5555555555555556,\"#d8576b\"],[0.6666666666666666,\"#ed7953\"],[0.7777777777777778,\"#fb9f3a\"],[0.8888888888888888,\"#fdca26\"],[1.0,\"#f0f921\"]],\"type\":\"surface\"}],\"table\":[{\"cells\":{\"fill\":{\"color\":\"#EBF0F8\"},\"line\":{\"color\":\"white\"}},\"header\":{\"fill\":{\"color\":\"#C8D4E3\"},\"line\":{\"color\":\"white\"}},\"type\":\"table\"}]},\"layout\":{\"annotationdefaults\":{\"arrowcolor\":\"#2a3f5f\",\"arrowhead\":0,\"arrowwidth\":1},\"autotypenumbers\":\"strict\",\"coloraxis\":{\"colorbar\":{\"outlinewidth\":0,\"ticks\":\"\"}},\"colorscale\":{\"diverging\":[[0,\"#8e0152\"],[0.1,\"#c51b7d\"],[0.2,\"#de77ae\"],[0.3,\"#f1b6da\"],[0.4,\"#fde0ef\"],[0.5,\"#f7f7f7\"],[0.6,\"#e6f5d0\"],[0.7,\"#b8e186\"],[0.8,\"#7fbc41\"],[0.9,\"#4d9221\"],[1,\"#276419\"]],\"sequential\":[[0.0,\"#0d0887\"],[0.1111111111111111,\"#46039f\"],[0.2222222222222222,\"#7201a8\"],[0.3333333333333333,\"#9c179e\"],[0.4444444444444444,\"#bd3786\"],[0.5555555555555556,\"#d8576b\"],[0.6666666666666666,\"#ed7953\"],[0.7777777777777778,\"#fb9f3a\"],[0.8888888888888888,\"#fdca26\"],[1.0,\"#f0f921\"]],\"sequentialminus\":[[0.0,\"#0d0887\"],[0.1111111111111111,\"#46039f\"],[0.2222222222222222,\"#7201a8\"],[0.3333333333333333,\"#9c179e\"],[0.4444444444444444,\"#bd3786\"],[0.5555555555555556,\"#d8576b\"],[0.6666666666666666,\"#ed7953\"],[0.7777777777777778,\"#fb9f3a\"],[0.8888888888888888,\"#fdca26\"],[1.0,\"#f0f921\"]]},\"colorway\":[\"#636efa\",\"#EF553B\",\"#00cc96\",\"#ab63fa\",\"#FFA15A\",\"#19d3f3\",\"#FF6692\",\"#B6E880\",\"#FF97FF\",\"#FECB52\"],\"font\":{\"color\":\"#2a3f5f\"},\"geo\":{\"bgcolor\":\"white\",\"lakecolor\":\"white\",\"landcolor\":\"#E5ECF6\",\"showlakes\":true,\"showland\":true,\"subunitcolor\":\"white\"},\"hoverlabel\":{\"align\":\"left\"},\"hovermode\":\"closest\",\"mapbox\":{\"style\":\"light\"},\"paper_bgcolor\":\"white\",\"plot_bgcolor\":\"#E5ECF6\",\"polar\":{\"angularaxis\":{\"gridcolor\":\"white\",\"linecolor\":\"white\",\"ticks\":\"\"},\"bgcolor\":\"#E5ECF6\",\"radialaxis\":{\"gridcolor\":\"white\",\"linecolor\":\"white\",\"ticks\":\"\"}},\"scene\":{\"xaxis\":{\"backgroundcolor\":\"#E5ECF6\",\"gridcolor\":\"white\",\"gridwidth\":2,\"linecolor\":\"white\",\"showbackground\":true,\"ticks\":\"\",\"zerolinecolor\":\"white\"},\"yaxis\":{\"backgroundcolor\":\"#E5ECF6\",\"gridcolor\":\"white\",\"gridwidth\":2,\"linecolor\":\"white\",\"showbackground\":true,\"ticks\":\"\",\"zerolinecolor\":\"white\"},\"zaxis\":{\"backgroundcolor\":\"#E5ECF6\",\"gridcolor\":\"white\",\"gridwidth\":2,\"linecolor\":\"white\",\"showbackground\":true,\"ticks\":\"\",\"zerolinecolor\":\"white\"}},\"shapedefaults\":{\"line\":{\"color\":\"#2a3f5f\"}},\"ternary\":{\"aaxis\":{\"gridcolor\":\"white\",\"linecolor\":\"white\",\"ticks\":\"\"},\"baxis\":{\"gridcolor\":\"white\",\"linecolor\":\"white\",\"ticks\":\"\"},\"bgcolor\":\"#E5ECF6\",\"caxis\":{\"gridcolor\":\"white\",\"linecolor\":\"white\",\"ticks\":\"\"}},\"title\":{\"x\":0.05},\"xaxis\":{\"automargin\":true,\"gridcolor\":\"white\",\"linecolor\":\"white\",\"ticks\":\"\",\"title\":{\"standoff\":15},\"zerolinecolor\":\"white\",\"zerolinewidth\":2},\"yaxis\":{\"automargin\":true,\"gridcolor\":\"white\",\"linecolor\":\"white\",\"ticks\":\"\",\"title\":{\"standoff\":15},\"zerolinecolor\":\"white\",\"zerolinewidth\":2}}},\"title\":{\"font\":{\"color\":\"#4D5663\"}},\"xaxis\":{\"gridcolor\":\"#E1E5ED\",\"showgrid\":true,\"tickfont\":{\"color\":\"#4D5663\"},\"title\":{\"font\":{\"color\":\"#4D5663\"},\"text\":\"\"},\"zerolinecolor\":\"#E1E5ED\"},\"yaxis\":{\"gridcolor\":\"#E1E5ED\",\"showgrid\":true,\"tickfont\":{\"color\":\"#4D5663\"},\"title\":{\"font\":{\"color\":\"#4D5663\"},\"text\":\"\"},\"zerolinecolor\":\"#E1E5ED\"}},                        {\"showLink\": true, \"linkText\": \"Export to plot.ly\", \"plotlyServerURL\": \"https://plot.ly\", \"responsive\": true}                    ).then(function(){\n",
       "                            \n",
       "var gd = document.getElementById('96b21573-1245-40ad-96ea-ca7b8d5a74f6');\n",
       "var x = new MutationObserver(function (mutations, observer) {{\n",
       "        var display = window.getComputedStyle(gd).display;\n",
       "        if (!display || display === 'none') {{\n",
       "            console.log([gd, 'removed!']);\n",
       "            Plotly.purge(gd);\n",
       "            observer.disconnect();\n",
       "        }}\n",
       "}});\n",
       "\n",
       "// Listen for the removal of the full notebook cells\n",
       "var notebookContainer = gd.closest('#notebook-container');\n",
       "if (notebookContainer) {{\n",
       "    x.observe(notebookContainer, {childList: true});\n",
       "}}\n",
       "\n",
       "// Listen for the clearing of the current output cell\n",
       "var outputEl = gd.closest('.output');\n",
       "if (outputEl) {{\n",
       "    x.observe(outputEl, {childList: true});\n",
       "}}\n",
       "\n",
       "                        })                };                });            </script>        </div>"
      ]
     },
     "metadata": {},
     "output_type": "display_data"
    }
   ],
   "source": [
    "df.iplot(kind='bubble', x='A', y='B', size='C')"
   ]
  },
  {
   "cell_type": "code",
   "execution_count": 43,
   "id": "5e4ea101",
   "metadata": {},
   "outputs": [
    {
     "data": {
      "application/vnd.plotly.v1+json": {
       "config": {
        "linkText": "Export to plot.ly",
        "plotlyServerURL": "https://plot.ly",
        "showLink": true
       },
       "data": [
        {
         "histfunc": "count",
         "histnorm": "",
         "marker": {
          "color": "rgba(255, 153, 51, 1.0)",
          "line": {
           "color": "#4D5663",
           "width": 1.3
          }
         },
         "name": "A",
         "nbinsx": 10,
         "opacity": 0.8,
         "orientation": "v",
         "type": "histogram",
         "x": [
          -0.9689814687300818,
          -1.819070192646803,
          -1.6177056676563566,
          -1.2822048972762328,
          -0.07026639488898488,
          0.07989276314379316,
          -0.07971619676774501,
          1.8887431391867724,
          -2.690163801793752,
          -0.6469135654693827,
          0.21996753741385894,
          -0.00017554401226315753,
          0.6722152939484372,
          0.375773105108882,
          -0.6771372160943433,
          -0.05166991576338214,
          -0.9712984391510093,
          -1.2796606868932487,
          -2.684010644068368,
          1.446535962278647,
          -0.3933833350696182,
          0.3398045294122675,
          -0.21429156338043284,
          -0.8694853586368659,
          2.1258079670627255,
          -0.9964294983320559,
          -0.12971727935162083,
          -0.33777437015986483,
          -0.0029251286295001733,
          -0.4033053186404409,
          0.9515131078888949,
          -0.2148102151939041,
          -0.321029567081902,
          -2.0619659695924595,
          -0.3921888116037307,
          0.45270332797963847,
          -1.220863538633721,
          -0.5670044277442816,
          0.7015293738927034,
          -1.7783627238418853,
          -0.6726036079003833,
          1.8057874407056216,
          0.4615826345114712,
          0.5637210583051996,
          -0.8001230867823986,
          0.4001494149324175,
          1.487280228539015,
          -0.537545948213816,
          -0.013491547963904374,
          -0.9115002435641544,
          1.3492085214066536,
          0.09399125992628336,
          1.5361969424936541,
          1.209276503142546,
          0.8957163383160075,
          0.3286960813754728,
          1.186564808953308,
          0.030209342638638,
          -1.2881376826026363,
          0.36899985773680694,
          -0.9991276431316153,
          -0.5523528967741201,
          0.7489283897900095,
          -1.2702653278648925,
          -2.319649876420089,
          -0.7346948750986463,
          -0.3018090654226126,
          0.3304576617158405,
          -0.36971406428792614,
          -0.07108244031274921,
          0.046893968106723694,
          -0.39995761665655655,
          -0.22773800313605314,
          0.8385401917037871,
          -0.7843817301737499,
          0.2903325643545476,
          0.9970639076883745,
          0.2564228095813574,
          0.1937322846658141,
          -0.23692927107798026,
          0.15129977012907359,
          1.1622861457099305,
          0.35724052008541807,
          -1.0476356542501768,
          -0.9290698364313671,
          0.6498657401938932,
          0.31098653768337015,
          -1.2884673415770924,
          -0.3709162009778576,
          -0.08147258065577224,
          0.3917267335706723,
          1.317194918920567,
          -0.7387079120619336,
          -0.8113449879094478,
          0.10548121430996321,
          -0.9428818835204189,
          -0.39409862948233865,
          -0.7599119421073366,
          -0.9392878656019644,
          -0.6414534205937111
         ],
         "xaxis": "x",
         "yaxis": "y"
        },
        {
         "line": {
          "color": "rgba(128, 128, 128, 1.0)",
          "dash": "solid",
          "shape": "linear",
          "width": 1.3
         },
         "marker": {
          "size": 2,
          "symbol": "circle"
         },
         "mode": "markers",
         "name": "A",
         "text": "",
         "type": "scatter",
         "x": [
          -0.1211208137774323,
          -1.8669022025714948,
          1.737516503033625,
          0.5044240956820294,
          -0.20905583360850305,
          -0.66772859732106,
          0.5656417368363179,
          0.2102108947831347,
          0.8550471770361316,
          -0.13283022951731127,
          0.969815666521891,
          -0.16871551693805362,
          2.092685942748639,
          0.5237592381430538,
          -0.010500868040481256,
          -1.137343946132466,
          0.5512793414300526,
          0.5197315132903045,
          -1.7811716569010465,
          0.34977051002786974,
          -0.7459647351215088,
          0.19919254393703917,
          1.8077163522887307,
          -0.216988180681477,
          -0.4177862033865263,
          0.746167660555817,
          -0.9574318820790669,
          -0.5144457784361782,
          1.3585871365744233,
          -1.0493862514077785,
          0.8793373873096768,
          -0.27549849124045706,
          0.32855096075725276,
          -1.0782383348802669,
          1.1201645932568207,
          -0.19666795060448894,
          -0.9223697379062344,
          -0.07066226018755582,
          1.0324765677224157,
          -0.46510567659253005,
          -1.0390679203513948,
          -0.6268136544660237,
          -1.240897527809027,
          0.29504172322456695,
          -2.085766843947555,
          -0.46363252809304023,
          0.7757346775150722,
          -1.3371935591276607,
          1.2163827222373251,
          2.633594925454588,
          0.4499655942953177,
          0.184472988849856,
          -1.1818101965101444,
          -0.5032375940021327,
          -2.077026996927567,
          -0.40345947297564294,
          0.8340533086799418,
          0.23415359584272882,
          0.15310414820274426,
          -0.05325788444610945,
          -0.49074866569690617,
          -1.4503869387444497,
          -0.9025655678068205,
          -1.8593786106700807,
          -0.15006435115168323,
          -0.44345640821757226,
          -0.5469890879102364,
          0.6704553123370551,
          -0.43056258080143867,
          -0.8285096744572659,
          -0.7523279355476609,
          -0.4065290311809796,
          -0.9854210226515766,
          0.5131658746463367,
          -1.2401297192695295,
          -1.5236664929255284,
          -0.902711813233216,
          -0.4025798221426037,
          0.32820815879307785,
          -0.6416640335873163,
          -0.10691501386440859,
          -0.5879888346195667,
          -0.832335880512588,
          -1.014271362470708,
          0.10909659869528526,
          0.0040316135089033325,
          -0.5223490638140886,
          -1.0204424496120819,
          -0.6920773504994652,
          -0.3354304437469444,
          -0.26800259441500757,
          0.5215906989263392,
          -0.19530421366543338,
          -1.1879199037324808,
          0.5404764085850129,
          0.8883326284340181,
          -0.11262805297656645,
          -0.01930789194348459,
          0.5587540791169096,
          -1.2228888614424702
         ],
         "xaxis": "x2",
         "y": [
          -0.9689814687300818,
          -1.819070192646803,
          -1.6177056676563566,
          -1.2822048972762328,
          -0.07026639488898488,
          0.07989276314379316,
          -0.07971619676774501,
          1.8887431391867724,
          -2.690163801793752,
          -0.6469135654693827,
          0.21996753741385894,
          -0.00017554401226315753,
          0.6722152939484372,
          0.375773105108882,
          -0.6771372160943433,
          -0.05166991576338214,
          -0.9712984391510093,
          -1.2796606868932487,
          -2.684010644068368,
          1.446535962278647,
          -0.3933833350696182,
          0.3398045294122675,
          -0.21429156338043284,
          -0.8694853586368659,
          2.1258079670627255,
          -0.9964294983320559,
          -0.12971727935162083,
          -0.33777437015986483,
          -0.0029251286295001733,
          -0.4033053186404409,
          0.9515131078888949,
          -0.2148102151939041,
          -0.321029567081902,
          -2.0619659695924595,
          -0.3921888116037307,
          0.45270332797963847,
          -1.220863538633721,
          -0.5670044277442816,
          0.7015293738927034,
          -1.7783627238418853,
          -0.6726036079003833,
          1.8057874407056216,
          0.4615826345114712,
          0.5637210583051996,
          -0.8001230867823986,
          0.4001494149324175,
          1.487280228539015,
          -0.537545948213816,
          -0.013491547963904374,
          -0.9115002435641544,
          1.3492085214066536,
          0.09399125992628336,
          1.5361969424936541,
          1.209276503142546,
          0.8957163383160075,
          0.3286960813754728,
          1.186564808953308,
          0.030209342638638,
          -1.2881376826026363,
          0.36899985773680694,
          -0.9991276431316153,
          -0.5523528967741201,
          0.7489283897900095,
          -1.2702653278648925,
          -2.319649876420089,
          -0.7346948750986463,
          -0.3018090654226126,
          0.3304576617158405,
          -0.36971406428792614,
          -0.07108244031274921,
          0.046893968106723694,
          -0.39995761665655655,
          -0.22773800313605314,
          0.8385401917037871,
          -0.7843817301737499,
          0.2903325643545476,
          0.9970639076883745,
          0.2564228095813574,
          0.1937322846658141,
          -0.23692927107798026,
          0.15129977012907359,
          1.1622861457099305,
          0.35724052008541807,
          -1.0476356542501768,
          -0.9290698364313671,
          0.6498657401938932,
          0.31098653768337015,
          -1.2884673415770924,
          -0.3709162009778576,
          -0.08147258065577224,
          0.3917267335706723,
          1.317194918920567,
          -0.7387079120619336,
          -0.8113449879094478,
          0.10548121430996321,
          -0.9428818835204189,
          -0.39409862948233865,
          -0.7599119421073366,
          -0.9392878656019644,
          -0.6414534205937111
         ],
         "yaxis": "y2"
        },
        {
         "line": {
          "color": "rgba(128, 128, 128, 1.0)",
          "dash": "solid",
          "shape": "linear",
          "width": 1.3
         },
         "marker": {
          "size": 2,
          "symbol": "circle"
         },
         "mode": "markers",
         "name": "A",
         "text": "",
         "type": "scatter",
         "x": [
          0.08265575243474317,
          0.471264566526053,
          -0.5286291613831251,
          -1.0379786479310933,
          -1.058636796414923,
          -0.5310490299612461,
          -0.053189700927341974,
          -0.027368553653093198,
          1.1656877515629325,
          1.2358191396959037,
          -0.457515314399585,
          -0.312320994559797,
          -0.19203645171950953,
          -0.40261412990500656,
          0.7278713291203588,
          1.0359948441712508,
          -0.295454250705633,
          -1.8400405562809734,
          0.37794656059166515,
          0.9752468204239976,
          0.41796409557600617,
          1.5570386551839732,
          -1.586669683342259,
          -1.079769070625745,
          1.3881771902579245,
          -0.6534356291346236,
          0.8154477005889065,
          1.1982981981775798,
          0.7397223535867328,
          -0.06996357123588764,
          1.8285944793127034,
          -0.2296449795070473,
          -0.2905326881399329,
          -1.9215649505280545,
          -0.5677172566693091,
          -0.9749526982640805,
          0.33943540372217723,
          0.15889263480709614,
          -1.6494735295600125,
          0.3518876553721099,
          0.6778842471625566,
          1.3507826511445298,
          1.5717947523481035,
          -0.6705631453451292,
          -0.05932576929152143,
          -1.036647675485623,
          -1.4416986239600955,
          -0.8499981770071388,
          -0.2634797852533903,
          0.7300010718700678,
          0.2693382022281298,
          -0.3253952543605832,
          1.484072642060949,
          1.8711008529563558,
          -0.18461639603729602,
          0.7276323980699159,
          0.05906752499367461,
          -0.8232784306522971,
          1.5276956625853626,
          -0.9011367333619845,
          0.0749934540751995,
          2.68416978672944,
          0.7839040677425533,
          1.5898372687315616,
          0.5957347145257897,
          0.5944944482574219,
          0.6764439851687988,
          0.581543225455897,
          1.4211007791963515,
          -0.03066853071956779,
          -0.8498072844416324,
          -0.5646702313072455,
          0.07545321052908756,
          1.8124351688554554,
          -0.7625570466130839,
          -0.8861332313051523,
          0.897570909180347,
          0.054333874800205115,
          -1.7039331364574908,
          0.6637834387800887,
          1.2120921378479332,
          -0.2672552128564103,
          -1.6998428602326243,
          0.8882235612941606,
          1.070919883648229,
          0.37417272909917576,
          0.4502483199263752,
          -1.0389210807390858,
          1.9159568520197987,
          -0.682267010159875,
          0.3823030901948916,
          -1.2180459273957902,
          0.5925294163075184,
          0.18603148682972384,
          -0.17962246257562486,
          0.4828786120800383,
          1.1782740869565427,
          -0.3202195298470683,
          0.49053294732148467,
          1.3435717961140363
         ],
         "xaxis": "x3",
         "y": [
          -0.9689814687300818,
          -1.819070192646803,
          -1.6177056676563566,
          -1.2822048972762328,
          -0.07026639488898488,
          0.07989276314379316,
          -0.07971619676774501,
          1.8887431391867724,
          -2.690163801793752,
          -0.6469135654693827,
          0.21996753741385894,
          -0.00017554401226315753,
          0.6722152939484372,
          0.375773105108882,
          -0.6771372160943433,
          -0.05166991576338214,
          -0.9712984391510093,
          -1.2796606868932487,
          -2.684010644068368,
          1.446535962278647,
          -0.3933833350696182,
          0.3398045294122675,
          -0.21429156338043284,
          -0.8694853586368659,
          2.1258079670627255,
          -0.9964294983320559,
          -0.12971727935162083,
          -0.33777437015986483,
          -0.0029251286295001733,
          -0.4033053186404409,
          0.9515131078888949,
          -0.2148102151939041,
          -0.321029567081902,
          -2.0619659695924595,
          -0.3921888116037307,
          0.45270332797963847,
          -1.220863538633721,
          -0.5670044277442816,
          0.7015293738927034,
          -1.7783627238418853,
          -0.6726036079003833,
          1.8057874407056216,
          0.4615826345114712,
          0.5637210583051996,
          -0.8001230867823986,
          0.4001494149324175,
          1.487280228539015,
          -0.537545948213816,
          -0.013491547963904374,
          -0.9115002435641544,
          1.3492085214066536,
          0.09399125992628336,
          1.5361969424936541,
          1.209276503142546,
          0.8957163383160075,
          0.3286960813754728,
          1.186564808953308,
          0.030209342638638,
          -1.2881376826026363,
          0.36899985773680694,
          -0.9991276431316153,
          -0.5523528967741201,
          0.7489283897900095,
          -1.2702653278648925,
          -2.319649876420089,
          -0.7346948750986463,
          -0.3018090654226126,
          0.3304576617158405,
          -0.36971406428792614,
          -0.07108244031274921,
          0.046893968106723694,
          -0.39995761665655655,
          -0.22773800313605314,
          0.8385401917037871,
          -0.7843817301737499,
          0.2903325643545476,
          0.9970639076883745,
          0.2564228095813574,
          0.1937322846658141,
          -0.23692927107798026,
          0.15129977012907359,
          1.1622861457099305,
          0.35724052008541807,
          -1.0476356542501768,
          -0.9290698364313671,
          0.6498657401938932,
          0.31098653768337015,
          -1.2884673415770924,
          -0.3709162009778576,
          -0.08147258065577224,
          0.3917267335706723,
          1.317194918920567,
          -0.7387079120619336,
          -0.8113449879094478,
          0.10548121430996321,
          -0.9428818835204189,
          -0.39409862948233865,
          -0.7599119421073366,
          -0.9392878656019644,
          -0.6414534205937111
         ],
         "yaxis": "y3"
        },
        {
         "line": {
          "color": "rgba(128, 128, 128, 1.0)",
          "dash": "solid",
          "shape": "linear",
          "width": 1.3
         },
         "marker": {
          "size": 2,
          "symbol": "circle"
         },
         "mode": "markers",
         "name": "A",
         "text": "",
         "type": "scatter",
         "x": [
          0.6578393366235544,
          -0.10831764160215741,
          -0.7421569070202227,
          -1.295806658952062,
          -0.12002491245372285,
          0.21594412773430208,
          1.2979666694049037,
          -0.48283093275042105,
          1.8666720337275537,
          1.4703816683663493,
          -0.15421327465739762,
          -2.2367967873494226,
          0.13010061467340825,
          -1.4188576877254582,
          0.32770030782811205,
          -0.7666685289861416,
          -1.355090098559343,
          0.6827981353191315,
          -0.8166906802070194,
          -0.532339702100551,
          0.25430695975614886,
          -0.10310629031404332,
          -0.3460754936192635,
          -0.1510906398329561,
          -0.7832928982277935,
          -1.546902478380296,
          -0.2995390758998359,
          -0.2721909227098749,
          0.4008837835503852,
          0.05236334326617966,
          0.3020642330471884,
          0.03490025889008722,
          -0.6448279174982912,
          -0.7377889818378467,
          -2.541821984247492,
          1.0612578426867794,
          -1.1621483869938696,
          1.1095492564193015,
          0.6063825076279109,
          -1.479809697172345,
          -0.9523638847324457,
          -0.8348520740791571,
          0.3179591536805008,
          -0.07678833192460754,
          0.7808987351332105,
          0.33307936745394146,
          1.0706286019219826,
          -0.9328029464115513,
          -0.6360634796884554,
          0.17889194616677798,
          -1.2147569891561574,
          0.22351306329411733,
          0.4123463781208237,
          -0.03839805433625005,
          -0.7807877399731281,
          -0.19285890053537363,
          0.46567361282089204,
          -1.4533588420151853,
          -1.4095480303717949,
          1.0884432485428137,
          0.8260684437673544,
          -0.22607380538102767,
          -0.009827870109399962,
          -0.057231071870977444,
          -0.24349253867682477,
          -0.49174613344985374,
          0.5118317760608366,
          -1.155934090093922,
          -0.25768766651650393,
          -0.41328220104759106,
          -0.8765110365430785,
          0.19201123800199002,
          -0.338918517485133,
          0.27186838780765293,
          -0.3481674030316388,
          -0.5461439511874295,
          0.764724135114682,
          1.1618010298059416,
          0.7211626062780833,
          2.019992172248877,
          -0.966717765739688,
          -0.4248380084294238,
          0.3912823981477607,
          0.10049068234363386,
          0.975885150461919,
          -0.2520928992890441,
          0.3886397372243109,
          -1.6833768095687152,
          1.5831284258963834,
          0.6831325849761399,
          0.8173992042875015,
          0.097210462803709,
          0.0727673139697671,
          -1.981435996310506,
          -1.0482551492253238,
          -1.481989521571336,
          0.8420267669107834,
          0.5800600123716833,
          1.6050265678130222,
          -1.7352815178958394
         ],
         "xaxis": "x4",
         "y": [
          -0.9689814687300818,
          -1.819070192646803,
          -1.6177056676563566,
          -1.2822048972762328,
          -0.07026639488898488,
          0.07989276314379316,
          -0.07971619676774501,
          1.8887431391867724,
          -2.690163801793752,
          -0.6469135654693827,
          0.21996753741385894,
          -0.00017554401226315753,
          0.6722152939484372,
          0.375773105108882,
          -0.6771372160943433,
          -0.05166991576338214,
          -0.9712984391510093,
          -1.2796606868932487,
          -2.684010644068368,
          1.446535962278647,
          -0.3933833350696182,
          0.3398045294122675,
          -0.21429156338043284,
          -0.8694853586368659,
          2.1258079670627255,
          -0.9964294983320559,
          -0.12971727935162083,
          -0.33777437015986483,
          -0.0029251286295001733,
          -0.4033053186404409,
          0.9515131078888949,
          -0.2148102151939041,
          -0.321029567081902,
          -2.0619659695924595,
          -0.3921888116037307,
          0.45270332797963847,
          -1.220863538633721,
          -0.5670044277442816,
          0.7015293738927034,
          -1.7783627238418853,
          -0.6726036079003833,
          1.8057874407056216,
          0.4615826345114712,
          0.5637210583051996,
          -0.8001230867823986,
          0.4001494149324175,
          1.487280228539015,
          -0.537545948213816,
          -0.013491547963904374,
          -0.9115002435641544,
          1.3492085214066536,
          0.09399125992628336,
          1.5361969424936541,
          1.209276503142546,
          0.8957163383160075,
          0.3286960813754728,
          1.186564808953308,
          0.030209342638638,
          -1.2881376826026363,
          0.36899985773680694,
          -0.9991276431316153,
          -0.5523528967741201,
          0.7489283897900095,
          -1.2702653278648925,
          -2.319649876420089,
          -0.7346948750986463,
          -0.3018090654226126,
          0.3304576617158405,
          -0.36971406428792614,
          -0.07108244031274921,
          0.046893968106723694,
          -0.39995761665655655,
          -0.22773800313605314,
          0.8385401917037871,
          -0.7843817301737499,
          0.2903325643545476,
          0.9970639076883745,
          0.2564228095813574,
          0.1937322846658141,
          -0.23692927107798026,
          0.15129977012907359,
          1.1622861457099305,
          0.35724052008541807,
          -1.0476356542501768,
          -0.9290698364313671,
          0.6498657401938932,
          0.31098653768337015,
          -1.2884673415770924,
          -0.3709162009778576,
          -0.08147258065577224,
          0.3917267335706723,
          1.317194918920567,
          -0.7387079120619336,
          -0.8113449879094478,
          0.10548121430996321,
          -0.9428818835204189,
          -0.39409862948233865,
          -0.7599119421073366,
          -0.9392878656019644,
          -0.6414534205937111
         ],
         "yaxis": "y4"
        },
        {
         "line": {
          "color": "rgba(128, 128, 128, 1.0)",
          "dash": "solid",
          "shape": "linear",
          "width": 1.3
         },
         "marker": {
          "size": 2,
          "symbol": "circle"
         },
         "mode": "markers",
         "name": "B",
         "text": "",
         "type": "scatter",
         "x": [
          -0.9689814687300818,
          -1.819070192646803,
          -1.6177056676563566,
          -1.2822048972762328,
          -0.07026639488898488,
          0.07989276314379316,
          -0.07971619676774501,
          1.8887431391867724,
          -2.690163801793752,
          -0.6469135654693827,
          0.21996753741385894,
          -0.00017554401226315753,
          0.6722152939484372,
          0.375773105108882,
          -0.6771372160943433,
          -0.05166991576338214,
          -0.9712984391510093,
          -1.2796606868932487,
          -2.684010644068368,
          1.446535962278647,
          -0.3933833350696182,
          0.3398045294122675,
          -0.21429156338043284,
          -0.8694853586368659,
          2.1258079670627255,
          -0.9964294983320559,
          -0.12971727935162083,
          -0.33777437015986483,
          -0.0029251286295001733,
          -0.4033053186404409,
          0.9515131078888949,
          -0.2148102151939041,
          -0.321029567081902,
          -2.0619659695924595,
          -0.3921888116037307,
          0.45270332797963847,
          -1.220863538633721,
          -0.5670044277442816,
          0.7015293738927034,
          -1.7783627238418853,
          -0.6726036079003833,
          1.8057874407056216,
          0.4615826345114712,
          0.5637210583051996,
          -0.8001230867823986,
          0.4001494149324175,
          1.487280228539015,
          -0.537545948213816,
          -0.013491547963904374,
          -0.9115002435641544,
          1.3492085214066536,
          0.09399125992628336,
          1.5361969424936541,
          1.209276503142546,
          0.8957163383160075,
          0.3286960813754728,
          1.186564808953308,
          0.030209342638638,
          -1.2881376826026363,
          0.36899985773680694,
          -0.9991276431316153,
          -0.5523528967741201,
          0.7489283897900095,
          -1.2702653278648925,
          -2.319649876420089,
          -0.7346948750986463,
          -0.3018090654226126,
          0.3304576617158405,
          -0.36971406428792614,
          -0.07108244031274921,
          0.046893968106723694,
          -0.39995761665655655,
          -0.22773800313605314,
          0.8385401917037871,
          -0.7843817301737499,
          0.2903325643545476,
          0.9970639076883745,
          0.2564228095813574,
          0.1937322846658141,
          -0.23692927107798026,
          0.15129977012907359,
          1.1622861457099305,
          0.35724052008541807,
          -1.0476356542501768,
          -0.9290698364313671,
          0.6498657401938932,
          0.31098653768337015,
          -1.2884673415770924,
          -0.3709162009778576,
          -0.08147258065577224,
          0.3917267335706723,
          1.317194918920567,
          -0.7387079120619336,
          -0.8113449879094478,
          0.10548121430996321,
          -0.9428818835204189,
          -0.39409862948233865,
          -0.7599119421073366,
          -0.9392878656019644,
          -0.6414534205937111
         ],
         "xaxis": "x5",
         "y": [
          -0.1211208137774323,
          -1.8669022025714948,
          1.737516503033625,
          0.5044240956820294,
          -0.20905583360850305,
          -0.66772859732106,
          0.5656417368363179,
          0.2102108947831347,
          0.8550471770361316,
          -0.13283022951731127,
          0.969815666521891,
          -0.16871551693805362,
          2.092685942748639,
          0.5237592381430538,
          -0.010500868040481256,
          -1.137343946132466,
          0.5512793414300526,
          0.5197315132903045,
          -1.7811716569010465,
          0.34977051002786974,
          -0.7459647351215088,
          0.19919254393703917,
          1.8077163522887307,
          -0.216988180681477,
          -0.4177862033865263,
          0.746167660555817,
          -0.9574318820790669,
          -0.5144457784361782,
          1.3585871365744233,
          -1.0493862514077785,
          0.8793373873096768,
          -0.27549849124045706,
          0.32855096075725276,
          -1.0782383348802669,
          1.1201645932568207,
          -0.19666795060448894,
          -0.9223697379062344,
          -0.07066226018755582,
          1.0324765677224157,
          -0.46510567659253005,
          -1.0390679203513948,
          -0.6268136544660237,
          -1.240897527809027,
          0.29504172322456695,
          -2.085766843947555,
          -0.46363252809304023,
          0.7757346775150722,
          -1.3371935591276607,
          1.2163827222373251,
          2.633594925454588,
          0.4499655942953177,
          0.184472988849856,
          -1.1818101965101444,
          -0.5032375940021327,
          -2.077026996927567,
          -0.40345947297564294,
          0.8340533086799418,
          0.23415359584272882,
          0.15310414820274426,
          -0.05325788444610945,
          -0.49074866569690617,
          -1.4503869387444497,
          -0.9025655678068205,
          -1.8593786106700807,
          -0.15006435115168323,
          -0.44345640821757226,
          -0.5469890879102364,
          0.6704553123370551,
          -0.43056258080143867,
          -0.8285096744572659,
          -0.7523279355476609,
          -0.4065290311809796,
          -0.9854210226515766,
          0.5131658746463367,
          -1.2401297192695295,
          -1.5236664929255284,
          -0.902711813233216,
          -0.4025798221426037,
          0.32820815879307785,
          -0.6416640335873163,
          -0.10691501386440859,
          -0.5879888346195667,
          -0.832335880512588,
          -1.014271362470708,
          0.10909659869528526,
          0.0040316135089033325,
          -0.5223490638140886,
          -1.0204424496120819,
          -0.6920773504994652,
          -0.3354304437469444,
          -0.26800259441500757,
          0.5215906989263392,
          -0.19530421366543338,
          -1.1879199037324808,
          0.5404764085850129,
          0.8883326284340181,
          -0.11262805297656645,
          -0.01930789194348459,
          0.5587540791169096,
          -1.2228888614424702
         ],
         "yaxis": "y5"
        },
        {
         "histfunc": "count",
         "histnorm": "",
         "marker": {
          "color": "rgba(55, 128, 191, 1.0)",
          "line": {
           "color": "#4D5663",
           "width": 1.3
          }
         },
         "name": "B",
         "nbinsx": 10,
         "opacity": 0.8,
         "orientation": "v",
         "type": "histogram",
         "x": [
          -0.1211208137774323,
          -1.8669022025714948,
          1.737516503033625,
          0.5044240956820294,
          -0.20905583360850305,
          -0.66772859732106,
          0.5656417368363179,
          0.2102108947831347,
          0.8550471770361316,
          -0.13283022951731127,
          0.969815666521891,
          -0.16871551693805362,
          2.092685942748639,
          0.5237592381430538,
          -0.010500868040481256,
          -1.137343946132466,
          0.5512793414300526,
          0.5197315132903045,
          -1.7811716569010465,
          0.34977051002786974,
          -0.7459647351215088,
          0.19919254393703917,
          1.8077163522887307,
          -0.216988180681477,
          -0.4177862033865263,
          0.746167660555817,
          -0.9574318820790669,
          -0.5144457784361782,
          1.3585871365744233,
          -1.0493862514077785,
          0.8793373873096768,
          -0.27549849124045706,
          0.32855096075725276,
          -1.0782383348802669,
          1.1201645932568207,
          -0.19666795060448894,
          -0.9223697379062344,
          -0.07066226018755582,
          1.0324765677224157,
          -0.46510567659253005,
          -1.0390679203513948,
          -0.6268136544660237,
          -1.240897527809027,
          0.29504172322456695,
          -2.085766843947555,
          -0.46363252809304023,
          0.7757346775150722,
          -1.3371935591276607,
          1.2163827222373251,
          2.633594925454588,
          0.4499655942953177,
          0.184472988849856,
          -1.1818101965101444,
          -0.5032375940021327,
          -2.077026996927567,
          -0.40345947297564294,
          0.8340533086799418,
          0.23415359584272882,
          0.15310414820274426,
          -0.05325788444610945,
          -0.49074866569690617,
          -1.4503869387444497,
          -0.9025655678068205,
          -1.8593786106700807,
          -0.15006435115168323,
          -0.44345640821757226,
          -0.5469890879102364,
          0.6704553123370551,
          -0.43056258080143867,
          -0.8285096744572659,
          -0.7523279355476609,
          -0.4065290311809796,
          -0.9854210226515766,
          0.5131658746463367,
          -1.2401297192695295,
          -1.5236664929255284,
          -0.902711813233216,
          -0.4025798221426037,
          0.32820815879307785,
          -0.6416640335873163,
          -0.10691501386440859,
          -0.5879888346195667,
          -0.832335880512588,
          -1.014271362470708,
          0.10909659869528526,
          0.0040316135089033325,
          -0.5223490638140886,
          -1.0204424496120819,
          -0.6920773504994652,
          -0.3354304437469444,
          -0.26800259441500757,
          0.5215906989263392,
          -0.19530421366543338,
          -1.1879199037324808,
          0.5404764085850129,
          0.8883326284340181,
          -0.11262805297656645,
          -0.01930789194348459,
          0.5587540791169096,
          -1.2228888614424702
         ],
         "xaxis": "x6",
         "yaxis": "y6"
        },
        {
         "line": {
          "color": "rgba(128, 128, 128, 1.0)",
          "dash": "solid",
          "shape": "linear",
          "width": 1.3
         },
         "marker": {
          "size": 2,
          "symbol": "circle"
         },
         "mode": "markers",
         "name": "B",
         "text": "",
         "type": "scatter",
         "x": [
          0.08265575243474317,
          0.471264566526053,
          -0.5286291613831251,
          -1.0379786479310933,
          -1.058636796414923,
          -0.5310490299612461,
          -0.053189700927341974,
          -0.027368553653093198,
          1.1656877515629325,
          1.2358191396959037,
          -0.457515314399585,
          -0.312320994559797,
          -0.19203645171950953,
          -0.40261412990500656,
          0.7278713291203588,
          1.0359948441712508,
          -0.295454250705633,
          -1.8400405562809734,
          0.37794656059166515,
          0.9752468204239976,
          0.41796409557600617,
          1.5570386551839732,
          -1.586669683342259,
          -1.079769070625745,
          1.3881771902579245,
          -0.6534356291346236,
          0.8154477005889065,
          1.1982981981775798,
          0.7397223535867328,
          -0.06996357123588764,
          1.8285944793127034,
          -0.2296449795070473,
          -0.2905326881399329,
          -1.9215649505280545,
          -0.5677172566693091,
          -0.9749526982640805,
          0.33943540372217723,
          0.15889263480709614,
          -1.6494735295600125,
          0.3518876553721099,
          0.6778842471625566,
          1.3507826511445298,
          1.5717947523481035,
          -0.6705631453451292,
          -0.05932576929152143,
          -1.036647675485623,
          -1.4416986239600955,
          -0.8499981770071388,
          -0.2634797852533903,
          0.7300010718700678,
          0.2693382022281298,
          -0.3253952543605832,
          1.484072642060949,
          1.8711008529563558,
          -0.18461639603729602,
          0.7276323980699159,
          0.05906752499367461,
          -0.8232784306522971,
          1.5276956625853626,
          -0.9011367333619845,
          0.0749934540751995,
          2.68416978672944,
          0.7839040677425533,
          1.5898372687315616,
          0.5957347145257897,
          0.5944944482574219,
          0.6764439851687988,
          0.581543225455897,
          1.4211007791963515,
          -0.03066853071956779,
          -0.8498072844416324,
          -0.5646702313072455,
          0.07545321052908756,
          1.8124351688554554,
          -0.7625570466130839,
          -0.8861332313051523,
          0.897570909180347,
          0.054333874800205115,
          -1.7039331364574908,
          0.6637834387800887,
          1.2120921378479332,
          -0.2672552128564103,
          -1.6998428602326243,
          0.8882235612941606,
          1.070919883648229,
          0.37417272909917576,
          0.4502483199263752,
          -1.0389210807390858,
          1.9159568520197987,
          -0.682267010159875,
          0.3823030901948916,
          -1.2180459273957902,
          0.5925294163075184,
          0.18603148682972384,
          -0.17962246257562486,
          0.4828786120800383,
          1.1782740869565427,
          -0.3202195298470683,
          0.49053294732148467,
          1.3435717961140363
         ],
         "xaxis": "x7",
         "y": [
          -0.1211208137774323,
          -1.8669022025714948,
          1.737516503033625,
          0.5044240956820294,
          -0.20905583360850305,
          -0.66772859732106,
          0.5656417368363179,
          0.2102108947831347,
          0.8550471770361316,
          -0.13283022951731127,
          0.969815666521891,
          -0.16871551693805362,
          2.092685942748639,
          0.5237592381430538,
          -0.010500868040481256,
          -1.137343946132466,
          0.5512793414300526,
          0.5197315132903045,
          -1.7811716569010465,
          0.34977051002786974,
          -0.7459647351215088,
          0.19919254393703917,
          1.8077163522887307,
          -0.216988180681477,
          -0.4177862033865263,
          0.746167660555817,
          -0.9574318820790669,
          -0.5144457784361782,
          1.3585871365744233,
          -1.0493862514077785,
          0.8793373873096768,
          -0.27549849124045706,
          0.32855096075725276,
          -1.0782383348802669,
          1.1201645932568207,
          -0.19666795060448894,
          -0.9223697379062344,
          -0.07066226018755582,
          1.0324765677224157,
          -0.46510567659253005,
          -1.0390679203513948,
          -0.6268136544660237,
          -1.240897527809027,
          0.29504172322456695,
          -2.085766843947555,
          -0.46363252809304023,
          0.7757346775150722,
          -1.3371935591276607,
          1.2163827222373251,
          2.633594925454588,
          0.4499655942953177,
          0.184472988849856,
          -1.1818101965101444,
          -0.5032375940021327,
          -2.077026996927567,
          -0.40345947297564294,
          0.8340533086799418,
          0.23415359584272882,
          0.15310414820274426,
          -0.05325788444610945,
          -0.49074866569690617,
          -1.4503869387444497,
          -0.9025655678068205,
          -1.8593786106700807,
          -0.15006435115168323,
          -0.44345640821757226,
          -0.5469890879102364,
          0.6704553123370551,
          -0.43056258080143867,
          -0.8285096744572659,
          -0.7523279355476609,
          -0.4065290311809796,
          -0.9854210226515766,
          0.5131658746463367,
          -1.2401297192695295,
          -1.5236664929255284,
          -0.902711813233216,
          -0.4025798221426037,
          0.32820815879307785,
          -0.6416640335873163,
          -0.10691501386440859,
          -0.5879888346195667,
          -0.832335880512588,
          -1.014271362470708,
          0.10909659869528526,
          0.0040316135089033325,
          -0.5223490638140886,
          -1.0204424496120819,
          -0.6920773504994652,
          -0.3354304437469444,
          -0.26800259441500757,
          0.5215906989263392,
          -0.19530421366543338,
          -1.1879199037324808,
          0.5404764085850129,
          0.8883326284340181,
          -0.11262805297656645,
          -0.01930789194348459,
          0.5587540791169096,
          -1.2228888614424702
         ],
         "yaxis": "y7"
        },
        {
         "line": {
          "color": "rgba(128, 128, 128, 1.0)",
          "dash": "solid",
          "shape": "linear",
          "width": 1.3
         },
         "marker": {
          "size": 2,
          "symbol": "circle"
         },
         "mode": "markers",
         "name": "B",
         "text": "",
         "type": "scatter",
         "x": [
          0.6578393366235544,
          -0.10831764160215741,
          -0.7421569070202227,
          -1.295806658952062,
          -0.12002491245372285,
          0.21594412773430208,
          1.2979666694049037,
          -0.48283093275042105,
          1.8666720337275537,
          1.4703816683663493,
          -0.15421327465739762,
          -2.2367967873494226,
          0.13010061467340825,
          -1.4188576877254582,
          0.32770030782811205,
          -0.7666685289861416,
          -1.355090098559343,
          0.6827981353191315,
          -0.8166906802070194,
          -0.532339702100551,
          0.25430695975614886,
          -0.10310629031404332,
          -0.3460754936192635,
          -0.1510906398329561,
          -0.7832928982277935,
          -1.546902478380296,
          -0.2995390758998359,
          -0.2721909227098749,
          0.4008837835503852,
          0.05236334326617966,
          0.3020642330471884,
          0.03490025889008722,
          -0.6448279174982912,
          -0.7377889818378467,
          -2.541821984247492,
          1.0612578426867794,
          -1.1621483869938696,
          1.1095492564193015,
          0.6063825076279109,
          -1.479809697172345,
          -0.9523638847324457,
          -0.8348520740791571,
          0.3179591536805008,
          -0.07678833192460754,
          0.7808987351332105,
          0.33307936745394146,
          1.0706286019219826,
          -0.9328029464115513,
          -0.6360634796884554,
          0.17889194616677798,
          -1.2147569891561574,
          0.22351306329411733,
          0.4123463781208237,
          -0.03839805433625005,
          -0.7807877399731281,
          -0.19285890053537363,
          0.46567361282089204,
          -1.4533588420151853,
          -1.4095480303717949,
          1.0884432485428137,
          0.8260684437673544,
          -0.22607380538102767,
          -0.009827870109399962,
          -0.057231071870977444,
          -0.24349253867682477,
          -0.49174613344985374,
          0.5118317760608366,
          -1.155934090093922,
          -0.25768766651650393,
          -0.41328220104759106,
          -0.8765110365430785,
          0.19201123800199002,
          -0.338918517485133,
          0.27186838780765293,
          -0.3481674030316388,
          -0.5461439511874295,
          0.764724135114682,
          1.1618010298059416,
          0.7211626062780833,
          2.019992172248877,
          -0.966717765739688,
          -0.4248380084294238,
          0.3912823981477607,
          0.10049068234363386,
          0.975885150461919,
          -0.2520928992890441,
          0.3886397372243109,
          -1.6833768095687152,
          1.5831284258963834,
          0.6831325849761399,
          0.8173992042875015,
          0.097210462803709,
          0.0727673139697671,
          -1.981435996310506,
          -1.0482551492253238,
          -1.481989521571336,
          0.8420267669107834,
          0.5800600123716833,
          1.6050265678130222,
          -1.7352815178958394
         ],
         "xaxis": "x8",
         "y": [
          -0.1211208137774323,
          -1.8669022025714948,
          1.737516503033625,
          0.5044240956820294,
          -0.20905583360850305,
          -0.66772859732106,
          0.5656417368363179,
          0.2102108947831347,
          0.8550471770361316,
          -0.13283022951731127,
          0.969815666521891,
          -0.16871551693805362,
          2.092685942748639,
          0.5237592381430538,
          -0.010500868040481256,
          -1.137343946132466,
          0.5512793414300526,
          0.5197315132903045,
          -1.7811716569010465,
          0.34977051002786974,
          -0.7459647351215088,
          0.19919254393703917,
          1.8077163522887307,
          -0.216988180681477,
          -0.4177862033865263,
          0.746167660555817,
          -0.9574318820790669,
          -0.5144457784361782,
          1.3585871365744233,
          -1.0493862514077785,
          0.8793373873096768,
          -0.27549849124045706,
          0.32855096075725276,
          -1.0782383348802669,
          1.1201645932568207,
          -0.19666795060448894,
          -0.9223697379062344,
          -0.07066226018755582,
          1.0324765677224157,
          -0.46510567659253005,
          -1.0390679203513948,
          -0.6268136544660237,
          -1.240897527809027,
          0.29504172322456695,
          -2.085766843947555,
          -0.46363252809304023,
          0.7757346775150722,
          -1.3371935591276607,
          1.2163827222373251,
          2.633594925454588,
          0.4499655942953177,
          0.184472988849856,
          -1.1818101965101444,
          -0.5032375940021327,
          -2.077026996927567,
          -0.40345947297564294,
          0.8340533086799418,
          0.23415359584272882,
          0.15310414820274426,
          -0.05325788444610945,
          -0.49074866569690617,
          -1.4503869387444497,
          -0.9025655678068205,
          -1.8593786106700807,
          -0.15006435115168323,
          -0.44345640821757226,
          -0.5469890879102364,
          0.6704553123370551,
          -0.43056258080143867,
          -0.8285096744572659,
          -0.7523279355476609,
          -0.4065290311809796,
          -0.9854210226515766,
          0.5131658746463367,
          -1.2401297192695295,
          -1.5236664929255284,
          -0.902711813233216,
          -0.4025798221426037,
          0.32820815879307785,
          -0.6416640335873163,
          -0.10691501386440859,
          -0.5879888346195667,
          -0.832335880512588,
          -1.014271362470708,
          0.10909659869528526,
          0.0040316135089033325,
          -0.5223490638140886,
          -1.0204424496120819,
          -0.6920773504994652,
          -0.3354304437469444,
          -0.26800259441500757,
          0.5215906989263392,
          -0.19530421366543338,
          -1.1879199037324808,
          0.5404764085850129,
          0.8883326284340181,
          -0.11262805297656645,
          -0.01930789194348459,
          0.5587540791169096,
          -1.2228888614424702
         ],
         "yaxis": "y8"
        },
        {
         "line": {
          "color": "rgba(128, 128, 128, 1.0)",
          "dash": "solid",
          "shape": "linear",
          "width": 1.3
         },
         "marker": {
          "size": 2,
          "symbol": "circle"
         },
         "mode": "markers",
         "name": "C",
         "text": "",
         "type": "scatter",
         "x": [
          -0.9689814687300818,
          -1.819070192646803,
          -1.6177056676563566,
          -1.2822048972762328,
          -0.07026639488898488,
          0.07989276314379316,
          -0.07971619676774501,
          1.8887431391867724,
          -2.690163801793752,
          -0.6469135654693827,
          0.21996753741385894,
          -0.00017554401226315753,
          0.6722152939484372,
          0.375773105108882,
          -0.6771372160943433,
          -0.05166991576338214,
          -0.9712984391510093,
          -1.2796606868932487,
          -2.684010644068368,
          1.446535962278647,
          -0.3933833350696182,
          0.3398045294122675,
          -0.21429156338043284,
          -0.8694853586368659,
          2.1258079670627255,
          -0.9964294983320559,
          -0.12971727935162083,
          -0.33777437015986483,
          -0.0029251286295001733,
          -0.4033053186404409,
          0.9515131078888949,
          -0.2148102151939041,
          -0.321029567081902,
          -2.0619659695924595,
          -0.3921888116037307,
          0.45270332797963847,
          -1.220863538633721,
          -0.5670044277442816,
          0.7015293738927034,
          -1.7783627238418853,
          -0.6726036079003833,
          1.8057874407056216,
          0.4615826345114712,
          0.5637210583051996,
          -0.8001230867823986,
          0.4001494149324175,
          1.487280228539015,
          -0.537545948213816,
          -0.013491547963904374,
          -0.9115002435641544,
          1.3492085214066536,
          0.09399125992628336,
          1.5361969424936541,
          1.209276503142546,
          0.8957163383160075,
          0.3286960813754728,
          1.186564808953308,
          0.030209342638638,
          -1.2881376826026363,
          0.36899985773680694,
          -0.9991276431316153,
          -0.5523528967741201,
          0.7489283897900095,
          -1.2702653278648925,
          -2.319649876420089,
          -0.7346948750986463,
          -0.3018090654226126,
          0.3304576617158405,
          -0.36971406428792614,
          -0.07108244031274921,
          0.046893968106723694,
          -0.39995761665655655,
          -0.22773800313605314,
          0.8385401917037871,
          -0.7843817301737499,
          0.2903325643545476,
          0.9970639076883745,
          0.2564228095813574,
          0.1937322846658141,
          -0.23692927107798026,
          0.15129977012907359,
          1.1622861457099305,
          0.35724052008541807,
          -1.0476356542501768,
          -0.9290698364313671,
          0.6498657401938932,
          0.31098653768337015,
          -1.2884673415770924,
          -0.3709162009778576,
          -0.08147258065577224,
          0.3917267335706723,
          1.317194918920567,
          -0.7387079120619336,
          -0.8113449879094478,
          0.10548121430996321,
          -0.9428818835204189,
          -0.39409862948233865,
          -0.7599119421073366,
          -0.9392878656019644,
          -0.6414534205937111
         ],
         "xaxis": "x9",
         "y": [
          0.08265575243474317,
          0.471264566526053,
          -0.5286291613831251,
          -1.0379786479310933,
          -1.058636796414923,
          -0.5310490299612461,
          -0.053189700927341974,
          -0.027368553653093198,
          1.1656877515629325,
          1.2358191396959037,
          -0.457515314399585,
          -0.312320994559797,
          -0.19203645171950953,
          -0.40261412990500656,
          0.7278713291203588,
          1.0359948441712508,
          -0.295454250705633,
          -1.8400405562809734,
          0.37794656059166515,
          0.9752468204239976,
          0.41796409557600617,
          1.5570386551839732,
          -1.586669683342259,
          -1.079769070625745,
          1.3881771902579245,
          -0.6534356291346236,
          0.8154477005889065,
          1.1982981981775798,
          0.7397223535867328,
          -0.06996357123588764,
          1.8285944793127034,
          -0.2296449795070473,
          -0.2905326881399329,
          -1.9215649505280545,
          -0.5677172566693091,
          -0.9749526982640805,
          0.33943540372217723,
          0.15889263480709614,
          -1.6494735295600125,
          0.3518876553721099,
          0.6778842471625566,
          1.3507826511445298,
          1.5717947523481035,
          -0.6705631453451292,
          -0.05932576929152143,
          -1.036647675485623,
          -1.4416986239600955,
          -0.8499981770071388,
          -0.2634797852533903,
          0.7300010718700678,
          0.2693382022281298,
          -0.3253952543605832,
          1.484072642060949,
          1.8711008529563558,
          -0.18461639603729602,
          0.7276323980699159,
          0.05906752499367461,
          -0.8232784306522971,
          1.5276956625853626,
          -0.9011367333619845,
          0.0749934540751995,
          2.68416978672944,
          0.7839040677425533,
          1.5898372687315616,
          0.5957347145257897,
          0.5944944482574219,
          0.6764439851687988,
          0.581543225455897,
          1.4211007791963515,
          -0.03066853071956779,
          -0.8498072844416324,
          -0.5646702313072455,
          0.07545321052908756,
          1.8124351688554554,
          -0.7625570466130839,
          -0.8861332313051523,
          0.897570909180347,
          0.054333874800205115,
          -1.7039331364574908,
          0.6637834387800887,
          1.2120921378479332,
          -0.2672552128564103,
          -1.6998428602326243,
          0.8882235612941606,
          1.070919883648229,
          0.37417272909917576,
          0.4502483199263752,
          -1.0389210807390858,
          1.9159568520197987,
          -0.682267010159875,
          0.3823030901948916,
          -1.2180459273957902,
          0.5925294163075184,
          0.18603148682972384,
          -0.17962246257562486,
          0.4828786120800383,
          1.1782740869565427,
          -0.3202195298470683,
          0.49053294732148467,
          1.3435717961140363
         ],
         "yaxis": "y9"
        },
        {
         "line": {
          "color": "rgba(128, 128, 128, 1.0)",
          "dash": "solid",
          "shape": "linear",
          "width": 1.3
         },
         "marker": {
          "size": 2,
          "symbol": "circle"
         },
         "mode": "markers",
         "name": "C",
         "text": "",
         "type": "scatter",
         "x": [
          -0.1211208137774323,
          -1.8669022025714948,
          1.737516503033625,
          0.5044240956820294,
          -0.20905583360850305,
          -0.66772859732106,
          0.5656417368363179,
          0.2102108947831347,
          0.8550471770361316,
          -0.13283022951731127,
          0.969815666521891,
          -0.16871551693805362,
          2.092685942748639,
          0.5237592381430538,
          -0.010500868040481256,
          -1.137343946132466,
          0.5512793414300526,
          0.5197315132903045,
          -1.7811716569010465,
          0.34977051002786974,
          -0.7459647351215088,
          0.19919254393703917,
          1.8077163522887307,
          -0.216988180681477,
          -0.4177862033865263,
          0.746167660555817,
          -0.9574318820790669,
          -0.5144457784361782,
          1.3585871365744233,
          -1.0493862514077785,
          0.8793373873096768,
          -0.27549849124045706,
          0.32855096075725276,
          -1.0782383348802669,
          1.1201645932568207,
          -0.19666795060448894,
          -0.9223697379062344,
          -0.07066226018755582,
          1.0324765677224157,
          -0.46510567659253005,
          -1.0390679203513948,
          -0.6268136544660237,
          -1.240897527809027,
          0.29504172322456695,
          -2.085766843947555,
          -0.46363252809304023,
          0.7757346775150722,
          -1.3371935591276607,
          1.2163827222373251,
          2.633594925454588,
          0.4499655942953177,
          0.184472988849856,
          -1.1818101965101444,
          -0.5032375940021327,
          -2.077026996927567,
          -0.40345947297564294,
          0.8340533086799418,
          0.23415359584272882,
          0.15310414820274426,
          -0.05325788444610945,
          -0.49074866569690617,
          -1.4503869387444497,
          -0.9025655678068205,
          -1.8593786106700807,
          -0.15006435115168323,
          -0.44345640821757226,
          -0.5469890879102364,
          0.6704553123370551,
          -0.43056258080143867,
          -0.8285096744572659,
          -0.7523279355476609,
          -0.4065290311809796,
          -0.9854210226515766,
          0.5131658746463367,
          -1.2401297192695295,
          -1.5236664929255284,
          -0.902711813233216,
          -0.4025798221426037,
          0.32820815879307785,
          -0.6416640335873163,
          -0.10691501386440859,
          -0.5879888346195667,
          -0.832335880512588,
          -1.014271362470708,
          0.10909659869528526,
          0.0040316135089033325,
          -0.5223490638140886,
          -1.0204424496120819,
          -0.6920773504994652,
          -0.3354304437469444,
          -0.26800259441500757,
          0.5215906989263392,
          -0.19530421366543338,
          -1.1879199037324808,
          0.5404764085850129,
          0.8883326284340181,
          -0.11262805297656645,
          -0.01930789194348459,
          0.5587540791169096,
          -1.2228888614424702
         ],
         "xaxis": "x10",
         "y": [
          0.08265575243474317,
          0.471264566526053,
          -0.5286291613831251,
          -1.0379786479310933,
          -1.058636796414923,
          -0.5310490299612461,
          -0.053189700927341974,
          -0.027368553653093198,
          1.1656877515629325,
          1.2358191396959037,
          -0.457515314399585,
          -0.312320994559797,
          -0.19203645171950953,
          -0.40261412990500656,
          0.7278713291203588,
          1.0359948441712508,
          -0.295454250705633,
          -1.8400405562809734,
          0.37794656059166515,
          0.9752468204239976,
          0.41796409557600617,
          1.5570386551839732,
          -1.586669683342259,
          -1.079769070625745,
          1.3881771902579245,
          -0.6534356291346236,
          0.8154477005889065,
          1.1982981981775798,
          0.7397223535867328,
          -0.06996357123588764,
          1.8285944793127034,
          -0.2296449795070473,
          -0.2905326881399329,
          -1.9215649505280545,
          -0.5677172566693091,
          -0.9749526982640805,
          0.33943540372217723,
          0.15889263480709614,
          -1.6494735295600125,
          0.3518876553721099,
          0.6778842471625566,
          1.3507826511445298,
          1.5717947523481035,
          -0.6705631453451292,
          -0.05932576929152143,
          -1.036647675485623,
          -1.4416986239600955,
          -0.8499981770071388,
          -0.2634797852533903,
          0.7300010718700678,
          0.2693382022281298,
          -0.3253952543605832,
          1.484072642060949,
          1.8711008529563558,
          -0.18461639603729602,
          0.7276323980699159,
          0.05906752499367461,
          -0.8232784306522971,
          1.5276956625853626,
          -0.9011367333619845,
          0.0749934540751995,
          2.68416978672944,
          0.7839040677425533,
          1.5898372687315616,
          0.5957347145257897,
          0.5944944482574219,
          0.6764439851687988,
          0.581543225455897,
          1.4211007791963515,
          -0.03066853071956779,
          -0.8498072844416324,
          -0.5646702313072455,
          0.07545321052908756,
          1.8124351688554554,
          -0.7625570466130839,
          -0.8861332313051523,
          0.897570909180347,
          0.054333874800205115,
          -1.7039331364574908,
          0.6637834387800887,
          1.2120921378479332,
          -0.2672552128564103,
          -1.6998428602326243,
          0.8882235612941606,
          1.070919883648229,
          0.37417272909917576,
          0.4502483199263752,
          -1.0389210807390858,
          1.9159568520197987,
          -0.682267010159875,
          0.3823030901948916,
          -1.2180459273957902,
          0.5925294163075184,
          0.18603148682972384,
          -0.17962246257562486,
          0.4828786120800383,
          1.1782740869565427,
          -0.3202195298470683,
          0.49053294732148467,
          1.3435717961140363
         ],
         "yaxis": "y10"
        },
        {
         "histfunc": "count",
         "histnorm": "",
         "marker": {
          "color": "rgba(50, 171, 96, 1.0)",
          "line": {
           "color": "#4D5663",
           "width": 1.3
          }
         },
         "name": "C",
         "nbinsx": 10,
         "opacity": 0.8,
         "orientation": "v",
         "type": "histogram",
         "x": [
          0.08265575243474317,
          0.471264566526053,
          -0.5286291613831251,
          -1.0379786479310933,
          -1.058636796414923,
          -0.5310490299612461,
          -0.053189700927341974,
          -0.027368553653093198,
          1.1656877515629325,
          1.2358191396959037,
          -0.457515314399585,
          -0.312320994559797,
          -0.19203645171950953,
          -0.40261412990500656,
          0.7278713291203588,
          1.0359948441712508,
          -0.295454250705633,
          -1.8400405562809734,
          0.37794656059166515,
          0.9752468204239976,
          0.41796409557600617,
          1.5570386551839732,
          -1.586669683342259,
          -1.079769070625745,
          1.3881771902579245,
          -0.6534356291346236,
          0.8154477005889065,
          1.1982981981775798,
          0.7397223535867328,
          -0.06996357123588764,
          1.8285944793127034,
          -0.2296449795070473,
          -0.2905326881399329,
          -1.9215649505280545,
          -0.5677172566693091,
          -0.9749526982640805,
          0.33943540372217723,
          0.15889263480709614,
          -1.6494735295600125,
          0.3518876553721099,
          0.6778842471625566,
          1.3507826511445298,
          1.5717947523481035,
          -0.6705631453451292,
          -0.05932576929152143,
          -1.036647675485623,
          -1.4416986239600955,
          -0.8499981770071388,
          -0.2634797852533903,
          0.7300010718700678,
          0.2693382022281298,
          -0.3253952543605832,
          1.484072642060949,
          1.8711008529563558,
          -0.18461639603729602,
          0.7276323980699159,
          0.05906752499367461,
          -0.8232784306522971,
          1.5276956625853626,
          -0.9011367333619845,
          0.0749934540751995,
          2.68416978672944,
          0.7839040677425533,
          1.5898372687315616,
          0.5957347145257897,
          0.5944944482574219,
          0.6764439851687988,
          0.581543225455897,
          1.4211007791963515,
          -0.03066853071956779,
          -0.8498072844416324,
          -0.5646702313072455,
          0.07545321052908756,
          1.8124351688554554,
          -0.7625570466130839,
          -0.8861332313051523,
          0.897570909180347,
          0.054333874800205115,
          -1.7039331364574908,
          0.6637834387800887,
          1.2120921378479332,
          -0.2672552128564103,
          -1.6998428602326243,
          0.8882235612941606,
          1.070919883648229,
          0.37417272909917576,
          0.4502483199263752,
          -1.0389210807390858,
          1.9159568520197987,
          -0.682267010159875,
          0.3823030901948916,
          -1.2180459273957902,
          0.5925294163075184,
          0.18603148682972384,
          -0.17962246257562486,
          0.4828786120800383,
          1.1782740869565427,
          -0.3202195298470683,
          0.49053294732148467,
          1.3435717961140363
         ],
         "xaxis": "x11",
         "yaxis": "y11"
        },
        {
         "line": {
          "color": "rgba(128, 128, 128, 1.0)",
          "dash": "solid",
          "shape": "linear",
          "width": 1.3
         },
         "marker": {
          "size": 2,
          "symbol": "circle"
         },
         "mode": "markers",
         "name": "C",
         "text": "",
         "type": "scatter",
         "x": [
          0.6578393366235544,
          -0.10831764160215741,
          -0.7421569070202227,
          -1.295806658952062,
          -0.12002491245372285,
          0.21594412773430208,
          1.2979666694049037,
          -0.48283093275042105,
          1.8666720337275537,
          1.4703816683663493,
          -0.15421327465739762,
          -2.2367967873494226,
          0.13010061467340825,
          -1.4188576877254582,
          0.32770030782811205,
          -0.7666685289861416,
          -1.355090098559343,
          0.6827981353191315,
          -0.8166906802070194,
          -0.532339702100551,
          0.25430695975614886,
          -0.10310629031404332,
          -0.3460754936192635,
          -0.1510906398329561,
          -0.7832928982277935,
          -1.546902478380296,
          -0.2995390758998359,
          -0.2721909227098749,
          0.4008837835503852,
          0.05236334326617966,
          0.3020642330471884,
          0.03490025889008722,
          -0.6448279174982912,
          -0.7377889818378467,
          -2.541821984247492,
          1.0612578426867794,
          -1.1621483869938696,
          1.1095492564193015,
          0.6063825076279109,
          -1.479809697172345,
          -0.9523638847324457,
          -0.8348520740791571,
          0.3179591536805008,
          -0.07678833192460754,
          0.7808987351332105,
          0.33307936745394146,
          1.0706286019219826,
          -0.9328029464115513,
          -0.6360634796884554,
          0.17889194616677798,
          -1.2147569891561574,
          0.22351306329411733,
          0.4123463781208237,
          -0.03839805433625005,
          -0.7807877399731281,
          -0.19285890053537363,
          0.46567361282089204,
          -1.4533588420151853,
          -1.4095480303717949,
          1.0884432485428137,
          0.8260684437673544,
          -0.22607380538102767,
          -0.009827870109399962,
          -0.057231071870977444,
          -0.24349253867682477,
          -0.49174613344985374,
          0.5118317760608366,
          -1.155934090093922,
          -0.25768766651650393,
          -0.41328220104759106,
          -0.8765110365430785,
          0.19201123800199002,
          -0.338918517485133,
          0.27186838780765293,
          -0.3481674030316388,
          -0.5461439511874295,
          0.764724135114682,
          1.1618010298059416,
          0.7211626062780833,
          2.019992172248877,
          -0.966717765739688,
          -0.4248380084294238,
          0.3912823981477607,
          0.10049068234363386,
          0.975885150461919,
          -0.2520928992890441,
          0.3886397372243109,
          -1.6833768095687152,
          1.5831284258963834,
          0.6831325849761399,
          0.8173992042875015,
          0.097210462803709,
          0.0727673139697671,
          -1.981435996310506,
          -1.0482551492253238,
          -1.481989521571336,
          0.8420267669107834,
          0.5800600123716833,
          1.6050265678130222,
          -1.7352815178958394
         ],
         "xaxis": "x12",
         "y": [
          0.08265575243474317,
          0.471264566526053,
          -0.5286291613831251,
          -1.0379786479310933,
          -1.058636796414923,
          -0.5310490299612461,
          -0.053189700927341974,
          -0.027368553653093198,
          1.1656877515629325,
          1.2358191396959037,
          -0.457515314399585,
          -0.312320994559797,
          -0.19203645171950953,
          -0.40261412990500656,
          0.7278713291203588,
          1.0359948441712508,
          -0.295454250705633,
          -1.8400405562809734,
          0.37794656059166515,
          0.9752468204239976,
          0.41796409557600617,
          1.5570386551839732,
          -1.586669683342259,
          -1.079769070625745,
          1.3881771902579245,
          -0.6534356291346236,
          0.8154477005889065,
          1.1982981981775798,
          0.7397223535867328,
          -0.06996357123588764,
          1.8285944793127034,
          -0.2296449795070473,
          -0.2905326881399329,
          -1.9215649505280545,
          -0.5677172566693091,
          -0.9749526982640805,
          0.33943540372217723,
          0.15889263480709614,
          -1.6494735295600125,
          0.3518876553721099,
          0.6778842471625566,
          1.3507826511445298,
          1.5717947523481035,
          -0.6705631453451292,
          -0.05932576929152143,
          -1.036647675485623,
          -1.4416986239600955,
          -0.8499981770071388,
          -0.2634797852533903,
          0.7300010718700678,
          0.2693382022281298,
          -0.3253952543605832,
          1.484072642060949,
          1.8711008529563558,
          -0.18461639603729602,
          0.7276323980699159,
          0.05906752499367461,
          -0.8232784306522971,
          1.5276956625853626,
          -0.9011367333619845,
          0.0749934540751995,
          2.68416978672944,
          0.7839040677425533,
          1.5898372687315616,
          0.5957347145257897,
          0.5944944482574219,
          0.6764439851687988,
          0.581543225455897,
          1.4211007791963515,
          -0.03066853071956779,
          -0.8498072844416324,
          -0.5646702313072455,
          0.07545321052908756,
          1.8124351688554554,
          -0.7625570466130839,
          -0.8861332313051523,
          0.897570909180347,
          0.054333874800205115,
          -1.7039331364574908,
          0.6637834387800887,
          1.2120921378479332,
          -0.2672552128564103,
          -1.6998428602326243,
          0.8882235612941606,
          1.070919883648229,
          0.37417272909917576,
          0.4502483199263752,
          -1.0389210807390858,
          1.9159568520197987,
          -0.682267010159875,
          0.3823030901948916,
          -1.2180459273957902,
          0.5925294163075184,
          0.18603148682972384,
          -0.17962246257562486,
          0.4828786120800383,
          1.1782740869565427,
          -0.3202195298470683,
          0.49053294732148467,
          1.3435717961140363
         ],
         "yaxis": "y12"
        },
        {
         "line": {
          "color": "rgba(128, 128, 128, 1.0)",
          "dash": "solid",
          "shape": "linear",
          "width": 1.3
         },
         "marker": {
          "size": 2,
          "symbol": "circle"
         },
         "mode": "markers",
         "name": "D",
         "text": "",
         "type": "scatter",
         "x": [
          -0.9689814687300818,
          -1.819070192646803,
          -1.6177056676563566,
          -1.2822048972762328,
          -0.07026639488898488,
          0.07989276314379316,
          -0.07971619676774501,
          1.8887431391867724,
          -2.690163801793752,
          -0.6469135654693827,
          0.21996753741385894,
          -0.00017554401226315753,
          0.6722152939484372,
          0.375773105108882,
          -0.6771372160943433,
          -0.05166991576338214,
          -0.9712984391510093,
          -1.2796606868932487,
          -2.684010644068368,
          1.446535962278647,
          -0.3933833350696182,
          0.3398045294122675,
          -0.21429156338043284,
          -0.8694853586368659,
          2.1258079670627255,
          -0.9964294983320559,
          -0.12971727935162083,
          -0.33777437015986483,
          -0.0029251286295001733,
          -0.4033053186404409,
          0.9515131078888949,
          -0.2148102151939041,
          -0.321029567081902,
          -2.0619659695924595,
          -0.3921888116037307,
          0.45270332797963847,
          -1.220863538633721,
          -0.5670044277442816,
          0.7015293738927034,
          -1.7783627238418853,
          -0.6726036079003833,
          1.8057874407056216,
          0.4615826345114712,
          0.5637210583051996,
          -0.8001230867823986,
          0.4001494149324175,
          1.487280228539015,
          -0.537545948213816,
          -0.013491547963904374,
          -0.9115002435641544,
          1.3492085214066536,
          0.09399125992628336,
          1.5361969424936541,
          1.209276503142546,
          0.8957163383160075,
          0.3286960813754728,
          1.186564808953308,
          0.030209342638638,
          -1.2881376826026363,
          0.36899985773680694,
          -0.9991276431316153,
          -0.5523528967741201,
          0.7489283897900095,
          -1.2702653278648925,
          -2.319649876420089,
          -0.7346948750986463,
          -0.3018090654226126,
          0.3304576617158405,
          -0.36971406428792614,
          -0.07108244031274921,
          0.046893968106723694,
          -0.39995761665655655,
          -0.22773800313605314,
          0.8385401917037871,
          -0.7843817301737499,
          0.2903325643545476,
          0.9970639076883745,
          0.2564228095813574,
          0.1937322846658141,
          -0.23692927107798026,
          0.15129977012907359,
          1.1622861457099305,
          0.35724052008541807,
          -1.0476356542501768,
          -0.9290698364313671,
          0.6498657401938932,
          0.31098653768337015,
          -1.2884673415770924,
          -0.3709162009778576,
          -0.08147258065577224,
          0.3917267335706723,
          1.317194918920567,
          -0.7387079120619336,
          -0.8113449879094478,
          0.10548121430996321,
          -0.9428818835204189,
          -0.39409862948233865,
          -0.7599119421073366,
          -0.9392878656019644,
          -0.6414534205937111
         ],
         "xaxis": "x13",
         "y": [
          0.6578393366235544,
          -0.10831764160215741,
          -0.7421569070202227,
          -1.295806658952062,
          -0.12002491245372285,
          0.21594412773430208,
          1.2979666694049037,
          -0.48283093275042105,
          1.8666720337275537,
          1.4703816683663493,
          -0.15421327465739762,
          -2.2367967873494226,
          0.13010061467340825,
          -1.4188576877254582,
          0.32770030782811205,
          -0.7666685289861416,
          -1.355090098559343,
          0.6827981353191315,
          -0.8166906802070194,
          -0.532339702100551,
          0.25430695975614886,
          -0.10310629031404332,
          -0.3460754936192635,
          -0.1510906398329561,
          -0.7832928982277935,
          -1.546902478380296,
          -0.2995390758998359,
          -0.2721909227098749,
          0.4008837835503852,
          0.05236334326617966,
          0.3020642330471884,
          0.03490025889008722,
          -0.6448279174982912,
          -0.7377889818378467,
          -2.541821984247492,
          1.0612578426867794,
          -1.1621483869938696,
          1.1095492564193015,
          0.6063825076279109,
          -1.479809697172345,
          -0.9523638847324457,
          -0.8348520740791571,
          0.3179591536805008,
          -0.07678833192460754,
          0.7808987351332105,
          0.33307936745394146,
          1.0706286019219826,
          -0.9328029464115513,
          -0.6360634796884554,
          0.17889194616677798,
          -1.2147569891561574,
          0.22351306329411733,
          0.4123463781208237,
          -0.03839805433625005,
          -0.7807877399731281,
          -0.19285890053537363,
          0.46567361282089204,
          -1.4533588420151853,
          -1.4095480303717949,
          1.0884432485428137,
          0.8260684437673544,
          -0.22607380538102767,
          -0.009827870109399962,
          -0.057231071870977444,
          -0.24349253867682477,
          -0.49174613344985374,
          0.5118317760608366,
          -1.155934090093922,
          -0.25768766651650393,
          -0.41328220104759106,
          -0.8765110365430785,
          0.19201123800199002,
          -0.338918517485133,
          0.27186838780765293,
          -0.3481674030316388,
          -0.5461439511874295,
          0.764724135114682,
          1.1618010298059416,
          0.7211626062780833,
          2.019992172248877,
          -0.966717765739688,
          -0.4248380084294238,
          0.3912823981477607,
          0.10049068234363386,
          0.975885150461919,
          -0.2520928992890441,
          0.3886397372243109,
          -1.6833768095687152,
          1.5831284258963834,
          0.6831325849761399,
          0.8173992042875015,
          0.097210462803709,
          0.0727673139697671,
          -1.981435996310506,
          -1.0482551492253238,
          -1.481989521571336,
          0.8420267669107834,
          0.5800600123716833,
          1.6050265678130222,
          -1.7352815178958394
         ],
         "yaxis": "y13"
        },
        {
         "line": {
          "color": "rgba(128, 128, 128, 1.0)",
          "dash": "solid",
          "shape": "linear",
          "width": 1.3
         },
         "marker": {
          "size": 2,
          "symbol": "circle"
         },
         "mode": "markers",
         "name": "D",
         "text": "",
         "type": "scatter",
         "x": [
          -0.1211208137774323,
          -1.8669022025714948,
          1.737516503033625,
          0.5044240956820294,
          -0.20905583360850305,
          -0.66772859732106,
          0.5656417368363179,
          0.2102108947831347,
          0.8550471770361316,
          -0.13283022951731127,
          0.969815666521891,
          -0.16871551693805362,
          2.092685942748639,
          0.5237592381430538,
          -0.010500868040481256,
          -1.137343946132466,
          0.5512793414300526,
          0.5197315132903045,
          -1.7811716569010465,
          0.34977051002786974,
          -0.7459647351215088,
          0.19919254393703917,
          1.8077163522887307,
          -0.216988180681477,
          -0.4177862033865263,
          0.746167660555817,
          -0.9574318820790669,
          -0.5144457784361782,
          1.3585871365744233,
          -1.0493862514077785,
          0.8793373873096768,
          -0.27549849124045706,
          0.32855096075725276,
          -1.0782383348802669,
          1.1201645932568207,
          -0.19666795060448894,
          -0.9223697379062344,
          -0.07066226018755582,
          1.0324765677224157,
          -0.46510567659253005,
          -1.0390679203513948,
          -0.6268136544660237,
          -1.240897527809027,
          0.29504172322456695,
          -2.085766843947555,
          -0.46363252809304023,
          0.7757346775150722,
          -1.3371935591276607,
          1.2163827222373251,
          2.633594925454588,
          0.4499655942953177,
          0.184472988849856,
          -1.1818101965101444,
          -0.5032375940021327,
          -2.077026996927567,
          -0.40345947297564294,
          0.8340533086799418,
          0.23415359584272882,
          0.15310414820274426,
          -0.05325788444610945,
          -0.49074866569690617,
          -1.4503869387444497,
          -0.9025655678068205,
          -1.8593786106700807,
          -0.15006435115168323,
          -0.44345640821757226,
          -0.5469890879102364,
          0.6704553123370551,
          -0.43056258080143867,
          -0.8285096744572659,
          -0.7523279355476609,
          -0.4065290311809796,
          -0.9854210226515766,
          0.5131658746463367,
          -1.2401297192695295,
          -1.5236664929255284,
          -0.902711813233216,
          -0.4025798221426037,
          0.32820815879307785,
          -0.6416640335873163,
          -0.10691501386440859,
          -0.5879888346195667,
          -0.832335880512588,
          -1.014271362470708,
          0.10909659869528526,
          0.0040316135089033325,
          -0.5223490638140886,
          -1.0204424496120819,
          -0.6920773504994652,
          -0.3354304437469444,
          -0.26800259441500757,
          0.5215906989263392,
          -0.19530421366543338,
          -1.1879199037324808,
          0.5404764085850129,
          0.8883326284340181,
          -0.11262805297656645,
          -0.01930789194348459,
          0.5587540791169096,
          -1.2228888614424702
         ],
         "xaxis": "x14",
         "y": [
          0.6578393366235544,
          -0.10831764160215741,
          -0.7421569070202227,
          -1.295806658952062,
          -0.12002491245372285,
          0.21594412773430208,
          1.2979666694049037,
          -0.48283093275042105,
          1.8666720337275537,
          1.4703816683663493,
          -0.15421327465739762,
          -2.2367967873494226,
          0.13010061467340825,
          -1.4188576877254582,
          0.32770030782811205,
          -0.7666685289861416,
          -1.355090098559343,
          0.6827981353191315,
          -0.8166906802070194,
          -0.532339702100551,
          0.25430695975614886,
          -0.10310629031404332,
          -0.3460754936192635,
          -0.1510906398329561,
          -0.7832928982277935,
          -1.546902478380296,
          -0.2995390758998359,
          -0.2721909227098749,
          0.4008837835503852,
          0.05236334326617966,
          0.3020642330471884,
          0.03490025889008722,
          -0.6448279174982912,
          -0.7377889818378467,
          -2.541821984247492,
          1.0612578426867794,
          -1.1621483869938696,
          1.1095492564193015,
          0.6063825076279109,
          -1.479809697172345,
          -0.9523638847324457,
          -0.8348520740791571,
          0.3179591536805008,
          -0.07678833192460754,
          0.7808987351332105,
          0.33307936745394146,
          1.0706286019219826,
          -0.9328029464115513,
          -0.6360634796884554,
          0.17889194616677798,
          -1.2147569891561574,
          0.22351306329411733,
          0.4123463781208237,
          -0.03839805433625005,
          -0.7807877399731281,
          -0.19285890053537363,
          0.46567361282089204,
          -1.4533588420151853,
          -1.4095480303717949,
          1.0884432485428137,
          0.8260684437673544,
          -0.22607380538102767,
          -0.009827870109399962,
          -0.057231071870977444,
          -0.24349253867682477,
          -0.49174613344985374,
          0.5118317760608366,
          -1.155934090093922,
          -0.25768766651650393,
          -0.41328220104759106,
          -0.8765110365430785,
          0.19201123800199002,
          -0.338918517485133,
          0.27186838780765293,
          -0.3481674030316388,
          -0.5461439511874295,
          0.764724135114682,
          1.1618010298059416,
          0.7211626062780833,
          2.019992172248877,
          -0.966717765739688,
          -0.4248380084294238,
          0.3912823981477607,
          0.10049068234363386,
          0.975885150461919,
          -0.2520928992890441,
          0.3886397372243109,
          -1.6833768095687152,
          1.5831284258963834,
          0.6831325849761399,
          0.8173992042875015,
          0.097210462803709,
          0.0727673139697671,
          -1.981435996310506,
          -1.0482551492253238,
          -1.481989521571336,
          0.8420267669107834,
          0.5800600123716833,
          1.6050265678130222,
          -1.7352815178958394
         ],
         "yaxis": "y14"
        },
        {
         "line": {
          "color": "rgba(128, 128, 128, 1.0)",
          "dash": "solid",
          "shape": "linear",
          "width": 1.3
         },
         "marker": {
          "size": 2,
          "symbol": "circle"
         },
         "mode": "markers",
         "name": "D",
         "text": "",
         "type": "scatter",
         "x": [
          0.08265575243474317,
          0.471264566526053,
          -0.5286291613831251,
          -1.0379786479310933,
          -1.058636796414923,
          -0.5310490299612461,
          -0.053189700927341974,
          -0.027368553653093198,
          1.1656877515629325,
          1.2358191396959037,
          -0.457515314399585,
          -0.312320994559797,
          -0.19203645171950953,
          -0.40261412990500656,
          0.7278713291203588,
          1.0359948441712508,
          -0.295454250705633,
          -1.8400405562809734,
          0.37794656059166515,
          0.9752468204239976,
          0.41796409557600617,
          1.5570386551839732,
          -1.586669683342259,
          -1.079769070625745,
          1.3881771902579245,
          -0.6534356291346236,
          0.8154477005889065,
          1.1982981981775798,
          0.7397223535867328,
          -0.06996357123588764,
          1.8285944793127034,
          -0.2296449795070473,
          -0.2905326881399329,
          -1.9215649505280545,
          -0.5677172566693091,
          -0.9749526982640805,
          0.33943540372217723,
          0.15889263480709614,
          -1.6494735295600125,
          0.3518876553721099,
          0.6778842471625566,
          1.3507826511445298,
          1.5717947523481035,
          -0.6705631453451292,
          -0.05932576929152143,
          -1.036647675485623,
          -1.4416986239600955,
          -0.8499981770071388,
          -0.2634797852533903,
          0.7300010718700678,
          0.2693382022281298,
          -0.3253952543605832,
          1.484072642060949,
          1.8711008529563558,
          -0.18461639603729602,
          0.7276323980699159,
          0.05906752499367461,
          -0.8232784306522971,
          1.5276956625853626,
          -0.9011367333619845,
          0.0749934540751995,
          2.68416978672944,
          0.7839040677425533,
          1.5898372687315616,
          0.5957347145257897,
          0.5944944482574219,
          0.6764439851687988,
          0.581543225455897,
          1.4211007791963515,
          -0.03066853071956779,
          -0.8498072844416324,
          -0.5646702313072455,
          0.07545321052908756,
          1.8124351688554554,
          -0.7625570466130839,
          -0.8861332313051523,
          0.897570909180347,
          0.054333874800205115,
          -1.7039331364574908,
          0.6637834387800887,
          1.2120921378479332,
          -0.2672552128564103,
          -1.6998428602326243,
          0.8882235612941606,
          1.070919883648229,
          0.37417272909917576,
          0.4502483199263752,
          -1.0389210807390858,
          1.9159568520197987,
          -0.682267010159875,
          0.3823030901948916,
          -1.2180459273957902,
          0.5925294163075184,
          0.18603148682972384,
          -0.17962246257562486,
          0.4828786120800383,
          1.1782740869565427,
          -0.3202195298470683,
          0.49053294732148467,
          1.3435717961140363
         ],
         "xaxis": "x15",
         "y": [
          0.6578393366235544,
          -0.10831764160215741,
          -0.7421569070202227,
          -1.295806658952062,
          -0.12002491245372285,
          0.21594412773430208,
          1.2979666694049037,
          -0.48283093275042105,
          1.8666720337275537,
          1.4703816683663493,
          -0.15421327465739762,
          -2.2367967873494226,
          0.13010061467340825,
          -1.4188576877254582,
          0.32770030782811205,
          -0.7666685289861416,
          -1.355090098559343,
          0.6827981353191315,
          -0.8166906802070194,
          -0.532339702100551,
          0.25430695975614886,
          -0.10310629031404332,
          -0.3460754936192635,
          -0.1510906398329561,
          -0.7832928982277935,
          -1.546902478380296,
          -0.2995390758998359,
          -0.2721909227098749,
          0.4008837835503852,
          0.05236334326617966,
          0.3020642330471884,
          0.03490025889008722,
          -0.6448279174982912,
          -0.7377889818378467,
          -2.541821984247492,
          1.0612578426867794,
          -1.1621483869938696,
          1.1095492564193015,
          0.6063825076279109,
          -1.479809697172345,
          -0.9523638847324457,
          -0.8348520740791571,
          0.3179591536805008,
          -0.07678833192460754,
          0.7808987351332105,
          0.33307936745394146,
          1.0706286019219826,
          -0.9328029464115513,
          -0.6360634796884554,
          0.17889194616677798,
          -1.2147569891561574,
          0.22351306329411733,
          0.4123463781208237,
          -0.03839805433625005,
          -0.7807877399731281,
          -0.19285890053537363,
          0.46567361282089204,
          -1.4533588420151853,
          -1.4095480303717949,
          1.0884432485428137,
          0.8260684437673544,
          -0.22607380538102767,
          -0.009827870109399962,
          -0.057231071870977444,
          -0.24349253867682477,
          -0.49174613344985374,
          0.5118317760608366,
          -1.155934090093922,
          -0.25768766651650393,
          -0.41328220104759106,
          -0.8765110365430785,
          0.19201123800199002,
          -0.338918517485133,
          0.27186838780765293,
          -0.3481674030316388,
          -0.5461439511874295,
          0.764724135114682,
          1.1618010298059416,
          0.7211626062780833,
          2.019992172248877,
          -0.966717765739688,
          -0.4248380084294238,
          0.3912823981477607,
          0.10049068234363386,
          0.975885150461919,
          -0.2520928992890441,
          0.3886397372243109,
          -1.6833768095687152,
          1.5831284258963834,
          0.6831325849761399,
          0.8173992042875015,
          0.097210462803709,
          0.0727673139697671,
          -1.981435996310506,
          -1.0482551492253238,
          -1.481989521571336,
          0.8420267669107834,
          0.5800600123716833,
          1.6050265678130222,
          -1.7352815178958394
         ],
         "yaxis": "y15"
        },
        {
         "histfunc": "count",
         "histnorm": "",
         "marker": {
          "color": "rgba(128, 0, 128, 1.0)",
          "line": {
           "color": "#4D5663",
           "width": 1.3
          }
         },
         "name": "D",
         "nbinsx": 10,
         "opacity": 0.8,
         "orientation": "v",
         "type": "histogram",
         "x": [
          0.6578393366235544,
          -0.10831764160215741,
          -0.7421569070202227,
          -1.295806658952062,
          -0.12002491245372285,
          0.21594412773430208,
          1.2979666694049037,
          -0.48283093275042105,
          1.8666720337275537,
          1.4703816683663493,
          -0.15421327465739762,
          -2.2367967873494226,
          0.13010061467340825,
          -1.4188576877254582,
          0.32770030782811205,
          -0.7666685289861416,
          -1.355090098559343,
          0.6827981353191315,
          -0.8166906802070194,
          -0.532339702100551,
          0.25430695975614886,
          -0.10310629031404332,
          -0.3460754936192635,
          -0.1510906398329561,
          -0.7832928982277935,
          -1.546902478380296,
          -0.2995390758998359,
          -0.2721909227098749,
          0.4008837835503852,
          0.05236334326617966,
          0.3020642330471884,
          0.03490025889008722,
          -0.6448279174982912,
          -0.7377889818378467,
          -2.541821984247492,
          1.0612578426867794,
          -1.1621483869938696,
          1.1095492564193015,
          0.6063825076279109,
          -1.479809697172345,
          -0.9523638847324457,
          -0.8348520740791571,
          0.3179591536805008,
          -0.07678833192460754,
          0.7808987351332105,
          0.33307936745394146,
          1.0706286019219826,
          -0.9328029464115513,
          -0.6360634796884554,
          0.17889194616677798,
          -1.2147569891561574,
          0.22351306329411733,
          0.4123463781208237,
          -0.03839805433625005,
          -0.7807877399731281,
          -0.19285890053537363,
          0.46567361282089204,
          -1.4533588420151853,
          -1.4095480303717949,
          1.0884432485428137,
          0.8260684437673544,
          -0.22607380538102767,
          -0.009827870109399962,
          -0.057231071870977444,
          -0.24349253867682477,
          -0.49174613344985374,
          0.5118317760608366,
          -1.155934090093922,
          -0.25768766651650393,
          -0.41328220104759106,
          -0.8765110365430785,
          0.19201123800199002,
          -0.338918517485133,
          0.27186838780765293,
          -0.3481674030316388,
          -0.5461439511874295,
          0.764724135114682,
          1.1618010298059416,
          0.7211626062780833,
          2.019992172248877,
          -0.966717765739688,
          -0.4248380084294238,
          0.3912823981477607,
          0.10049068234363386,
          0.975885150461919,
          -0.2520928992890441,
          0.3886397372243109,
          -1.6833768095687152,
          1.5831284258963834,
          0.6831325849761399,
          0.8173992042875015,
          0.097210462803709,
          0.0727673139697671,
          -1.981435996310506,
          -1.0482551492253238,
          -1.481989521571336,
          0.8420267669107834,
          0.5800600123716833,
          1.6050265678130222,
          -1.7352815178958394
         ],
         "xaxis": "x16",
         "yaxis": "y16"
        }
       ],
       "layout": {
        "bargap": 0.02,
        "legend": {
         "bgcolor": "#F5F6F9",
         "font": {
          "color": "#4D5663"
         }
        },
        "paper_bgcolor": "#F5F6F9",
        "plot_bgcolor": "#F5F6F9",
        "showlegend": false,
        "template": {
         "data": {
          "bar": [
           {
            "error_x": {
             "color": "#2a3f5f"
            },
            "error_y": {
             "color": "#2a3f5f"
            },
            "marker": {
             "line": {
              "color": "#E5ECF6",
              "width": 0.5
             },
             "pattern": {
              "fillmode": "overlay",
              "size": 10,
              "solidity": 0.2
             }
            },
            "type": "bar"
           }
          ],
          "barpolar": [
           {
            "marker": {
             "line": {
              "color": "#E5ECF6",
              "width": 0.5
             },
             "pattern": {
              "fillmode": "overlay",
              "size": 10,
              "solidity": 0.2
             }
            },
            "type": "barpolar"
           }
          ],
          "carpet": [
           {
            "aaxis": {
             "endlinecolor": "#2a3f5f",
             "gridcolor": "white",
             "linecolor": "white",
             "minorgridcolor": "white",
             "startlinecolor": "#2a3f5f"
            },
            "baxis": {
             "endlinecolor": "#2a3f5f",
             "gridcolor": "white",
             "linecolor": "white",
             "minorgridcolor": "white",
             "startlinecolor": "#2a3f5f"
            },
            "type": "carpet"
           }
          ],
          "choropleth": [
           {
            "colorbar": {
             "outlinewidth": 0,
             "ticks": ""
            },
            "type": "choropleth"
           }
          ],
          "contour": [
           {
            "colorbar": {
             "outlinewidth": 0,
             "ticks": ""
            },
            "colorscale": [
             [
              0,
              "#0d0887"
             ],
             [
              0.1111111111111111,
              "#46039f"
             ],
             [
              0.2222222222222222,
              "#7201a8"
             ],
             [
              0.3333333333333333,
              "#9c179e"
             ],
             [
              0.4444444444444444,
              "#bd3786"
             ],
             [
              0.5555555555555556,
              "#d8576b"
             ],
             [
              0.6666666666666666,
              "#ed7953"
             ],
             [
              0.7777777777777778,
              "#fb9f3a"
             ],
             [
              0.8888888888888888,
              "#fdca26"
             ],
             [
              1,
              "#f0f921"
             ]
            ],
            "type": "contour"
           }
          ],
          "contourcarpet": [
           {
            "colorbar": {
             "outlinewidth": 0,
             "ticks": ""
            },
            "type": "contourcarpet"
           }
          ],
          "heatmap": [
           {
            "colorbar": {
             "outlinewidth": 0,
             "ticks": ""
            },
            "colorscale": [
             [
              0,
              "#0d0887"
             ],
             [
              0.1111111111111111,
              "#46039f"
             ],
             [
              0.2222222222222222,
              "#7201a8"
             ],
             [
              0.3333333333333333,
              "#9c179e"
             ],
             [
              0.4444444444444444,
              "#bd3786"
             ],
             [
              0.5555555555555556,
              "#d8576b"
             ],
             [
              0.6666666666666666,
              "#ed7953"
             ],
             [
              0.7777777777777778,
              "#fb9f3a"
             ],
             [
              0.8888888888888888,
              "#fdca26"
             ],
             [
              1,
              "#f0f921"
             ]
            ],
            "type": "heatmap"
           }
          ],
          "heatmapgl": [
           {
            "colorbar": {
             "outlinewidth": 0,
             "ticks": ""
            },
            "colorscale": [
             [
              0,
              "#0d0887"
             ],
             [
              0.1111111111111111,
              "#46039f"
             ],
             [
              0.2222222222222222,
              "#7201a8"
             ],
             [
              0.3333333333333333,
              "#9c179e"
             ],
             [
              0.4444444444444444,
              "#bd3786"
             ],
             [
              0.5555555555555556,
              "#d8576b"
             ],
             [
              0.6666666666666666,
              "#ed7953"
             ],
             [
              0.7777777777777778,
              "#fb9f3a"
             ],
             [
              0.8888888888888888,
              "#fdca26"
             ],
             [
              1,
              "#f0f921"
             ]
            ],
            "type": "heatmapgl"
           }
          ],
          "histogram": [
           {
            "marker": {
             "pattern": {
              "fillmode": "overlay",
              "size": 10,
              "solidity": 0.2
             }
            },
            "type": "histogram"
           }
          ],
          "histogram2d": [
           {
            "colorbar": {
             "outlinewidth": 0,
             "ticks": ""
            },
            "colorscale": [
             [
              0,
              "#0d0887"
             ],
             [
              0.1111111111111111,
              "#46039f"
             ],
             [
              0.2222222222222222,
              "#7201a8"
             ],
             [
              0.3333333333333333,
              "#9c179e"
             ],
             [
              0.4444444444444444,
              "#bd3786"
             ],
             [
              0.5555555555555556,
              "#d8576b"
             ],
             [
              0.6666666666666666,
              "#ed7953"
             ],
             [
              0.7777777777777778,
              "#fb9f3a"
             ],
             [
              0.8888888888888888,
              "#fdca26"
             ],
             [
              1,
              "#f0f921"
             ]
            ],
            "type": "histogram2d"
           }
          ],
          "histogram2dcontour": [
           {
            "colorbar": {
             "outlinewidth": 0,
             "ticks": ""
            },
            "colorscale": [
             [
              0,
              "#0d0887"
             ],
             [
              0.1111111111111111,
              "#46039f"
             ],
             [
              0.2222222222222222,
              "#7201a8"
             ],
             [
              0.3333333333333333,
              "#9c179e"
             ],
             [
              0.4444444444444444,
              "#bd3786"
             ],
             [
              0.5555555555555556,
              "#d8576b"
             ],
             [
              0.6666666666666666,
              "#ed7953"
             ],
             [
              0.7777777777777778,
              "#fb9f3a"
             ],
             [
              0.8888888888888888,
              "#fdca26"
             ],
             [
              1,
              "#f0f921"
             ]
            ],
            "type": "histogram2dcontour"
           }
          ],
          "mesh3d": [
           {
            "colorbar": {
             "outlinewidth": 0,
             "ticks": ""
            },
            "type": "mesh3d"
           }
          ],
          "parcoords": [
           {
            "line": {
             "colorbar": {
              "outlinewidth": 0,
              "ticks": ""
             }
            },
            "type": "parcoords"
           }
          ],
          "pie": [
           {
            "automargin": true,
            "type": "pie"
           }
          ],
          "scatter": [
           {
            "marker": {
             "colorbar": {
              "outlinewidth": 0,
              "ticks": ""
             }
            },
            "type": "scatter"
           }
          ],
          "scatter3d": [
           {
            "line": {
             "colorbar": {
              "outlinewidth": 0,
              "ticks": ""
             }
            },
            "marker": {
             "colorbar": {
              "outlinewidth": 0,
              "ticks": ""
             }
            },
            "type": "scatter3d"
           }
          ],
          "scattercarpet": [
           {
            "marker": {
             "colorbar": {
              "outlinewidth": 0,
              "ticks": ""
             }
            },
            "type": "scattercarpet"
           }
          ],
          "scattergeo": [
           {
            "marker": {
             "colorbar": {
              "outlinewidth": 0,
              "ticks": ""
             }
            },
            "type": "scattergeo"
           }
          ],
          "scattergl": [
           {
            "marker": {
             "colorbar": {
              "outlinewidth": 0,
              "ticks": ""
             }
            },
            "type": "scattergl"
           }
          ],
          "scattermapbox": [
           {
            "marker": {
             "colorbar": {
              "outlinewidth": 0,
              "ticks": ""
             }
            },
            "type": "scattermapbox"
           }
          ],
          "scatterpolar": [
           {
            "marker": {
             "colorbar": {
              "outlinewidth": 0,
              "ticks": ""
             }
            },
            "type": "scatterpolar"
           }
          ],
          "scatterpolargl": [
           {
            "marker": {
             "colorbar": {
              "outlinewidth": 0,
              "ticks": ""
             }
            },
            "type": "scatterpolargl"
           }
          ],
          "scatterternary": [
           {
            "marker": {
             "colorbar": {
              "outlinewidth": 0,
              "ticks": ""
             }
            },
            "type": "scatterternary"
           }
          ],
          "surface": [
           {
            "colorbar": {
             "outlinewidth": 0,
             "ticks": ""
            },
            "colorscale": [
             [
              0,
              "#0d0887"
             ],
             [
              0.1111111111111111,
              "#46039f"
             ],
             [
              0.2222222222222222,
              "#7201a8"
             ],
             [
              0.3333333333333333,
              "#9c179e"
             ],
             [
              0.4444444444444444,
              "#bd3786"
             ],
             [
              0.5555555555555556,
              "#d8576b"
             ],
             [
              0.6666666666666666,
              "#ed7953"
             ],
             [
              0.7777777777777778,
              "#fb9f3a"
             ],
             [
              0.8888888888888888,
              "#fdca26"
             ],
             [
              1,
              "#f0f921"
             ]
            ],
            "type": "surface"
           }
          ],
          "table": [
           {
            "cells": {
             "fill": {
              "color": "#EBF0F8"
             },
             "line": {
              "color": "white"
             }
            },
            "header": {
             "fill": {
              "color": "#C8D4E3"
             },
             "line": {
              "color": "white"
             }
            },
            "type": "table"
           }
          ]
         },
         "layout": {
          "annotationdefaults": {
           "arrowcolor": "#2a3f5f",
           "arrowhead": 0,
           "arrowwidth": 1
          },
          "autotypenumbers": "strict",
          "coloraxis": {
           "colorbar": {
            "outlinewidth": 0,
            "ticks": ""
           }
          },
          "colorscale": {
           "diverging": [
            [
             0,
             "#8e0152"
            ],
            [
             0.1,
             "#c51b7d"
            ],
            [
             0.2,
             "#de77ae"
            ],
            [
             0.3,
             "#f1b6da"
            ],
            [
             0.4,
             "#fde0ef"
            ],
            [
             0.5,
             "#f7f7f7"
            ],
            [
             0.6,
             "#e6f5d0"
            ],
            [
             0.7,
             "#b8e186"
            ],
            [
             0.8,
             "#7fbc41"
            ],
            [
             0.9,
             "#4d9221"
            ],
            [
             1,
             "#276419"
            ]
           ],
           "sequential": [
            [
             0,
             "#0d0887"
            ],
            [
             0.1111111111111111,
             "#46039f"
            ],
            [
             0.2222222222222222,
             "#7201a8"
            ],
            [
             0.3333333333333333,
             "#9c179e"
            ],
            [
             0.4444444444444444,
             "#bd3786"
            ],
            [
             0.5555555555555556,
             "#d8576b"
            ],
            [
             0.6666666666666666,
             "#ed7953"
            ],
            [
             0.7777777777777778,
             "#fb9f3a"
            ],
            [
             0.8888888888888888,
             "#fdca26"
            ],
            [
             1,
             "#f0f921"
            ]
           ],
           "sequentialminus": [
            [
             0,
             "#0d0887"
            ],
            [
             0.1111111111111111,
             "#46039f"
            ],
            [
             0.2222222222222222,
             "#7201a8"
            ],
            [
             0.3333333333333333,
             "#9c179e"
            ],
            [
             0.4444444444444444,
             "#bd3786"
            ],
            [
             0.5555555555555556,
             "#d8576b"
            ],
            [
             0.6666666666666666,
             "#ed7953"
            ],
            [
             0.7777777777777778,
             "#fb9f3a"
            ],
            [
             0.8888888888888888,
             "#fdca26"
            ],
            [
             1,
             "#f0f921"
            ]
           ]
          },
          "colorway": [
           "#636efa",
           "#EF553B",
           "#00cc96",
           "#ab63fa",
           "#FFA15A",
           "#19d3f3",
           "#FF6692",
           "#B6E880",
           "#FF97FF",
           "#FECB52"
          ],
          "font": {
           "color": "#2a3f5f"
          },
          "geo": {
           "bgcolor": "white",
           "lakecolor": "white",
           "landcolor": "#E5ECF6",
           "showlakes": true,
           "showland": true,
           "subunitcolor": "white"
          },
          "hoverlabel": {
           "align": "left"
          },
          "hovermode": "closest",
          "mapbox": {
           "style": "light"
          },
          "paper_bgcolor": "white",
          "plot_bgcolor": "#E5ECF6",
          "polar": {
           "angularaxis": {
            "gridcolor": "white",
            "linecolor": "white",
            "ticks": ""
           },
           "bgcolor": "#E5ECF6",
           "radialaxis": {
            "gridcolor": "white",
            "linecolor": "white",
            "ticks": ""
           }
          },
          "scene": {
           "xaxis": {
            "backgroundcolor": "#E5ECF6",
            "gridcolor": "white",
            "gridwidth": 2,
            "linecolor": "white",
            "showbackground": true,
            "ticks": "",
            "zerolinecolor": "white"
           },
           "yaxis": {
            "backgroundcolor": "#E5ECF6",
            "gridcolor": "white",
            "gridwidth": 2,
            "linecolor": "white",
            "showbackground": true,
            "ticks": "",
            "zerolinecolor": "white"
           },
           "zaxis": {
            "backgroundcolor": "#E5ECF6",
            "gridcolor": "white",
            "gridwidth": 2,
            "linecolor": "white",
            "showbackground": true,
            "ticks": "",
            "zerolinecolor": "white"
           }
          },
          "shapedefaults": {
           "line": {
            "color": "#2a3f5f"
           }
          },
          "ternary": {
           "aaxis": {
            "gridcolor": "white",
            "linecolor": "white",
            "ticks": ""
           },
           "baxis": {
            "gridcolor": "white",
            "linecolor": "white",
            "ticks": ""
           },
           "bgcolor": "#E5ECF6",
           "caxis": {
            "gridcolor": "white",
            "linecolor": "white",
            "ticks": ""
           }
          },
          "title": {
           "x": 0.05
          },
          "xaxis": {
           "automargin": true,
           "gridcolor": "white",
           "linecolor": "white",
           "ticks": "",
           "title": {
            "standoff": 15
           },
           "zerolinecolor": "white",
           "zerolinewidth": 2
          },
          "yaxis": {
           "automargin": true,
           "gridcolor": "white",
           "linecolor": "white",
           "ticks": "",
           "title": {
            "standoff": 15
           },
           "zerolinecolor": "white",
           "zerolinewidth": 2
          }
         }
        },
        "title": {
         "font": {
          "color": "#4D5663"
         }
        },
        "xaxis": {
         "anchor": "y",
         "domain": [
          0,
          0.2125
         ],
         "gridcolor": "#E1E5ED",
         "showgrid": false,
         "tickfont": {
          "color": "#4D5663"
         },
         "title": {
          "font": {
           "color": "#4D5663"
          },
          "text": ""
         },
         "zerolinecolor": "#E1E5ED"
        },
        "xaxis10": {
         "anchor": "y10",
         "domain": [
          0.2625,
          0.475
         ],
         "gridcolor": "#E1E5ED",
         "showgrid": false,
         "tickfont": {
          "color": "#4D5663"
         },
         "title": {
          "font": {
           "color": "#4D5663"
          },
          "text": ""
         },
         "zerolinecolor": "#E1E5ED"
        },
        "xaxis11": {
         "anchor": "y11",
         "domain": [
          0.525,
          0.7375
         ],
         "gridcolor": "#E1E5ED",
         "showgrid": false,
         "tickfont": {
          "color": "#4D5663"
         },
         "title": {
          "font": {
           "color": "#4D5663"
          },
          "text": ""
         },
         "zerolinecolor": "#E1E5ED"
        },
        "xaxis12": {
         "anchor": "y12",
         "domain": [
          0.7875,
          1
         ],
         "gridcolor": "#E1E5ED",
         "showgrid": false,
         "tickfont": {
          "color": "#4D5663"
         },
         "title": {
          "font": {
           "color": "#4D5663"
          },
          "text": ""
         },
         "zerolinecolor": "#E1E5ED"
        },
        "xaxis13": {
         "anchor": "y13",
         "domain": [
          0,
          0.2125
         ],
         "gridcolor": "#E1E5ED",
         "showgrid": false,
         "tickfont": {
          "color": "#4D5663"
         },
         "title": {
          "font": {
           "color": "#4D5663"
          },
          "text": ""
         },
         "zerolinecolor": "#E1E5ED"
        },
        "xaxis14": {
         "anchor": "y14",
         "domain": [
          0.2625,
          0.475
         ],
         "gridcolor": "#E1E5ED",
         "showgrid": false,
         "tickfont": {
          "color": "#4D5663"
         },
         "title": {
          "font": {
           "color": "#4D5663"
          },
          "text": ""
         },
         "zerolinecolor": "#E1E5ED"
        },
        "xaxis15": {
         "anchor": "y15",
         "domain": [
          0.525,
          0.7375
         ],
         "gridcolor": "#E1E5ED",
         "showgrid": false,
         "tickfont": {
          "color": "#4D5663"
         },
         "title": {
          "font": {
           "color": "#4D5663"
          },
          "text": ""
         },
         "zerolinecolor": "#E1E5ED"
        },
        "xaxis16": {
         "anchor": "y16",
         "domain": [
          0.7875,
          1
         ],
         "gridcolor": "#E1E5ED",
         "showgrid": false,
         "tickfont": {
          "color": "#4D5663"
         },
         "title": {
          "font": {
           "color": "#4D5663"
          },
          "text": ""
         },
         "zerolinecolor": "#E1E5ED"
        },
        "xaxis2": {
         "anchor": "y2",
         "domain": [
          0.2625,
          0.475
         ],
         "gridcolor": "#E1E5ED",
         "showgrid": false,
         "tickfont": {
          "color": "#4D5663"
         },
         "title": {
          "font": {
           "color": "#4D5663"
          },
          "text": ""
         },
         "zerolinecolor": "#E1E5ED"
        },
        "xaxis3": {
         "anchor": "y3",
         "domain": [
          0.525,
          0.7375
         ],
         "gridcolor": "#E1E5ED",
         "showgrid": false,
         "tickfont": {
          "color": "#4D5663"
         },
         "title": {
          "font": {
           "color": "#4D5663"
          },
          "text": ""
         },
         "zerolinecolor": "#E1E5ED"
        },
        "xaxis4": {
         "anchor": "y4",
         "domain": [
          0.7875,
          1
         ],
         "gridcolor": "#E1E5ED",
         "showgrid": false,
         "tickfont": {
          "color": "#4D5663"
         },
         "title": {
          "font": {
           "color": "#4D5663"
          },
          "text": ""
         },
         "zerolinecolor": "#E1E5ED"
        },
        "xaxis5": {
         "anchor": "y5",
         "domain": [
          0,
          0.2125
         ],
         "gridcolor": "#E1E5ED",
         "showgrid": false,
         "tickfont": {
          "color": "#4D5663"
         },
         "title": {
          "font": {
           "color": "#4D5663"
          },
          "text": ""
         },
         "zerolinecolor": "#E1E5ED"
        },
        "xaxis6": {
         "anchor": "y6",
         "domain": [
          0.2625,
          0.475
         ],
         "gridcolor": "#E1E5ED",
         "showgrid": false,
         "tickfont": {
          "color": "#4D5663"
         },
         "title": {
          "font": {
           "color": "#4D5663"
          },
          "text": ""
         },
         "zerolinecolor": "#E1E5ED"
        },
        "xaxis7": {
         "anchor": "y7",
         "domain": [
          0.525,
          0.7375
         ],
         "gridcolor": "#E1E5ED",
         "showgrid": false,
         "tickfont": {
          "color": "#4D5663"
         },
         "title": {
          "font": {
           "color": "#4D5663"
          },
          "text": ""
         },
         "zerolinecolor": "#E1E5ED"
        },
        "xaxis8": {
         "anchor": "y8",
         "domain": [
          0.7875,
          1
         ],
         "gridcolor": "#E1E5ED",
         "showgrid": false,
         "tickfont": {
          "color": "#4D5663"
         },
         "title": {
          "font": {
           "color": "#4D5663"
          },
          "text": ""
         },
         "zerolinecolor": "#E1E5ED"
        },
        "xaxis9": {
         "anchor": "y9",
         "domain": [
          0,
          0.2125
         ],
         "gridcolor": "#E1E5ED",
         "showgrid": false,
         "tickfont": {
          "color": "#4D5663"
         },
         "title": {
          "font": {
           "color": "#4D5663"
          },
          "text": ""
         },
         "zerolinecolor": "#E1E5ED"
        },
        "yaxis": {
         "anchor": "x",
         "domain": [
          0.8025,
          1
         ],
         "gridcolor": "#E1E5ED",
         "showgrid": false,
         "tickfont": {
          "color": "#4D5663"
         },
         "title": {
          "font": {
           "color": "#4D5663"
          },
          "text": ""
         },
         "zerolinecolor": "#E1E5ED"
        },
        "yaxis10": {
         "anchor": "x10",
         "domain": [
          0.2675,
          0.465
         ],
         "gridcolor": "#E1E5ED",
         "showgrid": false,
         "tickfont": {
          "color": "#4D5663"
         },
         "title": {
          "font": {
           "color": "#4D5663"
          },
          "text": ""
         },
         "zerolinecolor": "#E1E5ED"
        },
        "yaxis11": {
         "anchor": "x11",
         "domain": [
          0.2675,
          0.465
         ],
         "gridcolor": "#E1E5ED",
         "showgrid": false,
         "tickfont": {
          "color": "#4D5663"
         },
         "title": {
          "font": {
           "color": "#4D5663"
          },
          "text": ""
         },
         "zerolinecolor": "#E1E5ED"
        },
        "yaxis12": {
         "anchor": "x12",
         "domain": [
          0.2675,
          0.465
         ],
         "gridcolor": "#E1E5ED",
         "showgrid": false,
         "tickfont": {
          "color": "#4D5663"
         },
         "title": {
          "font": {
           "color": "#4D5663"
          },
          "text": ""
         },
         "zerolinecolor": "#E1E5ED"
        },
        "yaxis13": {
         "anchor": "x13",
         "domain": [
          0,
          0.1975
         ],
         "gridcolor": "#E1E5ED",
         "showgrid": false,
         "tickfont": {
          "color": "#4D5663"
         },
         "title": {
          "font": {
           "color": "#4D5663"
          },
          "text": ""
         },
         "zerolinecolor": "#E1E5ED"
        },
        "yaxis14": {
         "anchor": "x14",
         "domain": [
          0,
          0.1975
         ],
         "gridcolor": "#E1E5ED",
         "showgrid": false,
         "tickfont": {
          "color": "#4D5663"
         },
         "title": {
          "font": {
           "color": "#4D5663"
          },
          "text": ""
         },
         "zerolinecolor": "#E1E5ED"
        },
        "yaxis15": {
         "anchor": "x15",
         "domain": [
          0,
          0.1975
         ],
         "gridcolor": "#E1E5ED",
         "showgrid": false,
         "tickfont": {
          "color": "#4D5663"
         },
         "title": {
          "font": {
           "color": "#4D5663"
          },
          "text": ""
         },
         "zerolinecolor": "#E1E5ED"
        },
        "yaxis16": {
         "anchor": "x16",
         "domain": [
          0,
          0.1975
         ],
         "gridcolor": "#E1E5ED",
         "showgrid": false,
         "tickfont": {
          "color": "#4D5663"
         },
         "title": {
          "font": {
           "color": "#4D5663"
          },
          "text": ""
         },
         "zerolinecolor": "#E1E5ED"
        },
        "yaxis2": {
         "anchor": "x2",
         "domain": [
          0.8025,
          1
         ],
         "gridcolor": "#E1E5ED",
         "showgrid": false,
         "tickfont": {
          "color": "#4D5663"
         },
         "title": {
          "font": {
           "color": "#4D5663"
          },
          "text": ""
         },
         "zerolinecolor": "#E1E5ED"
        },
        "yaxis3": {
         "anchor": "x3",
         "domain": [
          0.8025,
          1
         ],
         "gridcolor": "#E1E5ED",
         "showgrid": false,
         "tickfont": {
          "color": "#4D5663"
         },
         "title": {
          "font": {
           "color": "#4D5663"
          },
          "text": ""
         },
         "zerolinecolor": "#E1E5ED"
        },
        "yaxis4": {
         "anchor": "x4",
         "domain": [
          0.8025,
          1
         ],
         "gridcolor": "#E1E5ED",
         "showgrid": false,
         "tickfont": {
          "color": "#4D5663"
         },
         "title": {
          "font": {
           "color": "#4D5663"
          },
          "text": ""
         },
         "zerolinecolor": "#E1E5ED"
        },
        "yaxis5": {
         "anchor": "x5",
         "domain": [
          0.535,
          0.7325
         ],
         "gridcolor": "#E1E5ED",
         "showgrid": false,
         "tickfont": {
          "color": "#4D5663"
         },
         "title": {
          "font": {
           "color": "#4D5663"
          },
          "text": ""
         },
         "zerolinecolor": "#E1E5ED"
        },
        "yaxis6": {
         "anchor": "x6",
         "domain": [
          0.535,
          0.7325
         ],
         "gridcolor": "#E1E5ED",
         "showgrid": false,
         "tickfont": {
          "color": "#4D5663"
         },
         "title": {
          "font": {
           "color": "#4D5663"
          },
          "text": ""
         },
         "zerolinecolor": "#E1E5ED"
        },
        "yaxis7": {
         "anchor": "x7",
         "domain": [
          0.535,
          0.7325
         ],
         "gridcolor": "#E1E5ED",
         "showgrid": false,
         "tickfont": {
          "color": "#4D5663"
         },
         "title": {
          "font": {
           "color": "#4D5663"
          },
          "text": ""
         },
         "zerolinecolor": "#E1E5ED"
        },
        "yaxis8": {
         "anchor": "x8",
         "domain": [
          0.535,
          0.7325
         ],
         "gridcolor": "#E1E5ED",
         "showgrid": false,
         "tickfont": {
          "color": "#4D5663"
         },
         "title": {
          "font": {
           "color": "#4D5663"
          },
          "text": ""
         },
         "zerolinecolor": "#E1E5ED"
        },
        "yaxis9": {
         "anchor": "x9",
         "domain": [
          0.2675,
          0.465
         ],
         "gridcolor": "#E1E5ED",
         "showgrid": false,
         "tickfont": {
          "color": "#4D5663"
         },
         "title": {
          "font": {
           "color": "#4D5663"
          },
          "text": ""
         },
         "zerolinecolor": "#E1E5ED"
        }
       }
      },
      "text/html": [
       "<div>                            <div id=\"c054967b-9fc7-48f3-a54d-180233550207\" class=\"plotly-graph-div\" style=\"height:525px; width:100%;\"></div>            <script type=\"text/javascript\">                require([\"plotly\"], function(Plotly) {                    window.PLOTLYENV=window.PLOTLYENV || {};\n",
       "                    window.PLOTLYENV.BASE_URL='https://plot.ly';                                    if (document.getElementById(\"c054967b-9fc7-48f3-a54d-180233550207\")) {                    Plotly.newPlot(                        \"c054967b-9fc7-48f3-a54d-180233550207\",                        [{\"histfunc\":\"count\",\"histnorm\":\"\",\"marker\":{\"color\":\"rgba(255, 153, 51, 1.0)\",\"line\":{\"color\":\"#4D5663\",\"width\":1.3}},\"name\":\"A\",\"nbinsx\":10,\"opacity\":0.8,\"orientation\":\"v\",\"type\":\"histogram\",\"x\":[-0.9689814687300818,-1.819070192646803,-1.6177056676563566,-1.2822048972762328,-0.07026639488898488,0.07989276314379316,-0.07971619676774501,1.8887431391867724,-2.690163801793752,-0.6469135654693827,0.21996753741385894,-0.00017554401226315753,0.6722152939484372,0.375773105108882,-0.6771372160943433,-0.05166991576338214,-0.9712984391510093,-1.2796606868932487,-2.684010644068368,1.446535962278647,-0.3933833350696182,0.3398045294122675,-0.21429156338043284,-0.8694853586368659,2.1258079670627255,-0.9964294983320559,-0.12971727935162083,-0.33777437015986483,-0.0029251286295001733,-0.4033053186404409,0.9515131078888949,-0.2148102151939041,-0.321029567081902,-2.0619659695924595,-0.3921888116037307,0.45270332797963847,-1.220863538633721,-0.5670044277442816,0.7015293738927034,-1.7783627238418853,-0.6726036079003833,1.8057874407056216,0.4615826345114712,0.5637210583051996,-0.8001230867823986,0.4001494149324175,1.487280228539015,-0.537545948213816,-0.013491547963904374,-0.9115002435641544,1.3492085214066536,0.09399125992628336,1.5361969424936541,1.209276503142546,0.8957163383160075,0.3286960813754728,1.186564808953308,0.030209342638638,-1.2881376826026363,0.36899985773680694,-0.9991276431316153,-0.5523528967741201,0.7489283897900095,-1.2702653278648925,-2.319649876420089,-0.7346948750986463,-0.3018090654226126,0.3304576617158405,-0.36971406428792614,-0.07108244031274921,0.046893968106723694,-0.39995761665655655,-0.22773800313605314,0.8385401917037871,-0.7843817301737499,0.2903325643545476,0.9970639076883745,0.2564228095813574,0.1937322846658141,-0.23692927107798026,0.15129977012907359,1.1622861457099305,0.35724052008541807,-1.0476356542501768,-0.9290698364313671,0.6498657401938932,0.31098653768337015,-1.2884673415770924,-0.3709162009778576,-0.08147258065577224,0.3917267335706723,1.317194918920567,-0.7387079120619336,-0.8113449879094478,0.10548121430996321,-0.9428818835204189,-0.39409862948233865,-0.7599119421073366,-0.9392878656019644,-0.6414534205937111],\"xaxis\":\"x\",\"yaxis\":\"y\"},{\"line\":{\"color\":\"rgba(128, 128, 128, 1.0)\",\"dash\":\"solid\",\"shape\":\"linear\",\"width\":1.3},\"marker\":{\"size\":2,\"symbol\":\"circle\"},\"mode\":\"markers\",\"name\":\"A\",\"text\":\"\",\"type\":\"scatter\",\"x\":[-0.1211208137774323,-1.8669022025714948,1.737516503033625,0.5044240956820294,-0.20905583360850305,-0.66772859732106,0.5656417368363179,0.2102108947831347,0.8550471770361316,-0.13283022951731127,0.969815666521891,-0.16871551693805362,2.092685942748639,0.5237592381430538,-0.010500868040481256,-1.137343946132466,0.5512793414300526,0.5197315132903045,-1.7811716569010465,0.34977051002786974,-0.7459647351215088,0.19919254393703917,1.8077163522887307,-0.216988180681477,-0.4177862033865263,0.746167660555817,-0.9574318820790669,-0.5144457784361782,1.3585871365744233,-1.0493862514077785,0.8793373873096768,-0.27549849124045706,0.32855096075725276,-1.0782383348802669,1.1201645932568207,-0.19666795060448894,-0.9223697379062344,-0.07066226018755582,1.0324765677224157,-0.46510567659253005,-1.0390679203513948,-0.6268136544660237,-1.240897527809027,0.29504172322456695,-2.085766843947555,-0.46363252809304023,0.7757346775150722,-1.3371935591276607,1.2163827222373251,2.633594925454588,0.4499655942953177,0.184472988849856,-1.1818101965101444,-0.5032375940021327,-2.077026996927567,-0.40345947297564294,0.8340533086799418,0.23415359584272882,0.15310414820274426,-0.05325788444610945,-0.49074866569690617,-1.4503869387444497,-0.9025655678068205,-1.8593786106700807,-0.15006435115168323,-0.44345640821757226,-0.5469890879102364,0.6704553123370551,-0.43056258080143867,-0.8285096744572659,-0.7523279355476609,-0.4065290311809796,-0.9854210226515766,0.5131658746463367,-1.2401297192695295,-1.5236664929255284,-0.902711813233216,-0.4025798221426037,0.32820815879307785,-0.6416640335873163,-0.10691501386440859,-0.5879888346195667,-0.832335880512588,-1.014271362470708,0.10909659869528526,0.0040316135089033325,-0.5223490638140886,-1.0204424496120819,-0.6920773504994652,-0.3354304437469444,-0.26800259441500757,0.5215906989263392,-0.19530421366543338,-1.1879199037324808,0.5404764085850129,0.8883326284340181,-0.11262805297656645,-0.01930789194348459,0.5587540791169096,-1.2228888614424702],\"xaxis\":\"x2\",\"y\":[-0.9689814687300818,-1.819070192646803,-1.6177056676563566,-1.2822048972762328,-0.07026639488898488,0.07989276314379316,-0.07971619676774501,1.8887431391867724,-2.690163801793752,-0.6469135654693827,0.21996753741385894,-0.00017554401226315753,0.6722152939484372,0.375773105108882,-0.6771372160943433,-0.05166991576338214,-0.9712984391510093,-1.2796606868932487,-2.684010644068368,1.446535962278647,-0.3933833350696182,0.3398045294122675,-0.21429156338043284,-0.8694853586368659,2.1258079670627255,-0.9964294983320559,-0.12971727935162083,-0.33777437015986483,-0.0029251286295001733,-0.4033053186404409,0.9515131078888949,-0.2148102151939041,-0.321029567081902,-2.0619659695924595,-0.3921888116037307,0.45270332797963847,-1.220863538633721,-0.5670044277442816,0.7015293738927034,-1.7783627238418853,-0.6726036079003833,1.8057874407056216,0.4615826345114712,0.5637210583051996,-0.8001230867823986,0.4001494149324175,1.487280228539015,-0.537545948213816,-0.013491547963904374,-0.9115002435641544,1.3492085214066536,0.09399125992628336,1.5361969424936541,1.209276503142546,0.8957163383160075,0.3286960813754728,1.186564808953308,0.030209342638638,-1.2881376826026363,0.36899985773680694,-0.9991276431316153,-0.5523528967741201,0.7489283897900095,-1.2702653278648925,-2.319649876420089,-0.7346948750986463,-0.3018090654226126,0.3304576617158405,-0.36971406428792614,-0.07108244031274921,0.046893968106723694,-0.39995761665655655,-0.22773800313605314,0.8385401917037871,-0.7843817301737499,0.2903325643545476,0.9970639076883745,0.2564228095813574,0.1937322846658141,-0.23692927107798026,0.15129977012907359,1.1622861457099305,0.35724052008541807,-1.0476356542501768,-0.9290698364313671,0.6498657401938932,0.31098653768337015,-1.2884673415770924,-0.3709162009778576,-0.08147258065577224,0.3917267335706723,1.317194918920567,-0.7387079120619336,-0.8113449879094478,0.10548121430996321,-0.9428818835204189,-0.39409862948233865,-0.7599119421073366,-0.9392878656019644,-0.6414534205937111],\"yaxis\":\"y2\"},{\"line\":{\"color\":\"rgba(128, 128, 128, 1.0)\",\"dash\":\"solid\",\"shape\":\"linear\",\"width\":1.3},\"marker\":{\"size\":2,\"symbol\":\"circle\"},\"mode\":\"markers\",\"name\":\"A\",\"text\":\"\",\"type\":\"scatter\",\"x\":[0.08265575243474317,0.471264566526053,-0.5286291613831251,-1.0379786479310933,-1.058636796414923,-0.5310490299612461,-0.053189700927341974,-0.027368553653093198,1.1656877515629325,1.2358191396959037,-0.457515314399585,-0.312320994559797,-0.19203645171950953,-0.40261412990500656,0.7278713291203588,1.0359948441712508,-0.295454250705633,-1.8400405562809734,0.37794656059166515,0.9752468204239976,0.41796409557600617,1.5570386551839732,-1.586669683342259,-1.079769070625745,1.3881771902579245,-0.6534356291346236,0.8154477005889065,1.1982981981775798,0.7397223535867328,-0.06996357123588764,1.8285944793127034,-0.2296449795070473,-0.2905326881399329,-1.9215649505280545,-0.5677172566693091,-0.9749526982640805,0.33943540372217723,0.15889263480709614,-1.6494735295600125,0.3518876553721099,0.6778842471625566,1.3507826511445298,1.5717947523481035,-0.6705631453451292,-0.05932576929152143,-1.036647675485623,-1.4416986239600955,-0.8499981770071388,-0.2634797852533903,0.7300010718700678,0.2693382022281298,-0.3253952543605832,1.484072642060949,1.8711008529563558,-0.18461639603729602,0.7276323980699159,0.05906752499367461,-0.8232784306522971,1.5276956625853626,-0.9011367333619845,0.0749934540751995,2.68416978672944,0.7839040677425533,1.5898372687315616,0.5957347145257897,0.5944944482574219,0.6764439851687988,0.581543225455897,1.4211007791963515,-0.03066853071956779,-0.8498072844416324,-0.5646702313072455,0.07545321052908756,1.8124351688554554,-0.7625570466130839,-0.8861332313051523,0.897570909180347,0.054333874800205115,-1.7039331364574908,0.6637834387800887,1.2120921378479332,-0.2672552128564103,-1.6998428602326243,0.8882235612941606,1.070919883648229,0.37417272909917576,0.4502483199263752,-1.0389210807390858,1.9159568520197987,-0.682267010159875,0.3823030901948916,-1.2180459273957902,0.5925294163075184,0.18603148682972384,-0.17962246257562486,0.4828786120800383,1.1782740869565427,-0.3202195298470683,0.49053294732148467,1.3435717961140363],\"xaxis\":\"x3\",\"y\":[-0.9689814687300818,-1.819070192646803,-1.6177056676563566,-1.2822048972762328,-0.07026639488898488,0.07989276314379316,-0.07971619676774501,1.8887431391867724,-2.690163801793752,-0.6469135654693827,0.21996753741385894,-0.00017554401226315753,0.6722152939484372,0.375773105108882,-0.6771372160943433,-0.05166991576338214,-0.9712984391510093,-1.2796606868932487,-2.684010644068368,1.446535962278647,-0.3933833350696182,0.3398045294122675,-0.21429156338043284,-0.8694853586368659,2.1258079670627255,-0.9964294983320559,-0.12971727935162083,-0.33777437015986483,-0.0029251286295001733,-0.4033053186404409,0.9515131078888949,-0.2148102151939041,-0.321029567081902,-2.0619659695924595,-0.3921888116037307,0.45270332797963847,-1.220863538633721,-0.5670044277442816,0.7015293738927034,-1.7783627238418853,-0.6726036079003833,1.8057874407056216,0.4615826345114712,0.5637210583051996,-0.8001230867823986,0.4001494149324175,1.487280228539015,-0.537545948213816,-0.013491547963904374,-0.9115002435641544,1.3492085214066536,0.09399125992628336,1.5361969424936541,1.209276503142546,0.8957163383160075,0.3286960813754728,1.186564808953308,0.030209342638638,-1.2881376826026363,0.36899985773680694,-0.9991276431316153,-0.5523528967741201,0.7489283897900095,-1.2702653278648925,-2.319649876420089,-0.7346948750986463,-0.3018090654226126,0.3304576617158405,-0.36971406428792614,-0.07108244031274921,0.046893968106723694,-0.39995761665655655,-0.22773800313605314,0.8385401917037871,-0.7843817301737499,0.2903325643545476,0.9970639076883745,0.2564228095813574,0.1937322846658141,-0.23692927107798026,0.15129977012907359,1.1622861457099305,0.35724052008541807,-1.0476356542501768,-0.9290698364313671,0.6498657401938932,0.31098653768337015,-1.2884673415770924,-0.3709162009778576,-0.08147258065577224,0.3917267335706723,1.317194918920567,-0.7387079120619336,-0.8113449879094478,0.10548121430996321,-0.9428818835204189,-0.39409862948233865,-0.7599119421073366,-0.9392878656019644,-0.6414534205937111],\"yaxis\":\"y3\"},{\"line\":{\"color\":\"rgba(128, 128, 128, 1.0)\",\"dash\":\"solid\",\"shape\":\"linear\",\"width\":1.3},\"marker\":{\"size\":2,\"symbol\":\"circle\"},\"mode\":\"markers\",\"name\":\"A\",\"text\":\"\",\"type\":\"scatter\",\"x\":[0.6578393366235544,-0.10831764160215741,-0.7421569070202227,-1.295806658952062,-0.12002491245372285,0.21594412773430208,1.2979666694049037,-0.48283093275042105,1.8666720337275537,1.4703816683663493,-0.15421327465739762,-2.2367967873494226,0.13010061467340825,-1.4188576877254582,0.32770030782811205,-0.7666685289861416,-1.355090098559343,0.6827981353191315,-0.8166906802070194,-0.532339702100551,0.25430695975614886,-0.10310629031404332,-0.3460754936192635,-0.1510906398329561,-0.7832928982277935,-1.546902478380296,-0.2995390758998359,-0.2721909227098749,0.4008837835503852,0.05236334326617966,0.3020642330471884,0.03490025889008722,-0.6448279174982912,-0.7377889818378467,-2.541821984247492,1.0612578426867794,-1.1621483869938696,1.1095492564193015,0.6063825076279109,-1.479809697172345,-0.9523638847324457,-0.8348520740791571,0.3179591536805008,-0.07678833192460754,0.7808987351332105,0.33307936745394146,1.0706286019219826,-0.9328029464115513,-0.6360634796884554,0.17889194616677798,-1.2147569891561574,0.22351306329411733,0.4123463781208237,-0.03839805433625005,-0.7807877399731281,-0.19285890053537363,0.46567361282089204,-1.4533588420151853,-1.4095480303717949,1.0884432485428137,0.8260684437673544,-0.22607380538102767,-0.009827870109399962,-0.057231071870977444,-0.24349253867682477,-0.49174613344985374,0.5118317760608366,-1.155934090093922,-0.25768766651650393,-0.41328220104759106,-0.8765110365430785,0.19201123800199002,-0.338918517485133,0.27186838780765293,-0.3481674030316388,-0.5461439511874295,0.764724135114682,1.1618010298059416,0.7211626062780833,2.019992172248877,-0.966717765739688,-0.4248380084294238,0.3912823981477607,0.10049068234363386,0.975885150461919,-0.2520928992890441,0.3886397372243109,-1.6833768095687152,1.5831284258963834,0.6831325849761399,0.8173992042875015,0.097210462803709,0.0727673139697671,-1.981435996310506,-1.0482551492253238,-1.481989521571336,0.8420267669107834,0.5800600123716833,1.6050265678130222,-1.7352815178958394],\"xaxis\":\"x4\",\"y\":[-0.9689814687300818,-1.819070192646803,-1.6177056676563566,-1.2822048972762328,-0.07026639488898488,0.07989276314379316,-0.07971619676774501,1.8887431391867724,-2.690163801793752,-0.6469135654693827,0.21996753741385894,-0.00017554401226315753,0.6722152939484372,0.375773105108882,-0.6771372160943433,-0.05166991576338214,-0.9712984391510093,-1.2796606868932487,-2.684010644068368,1.446535962278647,-0.3933833350696182,0.3398045294122675,-0.21429156338043284,-0.8694853586368659,2.1258079670627255,-0.9964294983320559,-0.12971727935162083,-0.33777437015986483,-0.0029251286295001733,-0.4033053186404409,0.9515131078888949,-0.2148102151939041,-0.321029567081902,-2.0619659695924595,-0.3921888116037307,0.45270332797963847,-1.220863538633721,-0.5670044277442816,0.7015293738927034,-1.7783627238418853,-0.6726036079003833,1.8057874407056216,0.4615826345114712,0.5637210583051996,-0.8001230867823986,0.4001494149324175,1.487280228539015,-0.537545948213816,-0.013491547963904374,-0.9115002435641544,1.3492085214066536,0.09399125992628336,1.5361969424936541,1.209276503142546,0.8957163383160075,0.3286960813754728,1.186564808953308,0.030209342638638,-1.2881376826026363,0.36899985773680694,-0.9991276431316153,-0.5523528967741201,0.7489283897900095,-1.2702653278648925,-2.319649876420089,-0.7346948750986463,-0.3018090654226126,0.3304576617158405,-0.36971406428792614,-0.07108244031274921,0.046893968106723694,-0.39995761665655655,-0.22773800313605314,0.8385401917037871,-0.7843817301737499,0.2903325643545476,0.9970639076883745,0.2564228095813574,0.1937322846658141,-0.23692927107798026,0.15129977012907359,1.1622861457099305,0.35724052008541807,-1.0476356542501768,-0.9290698364313671,0.6498657401938932,0.31098653768337015,-1.2884673415770924,-0.3709162009778576,-0.08147258065577224,0.3917267335706723,1.317194918920567,-0.7387079120619336,-0.8113449879094478,0.10548121430996321,-0.9428818835204189,-0.39409862948233865,-0.7599119421073366,-0.9392878656019644,-0.6414534205937111],\"yaxis\":\"y4\"},{\"line\":{\"color\":\"rgba(128, 128, 128, 1.0)\",\"dash\":\"solid\",\"shape\":\"linear\",\"width\":1.3},\"marker\":{\"size\":2,\"symbol\":\"circle\"},\"mode\":\"markers\",\"name\":\"B\",\"text\":\"\",\"type\":\"scatter\",\"x\":[-0.9689814687300818,-1.819070192646803,-1.6177056676563566,-1.2822048972762328,-0.07026639488898488,0.07989276314379316,-0.07971619676774501,1.8887431391867724,-2.690163801793752,-0.6469135654693827,0.21996753741385894,-0.00017554401226315753,0.6722152939484372,0.375773105108882,-0.6771372160943433,-0.05166991576338214,-0.9712984391510093,-1.2796606868932487,-2.684010644068368,1.446535962278647,-0.3933833350696182,0.3398045294122675,-0.21429156338043284,-0.8694853586368659,2.1258079670627255,-0.9964294983320559,-0.12971727935162083,-0.33777437015986483,-0.0029251286295001733,-0.4033053186404409,0.9515131078888949,-0.2148102151939041,-0.321029567081902,-2.0619659695924595,-0.3921888116037307,0.45270332797963847,-1.220863538633721,-0.5670044277442816,0.7015293738927034,-1.7783627238418853,-0.6726036079003833,1.8057874407056216,0.4615826345114712,0.5637210583051996,-0.8001230867823986,0.4001494149324175,1.487280228539015,-0.537545948213816,-0.013491547963904374,-0.9115002435641544,1.3492085214066536,0.09399125992628336,1.5361969424936541,1.209276503142546,0.8957163383160075,0.3286960813754728,1.186564808953308,0.030209342638638,-1.2881376826026363,0.36899985773680694,-0.9991276431316153,-0.5523528967741201,0.7489283897900095,-1.2702653278648925,-2.319649876420089,-0.7346948750986463,-0.3018090654226126,0.3304576617158405,-0.36971406428792614,-0.07108244031274921,0.046893968106723694,-0.39995761665655655,-0.22773800313605314,0.8385401917037871,-0.7843817301737499,0.2903325643545476,0.9970639076883745,0.2564228095813574,0.1937322846658141,-0.23692927107798026,0.15129977012907359,1.1622861457099305,0.35724052008541807,-1.0476356542501768,-0.9290698364313671,0.6498657401938932,0.31098653768337015,-1.2884673415770924,-0.3709162009778576,-0.08147258065577224,0.3917267335706723,1.317194918920567,-0.7387079120619336,-0.8113449879094478,0.10548121430996321,-0.9428818835204189,-0.39409862948233865,-0.7599119421073366,-0.9392878656019644,-0.6414534205937111],\"xaxis\":\"x5\",\"y\":[-0.1211208137774323,-1.8669022025714948,1.737516503033625,0.5044240956820294,-0.20905583360850305,-0.66772859732106,0.5656417368363179,0.2102108947831347,0.8550471770361316,-0.13283022951731127,0.969815666521891,-0.16871551693805362,2.092685942748639,0.5237592381430538,-0.010500868040481256,-1.137343946132466,0.5512793414300526,0.5197315132903045,-1.7811716569010465,0.34977051002786974,-0.7459647351215088,0.19919254393703917,1.8077163522887307,-0.216988180681477,-0.4177862033865263,0.746167660555817,-0.9574318820790669,-0.5144457784361782,1.3585871365744233,-1.0493862514077785,0.8793373873096768,-0.27549849124045706,0.32855096075725276,-1.0782383348802669,1.1201645932568207,-0.19666795060448894,-0.9223697379062344,-0.07066226018755582,1.0324765677224157,-0.46510567659253005,-1.0390679203513948,-0.6268136544660237,-1.240897527809027,0.29504172322456695,-2.085766843947555,-0.46363252809304023,0.7757346775150722,-1.3371935591276607,1.2163827222373251,2.633594925454588,0.4499655942953177,0.184472988849856,-1.1818101965101444,-0.5032375940021327,-2.077026996927567,-0.40345947297564294,0.8340533086799418,0.23415359584272882,0.15310414820274426,-0.05325788444610945,-0.49074866569690617,-1.4503869387444497,-0.9025655678068205,-1.8593786106700807,-0.15006435115168323,-0.44345640821757226,-0.5469890879102364,0.6704553123370551,-0.43056258080143867,-0.8285096744572659,-0.7523279355476609,-0.4065290311809796,-0.9854210226515766,0.5131658746463367,-1.2401297192695295,-1.5236664929255284,-0.902711813233216,-0.4025798221426037,0.32820815879307785,-0.6416640335873163,-0.10691501386440859,-0.5879888346195667,-0.832335880512588,-1.014271362470708,0.10909659869528526,0.0040316135089033325,-0.5223490638140886,-1.0204424496120819,-0.6920773504994652,-0.3354304437469444,-0.26800259441500757,0.5215906989263392,-0.19530421366543338,-1.1879199037324808,0.5404764085850129,0.8883326284340181,-0.11262805297656645,-0.01930789194348459,0.5587540791169096,-1.2228888614424702],\"yaxis\":\"y5\"},{\"histfunc\":\"count\",\"histnorm\":\"\",\"marker\":{\"color\":\"rgba(55, 128, 191, 1.0)\",\"line\":{\"color\":\"#4D5663\",\"width\":1.3}},\"name\":\"B\",\"nbinsx\":10,\"opacity\":0.8,\"orientation\":\"v\",\"type\":\"histogram\",\"x\":[-0.1211208137774323,-1.8669022025714948,1.737516503033625,0.5044240956820294,-0.20905583360850305,-0.66772859732106,0.5656417368363179,0.2102108947831347,0.8550471770361316,-0.13283022951731127,0.969815666521891,-0.16871551693805362,2.092685942748639,0.5237592381430538,-0.010500868040481256,-1.137343946132466,0.5512793414300526,0.5197315132903045,-1.7811716569010465,0.34977051002786974,-0.7459647351215088,0.19919254393703917,1.8077163522887307,-0.216988180681477,-0.4177862033865263,0.746167660555817,-0.9574318820790669,-0.5144457784361782,1.3585871365744233,-1.0493862514077785,0.8793373873096768,-0.27549849124045706,0.32855096075725276,-1.0782383348802669,1.1201645932568207,-0.19666795060448894,-0.9223697379062344,-0.07066226018755582,1.0324765677224157,-0.46510567659253005,-1.0390679203513948,-0.6268136544660237,-1.240897527809027,0.29504172322456695,-2.085766843947555,-0.46363252809304023,0.7757346775150722,-1.3371935591276607,1.2163827222373251,2.633594925454588,0.4499655942953177,0.184472988849856,-1.1818101965101444,-0.5032375940021327,-2.077026996927567,-0.40345947297564294,0.8340533086799418,0.23415359584272882,0.15310414820274426,-0.05325788444610945,-0.49074866569690617,-1.4503869387444497,-0.9025655678068205,-1.8593786106700807,-0.15006435115168323,-0.44345640821757226,-0.5469890879102364,0.6704553123370551,-0.43056258080143867,-0.8285096744572659,-0.7523279355476609,-0.4065290311809796,-0.9854210226515766,0.5131658746463367,-1.2401297192695295,-1.5236664929255284,-0.902711813233216,-0.4025798221426037,0.32820815879307785,-0.6416640335873163,-0.10691501386440859,-0.5879888346195667,-0.832335880512588,-1.014271362470708,0.10909659869528526,0.0040316135089033325,-0.5223490638140886,-1.0204424496120819,-0.6920773504994652,-0.3354304437469444,-0.26800259441500757,0.5215906989263392,-0.19530421366543338,-1.1879199037324808,0.5404764085850129,0.8883326284340181,-0.11262805297656645,-0.01930789194348459,0.5587540791169096,-1.2228888614424702],\"xaxis\":\"x6\",\"yaxis\":\"y6\"},{\"line\":{\"color\":\"rgba(128, 128, 128, 1.0)\",\"dash\":\"solid\",\"shape\":\"linear\",\"width\":1.3},\"marker\":{\"size\":2,\"symbol\":\"circle\"},\"mode\":\"markers\",\"name\":\"B\",\"text\":\"\",\"type\":\"scatter\",\"x\":[0.08265575243474317,0.471264566526053,-0.5286291613831251,-1.0379786479310933,-1.058636796414923,-0.5310490299612461,-0.053189700927341974,-0.027368553653093198,1.1656877515629325,1.2358191396959037,-0.457515314399585,-0.312320994559797,-0.19203645171950953,-0.40261412990500656,0.7278713291203588,1.0359948441712508,-0.295454250705633,-1.8400405562809734,0.37794656059166515,0.9752468204239976,0.41796409557600617,1.5570386551839732,-1.586669683342259,-1.079769070625745,1.3881771902579245,-0.6534356291346236,0.8154477005889065,1.1982981981775798,0.7397223535867328,-0.06996357123588764,1.8285944793127034,-0.2296449795070473,-0.2905326881399329,-1.9215649505280545,-0.5677172566693091,-0.9749526982640805,0.33943540372217723,0.15889263480709614,-1.6494735295600125,0.3518876553721099,0.6778842471625566,1.3507826511445298,1.5717947523481035,-0.6705631453451292,-0.05932576929152143,-1.036647675485623,-1.4416986239600955,-0.8499981770071388,-0.2634797852533903,0.7300010718700678,0.2693382022281298,-0.3253952543605832,1.484072642060949,1.8711008529563558,-0.18461639603729602,0.7276323980699159,0.05906752499367461,-0.8232784306522971,1.5276956625853626,-0.9011367333619845,0.0749934540751995,2.68416978672944,0.7839040677425533,1.5898372687315616,0.5957347145257897,0.5944944482574219,0.6764439851687988,0.581543225455897,1.4211007791963515,-0.03066853071956779,-0.8498072844416324,-0.5646702313072455,0.07545321052908756,1.8124351688554554,-0.7625570466130839,-0.8861332313051523,0.897570909180347,0.054333874800205115,-1.7039331364574908,0.6637834387800887,1.2120921378479332,-0.2672552128564103,-1.6998428602326243,0.8882235612941606,1.070919883648229,0.37417272909917576,0.4502483199263752,-1.0389210807390858,1.9159568520197987,-0.682267010159875,0.3823030901948916,-1.2180459273957902,0.5925294163075184,0.18603148682972384,-0.17962246257562486,0.4828786120800383,1.1782740869565427,-0.3202195298470683,0.49053294732148467,1.3435717961140363],\"xaxis\":\"x7\",\"y\":[-0.1211208137774323,-1.8669022025714948,1.737516503033625,0.5044240956820294,-0.20905583360850305,-0.66772859732106,0.5656417368363179,0.2102108947831347,0.8550471770361316,-0.13283022951731127,0.969815666521891,-0.16871551693805362,2.092685942748639,0.5237592381430538,-0.010500868040481256,-1.137343946132466,0.5512793414300526,0.5197315132903045,-1.7811716569010465,0.34977051002786974,-0.7459647351215088,0.19919254393703917,1.8077163522887307,-0.216988180681477,-0.4177862033865263,0.746167660555817,-0.9574318820790669,-0.5144457784361782,1.3585871365744233,-1.0493862514077785,0.8793373873096768,-0.27549849124045706,0.32855096075725276,-1.0782383348802669,1.1201645932568207,-0.19666795060448894,-0.9223697379062344,-0.07066226018755582,1.0324765677224157,-0.46510567659253005,-1.0390679203513948,-0.6268136544660237,-1.240897527809027,0.29504172322456695,-2.085766843947555,-0.46363252809304023,0.7757346775150722,-1.3371935591276607,1.2163827222373251,2.633594925454588,0.4499655942953177,0.184472988849856,-1.1818101965101444,-0.5032375940021327,-2.077026996927567,-0.40345947297564294,0.8340533086799418,0.23415359584272882,0.15310414820274426,-0.05325788444610945,-0.49074866569690617,-1.4503869387444497,-0.9025655678068205,-1.8593786106700807,-0.15006435115168323,-0.44345640821757226,-0.5469890879102364,0.6704553123370551,-0.43056258080143867,-0.8285096744572659,-0.7523279355476609,-0.4065290311809796,-0.9854210226515766,0.5131658746463367,-1.2401297192695295,-1.5236664929255284,-0.902711813233216,-0.4025798221426037,0.32820815879307785,-0.6416640335873163,-0.10691501386440859,-0.5879888346195667,-0.832335880512588,-1.014271362470708,0.10909659869528526,0.0040316135089033325,-0.5223490638140886,-1.0204424496120819,-0.6920773504994652,-0.3354304437469444,-0.26800259441500757,0.5215906989263392,-0.19530421366543338,-1.1879199037324808,0.5404764085850129,0.8883326284340181,-0.11262805297656645,-0.01930789194348459,0.5587540791169096,-1.2228888614424702],\"yaxis\":\"y7\"},{\"line\":{\"color\":\"rgba(128, 128, 128, 1.0)\",\"dash\":\"solid\",\"shape\":\"linear\",\"width\":1.3},\"marker\":{\"size\":2,\"symbol\":\"circle\"},\"mode\":\"markers\",\"name\":\"B\",\"text\":\"\",\"type\":\"scatter\",\"x\":[0.6578393366235544,-0.10831764160215741,-0.7421569070202227,-1.295806658952062,-0.12002491245372285,0.21594412773430208,1.2979666694049037,-0.48283093275042105,1.8666720337275537,1.4703816683663493,-0.15421327465739762,-2.2367967873494226,0.13010061467340825,-1.4188576877254582,0.32770030782811205,-0.7666685289861416,-1.355090098559343,0.6827981353191315,-0.8166906802070194,-0.532339702100551,0.25430695975614886,-0.10310629031404332,-0.3460754936192635,-0.1510906398329561,-0.7832928982277935,-1.546902478380296,-0.2995390758998359,-0.2721909227098749,0.4008837835503852,0.05236334326617966,0.3020642330471884,0.03490025889008722,-0.6448279174982912,-0.7377889818378467,-2.541821984247492,1.0612578426867794,-1.1621483869938696,1.1095492564193015,0.6063825076279109,-1.479809697172345,-0.9523638847324457,-0.8348520740791571,0.3179591536805008,-0.07678833192460754,0.7808987351332105,0.33307936745394146,1.0706286019219826,-0.9328029464115513,-0.6360634796884554,0.17889194616677798,-1.2147569891561574,0.22351306329411733,0.4123463781208237,-0.03839805433625005,-0.7807877399731281,-0.19285890053537363,0.46567361282089204,-1.4533588420151853,-1.4095480303717949,1.0884432485428137,0.8260684437673544,-0.22607380538102767,-0.009827870109399962,-0.057231071870977444,-0.24349253867682477,-0.49174613344985374,0.5118317760608366,-1.155934090093922,-0.25768766651650393,-0.41328220104759106,-0.8765110365430785,0.19201123800199002,-0.338918517485133,0.27186838780765293,-0.3481674030316388,-0.5461439511874295,0.764724135114682,1.1618010298059416,0.7211626062780833,2.019992172248877,-0.966717765739688,-0.4248380084294238,0.3912823981477607,0.10049068234363386,0.975885150461919,-0.2520928992890441,0.3886397372243109,-1.6833768095687152,1.5831284258963834,0.6831325849761399,0.8173992042875015,0.097210462803709,0.0727673139697671,-1.981435996310506,-1.0482551492253238,-1.481989521571336,0.8420267669107834,0.5800600123716833,1.6050265678130222,-1.7352815178958394],\"xaxis\":\"x8\",\"y\":[-0.1211208137774323,-1.8669022025714948,1.737516503033625,0.5044240956820294,-0.20905583360850305,-0.66772859732106,0.5656417368363179,0.2102108947831347,0.8550471770361316,-0.13283022951731127,0.969815666521891,-0.16871551693805362,2.092685942748639,0.5237592381430538,-0.010500868040481256,-1.137343946132466,0.5512793414300526,0.5197315132903045,-1.7811716569010465,0.34977051002786974,-0.7459647351215088,0.19919254393703917,1.8077163522887307,-0.216988180681477,-0.4177862033865263,0.746167660555817,-0.9574318820790669,-0.5144457784361782,1.3585871365744233,-1.0493862514077785,0.8793373873096768,-0.27549849124045706,0.32855096075725276,-1.0782383348802669,1.1201645932568207,-0.19666795060448894,-0.9223697379062344,-0.07066226018755582,1.0324765677224157,-0.46510567659253005,-1.0390679203513948,-0.6268136544660237,-1.240897527809027,0.29504172322456695,-2.085766843947555,-0.46363252809304023,0.7757346775150722,-1.3371935591276607,1.2163827222373251,2.633594925454588,0.4499655942953177,0.184472988849856,-1.1818101965101444,-0.5032375940021327,-2.077026996927567,-0.40345947297564294,0.8340533086799418,0.23415359584272882,0.15310414820274426,-0.05325788444610945,-0.49074866569690617,-1.4503869387444497,-0.9025655678068205,-1.8593786106700807,-0.15006435115168323,-0.44345640821757226,-0.5469890879102364,0.6704553123370551,-0.43056258080143867,-0.8285096744572659,-0.7523279355476609,-0.4065290311809796,-0.9854210226515766,0.5131658746463367,-1.2401297192695295,-1.5236664929255284,-0.902711813233216,-0.4025798221426037,0.32820815879307785,-0.6416640335873163,-0.10691501386440859,-0.5879888346195667,-0.832335880512588,-1.014271362470708,0.10909659869528526,0.0040316135089033325,-0.5223490638140886,-1.0204424496120819,-0.6920773504994652,-0.3354304437469444,-0.26800259441500757,0.5215906989263392,-0.19530421366543338,-1.1879199037324808,0.5404764085850129,0.8883326284340181,-0.11262805297656645,-0.01930789194348459,0.5587540791169096,-1.2228888614424702],\"yaxis\":\"y8\"},{\"line\":{\"color\":\"rgba(128, 128, 128, 1.0)\",\"dash\":\"solid\",\"shape\":\"linear\",\"width\":1.3},\"marker\":{\"size\":2,\"symbol\":\"circle\"},\"mode\":\"markers\",\"name\":\"C\",\"text\":\"\",\"type\":\"scatter\",\"x\":[-0.9689814687300818,-1.819070192646803,-1.6177056676563566,-1.2822048972762328,-0.07026639488898488,0.07989276314379316,-0.07971619676774501,1.8887431391867724,-2.690163801793752,-0.6469135654693827,0.21996753741385894,-0.00017554401226315753,0.6722152939484372,0.375773105108882,-0.6771372160943433,-0.05166991576338214,-0.9712984391510093,-1.2796606868932487,-2.684010644068368,1.446535962278647,-0.3933833350696182,0.3398045294122675,-0.21429156338043284,-0.8694853586368659,2.1258079670627255,-0.9964294983320559,-0.12971727935162083,-0.33777437015986483,-0.0029251286295001733,-0.4033053186404409,0.9515131078888949,-0.2148102151939041,-0.321029567081902,-2.0619659695924595,-0.3921888116037307,0.45270332797963847,-1.220863538633721,-0.5670044277442816,0.7015293738927034,-1.7783627238418853,-0.6726036079003833,1.8057874407056216,0.4615826345114712,0.5637210583051996,-0.8001230867823986,0.4001494149324175,1.487280228539015,-0.537545948213816,-0.013491547963904374,-0.9115002435641544,1.3492085214066536,0.09399125992628336,1.5361969424936541,1.209276503142546,0.8957163383160075,0.3286960813754728,1.186564808953308,0.030209342638638,-1.2881376826026363,0.36899985773680694,-0.9991276431316153,-0.5523528967741201,0.7489283897900095,-1.2702653278648925,-2.319649876420089,-0.7346948750986463,-0.3018090654226126,0.3304576617158405,-0.36971406428792614,-0.07108244031274921,0.046893968106723694,-0.39995761665655655,-0.22773800313605314,0.8385401917037871,-0.7843817301737499,0.2903325643545476,0.9970639076883745,0.2564228095813574,0.1937322846658141,-0.23692927107798026,0.15129977012907359,1.1622861457099305,0.35724052008541807,-1.0476356542501768,-0.9290698364313671,0.6498657401938932,0.31098653768337015,-1.2884673415770924,-0.3709162009778576,-0.08147258065577224,0.3917267335706723,1.317194918920567,-0.7387079120619336,-0.8113449879094478,0.10548121430996321,-0.9428818835204189,-0.39409862948233865,-0.7599119421073366,-0.9392878656019644,-0.6414534205937111],\"xaxis\":\"x9\",\"y\":[0.08265575243474317,0.471264566526053,-0.5286291613831251,-1.0379786479310933,-1.058636796414923,-0.5310490299612461,-0.053189700927341974,-0.027368553653093198,1.1656877515629325,1.2358191396959037,-0.457515314399585,-0.312320994559797,-0.19203645171950953,-0.40261412990500656,0.7278713291203588,1.0359948441712508,-0.295454250705633,-1.8400405562809734,0.37794656059166515,0.9752468204239976,0.41796409557600617,1.5570386551839732,-1.586669683342259,-1.079769070625745,1.3881771902579245,-0.6534356291346236,0.8154477005889065,1.1982981981775798,0.7397223535867328,-0.06996357123588764,1.8285944793127034,-0.2296449795070473,-0.2905326881399329,-1.9215649505280545,-0.5677172566693091,-0.9749526982640805,0.33943540372217723,0.15889263480709614,-1.6494735295600125,0.3518876553721099,0.6778842471625566,1.3507826511445298,1.5717947523481035,-0.6705631453451292,-0.05932576929152143,-1.036647675485623,-1.4416986239600955,-0.8499981770071388,-0.2634797852533903,0.7300010718700678,0.2693382022281298,-0.3253952543605832,1.484072642060949,1.8711008529563558,-0.18461639603729602,0.7276323980699159,0.05906752499367461,-0.8232784306522971,1.5276956625853626,-0.9011367333619845,0.0749934540751995,2.68416978672944,0.7839040677425533,1.5898372687315616,0.5957347145257897,0.5944944482574219,0.6764439851687988,0.581543225455897,1.4211007791963515,-0.03066853071956779,-0.8498072844416324,-0.5646702313072455,0.07545321052908756,1.8124351688554554,-0.7625570466130839,-0.8861332313051523,0.897570909180347,0.054333874800205115,-1.7039331364574908,0.6637834387800887,1.2120921378479332,-0.2672552128564103,-1.6998428602326243,0.8882235612941606,1.070919883648229,0.37417272909917576,0.4502483199263752,-1.0389210807390858,1.9159568520197987,-0.682267010159875,0.3823030901948916,-1.2180459273957902,0.5925294163075184,0.18603148682972384,-0.17962246257562486,0.4828786120800383,1.1782740869565427,-0.3202195298470683,0.49053294732148467,1.3435717961140363],\"yaxis\":\"y9\"},{\"line\":{\"color\":\"rgba(128, 128, 128, 1.0)\",\"dash\":\"solid\",\"shape\":\"linear\",\"width\":1.3},\"marker\":{\"size\":2,\"symbol\":\"circle\"},\"mode\":\"markers\",\"name\":\"C\",\"text\":\"\",\"type\":\"scatter\",\"x\":[-0.1211208137774323,-1.8669022025714948,1.737516503033625,0.5044240956820294,-0.20905583360850305,-0.66772859732106,0.5656417368363179,0.2102108947831347,0.8550471770361316,-0.13283022951731127,0.969815666521891,-0.16871551693805362,2.092685942748639,0.5237592381430538,-0.010500868040481256,-1.137343946132466,0.5512793414300526,0.5197315132903045,-1.7811716569010465,0.34977051002786974,-0.7459647351215088,0.19919254393703917,1.8077163522887307,-0.216988180681477,-0.4177862033865263,0.746167660555817,-0.9574318820790669,-0.5144457784361782,1.3585871365744233,-1.0493862514077785,0.8793373873096768,-0.27549849124045706,0.32855096075725276,-1.0782383348802669,1.1201645932568207,-0.19666795060448894,-0.9223697379062344,-0.07066226018755582,1.0324765677224157,-0.46510567659253005,-1.0390679203513948,-0.6268136544660237,-1.240897527809027,0.29504172322456695,-2.085766843947555,-0.46363252809304023,0.7757346775150722,-1.3371935591276607,1.2163827222373251,2.633594925454588,0.4499655942953177,0.184472988849856,-1.1818101965101444,-0.5032375940021327,-2.077026996927567,-0.40345947297564294,0.8340533086799418,0.23415359584272882,0.15310414820274426,-0.05325788444610945,-0.49074866569690617,-1.4503869387444497,-0.9025655678068205,-1.8593786106700807,-0.15006435115168323,-0.44345640821757226,-0.5469890879102364,0.6704553123370551,-0.43056258080143867,-0.8285096744572659,-0.7523279355476609,-0.4065290311809796,-0.9854210226515766,0.5131658746463367,-1.2401297192695295,-1.5236664929255284,-0.902711813233216,-0.4025798221426037,0.32820815879307785,-0.6416640335873163,-0.10691501386440859,-0.5879888346195667,-0.832335880512588,-1.014271362470708,0.10909659869528526,0.0040316135089033325,-0.5223490638140886,-1.0204424496120819,-0.6920773504994652,-0.3354304437469444,-0.26800259441500757,0.5215906989263392,-0.19530421366543338,-1.1879199037324808,0.5404764085850129,0.8883326284340181,-0.11262805297656645,-0.01930789194348459,0.5587540791169096,-1.2228888614424702],\"xaxis\":\"x10\",\"y\":[0.08265575243474317,0.471264566526053,-0.5286291613831251,-1.0379786479310933,-1.058636796414923,-0.5310490299612461,-0.053189700927341974,-0.027368553653093198,1.1656877515629325,1.2358191396959037,-0.457515314399585,-0.312320994559797,-0.19203645171950953,-0.40261412990500656,0.7278713291203588,1.0359948441712508,-0.295454250705633,-1.8400405562809734,0.37794656059166515,0.9752468204239976,0.41796409557600617,1.5570386551839732,-1.586669683342259,-1.079769070625745,1.3881771902579245,-0.6534356291346236,0.8154477005889065,1.1982981981775798,0.7397223535867328,-0.06996357123588764,1.8285944793127034,-0.2296449795070473,-0.2905326881399329,-1.9215649505280545,-0.5677172566693091,-0.9749526982640805,0.33943540372217723,0.15889263480709614,-1.6494735295600125,0.3518876553721099,0.6778842471625566,1.3507826511445298,1.5717947523481035,-0.6705631453451292,-0.05932576929152143,-1.036647675485623,-1.4416986239600955,-0.8499981770071388,-0.2634797852533903,0.7300010718700678,0.2693382022281298,-0.3253952543605832,1.484072642060949,1.8711008529563558,-0.18461639603729602,0.7276323980699159,0.05906752499367461,-0.8232784306522971,1.5276956625853626,-0.9011367333619845,0.0749934540751995,2.68416978672944,0.7839040677425533,1.5898372687315616,0.5957347145257897,0.5944944482574219,0.6764439851687988,0.581543225455897,1.4211007791963515,-0.03066853071956779,-0.8498072844416324,-0.5646702313072455,0.07545321052908756,1.8124351688554554,-0.7625570466130839,-0.8861332313051523,0.897570909180347,0.054333874800205115,-1.7039331364574908,0.6637834387800887,1.2120921378479332,-0.2672552128564103,-1.6998428602326243,0.8882235612941606,1.070919883648229,0.37417272909917576,0.4502483199263752,-1.0389210807390858,1.9159568520197987,-0.682267010159875,0.3823030901948916,-1.2180459273957902,0.5925294163075184,0.18603148682972384,-0.17962246257562486,0.4828786120800383,1.1782740869565427,-0.3202195298470683,0.49053294732148467,1.3435717961140363],\"yaxis\":\"y10\"},{\"histfunc\":\"count\",\"histnorm\":\"\",\"marker\":{\"color\":\"rgba(50, 171, 96, 1.0)\",\"line\":{\"color\":\"#4D5663\",\"width\":1.3}},\"name\":\"C\",\"nbinsx\":10,\"opacity\":0.8,\"orientation\":\"v\",\"type\":\"histogram\",\"x\":[0.08265575243474317,0.471264566526053,-0.5286291613831251,-1.0379786479310933,-1.058636796414923,-0.5310490299612461,-0.053189700927341974,-0.027368553653093198,1.1656877515629325,1.2358191396959037,-0.457515314399585,-0.312320994559797,-0.19203645171950953,-0.40261412990500656,0.7278713291203588,1.0359948441712508,-0.295454250705633,-1.8400405562809734,0.37794656059166515,0.9752468204239976,0.41796409557600617,1.5570386551839732,-1.586669683342259,-1.079769070625745,1.3881771902579245,-0.6534356291346236,0.8154477005889065,1.1982981981775798,0.7397223535867328,-0.06996357123588764,1.8285944793127034,-0.2296449795070473,-0.2905326881399329,-1.9215649505280545,-0.5677172566693091,-0.9749526982640805,0.33943540372217723,0.15889263480709614,-1.6494735295600125,0.3518876553721099,0.6778842471625566,1.3507826511445298,1.5717947523481035,-0.6705631453451292,-0.05932576929152143,-1.036647675485623,-1.4416986239600955,-0.8499981770071388,-0.2634797852533903,0.7300010718700678,0.2693382022281298,-0.3253952543605832,1.484072642060949,1.8711008529563558,-0.18461639603729602,0.7276323980699159,0.05906752499367461,-0.8232784306522971,1.5276956625853626,-0.9011367333619845,0.0749934540751995,2.68416978672944,0.7839040677425533,1.5898372687315616,0.5957347145257897,0.5944944482574219,0.6764439851687988,0.581543225455897,1.4211007791963515,-0.03066853071956779,-0.8498072844416324,-0.5646702313072455,0.07545321052908756,1.8124351688554554,-0.7625570466130839,-0.8861332313051523,0.897570909180347,0.054333874800205115,-1.7039331364574908,0.6637834387800887,1.2120921378479332,-0.2672552128564103,-1.6998428602326243,0.8882235612941606,1.070919883648229,0.37417272909917576,0.4502483199263752,-1.0389210807390858,1.9159568520197987,-0.682267010159875,0.3823030901948916,-1.2180459273957902,0.5925294163075184,0.18603148682972384,-0.17962246257562486,0.4828786120800383,1.1782740869565427,-0.3202195298470683,0.49053294732148467,1.3435717961140363],\"xaxis\":\"x11\",\"yaxis\":\"y11\"},{\"line\":{\"color\":\"rgba(128, 128, 128, 1.0)\",\"dash\":\"solid\",\"shape\":\"linear\",\"width\":1.3},\"marker\":{\"size\":2,\"symbol\":\"circle\"},\"mode\":\"markers\",\"name\":\"C\",\"text\":\"\",\"type\":\"scatter\",\"x\":[0.6578393366235544,-0.10831764160215741,-0.7421569070202227,-1.295806658952062,-0.12002491245372285,0.21594412773430208,1.2979666694049037,-0.48283093275042105,1.8666720337275537,1.4703816683663493,-0.15421327465739762,-2.2367967873494226,0.13010061467340825,-1.4188576877254582,0.32770030782811205,-0.7666685289861416,-1.355090098559343,0.6827981353191315,-0.8166906802070194,-0.532339702100551,0.25430695975614886,-0.10310629031404332,-0.3460754936192635,-0.1510906398329561,-0.7832928982277935,-1.546902478380296,-0.2995390758998359,-0.2721909227098749,0.4008837835503852,0.05236334326617966,0.3020642330471884,0.03490025889008722,-0.6448279174982912,-0.7377889818378467,-2.541821984247492,1.0612578426867794,-1.1621483869938696,1.1095492564193015,0.6063825076279109,-1.479809697172345,-0.9523638847324457,-0.8348520740791571,0.3179591536805008,-0.07678833192460754,0.7808987351332105,0.33307936745394146,1.0706286019219826,-0.9328029464115513,-0.6360634796884554,0.17889194616677798,-1.2147569891561574,0.22351306329411733,0.4123463781208237,-0.03839805433625005,-0.7807877399731281,-0.19285890053537363,0.46567361282089204,-1.4533588420151853,-1.4095480303717949,1.0884432485428137,0.8260684437673544,-0.22607380538102767,-0.009827870109399962,-0.057231071870977444,-0.24349253867682477,-0.49174613344985374,0.5118317760608366,-1.155934090093922,-0.25768766651650393,-0.41328220104759106,-0.8765110365430785,0.19201123800199002,-0.338918517485133,0.27186838780765293,-0.3481674030316388,-0.5461439511874295,0.764724135114682,1.1618010298059416,0.7211626062780833,2.019992172248877,-0.966717765739688,-0.4248380084294238,0.3912823981477607,0.10049068234363386,0.975885150461919,-0.2520928992890441,0.3886397372243109,-1.6833768095687152,1.5831284258963834,0.6831325849761399,0.8173992042875015,0.097210462803709,0.0727673139697671,-1.981435996310506,-1.0482551492253238,-1.481989521571336,0.8420267669107834,0.5800600123716833,1.6050265678130222,-1.7352815178958394],\"xaxis\":\"x12\",\"y\":[0.08265575243474317,0.471264566526053,-0.5286291613831251,-1.0379786479310933,-1.058636796414923,-0.5310490299612461,-0.053189700927341974,-0.027368553653093198,1.1656877515629325,1.2358191396959037,-0.457515314399585,-0.312320994559797,-0.19203645171950953,-0.40261412990500656,0.7278713291203588,1.0359948441712508,-0.295454250705633,-1.8400405562809734,0.37794656059166515,0.9752468204239976,0.41796409557600617,1.5570386551839732,-1.586669683342259,-1.079769070625745,1.3881771902579245,-0.6534356291346236,0.8154477005889065,1.1982981981775798,0.7397223535867328,-0.06996357123588764,1.8285944793127034,-0.2296449795070473,-0.2905326881399329,-1.9215649505280545,-0.5677172566693091,-0.9749526982640805,0.33943540372217723,0.15889263480709614,-1.6494735295600125,0.3518876553721099,0.6778842471625566,1.3507826511445298,1.5717947523481035,-0.6705631453451292,-0.05932576929152143,-1.036647675485623,-1.4416986239600955,-0.8499981770071388,-0.2634797852533903,0.7300010718700678,0.2693382022281298,-0.3253952543605832,1.484072642060949,1.8711008529563558,-0.18461639603729602,0.7276323980699159,0.05906752499367461,-0.8232784306522971,1.5276956625853626,-0.9011367333619845,0.0749934540751995,2.68416978672944,0.7839040677425533,1.5898372687315616,0.5957347145257897,0.5944944482574219,0.6764439851687988,0.581543225455897,1.4211007791963515,-0.03066853071956779,-0.8498072844416324,-0.5646702313072455,0.07545321052908756,1.8124351688554554,-0.7625570466130839,-0.8861332313051523,0.897570909180347,0.054333874800205115,-1.7039331364574908,0.6637834387800887,1.2120921378479332,-0.2672552128564103,-1.6998428602326243,0.8882235612941606,1.070919883648229,0.37417272909917576,0.4502483199263752,-1.0389210807390858,1.9159568520197987,-0.682267010159875,0.3823030901948916,-1.2180459273957902,0.5925294163075184,0.18603148682972384,-0.17962246257562486,0.4828786120800383,1.1782740869565427,-0.3202195298470683,0.49053294732148467,1.3435717961140363],\"yaxis\":\"y12\"},{\"line\":{\"color\":\"rgba(128, 128, 128, 1.0)\",\"dash\":\"solid\",\"shape\":\"linear\",\"width\":1.3},\"marker\":{\"size\":2,\"symbol\":\"circle\"},\"mode\":\"markers\",\"name\":\"D\",\"text\":\"\",\"type\":\"scatter\",\"x\":[-0.9689814687300818,-1.819070192646803,-1.6177056676563566,-1.2822048972762328,-0.07026639488898488,0.07989276314379316,-0.07971619676774501,1.8887431391867724,-2.690163801793752,-0.6469135654693827,0.21996753741385894,-0.00017554401226315753,0.6722152939484372,0.375773105108882,-0.6771372160943433,-0.05166991576338214,-0.9712984391510093,-1.2796606868932487,-2.684010644068368,1.446535962278647,-0.3933833350696182,0.3398045294122675,-0.21429156338043284,-0.8694853586368659,2.1258079670627255,-0.9964294983320559,-0.12971727935162083,-0.33777437015986483,-0.0029251286295001733,-0.4033053186404409,0.9515131078888949,-0.2148102151939041,-0.321029567081902,-2.0619659695924595,-0.3921888116037307,0.45270332797963847,-1.220863538633721,-0.5670044277442816,0.7015293738927034,-1.7783627238418853,-0.6726036079003833,1.8057874407056216,0.4615826345114712,0.5637210583051996,-0.8001230867823986,0.4001494149324175,1.487280228539015,-0.537545948213816,-0.013491547963904374,-0.9115002435641544,1.3492085214066536,0.09399125992628336,1.5361969424936541,1.209276503142546,0.8957163383160075,0.3286960813754728,1.186564808953308,0.030209342638638,-1.2881376826026363,0.36899985773680694,-0.9991276431316153,-0.5523528967741201,0.7489283897900095,-1.2702653278648925,-2.319649876420089,-0.7346948750986463,-0.3018090654226126,0.3304576617158405,-0.36971406428792614,-0.07108244031274921,0.046893968106723694,-0.39995761665655655,-0.22773800313605314,0.8385401917037871,-0.7843817301737499,0.2903325643545476,0.9970639076883745,0.2564228095813574,0.1937322846658141,-0.23692927107798026,0.15129977012907359,1.1622861457099305,0.35724052008541807,-1.0476356542501768,-0.9290698364313671,0.6498657401938932,0.31098653768337015,-1.2884673415770924,-0.3709162009778576,-0.08147258065577224,0.3917267335706723,1.317194918920567,-0.7387079120619336,-0.8113449879094478,0.10548121430996321,-0.9428818835204189,-0.39409862948233865,-0.7599119421073366,-0.9392878656019644,-0.6414534205937111],\"xaxis\":\"x13\",\"y\":[0.6578393366235544,-0.10831764160215741,-0.7421569070202227,-1.295806658952062,-0.12002491245372285,0.21594412773430208,1.2979666694049037,-0.48283093275042105,1.8666720337275537,1.4703816683663493,-0.15421327465739762,-2.2367967873494226,0.13010061467340825,-1.4188576877254582,0.32770030782811205,-0.7666685289861416,-1.355090098559343,0.6827981353191315,-0.8166906802070194,-0.532339702100551,0.25430695975614886,-0.10310629031404332,-0.3460754936192635,-0.1510906398329561,-0.7832928982277935,-1.546902478380296,-0.2995390758998359,-0.2721909227098749,0.4008837835503852,0.05236334326617966,0.3020642330471884,0.03490025889008722,-0.6448279174982912,-0.7377889818378467,-2.541821984247492,1.0612578426867794,-1.1621483869938696,1.1095492564193015,0.6063825076279109,-1.479809697172345,-0.9523638847324457,-0.8348520740791571,0.3179591536805008,-0.07678833192460754,0.7808987351332105,0.33307936745394146,1.0706286019219826,-0.9328029464115513,-0.6360634796884554,0.17889194616677798,-1.2147569891561574,0.22351306329411733,0.4123463781208237,-0.03839805433625005,-0.7807877399731281,-0.19285890053537363,0.46567361282089204,-1.4533588420151853,-1.4095480303717949,1.0884432485428137,0.8260684437673544,-0.22607380538102767,-0.009827870109399962,-0.057231071870977444,-0.24349253867682477,-0.49174613344985374,0.5118317760608366,-1.155934090093922,-0.25768766651650393,-0.41328220104759106,-0.8765110365430785,0.19201123800199002,-0.338918517485133,0.27186838780765293,-0.3481674030316388,-0.5461439511874295,0.764724135114682,1.1618010298059416,0.7211626062780833,2.019992172248877,-0.966717765739688,-0.4248380084294238,0.3912823981477607,0.10049068234363386,0.975885150461919,-0.2520928992890441,0.3886397372243109,-1.6833768095687152,1.5831284258963834,0.6831325849761399,0.8173992042875015,0.097210462803709,0.0727673139697671,-1.981435996310506,-1.0482551492253238,-1.481989521571336,0.8420267669107834,0.5800600123716833,1.6050265678130222,-1.7352815178958394],\"yaxis\":\"y13\"},{\"line\":{\"color\":\"rgba(128, 128, 128, 1.0)\",\"dash\":\"solid\",\"shape\":\"linear\",\"width\":1.3},\"marker\":{\"size\":2,\"symbol\":\"circle\"},\"mode\":\"markers\",\"name\":\"D\",\"text\":\"\",\"type\":\"scatter\",\"x\":[-0.1211208137774323,-1.8669022025714948,1.737516503033625,0.5044240956820294,-0.20905583360850305,-0.66772859732106,0.5656417368363179,0.2102108947831347,0.8550471770361316,-0.13283022951731127,0.969815666521891,-0.16871551693805362,2.092685942748639,0.5237592381430538,-0.010500868040481256,-1.137343946132466,0.5512793414300526,0.5197315132903045,-1.7811716569010465,0.34977051002786974,-0.7459647351215088,0.19919254393703917,1.8077163522887307,-0.216988180681477,-0.4177862033865263,0.746167660555817,-0.9574318820790669,-0.5144457784361782,1.3585871365744233,-1.0493862514077785,0.8793373873096768,-0.27549849124045706,0.32855096075725276,-1.0782383348802669,1.1201645932568207,-0.19666795060448894,-0.9223697379062344,-0.07066226018755582,1.0324765677224157,-0.46510567659253005,-1.0390679203513948,-0.6268136544660237,-1.240897527809027,0.29504172322456695,-2.085766843947555,-0.46363252809304023,0.7757346775150722,-1.3371935591276607,1.2163827222373251,2.633594925454588,0.4499655942953177,0.184472988849856,-1.1818101965101444,-0.5032375940021327,-2.077026996927567,-0.40345947297564294,0.8340533086799418,0.23415359584272882,0.15310414820274426,-0.05325788444610945,-0.49074866569690617,-1.4503869387444497,-0.9025655678068205,-1.8593786106700807,-0.15006435115168323,-0.44345640821757226,-0.5469890879102364,0.6704553123370551,-0.43056258080143867,-0.8285096744572659,-0.7523279355476609,-0.4065290311809796,-0.9854210226515766,0.5131658746463367,-1.2401297192695295,-1.5236664929255284,-0.902711813233216,-0.4025798221426037,0.32820815879307785,-0.6416640335873163,-0.10691501386440859,-0.5879888346195667,-0.832335880512588,-1.014271362470708,0.10909659869528526,0.0040316135089033325,-0.5223490638140886,-1.0204424496120819,-0.6920773504994652,-0.3354304437469444,-0.26800259441500757,0.5215906989263392,-0.19530421366543338,-1.1879199037324808,0.5404764085850129,0.8883326284340181,-0.11262805297656645,-0.01930789194348459,0.5587540791169096,-1.2228888614424702],\"xaxis\":\"x14\",\"y\":[0.6578393366235544,-0.10831764160215741,-0.7421569070202227,-1.295806658952062,-0.12002491245372285,0.21594412773430208,1.2979666694049037,-0.48283093275042105,1.8666720337275537,1.4703816683663493,-0.15421327465739762,-2.2367967873494226,0.13010061467340825,-1.4188576877254582,0.32770030782811205,-0.7666685289861416,-1.355090098559343,0.6827981353191315,-0.8166906802070194,-0.532339702100551,0.25430695975614886,-0.10310629031404332,-0.3460754936192635,-0.1510906398329561,-0.7832928982277935,-1.546902478380296,-0.2995390758998359,-0.2721909227098749,0.4008837835503852,0.05236334326617966,0.3020642330471884,0.03490025889008722,-0.6448279174982912,-0.7377889818378467,-2.541821984247492,1.0612578426867794,-1.1621483869938696,1.1095492564193015,0.6063825076279109,-1.479809697172345,-0.9523638847324457,-0.8348520740791571,0.3179591536805008,-0.07678833192460754,0.7808987351332105,0.33307936745394146,1.0706286019219826,-0.9328029464115513,-0.6360634796884554,0.17889194616677798,-1.2147569891561574,0.22351306329411733,0.4123463781208237,-0.03839805433625005,-0.7807877399731281,-0.19285890053537363,0.46567361282089204,-1.4533588420151853,-1.4095480303717949,1.0884432485428137,0.8260684437673544,-0.22607380538102767,-0.009827870109399962,-0.057231071870977444,-0.24349253867682477,-0.49174613344985374,0.5118317760608366,-1.155934090093922,-0.25768766651650393,-0.41328220104759106,-0.8765110365430785,0.19201123800199002,-0.338918517485133,0.27186838780765293,-0.3481674030316388,-0.5461439511874295,0.764724135114682,1.1618010298059416,0.7211626062780833,2.019992172248877,-0.966717765739688,-0.4248380084294238,0.3912823981477607,0.10049068234363386,0.975885150461919,-0.2520928992890441,0.3886397372243109,-1.6833768095687152,1.5831284258963834,0.6831325849761399,0.8173992042875015,0.097210462803709,0.0727673139697671,-1.981435996310506,-1.0482551492253238,-1.481989521571336,0.8420267669107834,0.5800600123716833,1.6050265678130222,-1.7352815178958394],\"yaxis\":\"y14\"},{\"line\":{\"color\":\"rgba(128, 128, 128, 1.0)\",\"dash\":\"solid\",\"shape\":\"linear\",\"width\":1.3},\"marker\":{\"size\":2,\"symbol\":\"circle\"},\"mode\":\"markers\",\"name\":\"D\",\"text\":\"\",\"type\":\"scatter\",\"x\":[0.08265575243474317,0.471264566526053,-0.5286291613831251,-1.0379786479310933,-1.058636796414923,-0.5310490299612461,-0.053189700927341974,-0.027368553653093198,1.1656877515629325,1.2358191396959037,-0.457515314399585,-0.312320994559797,-0.19203645171950953,-0.40261412990500656,0.7278713291203588,1.0359948441712508,-0.295454250705633,-1.8400405562809734,0.37794656059166515,0.9752468204239976,0.41796409557600617,1.5570386551839732,-1.586669683342259,-1.079769070625745,1.3881771902579245,-0.6534356291346236,0.8154477005889065,1.1982981981775798,0.7397223535867328,-0.06996357123588764,1.8285944793127034,-0.2296449795070473,-0.2905326881399329,-1.9215649505280545,-0.5677172566693091,-0.9749526982640805,0.33943540372217723,0.15889263480709614,-1.6494735295600125,0.3518876553721099,0.6778842471625566,1.3507826511445298,1.5717947523481035,-0.6705631453451292,-0.05932576929152143,-1.036647675485623,-1.4416986239600955,-0.8499981770071388,-0.2634797852533903,0.7300010718700678,0.2693382022281298,-0.3253952543605832,1.484072642060949,1.8711008529563558,-0.18461639603729602,0.7276323980699159,0.05906752499367461,-0.8232784306522971,1.5276956625853626,-0.9011367333619845,0.0749934540751995,2.68416978672944,0.7839040677425533,1.5898372687315616,0.5957347145257897,0.5944944482574219,0.6764439851687988,0.581543225455897,1.4211007791963515,-0.03066853071956779,-0.8498072844416324,-0.5646702313072455,0.07545321052908756,1.8124351688554554,-0.7625570466130839,-0.8861332313051523,0.897570909180347,0.054333874800205115,-1.7039331364574908,0.6637834387800887,1.2120921378479332,-0.2672552128564103,-1.6998428602326243,0.8882235612941606,1.070919883648229,0.37417272909917576,0.4502483199263752,-1.0389210807390858,1.9159568520197987,-0.682267010159875,0.3823030901948916,-1.2180459273957902,0.5925294163075184,0.18603148682972384,-0.17962246257562486,0.4828786120800383,1.1782740869565427,-0.3202195298470683,0.49053294732148467,1.3435717961140363],\"xaxis\":\"x15\",\"y\":[0.6578393366235544,-0.10831764160215741,-0.7421569070202227,-1.295806658952062,-0.12002491245372285,0.21594412773430208,1.2979666694049037,-0.48283093275042105,1.8666720337275537,1.4703816683663493,-0.15421327465739762,-2.2367967873494226,0.13010061467340825,-1.4188576877254582,0.32770030782811205,-0.7666685289861416,-1.355090098559343,0.6827981353191315,-0.8166906802070194,-0.532339702100551,0.25430695975614886,-0.10310629031404332,-0.3460754936192635,-0.1510906398329561,-0.7832928982277935,-1.546902478380296,-0.2995390758998359,-0.2721909227098749,0.4008837835503852,0.05236334326617966,0.3020642330471884,0.03490025889008722,-0.6448279174982912,-0.7377889818378467,-2.541821984247492,1.0612578426867794,-1.1621483869938696,1.1095492564193015,0.6063825076279109,-1.479809697172345,-0.9523638847324457,-0.8348520740791571,0.3179591536805008,-0.07678833192460754,0.7808987351332105,0.33307936745394146,1.0706286019219826,-0.9328029464115513,-0.6360634796884554,0.17889194616677798,-1.2147569891561574,0.22351306329411733,0.4123463781208237,-0.03839805433625005,-0.7807877399731281,-0.19285890053537363,0.46567361282089204,-1.4533588420151853,-1.4095480303717949,1.0884432485428137,0.8260684437673544,-0.22607380538102767,-0.009827870109399962,-0.057231071870977444,-0.24349253867682477,-0.49174613344985374,0.5118317760608366,-1.155934090093922,-0.25768766651650393,-0.41328220104759106,-0.8765110365430785,0.19201123800199002,-0.338918517485133,0.27186838780765293,-0.3481674030316388,-0.5461439511874295,0.764724135114682,1.1618010298059416,0.7211626062780833,2.019992172248877,-0.966717765739688,-0.4248380084294238,0.3912823981477607,0.10049068234363386,0.975885150461919,-0.2520928992890441,0.3886397372243109,-1.6833768095687152,1.5831284258963834,0.6831325849761399,0.8173992042875015,0.097210462803709,0.0727673139697671,-1.981435996310506,-1.0482551492253238,-1.481989521571336,0.8420267669107834,0.5800600123716833,1.6050265678130222,-1.7352815178958394],\"yaxis\":\"y15\"},{\"histfunc\":\"count\",\"histnorm\":\"\",\"marker\":{\"color\":\"rgba(128, 0, 128, 1.0)\",\"line\":{\"color\":\"#4D5663\",\"width\":1.3}},\"name\":\"D\",\"nbinsx\":10,\"opacity\":0.8,\"orientation\":\"v\",\"type\":\"histogram\",\"x\":[0.6578393366235544,-0.10831764160215741,-0.7421569070202227,-1.295806658952062,-0.12002491245372285,0.21594412773430208,1.2979666694049037,-0.48283093275042105,1.8666720337275537,1.4703816683663493,-0.15421327465739762,-2.2367967873494226,0.13010061467340825,-1.4188576877254582,0.32770030782811205,-0.7666685289861416,-1.355090098559343,0.6827981353191315,-0.8166906802070194,-0.532339702100551,0.25430695975614886,-0.10310629031404332,-0.3460754936192635,-0.1510906398329561,-0.7832928982277935,-1.546902478380296,-0.2995390758998359,-0.2721909227098749,0.4008837835503852,0.05236334326617966,0.3020642330471884,0.03490025889008722,-0.6448279174982912,-0.7377889818378467,-2.541821984247492,1.0612578426867794,-1.1621483869938696,1.1095492564193015,0.6063825076279109,-1.479809697172345,-0.9523638847324457,-0.8348520740791571,0.3179591536805008,-0.07678833192460754,0.7808987351332105,0.33307936745394146,1.0706286019219826,-0.9328029464115513,-0.6360634796884554,0.17889194616677798,-1.2147569891561574,0.22351306329411733,0.4123463781208237,-0.03839805433625005,-0.7807877399731281,-0.19285890053537363,0.46567361282089204,-1.4533588420151853,-1.4095480303717949,1.0884432485428137,0.8260684437673544,-0.22607380538102767,-0.009827870109399962,-0.057231071870977444,-0.24349253867682477,-0.49174613344985374,0.5118317760608366,-1.155934090093922,-0.25768766651650393,-0.41328220104759106,-0.8765110365430785,0.19201123800199002,-0.338918517485133,0.27186838780765293,-0.3481674030316388,-0.5461439511874295,0.764724135114682,1.1618010298059416,0.7211626062780833,2.019992172248877,-0.966717765739688,-0.4248380084294238,0.3912823981477607,0.10049068234363386,0.975885150461919,-0.2520928992890441,0.3886397372243109,-1.6833768095687152,1.5831284258963834,0.6831325849761399,0.8173992042875015,0.097210462803709,0.0727673139697671,-1.981435996310506,-1.0482551492253238,-1.481989521571336,0.8420267669107834,0.5800600123716833,1.6050265678130222,-1.7352815178958394],\"xaxis\":\"x16\",\"yaxis\":\"y16\"}],                        {\"bargap\":0.02,\"legend\":{\"bgcolor\":\"#F5F6F9\",\"font\":{\"color\":\"#4D5663\"}},\"paper_bgcolor\":\"#F5F6F9\",\"plot_bgcolor\":\"#F5F6F9\",\"showlegend\":false,\"template\":{\"data\":{\"bar\":[{\"error_x\":{\"color\":\"#2a3f5f\"},\"error_y\":{\"color\":\"#2a3f5f\"},\"marker\":{\"line\":{\"color\":\"#E5ECF6\",\"width\":0.5},\"pattern\":{\"fillmode\":\"overlay\",\"size\":10,\"solidity\":0.2}},\"type\":\"bar\"}],\"barpolar\":[{\"marker\":{\"line\":{\"color\":\"#E5ECF6\",\"width\":0.5},\"pattern\":{\"fillmode\":\"overlay\",\"size\":10,\"solidity\":0.2}},\"type\":\"barpolar\"}],\"carpet\":[{\"aaxis\":{\"endlinecolor\":\"#2a3f5f\",\"gridcolor\":\"white\",\"linecolor\":\"white\",\"minorgridcolor\":\"white\",\"startlinecolor\":\"#2a3f5f\"},\"baxis\":{\"endlinecolor\":\"#2a3f5f\",\"gridcolor\":\"white\",\"linecolor\":\"white\",\"minorgridcolor\":\"white\",\"startlinecolor\":\"#2a3f5f\"},\"type\":\"carpet\"}],\"choropleth\":[{\"colorbar\":{\"outlinewidth\":0,\"ticks\":\"\"},\"type\":\"choropleth\"}],\"contour\":[{\"colorbar\":{\"outlinewidth\":0,\"ticks\":\"\"},\"colorscale\":[[0.0,\"#0d0887\"],[0.1111111111111111,\"#46039f\"],[0.2222222222222222,\"#7201a8\"],[0.3333333333333333,\"#9c179e\"],[0.4444444444444444,\"#bd3786\"],[0.5555555555555556,\"#d8576b\"],[0.6666666666666666,\"#ed7953\"],[0.7777777777777778,\"#fb9f3a\"],[0.8888888888888888,\"#fdca26\"],[1.0,\"#f0f921\"]],\"type\":\"contour\"}],\"contourcarpet\":[{\"colorbar\":{\"outlinewidth\":0,\"ticks\":\"\"},\"type\":\"contourcarpet\"}],\"heatmap\":[{\"colorbar\":{\"outlinewidth\":0,\"ticks\":\"\"},\"colorscale\":[[0.0,\"#0d0887\"],[0.1111111111111111,\"#46039f\"],[0.2222222222222222,\"#7201a8\"],[0.3333333333333333,\"#9c179e\"],[0.4444444444444444,\"#bd3786\"],[0.5555555555555556,\"#d8576b\"],[0.6666666666666666,\"#ed7953\"],[0.7777777777777778,\"#fb9f3a\"],[0.8888888888888888,\"#fdca26\"],[1.0,\"#f0f921\"]],\"type\":\"heatmap\"}],\"heatmapgl\":[{\"colorbar\":{\"outlinewidth\":0,\"ticks\":\"\"},\"colorscale\":[[0.0,\"#0d0887\"],[0.1111111111111111,\"#46039f\"],[0.2222222222222222,\"#7201a8\"],[0.3333333333333333,\"#9c179e\"],[0.4444444444444444,\"#bd3786\"],[0.5555555555555556,\"#d8576b\"],[0.6666666666666666,\"#ed7953\"],[0.7777777777777778,\"#fb9f3a\"],[0.8888888888888888,\"#fdca26\"],[1.0,\"#f0f921\"]],\"type\":\"heatmapgl\"}],\"histogram\":[{\"marker\":{\"pattern\":{\"fillmode\":\"overlay\",\"size\":10,\"solidity\":0.2}},\"type\":\"histogram\"}],\"histogram2d\":[{\"colorbar\":{\"outlinewidth\":0,\"ticks\":\"\"},\"colorscale\":[[0.0,\"#0d0887\"],[0.1111111111111111,\"#46039f\"],[0.2222222222222222,\"#7201a8\"],[0.3333333333333333,\"#9c179e\"],[0.4444444444444444,\"#bd3786\"],[0.5555555555555556,\"#d8576b\"],[0.6666666666666666,\"#ed7953\"],[0.7777777777777778,\"#fb9f3a\"],[0.8888888888888888,\"#fdca26\"],[1.0,\"#f0f921\"]],\"type\":\"histogram2d\"}],\"histogram2dcontour\":[{\"colorbar\":{\"outlinewidth\":0,\"ticks\":\"\"},\"colorscale\":[[0.0,\"#0d0887\"],[0.1111111111111111,\"#46039f\"],[0.2222222222222222,\"#7201a8\"],[0.3333333333333333,\"#9c179e\"],[0.4444444444444444,\"#bd3786\"],[0.5555555555555556,\"#d8576b\"],[0.6666666666666666,\"#ed7953\"],[0.7777777777777778,\"#fb9f3a\"],[0.8888888888888888,\"#fdca26\"],[1.0,\"#f0f921\"]],\"type\":\"histogram2dcontour\"}],\"mesh3d\":[{\"colorbar\":{\"outlinewidth\":0,\"ticks\":\"\"},\"type\":\"mesh3d\"}],\"parcoords\":[{\"line\":{\"colorbar\":{\"outlinewidth\":0,\"ticks\":\"\"}},\"type\":\"parcoords\"}],\"pie\":[{\"automargin\":true,\"type\":\"pie\"}],\"scatter\":[{\"marker\":{\"colorbar\":{\"outlinewidth\":0,\"ticks\":\"\"}},\"type\":\"scatter\"}],\"scatter3d\":[{\"line\":{\"colorbar\":{\"outlinewidth\":0,\"ticks\":\"\"}},\"marker\":{\"colorbar\":{\"outlinewidth\":0,\"ticks\":\"\"}},\"type\":\"scatter3d\"}],\"scattercarpet\":[{\"marker\":{\"colorbar\":{\"outlinewidth\":0,\"ticks\":\"\"}},\"type\":\"scattercarpet\"}],\"scattergeo\":[{\"marker\":{\"colorbar\":{\"outlinewidth\":0,\"ticks\":\"\"}},\"type\":\"scattergeo\"}],\"scattergl\":[{\"marker\":{\"colorbar\":{\"outlinewidth\":0,\"ticks\":\"\"}},\"type\":\"scattergl\"}],\"scattermapbox\":[{\"marker\":{\"colorbar\":{\"outlinewidth\":0,\"ticks\":\"\"}},\"type\":\"scattermapbox\"}],\"scatterpolar\":[{\"marker\":{\"colorbar\":{\"outlinewidth\":0,\"ticks\":\"\"}},\"type\":\"scatterpolar\"}],\"scatterpolargl\":[{\"marker\":{\"colorbar\":{\"outlinewidth\":0,\"ticks\":\"\"}},\"type\":\"scatterpolargl\"}],\"scatterternary\":[{\"marker\":{\"colorbar\":{\"outlinewidth\":0,\"ticks\":\"\"}},\"type\":\"scatterternary\"}],\"surface\":[{\"colorbar\":{\"outlinewidth\":0,\"ticks\":\"\"},\"colorscale\":[[0.0,\"#0d0887\"],[0.1111111111111111,\"#46039f\"],[0.2222222222222222,\"#7201a8\"],[0.3333333333333333,\"#9c179e\"],[0.4444444444444444,\"#bd3786\"],[0.5555555555555556,\"#d8576b\"],[0.6666666666666666,\"#ed7953\"],[0.7777777777777778,\"#fb9f3a\"],[0.8888888888888888,\"#fdca26\"],[1.0,\"#f0f921\"]],\"type\":\"surface\"}],\"table\":[{\"cells\":{\"fill\":{\"color\":\"#EBF0F8\"},\"line\":{\"color\":\"white\"}},\"header\":{\"fill\":{\"color\":\"#C8D4E3\"},\"line\":{\"color\":\"white\"}},\"type\":\"table\"}]},\"layout\":{\"annotationdefaults\":{\"arrowcolor\":\"#2a3f5f\",\"arrowhead\":0,\"arrowwidth\":1},\"autotypenumbers\":\"strict\",\"coloraxis\":{\"colorbar\":{\"outlinewidth\":0,\"ticks\":\"\"}},\"colorscale\":{\"diverging\":[[0,\"#8e0152\"],[0.1,\"#c51b7d\"],[0.2,\"#de77ae\"],[0.3,\"#f1b6da\"],[0.4,\"#fde0ef\"],[0.5,\"#f7f7f7\"],[0.6,\"#e6f5d0\"],[0.7,\"#b8e186\"],[0.8,\"#7fbc41\"],[0.9,\"#4d9221\"],[1,\"#276419\"]],\"sequential\":[[0.0,\"#0d0887\"],[0.1111111111111111,\"#46039f\"],[0.2222222222222222,\"#7201a8\"],[0.3333333333333333,\"#9c179e\"],[0.4444444444444444,\"#bd3786\"],[0.5555555555555556,\"#d8576b\"],[0.6666666666666666,\"#ed7953\"],[0.7777777777777778,\"#fb9f3a\"],[0.8888888888888888,\"#fdca26\"],[1.0,\"#f0f921\"]],\"sequentialminus\":[[0.0,\"#0d0887\"],[0.1111111111111111,\"#46039f\"],[0.2222222222222222,\"#7201a8\"],[0.3333333333333333,\"#9c179e\"],[0.4444444444444444,\"#bd3786\"],[0.5555555555555556,\"#d8576b\"],[0.6666666666666666,\"#ed7953\"],[0.7777777777777778,\"#fb9f3a\"],[0.8888888888888888,\"#fdca26\"],[1.0,\"#f0f921\"]]},\"colorway\":[\"#636efa\",\"#EF553B\",\"#00cc96\",\"#ab63fa\",\"#FFA15A\",\"#19d3f3\",\"#FF6692\",\"#B6E880\",\"#FF97FF\",\"#FECB52\"],\"font\":{\"color\":\"#2a3f5f\"},\"geo\":{\"bgcolor\":\"white\",\"lakecolor\":\"white\",\"landcolor\":\"#E5ECF6\",\"showlakes\":true,\"showland\":true,\"subunitcolor\":\"white\"},\"hoverlabel\":{\"align\":\"left\"},\"hovermode\":\"closest\",\"mapbox\":{\"style\":\"light\"},\"paper_bgcolor\":\"white\",\"plot_bgcolor\":\"#E5ECF6\",\"polar\":{\"angularaxis\":{\"gridcolor\":\"white\",\"linecolor\":\"white\",\"ticks\":\"\"},\"bgcolor\":\"#E5ECF6\",\"radialaxis\":{\"gridcolor\":\"white\",\"linecolor\":\"white\",\"ticks\":\"\"}},\"scene\":{\"xaxis\":{\"backgroundcolor\":\"#E5ECF6\",\"gridcolor\":\"white\",\"gridwidth\":2,\"linecolor\":\"white\",\"showbackground\":true,\"ticks\":\"\",\"zerolinecolor\":\"white\"},\"yaxis\":{\"backgroundcolor\":\"#E5ECF6\",\"gridcolor\":\"white\",\"gridwidth\":2,\"linecolor\":\"white\",\"showbackground\":true,\"ticks\":\"\",\"zerolinecolor\":\"white\"},\"zaxis\":{\"backgroundcolor\":\"#E5ECF6\",\"gridcolor\":\"white\",\"gridwidth\":2,\"linecolor\":\"white\",\"showbackground\":true,\"ticks\":\"\",\"zerolinecolor\":\"white\"}},\"shapedefaults\":{\"line\":{\"color\":\"#2a3f5f\"}},\"ternary\":{\"aaxis\":{\"gridcolor\":\"white\",\"linecolor\":\"white\",\"ticks\":\"\"},\"baxis\":{\"gridcolor\":\"white\",\"linecolor\":\"white\",\"ticks\":\"\"},\"bgcolor\":\"#E5ECF6\",\"caxis\":{\"gridcolor\":\"white\",\"linecolor\":\"white\",\"ticks\":\"\"}},\"title\":{\"x\":0.05},\"xaxis\":{\"automargin\":true,\"gridcolor\":\"white\",\"linecolor\":\"white\",\"ticks\":\"\",\"title\":{\"standoff\":15},\"zerolinecolor\":\"white\",\"zerolinewidth\":2},\"yaxis\":{\"automargin\":true,\"gridcolor\":\"white\",\"linecolor\":\"white\",\"ticks\":\"\",\"title\":{\"standoff\":15},\"zerolinecolor\":\"white\",\"zerolinewidth\":2}}},\"title\":{\"font\":{\"color\":\"#4D5663\"}},\"xaxis\":{\"anchor\":\"y\",\"domain\":[0.0,0.2125],\"gridcolor\":\"#E1E5ED\",\"showgrid\":false,\"tickfont\":{\"color\":\"#4D5663\"},\"title\":{\"font\":{\"color\":\"#4D5663\"},\"text\":\"\"},\"zerolinecolor\":\"#E1E5ED\"},\"xaxis10\":{\"anchor\":\"y10\",\"domain\":[0.2625,0.475],\"gridcolor\":\"#E1E5ED\",\"showgrid\":false,\"tickfont\":{\"color\":\"#4D5663\"},\"title\":{\"font\":{\"color\":\"#4D5663\"},\"text\":\"\"},\"zerolinecolor\":\"#E1E5ED\"},\"xaxis11\":{\"anchor\":\"y11\",\"domain\":[0.525,0.7375],\"gridcolor\":\"#E1E5ED\",\"showgrid\":false,\"tickfont\":{\"color\":\"#4D5663\"},\"title\":{\"font\":{\"color\":\"#4D5663\"},\"text\":\"\"},\"zerolinecolor\":\"#E1E5ED\"},\"xaxis12\":{\"anchor\":\"y12\",\"domain\":[0.7875,1.0],\"gridcolor\":\"#E1E5ED\",\"showgrid\":false,\"tickfont\":{\"color\":\"#4D5663\"},\"title\":{\"font\":{\"color\":\"#4D5663\"},\"text\":\"\"},\"zerolinecolor\":\"#E1E5ED\"},\"xaxis13\":{\"anchor\":\"y13\",\"domain\":[0.0,0.2125],\"gridcolor\":\"#E1E5ED\",\"showgrid\":false,\"tickfont\":{\"color\":\"#4D5663\"},\"title\":{\"font\":{\"color\":\"#4D5663\"},\"text\":\"\"},\"zerolinecolor\":\"#E1E5ED\"},\"xaxis14\":{\"anchor\":\"y14\",\"domain\":[0.2625,0.475],\"gridcolor\":\"#E1E5ED\",\"showgrid\":false,\"tickfont\":{\"color\":\"#4D5663\"},\"title\":{\"font\":{\"color\":\"#4D5663\"},\"text\":\"\"},\"zerolinecolor\":\"#E1E5ED\"},\"xaxis15\":{\"anchor\":\"y15\",\"domain\":[0.525,0.7375],\"gridcolor\":\"#E1E5ED\",\"showgrid\":false,\"tickfont\":{\"color\":\"#4D5663\"},\"title\":{\"font\":{\"color\":\"#4D5663\"},\"text\":\"\"},\"zerolinecolor\":\"#E1E5ED\"},\"xaxis16\":{\"anchor\":\"y16\",\"domain\":[0.7875,1.0],\"gridcolor\":\"#E1E5ED\",\"showgrid\":false,\"tickfont\":{\"color\":\"#4D5663\"},\"title\":{\"font\":{\"color\":\"#4D5663\"},\"text\":\"\"},\"zerolinecolor\":\"#E1E5ED\"},\"xaxis2\":{\"anchor\":\"y2\",\"domain\":[0.2625,0.475],\"gridcolor\":\"#E1E5ED\",\"showgrid\":false,\"tickfont\":{\"color\":\"#4D5663\"},\"title\":{\"font\":{\"color\":\"#4D5663\"},\"text\":\"\"},\"zerolinecolor\":\"#E1E5ED\"},\"xaxis3\":{\"anchor\":\"y3\",\"domain\":[0.525,0.7375],\"gridcolor\":\"#E1E5ED\",\"showgrid\":false,\"tickfont\":{\"color\":\"#4D5663\"},\"title\":{\"font\":{\"color\":\"#4D5663\"},\"text\":\"\"},\"zerolinecolor\":\"#E1E5ED\"},\"xaxis4\":{\"anchor\":\"y4\",\"domain\":[0.7875,1.0],\"gridcolor\":\"#E1E5ED\",\"showgrid\":false,\"tickfont\":{\"color\":\"#4D5663\"},\"title\":{\"font\":{\"color\":\"#4D5663\"},\"text\":\"\"},\"zerolinecolor\":\"#E1E5ED\"},\"xaxis5\":{\"anchor\":\"y5\",\"domain\":[0.0,0.2125],\"gridcolor\":\"#E1E5ED\",\"showgrid\":false,\"tickfont\":{\"color\":\"#4D5663\"},\"title\":{\"font\":{\"color\":\"#4D5663\"},\"text\":\"\"},\"zerolinecolor\":\"#E1E5ED\"},\"xaxis6\":{\"anchor\":\"y6\",\"domain\":[0.2625,0.475],\"gridcolor\":\"#E1E5ED\",\"showgrid\":false,\"tickfont\":{\"color\":\"#4D5663\"},\"title\":{\"font\":{\"color\":\"#4D5663\"},\"text\":\"\"},\"zerolinecolor\":\"#E1E5ED\"},\"xaxis7\":{\"anchor\":\"y7\",\"domain\":[0.525,0.7375],\"gridcolor\":\"#E1E5ED\",\"showgrid\":false,\"tickfont\":{\"color\":\"#4D5663\"},\"title\":{\"font\":{\"color\":\"#4D5663\"},\"text\":\"\"},\"zerolinecolor\":\"#E1E5ED\"},\"xaxis8\":{\"anchor\":\"y8\",\"domain\":[0.7875,1.0],\"gridcolor\":\"#E1E5ED\",\"showgrid\":false,\"tickfont\":{\"color\":\"#4D5663\"},\"title\":{\"font\":{\"color\":\"#4D5663\"},\"text\":\"\"},\"zerolinecolor\":\"#E1E5ED\"},\"xaxis9\":{\"anchor\":\"y9\",\"domain\":[0.0,0.2125],\"gridcolor\":\"#E1E5ED\",\"showgrid\":false,\"tickfont\":{\"color\":\"#4D5663\"},\"title\":{\"font\":{\"color\":\"#4D5663\"},\"text\":\"\"},\"zerolinecolor\":\"#E1E5ED\"},\"yaxis\":{\"anchor\":\"x\",\"domain\":[0.8025,1.0],\"gridcolor\":\"#E1E5ED\",\"showgrid\":false,\"tickfont\":{\"color\":\"#4D5663\"},\"title\":{\"font\":{\"color\":\"#4D5663\"},\"text\":\"\"},\"zerolinecolor\":\"#E1E5ED\"},\"yaxis10\":{\"anchor\":\"x10\",\"domain\":[0.2675,0.465],\"gridcolor\":\"#E1E5ED\",\"showgrid\":false,\"tickfont\":{\"color\":\"#4D5663\"},\"title\":{\"font\":{\"color\":\"#4D5663\"},\"text\":\"\"},\"zerolinecolor\":\"#E1E5ED\"},\"yaxis11\":{\"anchor\":\"x11\",\"domain\":[0.2675,0.465],\"gridcolor\":\"#E1E5ED\",\"showgrid\":false,\"tickfont\":{\"color\":\"#4D5663\"},\"title\":{\"font\":{\"color\":\"#4D5663\"},\"text\":\"\"},\"zerolinecolor\":\"#E1E5ED\"},\"yaxis12\":{\"anchor\":\"x12\",\"domain\":[0.2675,0.465],\"gridcolor\":\"#E1E5ED\",\"showgrid\":false,\"tickfont\":{\"color\":\"#4D5663\"},\"title\":{\"font\":{\"color\":\"#4D5663\"},\"text\":\"\"},\"zerolinecolor\":\"#E1E5ED\"},\"yaxis13\":{\"anchor\":\"x13\",\"domain\":[0.0,0.1975],\"gridcolor\":\"#E1E5ED\",\"showgrid\":false,\"tickfont\":{\"color\":\"#4D5663\"},\"title\":{\"font\":{\"color\":\"#4D5663\"},\"text\":\"\"},\"zerolinecolor\":\"#E1E5ED\"},\"yaxis14\":{\"anchor\":\"x14\",\"domain\":[0.0,0.1975],\"gridcolor\":\"#E1E5ED\",\"showgrid\":false,\"tickfont\":{\"color\":\"#4D5663\"},\"title\":{\"font\":{\"color\":\"#4D5663\"},\"text\":\"\"},\"zerolinecolor\":\"#E1E5ED\"},\"yaxis15\":{\"anchor\":\"x15\",\"domain\":[0.0,0.1975],\"gridcolor\":\"#E1E5ED\",\"showgrid\":false,\"tickfont\":{\"color\":\"#4D5663\"},\"title\":{\"font\":{\"color\":\"#4D5663\"},\"text\":\"\"},\"zerolinecolor\":\"#E1E5ED\"},\"yaxis16\":{\"anchor\":\"x16\",\"domain\":[0.0,0.1975],\"gridcolor\":\"#E1E5ED\",\"showgrid\":false,\"tickfont\":{\"color\":\"#4D5663\"},\"title\":{\"font\":{\"color\":\"#4D5663\"},\"text\":\"\"},\"zerolinecolor\":\"#E1E5ED\"},\"yaxis2\":{\"anchor\":\"x2\",\"domain\":[0.8025,1.0],\"gridcolor\":\"#E1E5ED\",\"showgrid\":false,\"tickfont\":{\"color\":\"#4D5663\"},\"title\":{\"font\":{\"color\":\"#4D5663\"},\"text\":\"\"},\"zerolinecolor\":\"#E1E5ED\"},\"yaxis3\":{\"anchor\":\"x3\",\"domain\":[0.8025,1.0],\"gridcolor\":\"#E1E5ED\",\"showgrid\":false,\"tickfont\":{\"color\":\"#4D5663\"},\"title\":{\"font\":{\"color\":\"#4D5663\"},\"text\":\"\"},\"zerolinecolor\":\"#E1E5ED\"},\"yaxis4\":{\"anchor\":\"x4\",\"domain\":[0.8025,1.0],\"gridcolor\":\"#E1E5ED\",\"showgrid\":false,\"tickfont\":{\"color\":\"#4D5663\"},\"title\":{\"font\":{\"color\":\"#4D5663\"},\"text\":\"\"},\"zerolinecolor\":\"#E1E5ED\"},\"yaxis5\":{\"anchor\":\"x5\",\"domain\":[0.535,0.7325],\"gridcolor\":\"#E1E5ED\",\"showgrid\":false,\"tickfont\":{\"color\":\"#4D5663\"},\"title\":{\"font\":{\"color\":\"#4D5663\"},\"text\":\"\"},\"zerolinecolor\":\"#E1E5ED\"},\"yaxis6\":{\"anchor\":\"x6\",\"domain\":[0.535,0.7325],\"gridcolor\":\"#E1E5ED\",\"showgrid\":false,\"tickfont\":{\"color\":\"#4D5663\"},\"title\":{\"font\":{\"color\":\"#4D5663\"},\"text\":\"\"},\"zerolinecolor\":\"#E1E5ED\"},\"yaxis7\":{\"anchor\":\"x7\",\"domain\":[0.535,0.7325],\"gridcolor\":\"#E1E5ED\",\"showgrid\":false,\"tickfont\":{\"color\":\"#4D5663\"},\"title\":{\"font\":{\"color\":\"#4D5663\"},\"text\":\"\"},\"zerolinecolor\":\"#E1E5ED\"},\"yaxis8\":{\"anchor\":\"x8\",\"domain\":[0.535,0.7325],\"gridcolor\":\"#E1E5ED\",\"showgrid\":false,\"tickfont\":{\"color\":\"#4D5663\"},\"title\":{\"font\":{\"color\":\"#4D5663\"},\"text\":\"\"},\"zerolinecolor\":\"#E1E5ED\"},\"yaxis9\":{\"anchor\":\"x9\",\"domain\":[0.2675,0.465],\"gridcolor\":\"#E1E5ED\",\"showgrid\":false,\"tickfont\":{\"color\":\"#4D5663\"},\"title\":{\"font\":{\"color\":\"#4D5663\"},\"text\":\"\"},\"zerolinecolor\":\"#E1E5ED\"}},                        {\"showLink\": true, \"linkText\": \"Export to plot.ly\", \"plotlyServerURL\": \"https://plot.ly\", \"responsive\": true}                    ).then(function(){\n",
       "                            \n",
       "var gd = document.getElementById('c054967b-9fc7-48f3-a54d-180233550207');\n",
       "var x = new MutationObserver(function (mutations, observer) {{\n",
       "        var display = window.getComputedStyle(gd).display;\n",
       "        if (!display || display === 'none') {{\n",
       "            console.log([gd, 'removed!']);\n",
       "            Plotly.purge(gd);\n",
       "            observer.disconnect();\n",
       "        }}\n",
       "}});\n",
       "\n",
       "// Listen for the removal of the full notebook cells\n",
       "var notebookContainer = gd.closest('#notebook-container');\n",
       "if (notebookContainer) {{\n",
       "    x.observe(notebookContainer, {childList: true});\n",
       "}}\n",
       "\n",
       "// Listen for the clearing of the current output cell\n",
       "var outputEl = gd.closest('.output');\n",
       "if (outputEl) {{\n",
       "    x.observe(outputEl, {childList: true});\n",
       "}}\n",
       "\n",
       "                        })                };                });            </script>        </div>"
      ]
     },
     "metadata": {},
     "output_type": "display_data"
    }
   ],
   "source": [
    "df.scatter_matrix()"
   ]
  },
  {
   "cell_type": "code",
   "execution_count": null,
   "id": "12c28472",
   "metadata": {},
   "outputs": [],
   "source": []
  }
 ],
 "metadata": {
  "kernelspec": {
   "display_name": "Python 3",
   "language": "python",
   "name": "python3"
  },
  "language_info": {
   "codemirror_mode": {
    "name": "ipython",
    "version": 3
   },
   "file_extension": ".py",
   "mimetype": "text/x-python",
   "name": "python",
   "nbconvert_exporter": "python",
   "pygments_lexer": "ipython3",
   "version": "3.8.8"
  }
 },
 "nbformat": 4,
 "nbformat_minor": 5
}
