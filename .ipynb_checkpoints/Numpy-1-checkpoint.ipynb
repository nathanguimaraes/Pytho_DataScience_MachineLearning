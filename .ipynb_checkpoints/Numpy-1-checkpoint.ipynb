{
 "cells": [
  {
   "cell_type": "code",
   "execution_count": 1,
   "id": "d8753b40",
   "metadata": {},
   "outputs": [],
   "source": [
    "import numpy as np"
   ]
  },
  {
   "cell_type": "code",
   "execution_count": 2,
   "id": "955d865c",
   "metadata": {},
   "outputs": [],
   "source": [
    "minha_lista = [1, 2, 3] #criando vetor"
   ]
  },
  {
   "cell_type": "code",
   "execution_count": 3,
   "id": "ba790d96",
   "metadata": {},
   "outputs": [
    {
     "data": {
      "text/plain": [
       "[1, 2, 3]"
      ]
     },
     "execution_count": 3,
     "metadata": {},
     "output_type": "execute_result"
    }
   ],
   "source": [
    "minha_lista"
   ]
  },
  {
   "cell_type": "code",
   "execution_count": 4,
   "id": "546602ac",
   "metadata": {},
   "outputs": [
    {
     "data": {
      "text/plain": [
       "array([1, 2, 3])"
      ]
     },
     "execution_count": 4,
     "metadata": {},
     "output_type": "execute_result"
    }
   ],
   "source": [
    "np.array(minha_lista) #transformando vetor em array com numpy"
   ]
  },
  {
   "cell_type": "code",
   "execution_count": 5,
   "id": "ec7fbb8a",
   "metadata": {},
   "outputs": [],
   "source": [
    "minha_matriz = [[1, 2, 3], [4, 5, 6], [7, 8, 9]] #criando uma lista de listas"
   ]
  },
  {
   "cell_type": "code",
   "execution_count": 6,
   "id": "313e07c3",
   "metadata": {},
   "outputs": [
    {
     "data": {
      "text/plain": [
       "array([[1, 2, 3],\n",
       "       [4, 5, 6],\n",
       "       [7, 8, 9]])"
      ]
     },
     "execution_count": 6,
     "metadata": {},
     "output_type": "execute_result"
    }
   ],
   "source": [
    "np.array(minha_matriz) #transformando minha matriz em array (é possivel analizar as dimensssoes com o numero de colchetes)"
   ]
  },
  {
   "cell_type": "code",
   "execution_count": 7,
   "id": "a3205570",
   "metadata": {},
   "outputs": [
    {
     "data": {
      "text/plain": [
       "array([0, 1, 2, 3, 4, 5, 6, 7, 8, 9])"
      ]
     },
     "execution_count": 7,
     "metadata": {},
     "output_type": "execute_result"
    }
   ],
   "source": [
    "np.arange(0, 10) #cria uma sequencia de numeros"
   ]
  },
  {
   "cell_type": "code",
   "execution_count": 8,
   "id": "9cdc77d7",
   "metadata": {},
   "outputs": [
    {
     "data": {
      "text/plain": [
       "array([0, 2, 4, 6, 8])"
      ]
     },
     "execution_count": 8,
     "metadata": {},
     "output_type": "execute_result"
    }
   ],
   "source": [
    "np.arange (0, 10, 2) #cria uma sequecia de 0 a 10 com o incremento de 2"
   ]
  },
  {
   "cell_type": "code",
   "execution_count": 9,
   "id": "b068ec8d",
   "metadata": {},
   "outputs": [
    {
     "data": {
      "text/plain": [
       "array([0., 0., 0.])"
      ]
     },
     "execution_count": 9,
     "metadata": {},
     "output_type": "execute_result"
    }
   ],
   "source": [
    "np.zeros(3) #funcao que retorna lista de zeros"
   ]
  },
  {
   "cell_type": "code",
   "execution_count": 10,
   "id": "b40b8fc8",
   "metadata": {},
   "outputs": [],
   "source": [
    "array_zeros = np.zeros(3) #outra forma de chamar essa função"
   ]
  },
  {
   "cell_type": "code",
   "execution_count": 11,
   "id": "1e00dca4",
   "metadata": {},
   "outputs": [
    {
     "data": {
      "text/plain": [
       "array([0., 0., 0.])"
      ]
     },
     "execution_count": 11,
     "metadata": {},
     "output_type": "execute_result"
    }
   ],
   "source": [
    "array_zeros\n"
   ]
  },
  {
   "cell_type": "code",
   "execution_count": 12,
   "id": "787516ba",
   "metadata": {},
   "outputs": [],
   "source": [
    "array_zeros = np.zeros ((5, 5)) #passando uma tupla de zeros"
   ]
  },
  {
   "cell_type": "code",
   "execution_count": 13,
   "id": "6e48d2df",
   "metadata": {},
   "outputs": [
    {
     "data": {
      "text/plain": [
       "array([[0., 0., 0., 0., 0.],\n",
       "       [0., 0., 0., 0., 0.],\n",
       "       [0., 0., 0., 0., 0.],\n",
       "       [0., 0., 0., 0., 0.],\n",
       "       [0., 0., 0., 0., 0.]])"
      ]
     },
     "execution_count": 13,
     "metadata": {},
     "output_type": "execute_result"
    }
   ],
   "source": [
    "array_zeros\n"
   ]
  },
  {
   "cell_type": "code",
   "execution_count": 15,
   "id": "876fb191",
   "metadata": {},
   "outputs": [
    {
     "data": {
      "text/plain": [
       "array([[1., 1., 1.],\n",
       "       [1., 1., 1.],\n",
       "       [1., 1., 1.]])"
      ]
     },
     "execution_count": 15,
     "metadata": {},
     "output_type": "execute_result"
    }
   ],
   "source": [
    "np.ones((3, 3)) #funçao que retorna 1 semelhante a citada acima "
   ]
  },
  {
   "cell_type": "code",
   "execution_count": 16,
   "id": "1d26f1f7",
   "metadata": {},
   "outputs": [
    {
     "data": {
      "text/plain": [
       "array([[1., 0., 0., 0.],\n",
       "       [0., 1., 0., 0.],\n",
       "       [0., 0., 1., 0.],\n",
       "       [0., 0., 0., 1.]])"
      ]
     },
     "execution_count": 16,
     "metadata": {},
     "output_type": "execute_result"
    }
   ],
   "source": [
    "np.eye(4)     #retorna a matriz com a diagonal principal "
   ]
  },
  {
   "cell_type": "code",
   "execution_count": 17,
   "id": "ccd22424",
   "metadata": {},
   "outputs": [
    {
     "data": {
      "text/plain": [
       "array([ 0., 10.])"
      ]
     },
     "execution_count": 17,
     "metadata": {},
     "output_type": "execute_result"
    }
   ],
   "source": [
    "np.linspace(0, 10, 2)#retorna um arrange porem com limitação de viasualiozacao"
   ]
  },
  {
   "cell_type": "code",
   "execution_count": 18,
   "id": "46eac824",
   "metadata": {},
   "outputs": [
    {
     "data": {
      "text/plain": [
       "array([ 0.,  5., 10.])"
      ]
     },
     "execution_count": 18,
     "metadata": {},
     "output_type": "execute_result"
    }
   ],
   "source": [
    "np.linspace(0, 10, 3) #retornando apenas 3 numeros do arrange de 0 a 10"
   ]
  },
  {
   "cell_type": "code",
   "execution_count": 19,
   "id": "174ec73c",
   "metadata": {},
   "outputs": [
    {
     "data": {
      "text/plain": [
       "array([0.34493105, 0.51702574, 0.01913573, 0.15944488, 0.35463158])"
      ]
     },
     "execution_count": 19,
     "metadata": {},
     "output_type": "execute_result"
    }
   ],
   "source": [
    "np.random.rand(5) #cria um array de numeros aleatorios de 0 a 1 \n",
    "                    #seguindo uma distribuição uniforme"
   ]
  },
  {
   "cell_type": "code",
   "execution_count": 20,
   "id": "2e53bce1",
   "metadata": {},
   "outputs": [
    {
     "data": {
      "text/plain": [
       "array([[[4.03315729e-04, 6.64436689e-01, 8.72680305e-01],\n",
       "        [4.84912944e-01, 6.14535341e-01, 6.27555636e-01],\n",
       "        [3.54095628e-02, 4.00966262e-01, 9.67650078e-01],\n",
       "        [2.60065119e-01, 4.54414829e-01, 4.29737062e-01]],\n",
       "\n",
       "       [[9.33277414e-02, 9.42545210e-01, 2.35350519e-01],\n",
       "        [6.99304182e-03, 8.46332596e-01, 9.13237047e-01],\n",
       "        [3.14574435e-02, 4.36403013e-01, 1.92945999e-03],\n",
       "        [9.30918109e-01, 7.51769550e-01, 1.37301536e-02]],\n",
       "\n",
       "       [[1.69578054e-01, 9.23977732e-01, 5.39320696e-01],\n",
       "        [9.90404205e-01, 7.29132805e-01, 1.10748728e-01],\n",
       "        [8.88076963e-01, 3.04817360e-01, 5.56029373e-01],\n",
       "        [5.55510875e-01, 7.71644325e-01, 2.02557305e-01]],\n",
       "\n",
       "       [[5.41603962e-02, 1.36936951e-01, 9.49328839e-02],\n",
       "        [8.83477089e-02, 7.38585697e-01, 6.35709775e-01],\n",
       "        [5.48600849e-01, 7.89752910e-01, 2.33840495e-01],\n",
       "        [7.12332909e-01, 1.69555091e-01, 9.48555242e-01]],\n",
       "\n",
       "       [[1.52121614e-01, 4.91704834e-01, 6.46751874e-01],\n",
       "        [2.96763814e-02, 8.76886046e-01, 2.27491620e-01],\n",
       "        [9.20508831e-01, 9.94182729e-01, 4.79300814e-01],\n",
       "        [9.27290943e-01, 5.77700142e-01, 7.60326009e-01]]])"
      ]
     },
     "execution_count": 20,
     "metadata": {},
     "output_type": "execute_result"
    }
   ],
   "source": [
    "np.random.rand(5, 4, 3)  #distribuição uniforme"
   ]
  },
  {
   "cell_type": "code",
   "execution_count": 21,
   "id": "f838345d",
   "metadata": {},
   "outputs": [
    {
     "data": {
      "text/plain": [
       "array([ 0.2228102 , -0.0721255 , -1.30485222, -0.91644108])"
      ]
     },
     "execution_count": 21,
     "metadata": {},
     "output_type": "execute_result"
    }
   ],
   "source": [
    "np.random.randn(4) #numeros aleatorio gaussianos"
   ]
  },
  {
   "cell_type": "code",
   "execution_count": 22,
   "id": "5b16d71e",
   "metadata": {},
   "outputs": [
    {
     "data": {
      "text/plain": [
       "array([ 9,  1, 71,  3, 36, 96, 72, 98, 69, 61])"
      ]
     },
     "execution_count": 22,
     "metadata": {},
     "output_type": "execute_result"
    }
   ],
   "source": [
    "np.random.randint(0, 100, 10) #numeros inteiros dentro de um intervalo"
   ]
  },
  {
   "cell_type": "code",
   "execution_count": 23,
   "id": "8916aeb5",
   "metadata": {},
   "outputs": [
    {
     "data": {
      "text/plain": [
       "array([75.31094703, 32.81336542, 60.93744298, 33.45304606, 16.34065678])"
      ]
     },
     "execution_count": 23,
     "metadata": {},
     "output_type": "execute_result"
    }
   ],
   "source": [
    "np.random.rand(5)*100 #arredondando por 100 "
   ]
  },
  {
   "cell_type": "code",
   "execution_count": 25,
   "id": "6d228142",
   "metadata": {},
   "outputs": [
    {
     "data": {
      "text/plain": [
       "array([30., 14., 12., 75., 23.])"
      ]
     },
     "execution_count": 25,
     "metadata": {},
     "output_type": "execute_result"
    }
   ],
   "source": [
    "np.around(np.random.rand(5)*100, 0)"
   ]
  },
  {
   "cell_type": "code",
   "execution_count": 26,
   "id": "9ec2b96f",
   "metadata": {},
   "outputs": [],
   "source": [
    "arra = np.random.rand(25)"
   ]
  },
  {
   "cell_type": "code",
   "execution_count": 27,
   "id": "4b822782",
   "metadata": {},
   "outputs": [
    {
     "data": {
      "text/plain": [
       "array([0.36557034, 0.06004739, 0.24790074, 0.00794593, 0.33720151,\n",
       "       0.47670346, 0.05037442, 0.10511981, 0.81607319, 0.94069709,\n",
       "       0.33751524, 0.06200826, 0.83310897, 0.65208577, 0.131421  ,\n",
       "       0.19324021, 0.53966049, 0.92702084, 0.77924965, 0.47430577,\n",
       "       0.49151687, 0.01691016, 0.21133211, 0.71079527, 0.93281916])"
      ]
     },
     "execution_count": 27,
     "metadata": {},
     "output_type": "execute_result"
    }
   ],
   "source": [
    "arra"
   ]
  },
  {
   "cell_type": "code",
   "execution_count": 38,
   "id": "fcc80b5c",
   "metadata": {},
   "outputs": [],
   "source": [
    "arra = arra.reshape((5,5))"
   ]
  },
  {
   "cell_type": "code",
   "execution_count": 39,
   "id": "cbb73d2e",
   "metadata": {},
   "outputs": [
    {
     "data": {
      "text/plain": [
       "(5, 5)"
      ]
     },
     "execution_count": 39,
     "metadata": {},
     "output_type": "execute_result"
    }
   ],
   "source": [
    "arra.shape\n"
   ]
  },
  {
   "cell_type": "code",
   "execution_count": 32,
   "id": "a8db915a",
   "metadata": {},
   "outputs": [
    {
     "data": {
      "text/plain": [
       "0.9406970943236322"
      ]
     },
     "execution_count": 32,
     "metadata": {},
     "output_type": "execute_result"
    }
   ],
   "source": [
    "arra.max() #retorna o maior valor do array"
   ]
  },
  {
   "cell_type": "code",
   "execution_count": 33,
   "id": "54d2975a",
   "metadata": {},
   "outputs": [
    {
     "data": {
      "text/plain": [
       "0.007945925520067232"
      ]
     },
     "execution_count": 33,
     "metadata": {},
     "output_type": "execute_result"
    }
   ],
   "source": [
    "arra.min() #retorna o menor valor do array"
   ]
  },
  {
   "cell_type": "code",
   "execution_count": 34,
   "id": "53fcbd36",
   "metadata": {},
   "outputs": [
    {
     "data": {
      "text/plain": [
       "9"
      ]
     },
     "execution_count": 34,
     "metadata": {},
     "output_type": "execute_result"
    }
   ],
   "source": [
    "arra.argmax() #retorna o indice do maior elemento\n"
   ]
  },
  {
   "cell_type": "code",
   "execution_count": 35,
   "id": "c6dc1409",
   "metadata": {},
   "outputs": [
    {
     "data": {
      "text/plain": [
       "3"
      ]
     },
     "execution_count": 35,
     "metadata": {},
     "output_type": "execute_result"
    }
   ],
   "source": [
    "arra.argmin() #retorna o indice do menor elemento "
   ]
  },
  {
   "cell_type": "code",
   "execution_count": null,
   "id": "a0029742",
   "metadata": {},
   "outputs": [],
   "source": []
  }
 ],
 "metadata": {
  "kernelspec": {
   "display_name": "Python 3",
   "language": "python",
   "name": "python3"
  },
  "language_info": {
   "codemirror_mode": {
    "name": "ipython",
    "version": 3
   },
   "file_extension": ".py",
   "mimetype": "text/x-python",
   "name": "python",
   "nbconvert_exporter": "python",
   "pygments_lexer": "ipython3",
   "version": "3.8.8"
  }
 },
 "nbformat": 4,
 "nbformat_minor": 5
}
